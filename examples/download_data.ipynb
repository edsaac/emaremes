{
 "cells": [
  {
   "cell_type": "code",
   "execution_count": 1,
   "metadata": {},
   "outputs": [],
   "source": [
    "from pandas import Timestamp, Timedelta\n",
    "import emaremes as mrms"
   ]
  },
  {
   "cell_type": "code",
   "execution_count": 2,
   "metadata": {},
   "outputs": [],
   "source": [
    "gzfiles = mrms.download.timerange(\n",
    "    Timestamp(\"2024-09-27T00:00:00\"),\n",
    "    Timestamp(\"2024-09-28T00:00:00\"),\n",
    "    frequency=Timedelta(minutes=60),\n",
    ")"
   ]
  },
  {
   "cell_type": "code",
   "execution_count": 3,
   "metadata": {},
   "outputs": [
    {
     "name": "stdout",
     "output_type": "stream",
     "text": [
      "PrecipRate_00.00_20240927-000000.grib2.gz\n",
      "PrecipRate_00.00_20240927-010000.grib2.gz\n",
      "PrecipRate_00.00_20240927-020000.grib2.gz\n",
      "PrecipRate_00.00_20240927-030000.grib2.gz\n",
      "PrecipRate_00.00_20240927-040000.grib2.gz\n",
      "PrecipRate_00.00_20240927-050000.grib2.gz\n",
      "PrecipRate_00.00_20240927-060000.grib2.gz\n",
      "PrecipRate_00.00_20240927-070000.grib2.gz\n",
      "PrecipRate_00.00_20240927-080000.grib2.gz\n",
      "PrecipRate_00.00_20240927-090000.grib2.gz\n",
      "PrecipRate_00.00_20240927-100000.grib2.gz\n",
      "PrecipRate_00.00_20240927-110000.grib2.gz\n",
      "PrecipRate_00.00_20240927-120000.grib2.gz\n",
      "PrecipRate_00.00_20240927-130000.grib2.gz\n",
      "PrecipRate_00.00_20240927-140000.grib2.gz\n",
      "PrecipRate_00.00_20240927-150000.grib2.gz\n",
      "PrecipRate_00.00_20240927-160000.grib2.gz\n",
      "PrecipRate_00.00_20240927-170000.grib2.gz\n",
      "PrecipRate_00.00_20240927-180000.grib2.gz\n",
      "PrecipRate_00.00_20240927-190000.grib2.gz\n",
      "PrecipRate_00.00_20240927-200000.grib2.gz\n",
      "PrecipRate_00.00_20240927-210000.grib2.gz\n",
      "PrecipRate_00.00_20240927-220000.grib2.gz\n",
      "PrecipRate_00.00_20240927-230000.grib2.gz\n",
      "PrecipRate_00.00_20240928-000000.grib2.gz\n"
     ]
    }
   ],
   "source": [
    "for f in gzfiles:\n",
    "    print(f.name)"
   ]
  }
 ],
 "metadata": {
  "kernelspec": {
   "display_name": "zenv",
   "language": "python",
   "name": "python3"
  },
  "language_info": {
   "codemirror_mode": {
    "name": "ipython",
    "version": 3
   },
   "file_extension": ".py",
   "mimetype": "text/x-python",
   "name": "python",
   "nbconvert_exporter": "python",
   "pygments_lexer": "ipython3",
   "version": "3.12.9"
  }
 },
 "nbformat": 4,
 "nbformat_minor": 2
}
