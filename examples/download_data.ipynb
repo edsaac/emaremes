{
 "cells": [
  {
   "cell_type": "code",
   "execution_count": 1,
   "metadata": {},
   "outputs": [],
   "source": [
    "from pandas import Timestamp, Timedelta\n",
    "import emaremes as mrms"
   ]
  },
  {
   "cell_type": "markdown",
   "metadata": {},
   "source": [
    "**Precipitation rate data**\n",
    "\n",
    "MRMS data is available every 2 minutes."
   ]
  },
  {
   "cell_type": "code",
   "execution_count": 2,
   "metadata": {},
   "outputs": [
    {
     "name": "stdout",
     "output_type": "stream",
     "text": [
      "First 5 files:\n",
      "/home/edwin/emaremes/20240927/PrecipRate_00.00_20240927-000000.grib2.gz\n",
      "/home/edwin/emaremes/20240927/PrecipRate_00.00_20240927-002000.grib2.gz\n",
      "/home/edwin/emaremes/20240927/PrecipRate_00.00_20240927-004000.grib2.gz\n",
      "/home/edwin/emaremes/20240927/PrecipRate_00.00_20240927-010000.grib2.gz\n",
      "/home/edwin/emaremes/20240927/PrecipRate_00.00_20240927-012000.grib2.gz\n",
      "\n",
      "Last 5 files:\n",
      "/home/edwin/emaremes/20240927/PrecipRate_00.00_20240927-224000.grib2.gz\n",
      "/home/edwin/emaremes/20240927/PrecipRate_00.00_20240927-230000.grib2.gz\n",
      "/home/edwin/emaremes/20240927/PrecipRate_00.00_20240927-232000.grib2.gz\n",
      "/home/edwin/emaremes/20240927/PrecipRate_00.00_20240927-234000.grib2.gz\n",
      "/home/edwin/emaremes/20240928/PrecipRate_00.00_20240928-000000.grib2.gz\n"
     ]
    }
   ],
   "source": [
    "preciprate_files = mrms.download.timerange(\n",
    "    Timestamp(\"2024-09-27T00:00:00\"),\n",
    "    Timestamp(\"2024-09-28T00:00:00\"),\n",
    "    frequency=Timedelta(minutes=20),\n",
    ")\n",
    "\n",
    "\n",
    "print(\"First 5 files:\")\n",
    "for f in preciprate_files[:5]:\n",
    "    print(f)\n",
    "\n",
    "print(\"\\nLast 5 files:\")\n",
    "for f in preciprate_files[-5:]:\n",
    "    print(f)"
   ]
  },
  {
   "cell_type": "markdown",
   "metadata": {},
   "source": [
    "-----\n",
    "**Precipitation flags**\n",
    "\n",
    "From the [mrms-support repo](https://github.com/NOAA-National-Severe-Storms-Laboratory/mrms-support/blob/3edf7c25f503f81a12eb179dbbd3d4dae607e477/GRIB2_TABLES/UserTable_MRMS_PrecipFlags.csv): \n",
    "\n",
    "|Flag|Description|\n",
    "|:-:|:-|\n",
    "|-3|no coverage|\n",
    "|0|no precipitation|\n",
    "|1|warm stratiform rain|\n",
    "|3|snow|\n",
    "|6|convective rain|\n",
    "|7|rain mixed with hail|\n",
    "|10|cold stratiform rain|\n",
    "|91|tropical/stratiform rain mix|\n",
    "|96|tropical/convective rain mix|"
   ]
  },
  {
   "cell_type": "code",
   "execution_count": 3,
   "metadata": {},
   "outputs": [
    {
     "name": "stdout",
     "output_type": "stream",
     "text": [
      "First 5 files:\n",
      "/home/edwin/emaremes/20240927/PrecipFlag_00.00_20240927-000000.grib2.gz\n",
      "/home/edwin/emaremes/20240927/PrecipFlag_00.00_20240927-002000.grib2.gz\n",
      "/home/edwin/emaremes/20240927/PrecipFlag_00.00_20240927-004000.grib2.gz\n",
      "/home/edwin/emaremes/20240927/PrecipFlag_00.00_20240927-010000.grib2.gz\n",
      "/home/edwin/emaremes/20240927/PrecipFlag_00.00_20240927-012000.grib2.gz\n",
      "\n",
      "Last 5 files:\n",
      "/home/edwin/emaremes/20240927/PrecipFlag_00.00_20240927-224000.grib2.gz\n",
      "/home/edwin/emaremes/20240927/PrecipFlag_00.00_20240927-230000.grib2.gz\n",
      "/home/edwin/emaremes/20240927/PrecipFlag_00.00_20240927-232000.grib2.gz\n",
      "/home/edwin/emaremes/20240927/PrecipFlag_00.00_20240927-234000.grib2.gz\n",
      "/home/edwin/emaremes/20240928/PrecipFlag_00.00_20240928-000000.grib2.gz\n"
     ]
    }
   ],
   "source": [
    "precipflags_files = mrms.download.timerange(\n",
    "    Timestamp(\"2024-09-27T00:00:00\"),\n",
    "    Timestamp(\"2024-09-28T00:00:00\"),\n",
    "    frequency=Timedelta(minutes=20),\n",
    "    data_type=\"precip_flag\",\n",
    ")\n",
    "\n",
    "print(\"First 5 files:\")\n",
    "for f in precipflags_files[:5]:\n",
    "    print(f)\n",
    "\n",
    "print(\"\\nLast 5 files:\")\n",
    "for f in precipflags_files[-5:]:\n",
    "    print(f)"
   ]
  },
  {
   "cell_type": "markdown",
   "metadata": {},
   "source": [
    "**Accumulated precipitation**\n",
    "\n",
    "This data is available every hour. Accumulates are available for 1, 24 and 72 hours periods."
   ]
  },
  {
   "cell_type": "code",
   "execution_count": 4,
   "metadata": {},
   "outputs": [
    {
     "name": "stdout",
     "output_type": "stream",
     "text": [
      "We should get three files:\n",
      "/home/edwin/emaremes/20240926/RadarOnly_QPE_24H_00.00_20240926-120000.grib2.gz\n",
      "/home/edwin/emaremes/20240927/RadarOnly_QPE_24H_00.00_20240927-120000.grib2.gz\n",
      "/home/edwin/emaremes/20240928/RadarOnly_QPE_24H_00.00_20240928-120000.grib2.gz\n"
     ]
    }
   ],
   "source": [
    "daily_files = mrms.download.timerange(\n",
    "    Timestamp(\"2024-09-26T12:00:00\"),\n",
    "    Timestamp(\"2024-09-29T00:00:00\"),\n",
    "    frequency=Timedelta(days=1),\n",
    "    data_type=\"precip_accum_24h\",\n",
    ")\n",
    "\n",
    "print(\"We should get three files:\")\n",
    "for f in daily_files:\n",
    "    print(f)"
   ]
  }
 ],
 "metadata": {
  "kernelspec": {
   "display_name": "zenv",
   "language": "python",
   "name": "python3"
  },
  "language_info": {
   "codemirror_mode": {
    "name": "ipython",
    "version": 3
   },
   "file_extension": ".py",
   "mimetype": "text/x-python",
   "name": "python",
   "nbconvert_exporter": "python",
   "pygments_lexer": "ipython3",
   "version": "3.12.9"
  }
 },
 "nbformat": 4,
 "nbformat_minor": 2
}
