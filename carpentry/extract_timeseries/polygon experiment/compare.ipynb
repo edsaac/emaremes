{
 "cells": [
  {
   "cell_type": "code",
   "execution_count": 1,
   "metadata": {},
   "outputs": [],
   "source": [
    "import pandas as pd\n",
    "import matplotlib.pyplot as plt"
   ]
  },
  {
   "cell_type": "code",
   "execution_count": 2,
   "metadata": {},
   "outputs": [
    {
     "data": {
      "application/vnd.microsoft.datawrangler.viewer.v0+json": {
       "columns": [
        {
         "name": "timestamp",
         "rawType": "datetime64[ns]",
         "type": "datetime"
        },
        {
         "name": "value",
         "rawType": "float64",
         "type": "float"
        }
       ],
       "conversionMethod": "pd.DataFrame",
       "ref": "19bdf4e6-eab5-4346-8f39-07b22653c298",
       "rows": [
        [
         "2021-06-26 00:00:00",
         "0.0"
        ],
        [
         "2021-06-26 00:02:00",
         "0.0"
        ],
        [
         "2021-06-26 00:04:00",
         "0.0"
        ],
        [
         "2021-06-26 00:06:00",
         "0.0"
        ],
        [
         "2021-06-26 00:08:00",
         "0.0"
        ],
        [
         "2021-06-26 00:10:00",
         "0.0"
        ],
        [
         "2021-06-26 00:12:00",
         "0.0"
        ],
        [
         "2021-06-26 00:14:00",
         "0.0"
        ],
        [
         "2021-06-26 00:16:00",
         "0.0"
        ],
        [
         "2021-06-26 00:18:00",
         "0.0"
        ],
        [
         "2021-06-26 00:20:00",
         "0.0"
        ],
        [
         "2021-06-26 00:22:00",
         "0.0"
        ],
        [
         "2021-06-26 00:24:00",
         "0.0"
        ],
        [
         "2021-06-26 00:26:00",
         "0.0"
        ],
        [
         "2021-06-26 00:28:00",
         "0.0"
        ],
        [
         "2021-06-26 00:30:00",
         "0.0"
        ],
        [
         "2021-06-26 00:32:00",
         "0.0"
        ],
        [
         "2021-06-26 00:34:00",
         "0.0"
        ],
        [
         "2021-06-26 00:36:00",
         "0.0"
        ],
        [
         "2021-06-26 00:38:00",
         "0.0"
        ],
        [
         "2021-06-26 00:40:00",
         "0.00712262972534779"
        ],
        [
         "2021-06-26 00:42:00",
         "0.0"
        ],
        [
         "2021-06-26 00:44:00",
         "0.0"
        ],
        [
         "2021-06-26 00:46:00",
         "0.0"
        ],
        [
         "2021-06-26 00:48:00",
         "0.0"
        ],
        [
         "2021-06-26 00:50:00",
         "0.0"
        ],
        [
         "2021-06-26 00:52:00",
         "0.0"
        ],
        [
         "2021-06-26 00:54:00",
         "0.0"
        ],
        [
         "2021-06-26 00:56:00",
         "0.0"
        ],
        [
         "2021-06-26 00:58:00",
         "0.0"
        ],
        [
         "2021-06-26 01:00:00",
         "0.0"
        ],
        [
         "2021-06-26 01:02:00",
         "0.0"
        ],
        [
         "2021-06-26 01:04:00",
         "0.0"
        ],
        [
         "2021-06-26 01:06:00",
         "0.0"
        ],
        [
         "2021-06-26 01:08:00",
         "0.0"
        ],
        [
         "2021-06-26 01:10:00",
         "0.0"
        ],
        [
         "2021-06-26 01:12:00",
         "0.0"
        ],
        [
         "2021-06-26 01:14:00",
         "0.0"
        ],
        [
         "2021-06-26 01:16:00",
         "0.0"
        ],
        [
         "2021-06-26 01:18:00",
         "0.0"
        ],
        [
         "2021-06-26 01:20:00",
         "0.0"
        ],
        [
         "2021-06-26 01:22:00",
         "0.0"
        ],
        [
         "2021-06-26 01:24:00",
         "0.0"
        ],
        [
         "2021-06-26 01:26:00",
         "0.0"
        ],
        [
         "2021-06-26 01:28:00",
         "0.0"
        ],
        [
         "2021-06-26 01:30:00",
         "0.0"
        ],
        [
         "2021-06-26 01:32:00",
         "0.0"
        ],
        [
         "2021-06-26 01:34:00",
         "0.0"
        ],
        [
         "2021-06-26 01:36:00",
         "0.0"
        ],
        [
         "2021-06-26 01:38:00",
         "0.0"
        ]
       ],
       "shape": {
        "columns": 1,
        "rows": 717
       }
      },
      "text/html": [
       "<div>\n",
       "<style scoped>\n",
       "    .dataframe tbody tr th:only-of-type {\n",
       "        vertical-align: middle;\n",
       "    }\n",
       "\n",
       "    .dataframe tbody tr th {\n",
       "        vertical-align: top;\n",
       "    }\n",
       "\n",
       "    .dataframe thead th {\n",
       "        text-align: right;\n",
       "    }\n",
       "</style>\n",
       "<table border=\"1\" class=\"dataframe\">\n",
       "  <thead>\n",
       "    <tr style=\"text-align: right;\">\n",
       "      <th></th>\n",
       "      <th>value</th>\n",
       "    </tr>\n",
       "    <tr>\n",
       "      <th>timestamp</th>\n",
       "      <th></th>\n",
       "    </tr>\n",
       "  </thead>\n",
       "  <tbody>\n",
       "    <tr>\n",
       "      <th>2021-06-26 00:00:00</th>\n",
       "      <td>0.000000</td>\n",
       "    </tr>\n",
       "    <tr>\n",
       "      <th>2021-06-26 00:02:00</th>\n",
       "      <td>0.000000</td>\n",
       "    </tr>\n",
       "    <tr>\n",
       "      <th>2021-06-26 00:04:00</th>\n",
       "      <td>0.000000</td>\n",
       "    </tr>\n",
       "    <tr>\n",
       "      <th>2021-06-26 00:06:00</th>\n",
       "      <td>0.000000</td>\n",
       "    </tr>\n",
       "    <tr>\n",
       "      <th>2021-06-26 00:08:00</th>\n",
       "      <td>0.000000</td>\n",
       "    </tr>\n",
       "    <tr>\n",
       "      <th>...</th>\n",
       "      <td>...</td>\n",
       "    </tr>\n",
       "    <tr>\n",
       "      <th>2021-06-26 23:50:00</th>\n",
       "      <td>0.085874</td>\n",
       "    </tr>\n",
       "    <tr>\n",
       "      <th>2021-06-26 23:52:00</th>\n",
       "      <td>0.040897</td>\n",
       "    </tr>\n",
       "    <tr>\n",
       "      <th>2021-06-26 23:54:00</th>\n",
       "      <td>0.007493</td>\n",
       "    </tr>\n",
       "    <tr>\n",
       "      <th>2021-06-26 23:56:00</th>\n",
       "      <td>0.000000</td>\n",
       "    </tr>\n",
       "    <tr>\n",
       "      <th>2021-06-26 23:58:00</th>\n",
       "      <td>0.000000</td>\n",
       "    </tr>\n",
       "  </tbody>\n",
       "</table>\n",
       "<p>717 rows × 1 columns</p>\n",
       "</div>"
      ],
      "text/plain": [
       "                        value\n",
       "timestamp                    \n",
       "2021-06-26 00:00:00  0.000000\n",
       "2021-06-26 00:02:00  0.000000\n",
       "2021-06-26 00:04:00  0.000000\n",
       "2021-06-26 00:06:00  0.000000\n",
       "2021-06-26 00:08:00  0.000000\n",
       "...                       ...\n",
       "2021-06-26 23:50:00  0.085874\n",
       "2021-06-26 23:52:00  0.040897\n",
       "2021-06-26 23:54:00  0.007493\n",
       "2021-06-26 23:56:00  0.000000\n",
       "2021-06-26 23:58:00  0.000000\n",
       "\n",
       "[717 rows x 1 columns]"
      ]
     },
     "execution_count": 2,
     "metadata": {},
     "output_type": "execute_result"
    }
   ],
   "source": [
    "multip = pd.read_parquet(\"multip_interp.parquet\")\n",
    "multip"
   ]
  },
  {
   "cell_type": "code",
   "execution_count": 3,
   "metadata": {},
   "outputs": [
    {
     "data": {
      "application/vnd.microsoft.datawrangler.viewer.v0+json": {
       "columns": [
        {
         "name": "timestamp",
         "rawType": "datetime64[ns]",
         "type": "datetime"
        },
        {
         "name": "value",
         "rawType": "float64",
         "type": "float"
        }
       ],
       "conversionMethod": "pd.DataFrame",
       "ref": "8e9d25be-cb43-495a-b329-7b4b4c874723",
       "rows": [
        [
         "2021-06-26 00:00:00",
         "0.0"
        ],
        [
         "2021-06-26 00:02:00",
         "0.0"
        ],
        [
         "2021-06-26 00:04:00",
         "0.0"
        ],
        [
         "2021-06-26 00:06:00",
         "0.0"
        ],
        [
         "2021-06-26 00:08:00",
         "0.0"
        ],
        [
         "2021-06-26 00:10:00",
         "0.0"
        ],
        [
         "2021-06-26 00:12:00",
         "0.0"
        ],
        [
         "2021-06-26 00:14:00",
         "0.0"
        ],
        [
         "2021-06-26 00:16:00",
         "0.0"
        ],
        [
         "2021-06-26 00:18:00",
         "0.0"
        ],
        [
         "2021-06-26 00:20:00",
         "0.0"
        ],
        [
         "2021-06-26 00:22:00",
         "0.0"
        ],
        [
         "2021-06-26 00:24:00",
         "0.0"
        ],
        [
         "2021-06-26 00:26:00",
         "0.0"
        ],
        [
         "2021-06-26 00:28:00",
         "0.0"
        ],
        [
         "2021-06-26 00:30:00",
         "0.0"
        ],
        [
         "2021-06-26 00:32:00",
         "0.0"
        ],
        [
         "2021-06-26 00:34:00",
         "0.0"
        ],
        [
         "2021-06-26 00:36:00",
         "0.0"
        ],
        [
         "2021-06-26 00:38:00",
         "0.0"
        ],
        [
         "2021-06-26 00:40:00",
         "0.006963249295949936"
        ],
        [
         "2021-06-26 00:42:00",
         "0.0"
        ],
        [
         "2021-06-26 00:44:00",
         "0.0"
        ],
        [
         "2021-06-26 00:46:00",
         "0.0"
        ],
        [
         "2021-06-26 00:48:00",
         "0.0"
        ],
        [
         "2021-06-26 00:50:00",
         "0.0"
        ],
        [
         "2021-06-26 00:52:00",
         "0.0"
        ],
        [
         "2021-06-26 00:54:00",
         "0.0"
        ],
        [
         "2021-06-26 00:56:00",
         "0.0"
        ],
        [
         "2021-06-26 00:58:00",
         "0.0"
        ],
        [
         "2021-06-26 01:00:00",
         "0.0"
        ],
        [
         "2021-06-26 01:02:00",
         "0.0"
        ],
        [
         "2021-06-26 01:04:00",
         "0.0"
        ],
        [
         "2021-06-26 01:06:00",
         "0.0"
        ],
        [
         "2021-06-26 01:08:00",
         "0.0"
        ],
        [
         "2021-06-26 01:10:00",
         "0.0"
        ],
        [
         "2021-06-26 01:12:00",
         "0.0"
        ],
        [
         "2021-06-26 01:14:00",
         "0.0"
        ],
        [
         "2021-06-26 01:16:00",
         "0.0"
        ],
        [
         "2021-06-26 01:18:00",
         "0.0"
        ],
        [
         "2021-06-26 01:20:00",
         "0.0"
        ],
        [
         "2021-06-26 01:22:00",
         "0.0"
        ],
        [
         "2021-06-26 01:24:00",
         "0.0"
        ],
        [
         "2021-06-26 01:26:00",
         "0.0"
        ],
        [
         "2021-06-26 01:28:00",
         "0.0"
        ],
        [
         "2021-06-26 01:30:00",
         "0.0"
        ],
        [
         "2021-06-26 01:32:00",
         "0.0"
        ],
        [
         "2021-06-26 01:34:00",
         "0.0"
        ],
        [
         "2021-06-26 01:36:00",
         "0.0"
        ],
        [
         "2021-06-26 01:38:00",
         "0.0"
        ]
       ],
       "shape": {
        "columns": 1,
        "rows": 717
       }
      },
      "text/html": [
       "<div>\n",
       "<style scoped>\n",
       "    .dataframe tbody tr th:only-of-type {\n",
       "        vertical-align: middle;\n",
       "    }\n",
       "\n",
       "    .dataframe tbody tr th {\n",
       "        vertical-align: top;\n",
       "    }\n",
       "\n",
       "    .dataframe thead th {\n",
       "        text-align: right;\n",
       "    }\n",
       "</style>\n",
       "<table border=\"1\" class=\"dataframe\">\n",
       "  <thead>\n",
       "    <tr style=\"text-align: right;\">\n",
       "      <th></th>\n",
       "      <th>value</th>\n",
       "    </tr>\n",
       "    <tr>\n",
       "      <th>timestamp</th>\n",
       "      <th></th>\n",
       "    </tr>\n",
       "  </thead>\n",
       "  <tbody>\n",
       "    <tr>\n",
       "      <th>2021-06-26 00:00:00</th>\n",
       "      <td>0.000000</td>\n",
       "    </tr>\n",
       "    <tr>\n",
       "      <th>2021-06-26 00:02:00</th>\n",
       "      <td>0.000000</td>\n",
       "    </tr>\n",
       "    <tr>\n",
       "      <th>2021-06-26 00:04:00</th>\n",
       "      <td>0.000000</td>\n",
       "    </tr>\n",
       "    <tr>\n",
       "      <th>2021-06-26 00:06:00</th>\n",
       "      <td>0.000000</td>\n",
       "    </tr>\n",
       "    <tr>\n",
       "      <th>2021-06-26 00:08:00</th>\n",
       "      <td>0.000000</td>\n",
       "    </tr>\n",
       "    <tr>\n",
       "      <th>...</th>\n",
       "      <td>...</td>\n",
       "    </tr>\n",
       "    <tr>\n",
       "      <th>2021-06-26 23:50:00</th>\n",
       "      <td>0.084865</td>\n",
       "    </tr>\n",
       "    <tr>\n",
       "      <th>2021-06-26 23:52:00</th>\n",
       "      <td>0.039603</td>\n",
       "    </tr>\n",
       "    <tr>\n",
       "      <th>2021-06-26 23:54:00</th>\n",
       "      <td>0.006963</td>\n",
       "    </tr>\n",
       "    <tr>\n",
       "      <th>2021-06-26 23:56:00</th>\n",
       "      <td>0.000000</td>\n",
       "    </tr>\n",
       "    <tr>\n",
       "      <th>2021-06-26 23:58:00</th>\n",
       "      <td>0.000000</td>\n",
       "    </tr>\n",
       "  </tbody>\n",
       "</table>\n",
       "<p>717 rows × 1 columns</p>\n",
       "</div>"
      ],
      "text/plain": [
       "                        value\n",
       "timestamp                    \n",
       "2021-06-26 00:00:00  0.000000\n",
       "2021-06-26 00:02:00  0.000000\n",
       "2021-06-26 00:04:00  0.000000\n",
       "2021-06-26 00:06:00  0.000000\n",
       "2021-06-26 00:08:00  0.000000\n",
       "...                       ...\n",
       "2021-06-26 23:50:00  0.084865\n",
       "2021-06-26 23:52:00  0.039603\n",
       "2021-06-26 23:54:00  0.006963\n",
       "2021-06-26 23:56:00  0.000000\n",
       "2021-06-26 23:58:00  0.000000\n",
       "\n",
       "[717 rows x 1 columns]"
      ]
     },
     "execution_count": 3,
     "metadata": {},
     "output_type": "execute_result"
    }
   ],
   "source": [
    "naive = pd.read_parquet(\"multip_interp_near.parquet\")\n",
    "naive"
   ]
  },
  {
   "cell_type": "code",
   "execution_count": 4,
   "metadata": {},
   "outputs": [
    {
     "data": {
      "image/png": "[encoded data removed]",
      "text/plain": [
       "<Figure size 640x480 with 2 Axes>"
      ]
     },
     "metadata": {},
     "output_type": "display_data"
    }
   ],
   "source": [
    "fig, (lax, rax) = plt.subplots(1, 2, sharex=True, sharey=True)\n",
    "multip.plot(ax=lax, title=\"With multiprocessing\")\n",
    "naive.plot(ax=rax, title=\"With xarray alone\")\n",
    "plt.show()"
   ]
  },
  {
   "cell_type": "code",
   "execution_count": 6,
   "metadata": {},
   "outputs": [
    {
     "data": {
      "application/vnd.microsoft.datawrangler.viewer.v0+json": {
       "columns": [
        {
         "name": "timestamp",
         "rawType": "datetime64[ns]",
         "type": "datetime"
        },
        {
         "name": "valueNAIVE",
         "rawType": "float64",
         "type": "float"
        },
        {
         "name": "valueCRAZY",
         "rawType": "float64",
         "type": "float"
        }
       ],
       "conversionMethod": "pd.DataFrame",
       "ref": "e700efef-e157-4877-a515-e495df73131e",
       "rows": [
        [
         "2021-06-26 00:00:00",
         "0.0",
         "0.0"
        ],
        [
         "2021-06-26 00:02:00",
         "0.0",
         "0.0"
        ],
        [
         "2021-06-26 00:04:00",
         "0.0",
         "0.0"
        ],
        [
         "2021-06-26 00:06:00",
         "0.0",
         "0.0"
        ],
        [
         "2021-06-26 00:08:00",
         "0.0",
         "0.0"
        ],
        [
         "2021-06-26 00:10:00",
         "0.0",
         "0.0"
        ],
        [
         "2021-06-26 00:12:00",
         "0.0",
         "0.0"
        ],
        [
         "2021-06-26 00:14:00",
         "0.0",
         "0.0"
        ],
        [
         "2021-06-26 00:16:00",
         "0.0",
         "0.0"
        ],
        [
         "2021-06-26 00:18:00",
         "0.0",
         "0.0"
        ],
        [
         "2021-06-26 00:20:00",
         "0.0",
         "0.0"
        ],
        [
         "2021-06-26 00:22:00",
         "0.0",
         "0.0"
        ],
        [
         "2021-06-26 00:24:00",
         "0.0",
         "0.0"
        ],
        [
         "2021-06-26 00:26:00",
         "0.0",
         "0.0"
        ],
        [
         "2021-06-26 00:28:00",
         "0.0",
         "0.0"
        ],
        [
         "2021-06-26 00:30:00",
         "0.0",
         "0.0"
        ],
        [
         "2021-06-26 00:32:00",
         "0.0",
         "0.0"
        ],
        [
         "2021-06-26 00:34:00",
         "0.0",
         "0.0"
        ],
        [
         "2021-06-26 00:36:00",
         "0.0",
         "0.0"
        ],
        [
         "2021-06-26 00:38:00",
         "0.0",
         "0.0"
        ],
        [
         "2021-06-26 00:40:00",
         "0.006963249295949936",
         "0.00712262972534779"
        ],
        [
         "2021-06-26 00:42:00",
         "0.0",
         "0.0"
        ],
        [
         "2021-06-26 00:44:00",
         "0.0",
         "0.0"
        ],
        [
         "2021-06-26 00:46:00",
         "0.0",
         "0.0"
        ],
        [
         "2021-06-26 00:48:00",
         "0.0",
         "0.0"
        ],
        [
         "2021-06-26 00:50:00",
         "0.0",
         "0.0"
        ],
        [
         "2021-06-26 00:52:00",
         "0.0",
         "0.0"
        ],
        [
         "2021-06-26 00:54:00",
         "0.0",
         "0.0"
        ],
        [
         "2021-06-26 00:56:00",
         "0.0",
         "0.0"
        ],
        [
         "2021-06-26 00:58:00",
         "0.0",
         "0.0"
        ],
        [
         "2021-06-26 01:00:00",
         "0.0",
         "0.0"
        ],
        [
         "2021-06-26 01:02:00",
         "0.0",
         "0.0"
        ],
        [
         "2021-06-26 01:04:00",
         "0.0",
         "0.0"
        ],
        [
         "2021-06-26 01:06:00",
         "0.0",
         "0.0"
        ],
        [
         "2021-06-26 01:08:00",
         "0.0",
         "0.0"
        ],
        [
         "2021-06-26 01:10:00",
         "0.0",
         "0.0"
        ],
        [
         "2021-06-26 01:12:00",
         "0.0",
         "0.0"
        ],
        [
         "2021-06-26 01:14:00",
         "0.0",
         "0.0"
        ],
        [
         "2021-06-26 01:16:00",
         "0.0",
         "0.0"
        ],
        [
         "2021-06-26 01:18:00",
         "0.0",
         "0.0"
        ],
        [
         "2021-06-26 01:20:00",
         "0.0",
         "0.0"
        ],
        [
         "2021-06-26 01:22:00",
         "0.0",
         "0.0"
        ],
        [
         "2021-06-26 01:24:00",
         "0.0",
         "0.0"
        ],
        [
         "2021-06-26 01:26:00",
         "0.0",
         "0.0"
        ],
        [
         "2021-06-26 01:28:00",
         "0.0",
         "0.0"
        ],
        [
         "2021-06-26 01:30:00",
         "0.0",
         "0.0"
        ],
        [
         "2021-06-26 01:32:00",
         "0.0",
         "0.0"
        ],
        [
         "2021-06-26 01:34:00",
         "0.0",
         "0.0"
        ],
        [
         "2021-06-26 01:36:00",
         "0.0",
         "0.0"
        ],
        [
         "2021-06-26 01:38:00",
         "0.0",
         "0.0"
        ]
       ],
       "shape": {
        "columns": 2,
        "rows": 717
       }
      },
      "text/html": [
       "<div>\n",
       "<style scoped>\n",
       "    .dataframe tbody tr th:only-of-type {\n",
       "        vertical-align: middle;\n",
       "    }\n",
       "\n",
       "    .dataframe tbody tr th {\n",
       "        vertical-align: top;\n",
       "    }\n",
       "\n",
       "    .dataframe thead th {\n",
       "        text-align: right;\n",
       "    }\n",
       "</style>\n",
       "<table border=\"1\" class=\"dataframe\">\n",
       "  <thead>\n",
       "    <tr style=\"text-align: right;\">\n",
       "      <th></th>\n",
       "      <th>valueNAIVE</th>\n",
       "      <th>valueCRAZY</th>\n",
       "    </tr>\n",
       "    <tr>\n",
       "      <th>timestamp</th>\n",
       "      <th></th>\n",
       "      <th></th>\n",
       "    </tr>\n",
       "  </thead>\n",
       "  <tbody>\n",
       "    <tr>\n",
       "      <th>2021-06-26 00:00:00</th>\n",
       "      <td>0.000000</td>\n",
       "      <td>0.000000</td>\n",
       "    </tr>\n",
       "    <tr>\n",
       "      <th>2021-06-26 00:02:00</th>\n",
       "      <td>0.000000</td>\n",
       "      <td>0.000000</td>\n",
       "    </tr>\n",
       "    <tr>\n",
       "      <th>2021-06-26 00:04:00</th>\n",
       "      <td>0.000000</td>\n",
       "      <td>0.000000</td>\n",
       "    </tr>\n",
       "    <tr>\n",
       "      <th>2021-06-26 00:06:00</th>\n",
       "      <td>0.000000</td>\n",
       "      <td>0.000000</td>\n",
       "    </tr>\n",
       "    <tr>\n",
       "      <th>2021-06-26 00:08:00</th>\n",
       "      <td>0.000000</td>\n",
       "      <td>0.000000</td>\n",
       "    </tr>\n",
       "    <tr>\n",
       "      <th>...</th>\n",
       "      <td>...</td>\n",
       "      <td>...</td>\n",
       "    </tr>\n",
       "    <tr>\n",
       "      <th>2021-06-26 23:50:00</th>\n",
       "      <td>0.084865</td>\n",
       "      <td>0.085874</td>\n",
       "    </tr>\n",
       "    <tr>\n",
       "      <th>2021-06-26 23:52:00</th>\n",
       "      <td>0.039603</td>\n",
       "      <td>0.040897</td>\n",
       "    </tr>\n",
       "    <tr>\n",
       "      <th>2021-06-26 23:54:00</th>\n",
       "      <td>0.006963</td>\n",
       "      <td>0.007493</td>\n",
       "    </tr>\n",
       "    <tr>\n",
       "      <th>2021-06-26 23:56:00</th>\n",
       "      <td>0.000000</td>\n",
       "      <td>0.000000</td>\n",
       "    </tr>\n",
       "    <tr>\n",
       "      <th>2021-06-26 23:58:00</th>\n",
       "      <td>0.000000</td>\n",
       "      <td>0.000000</td>\n",
       "    </tr>\n",
       "  </tbody>\n",
       "</table>\n",
       "<p>717 rows × 2 columns</p>\n",
       "</div>"
      ],
      "text/plain": [
       "                     valueNAIVE  valueCRAZY\n",
       "timestamp                                  \n",
       "2021-06-26 00:00:00    0.000000    0.000000\n",
       "2021-06-26 00:02:00    0.000000    0.000000\n",
       "2021-06-26 00:04:00    0.000000    0.000000\n",
       "2021-06-26 00:06:00    0.000000    0.000000\n",
       "2021-06-26 00:08:00    0.000000    0.000000\n",
       "...                         ...         ...\n",
       "2021-06-26 23:50:00    0.084865    0.085874\n",
       "2021-06-26 23:52:00    0.039603    0.040897\n",
       "2021-06-26 23:54:00    0.006963    0.007493\n",
       "2021-06-26 23:56:00    0.000000    0.000000\n",
       "2021-06-26 23:58:00    0.000000    0.000000\n",
       "\n",
       "[717 rows x 2 columns]"
      ]
     },
     "execution_count": 6,
     "metadata": {},
     "output_type": "execute_result"
    }
   ],
   "source": [
    "df = pd.concat([naive, multip], axis=\"index\")\n",
    "df = naive.join(multip, lsuffix=\"NAIVE\", rsuffix=\"CRAZY\")\n",
    "df"
   ]
  },
  {
   "cell_type": "code",
   "execution_count": 12,
   "metadata": {},
   "outputs": [
    {
     "data": {
      "application/vnd.microsoft.datawrangler.viewer.v0+json": {
       "columns": [
        {
         "name": "index",
         "rawType": "object",
         "type": "string"
        },
        {
         "name": "valueNAIVE",
         "rawType": "float64",
         "type": "float"
        },
        {
         "name": "valueCRAZY",
         "rawType": "float64",
         "type": "float"
        }
       ],
       "conversionMethod": "pd.DataFrame",
       "ref": "b317b42c-c57d-43b7-8b44-6fc8d696cef2",
       "rows": [
        [
         "valueNAIVE",
         "1.0",
         "0.9999073326686766"
        ],
        [
         "valueCRAZY",
         "0.9999073326686766",
         "1.0"
        ]
       ],
       "shape": {
        "columns": 2,
        "rows": 2
       }
      },
      "text/html": [
       "<div>\n",
       "<style scoped>\n",
       "    .dataframe tbody tr th:only-of-type {\n",
       "        vertical-align: middle;\n",
       "    }\n",
       "\n",
       "    .dataframe tbody tr th {\n",
       "        vertical-align: top;\n",
       "    }\n",
       "\n",
       "    .dataframe thead th {\n",
       "        text-align: right;\n",
       "    }\n",
       "</style>\n",
       "<table border=\"1\" class=\"dataframe\">\n",
       "  <thead>\n",
       "    <tr style=\"text-align: right;\">\n",
       "      <th></th>\n",
       "      <th>valueNAIVE</th>\n",
       "      <th>valueCRAZY</th>\n",
       "    </tr>\n",
       "  </thead>\n",
       "  <tbody>\n",
       "    <tr>\n",
       "      <th>valueNAIVE</th>\n",
       "      <td>1.000000</td>\n",
       "      <td>0.999907</td>\n",
       "    </tr>\n",
       "    <tr>\n",
       "      <th>valueCRAZY</th>\n",
       "      <td>0.999907</td>\n",
       "      <td>1.000000</td>\n",
       "    </tr>\n",
       "  </tbody>\n",
       "</table>\n",
       "</div>"
      ],
      "text/plain": [
       "            valueNAIVE  valueCRAZY\n",
       "valueNAIVE    1.000000    0.999907\n",
       "valueCRAZY    0.999907    1.000000"
      ]
     },
     "execution_count": 12,
     "metadata": {},
     "output_type": "execute_result"
    }
   ],
   "source": [
    "df.corr()"
   ]
  },
  {
   "cell_type": "code",
   "execution_count": null,
   "metadata": {},
   "outputs": [
    {
     "data": {
      "image/png": "[encoded data removed]",
      "text/plain": [
       "<Figure size 640x480 with 1 Axes>"
      ]
     },
     "metadata": {},
     "output_type": "display_data"
    }
   ],
   "source": [
    "fig, ax = plt.subplots()\n",
    "ax.set_aspect(\"equal\")\n",
    "ax.scatter(\"valueNAIVE\", \"valueCRAZY\", data=df, marker=\".\")\n",
    "ax.axline([0, 0], slope=1, lw=1, zorder=0)\n",
    "plt.show()"
   ]
  }
 ],
 "metadata": {
  "kernelspec": {
   "display_name": "zenv",
   "language": "python",
   "name": "python3"
  },
  "language_info": {
   "codemirror_mode": {
    "name": "ipython",
    "version": 3
   },
   "file_extension": ".py",
   "mimetype": "text/x-python",
   "name": "python",
   "nbconvert_exporter": "python",
   "pygments_lexer": "ipython3",
   "version": "3.12.9"
  }
 },
 "nbformat": 4,
 "nbformat_minor": 2
}
