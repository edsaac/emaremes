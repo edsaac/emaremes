{
 "cells": [
  {
   "cell_type": "code",
   "execution_count": null,
   "metadata": {},
   "outputs": [],
   "source": [
    "import pickle\n",
    "from pathlib import Path\n",
    "from collections import namedtuple\n",
    "from itertools import chain\n",
    "import pandas as pd\n",
    "from timeseries_point import extract_series\n",
    "\n",
    "GlobHelper = namedtuple(\"GlobHelper\", [\"date\", \"hour\"])\n",
    "NamedCoord = namedtuple(\"NamedCoord\", [\"name\", \"lat\", \"lon\"])"
   ]
  },
  {
   "cell_type": "code",
   "execution_count": 8,
   "metadata": {},
   "outputs": [
    {
     "name": "stdout",
     "output_type": "stream",
     "text": [
      "30 lat/lon pairs will be queried\n"
     ]
    }
   ],
   "source": [
    "usgs_data_path = Path(\"usgs/usgs_Cook County.pkl\")\n",
    "\n",
    "with open(usgs_data_path, \"rb\") as f:\n",
    "    data = pickle.load(f)\n",
    "    daily, inst, site_info, pcodes = data.values()\n",
    "\n",
    "print(f\"{len(site_info)} lat/lon pairs will be queried\")"
   ]
  },
  {
   "cell_type": "code",
   "execution_count": 5,
   "metadata": {},
   "outputs": [
    {
     "data": {
      "text/html": [
       "<div>\n",
       "<style scoped>\n",
       "    .dataframe tbody tr th:only-of-type {\n",
       "        vertical-align: middle;\n",
       "    }\n",
       "\n",
       "    .dataframe tbody tr th {\n",
       "        vertical-align: top;\n",
       "    }\n",
       "\n",
       "    .dataframe thead th {\n",
       "        text-align: right;\n",
       "    }\n",
       "</style>\n",
       "<table border=\"1\" class=\"dataframe\">\n",
       "  <thead>\n",
       "    <tr style=\"text-align: right;\">\n",
       "      <th></th>\n",
       "      <th>agency_cd</th>\n",
       "      <th>site_no</th>\n",
       "      <th>station_nm</th>\n",
       "      <th>site_tp_cd</th>\n",
       "      <th>lat_va</th>\n",
       "      <th>long_va</th>\n",
       "      <th>dec_lat_va</th>\n",
       "      <th>dec_long_va</th>\n",
       "      <th>coord_meth_cd</th>\n",
       "      <th>coord_acy_cd</th>\n",
       "      <th>...</th>\n",
       "      <th>reliability_cd</th>\n",
       "      <th>gw_file_cd</th>\n",
       "      <th>nat_aqfr_cd</th>\n",
       "      <th>aqfr_cd</th>\n",
       "      <th>aqfr_type_cd</th>\n",
       "      <th>well_depth_va</th>\n",
       "      <th>hole_depth_va</th>\n",
       "      <th>depth_src_cd</th>\n",
       "      <th>project_no</th>\n",
       "      <th>geometry</th>\n",
       "    </tr>\n",
       "  </thead>\n",
       "  <tbody>\n",
       "    <tr>\n",
       "      <th>0</th>\n",
       "      <td>USGS</td>\n",
       "      <td>413113087342201</td>\n",
       "      <td>RAIN GAGE NEAR CHICAGO HEIGHTS, IL</td>\n",
       "      <td>AT</td>\n",
       "      <td>413115</td>\n",
       "      <td>873525</td>\n",
       "      <td>41.520868</td>\n",
       "      <td>-87.590321</td>\n",
       "      <td>M</td>\n",
       "      <td>S</td>\n",
       "      <td>...</td>\n",
       "      <td>NaN</td>\n",
       "      <td>NNNNNNNN</td>\n",
       "      <td>NaN</td>\n",
       "      <td>NaN</td>\n",
       "      <td>NaN</td>\n",
       "      <td>NaN</td>\n",
       "      <td>NaN</td>\n",
       "      <td>NaN</td>\n",
       "      <td>00100</td>\n",
       "      <td>POINT (-87.59032 41.52087)</td>\n",
       "    </tr>\n",
       "    <tr>\n",
       "      <th>1</th>\n",
       "      <td>USGS</td>\n",
       "      <td>413115087352501</td>\n",
       "      <td>RAIN GAGE AT DEER CREEK NEAR CHICAGO HEIGHTS, IL</td>\n",
       "      <td>AT</td>\n",
       "      <td>413115</td>\n",
       "      <td>873525</td>\n",
       "      <td>41.520833</td>\n",
       "      <td>-87.590278</td>\n",
       "      <td>N</td>\n",
       "      <td>S</td>\n",
       "      <td>...</td>\n",
       "      <td>NaN</td>\n",
       "      <td>NaN</td>\n",
       "      <td>NaN</td>\n",
       "      <td>NaN</td>\n",
       "      <td>NaN</td>\n",
       "      <td>NaN</td>\n",
       "      <td>NaN</td>\n",
       "      <td>NaN</td>\n",
       "      <td>CAWS00</td>\n",
       "      <td>POINT (-87.59028 41.52083)</td>\n",
       "    </tr>\n",
       "    <tr>\n",
       "      <th>2</th>\n",
       "      <td>USGS</td>\n",
       "      <td>413510087380201</td>\n",
       "      <td>RAIN GAGE AT HARVEY, IL</td>\n",
       "      <td>AT</td>\n",
       "      <td>413510</td>\n",
       "      <td>873802</td>\n",
       "      <td>41.586111</td>\n",
       "      <td>-87.633889</td>\n",
       "      <td>N</td>\n",
       "      <td>S</td>\n",
       "      <td>...</td>\n",
       "      <td>NaN</td>\n",
       "      <td>NaN</td>\n",
       "      <td>NaN</td>\n",
       "      <td>NaN</td>\n",
       "      <td>NaN</td>\n",
       "      <td>NaN</td>\n",
       "      <td>NaN</td>\n",
       "      <td>NaN</td>\n",
       "      <td>CAWS00</td>\n",
       "      <td>POINT (-87.63389 41.58611)</td>\n",
       "    </tr>\n",
       "    <tr>\n",
       "      <th>3</th>\n",
       "      <td>USGS</td>\n",
       "      <td>413514087523501</td>\n",
       "      <td>RAIN GAGE AT ORLAND PARK, IL</td>\n",
       "      <td>AT</td>\n",
       "      <td>413514</td>\n",
       "      <td>875235</td>\n",
       "      <td>41.587222</td>\n",
       "      <td>-87.876389</td>\n",
       "      <td>N</td>\n",
       "      <td>S</td>\n",
       "      <td>...</td>\n",
       "      <td>NaN</td>\n",
       "      <td>NaN</td>\n",
       "      <td>NaN</td>\n",
       "      <td>NaN</td>\n",
       "      <td>NaN</td>\n",
       "      <td>NaN</td>\n",
       "      <td>NaN</td>\n",
       "      <td>NaN</td>\n",
       "      <td>CAWS000</td>\n",
       "      <td>POINT (-87.87639 41.58722)</td>\n",
       "    </tr>\n",
       "    <tr>\n",
       "      <th>4</th>\n",
       "      <td>USGS</td>\n",
       "      <td>413516087442101</td>\n",
       "      <td>RAIN GAGE AT OAK FOREST, IL</td>\n",
       "      <td>AT</td>\n",
       "      <td>413516</td>\n",
       "      <td>874421</td>\n",
       "      <td>41.587778</td>\n",
       "      <td>-87.739167</td>\n",
       "      <td>N</td>\n",
       "      <td>S</td>\n",
       "      <td>...</td>\n",
       "      <td>NaN</td>\n",
       "      <td>NaN</td>\n",
       "      <td>NaN</td>\n",
       "      <td>NaN</td>\n",
       "      <td>NaN</td>\n",
       "      <td>NaN</td>\n",
       "      <td>NaN</td>\n",
       "      <td>NaN</td>\n",
       "      <td>CAWS00</td>\n",
       "      <td>POINT (-87.73917 41.58778)</td>\n",
       "    </tr>\n",
       "  </tbody>\n",
       "</table>\n",
       "<p>5 rows × 43 columns</p>\n",
       "</div>"
      ],
      "text/plain": [
       "  agency_cd          site_no  \\\n",
       "0      USGS  413113087342201   \n",
       "1      USGS  413115087352501   \n",
       "2      USGS  413510087380201   \n",
       "3      USGS  413514087523501   \n",
       "4      USGS  413516087442101   \n",
       "\n",
       "                                         station_nm site_tp_cd  lat_va  \\\n",
       "0                RAIN GAGE NEAR CHICAGO HEIGHTS, IL         AT  413115   \n",
       "1  RAIN GAGE AT DEER CREEK NEAR CHICAGO HEIGHTS, IL         AT  413115   \n",
       "2                           RAIN GAGE AT HARVEY, IL         AT  413510   \n",
       "3                      RAIN GAGE AT ORLAND PARK, IL         AT  413514   \n",
       "4                       RAIN GAGE AT OAK FOREST, IL         AT  413516   \n",
       "\n",
       "   long_va  dec_lat_va  dec_long_va coord_meth_cd coord_acy_cd  ...  \\\n",
       "0   873525   41.520868   -87.590321             M            S  ...   \n",
       "1   873525   41.520833   -87.590278             N            S  ...   \n",
       "2   873802   41.586111   -87.633889             N            S  ...   \n",
       "3   875235   41.587222   -87.876389             N            S  ...   \n",
       "4   874421   41.587778   -87.739167             N            S  ...   \n",
       "\n",
       "  reliability_cd gw_file_cd  nat_aqfr_cd  aqfr_cd  aqfr_type_cd well_depth_va  \\\n",
       "0            NaN   NNNNNNNN          NaN      NaN           NaN           NaN   \n",
       "1            NaN        NaN          NaN      NaN           NaN           NaN   \n",
       "2            NaN        NaN          NaN      NaN           NaN           NaN   \n",
       "3            NaN        NaN          NaN      NaN           NaN           NaN   \n",
       "4            NaN        NaN          NaN      NaN           NaN           NaN   \n",
       "\n",
       "  hole_depth_va depth_src_cd  project_no                    geometry  \n",
       "0           NaN          NaN       00100  POINT (-87.59032 41.52087)  \n",
       "1           NaN          NaN      CAWS00  POINT (-87.59028 41.52083)  \n",
       "2           NaN          NaN      CAWS00  POINT (-87.63389 41.58611)  \n",
       "3           NaN          NaN     CAWS000  POINT (-87.87639 41.58722)  \n",
       "4           NaN          NaN      CAWS00  POINT (-87.73917 41.58778)  \n",
       "\n",
       "[5 rows x 43 columns]"
      ]
     },
     "execution_count": 5,
     "metadata": {},
     "output_type": "execute_result"
    }
   ],
   "source": [
    "site_info.head()"
   ]
  },
  {
   "cell_type": "code",
   "execution_count": null,
   "metadata": {},
   "outputs": [],
   "source": [
    "START_DATE = pd.Timestamp(\"20210301\", tz=\"utc\")\n",
    "END_DATE = pd.Timestamp(\"20210831\", tz=\"utc\")\n",
    "\n",
    "for i, site in site_info.iterrows():\n",
    "    \"\"\"\"\"\"\n",
    "    ## Get site coordinates and number\n",
    "    site_no = site[\"site_no\"]\n",
    "    coord = NamedCoord(\n",
    "        site[\"station_nm\"],\n",
    "        site[\"dec_lat_va\"],\n",
    "        360 + site[\"dec_long_va\"],\n",
    "    )\n",
    "\n",
    "    ## Filter hours with rain - skip zeros from query\n",
    "    files = []\n",
    "    resampled = inst.xs(site_no).loc[START_DATE:END_DATE].resample(\"1h\").sum()\n",
    "    filtered = resampled[resampled[\"00045\"] > 0]\n",
    "    hours_with_storms = [GlobHelper(t.strftime(\"%Y%m%d\"), t.strftime(\"%H\")) for t in filtered.index]\n",
    "\n",
    "    for hd in hours_with_storms:\n",
    "        pattern = f\"{hd.date}/*{hd.date}-{hd.hour}*.gz\"\n",
    "        ls = Path(\"../data\").glob(pattern)\n",
    "        ls = sorted(ls)\n",
    "        files.append(ls)\n",
    "\n",
    "    files = list(chain(*files))\n",
    "\n",
    "    ## Execute GRIB2 query\n",
    "    df = extract_series(files, coord.lat, coord.lon)\n",
    "    dest_folder = Path(\"./timeseries\")\n",
    "    dest_folder.mkdir(parents=True, exist_ok=True)\n",
    "    df.to_parquet(dest_folder / f\"{coord.name}.parquet\")\n",
    "    break"
   ]
  },
  {
   "cell_type": "code",
   "execution_count": 88,
   "metadata": {},
   "outputs": [
    {
     "data": {
      "application/vnd.microsoft.datawrangler.viewer.v0+json": {
       "columns": [
        {
         "name": "timestamp",
         "rawType": "datetime64[ns]",
         "type": "datetime"
        },
        {
         "name": "value",
         "rawType": "float64",
         "type": "float"
        }
       ],
       "conversionMethod": "pd.DataFrame",
       "ref": "eda9bb2d-4e76-465c-b5c8-48ad87721b20",
       "rows": [
        [
         "2021-03-11 09:00:00",
         "0.0"
        ],
        [
         "2021-03-11 09:02:00",
         "0.0"
        ],
        [
         "2021-03-11 09:04:00",
         "0.0"
        ],
        [
         "2021-03-11 09:06:00",
         "0.0"
        ],
        [
         "2021-03-11 09:08:00",
         "0.0"
        ],
        [
         "2021-03-11 09:10:00",
         "0.0"
        ],
        [
         "2021-03-11 09:12:00",
         "1.399999976158142"
        ],
        [
         "2021-03-11 09:14:00",
         "2.5"
        ],
        [
         "2021-03-11 09:16:00",
         "0.699999988079071"
        ],
        [
         "2021-03-11 09:18:00",
         "0.30000001192092896"
        ],
        [
         "2021-03-11 09:20:00",
         "0.0"
        ],
        [
         "2021-03-11 09:22:00",
         "0.0"
        ],
        [
         "2021-03-11 09:24:00",
         "0.0"
        ],
        [
         "2021-03-11 09:26:00",
         "1.2000000476837158"
        ],
        [
         "2021-03-11 09:28:00",
         "0.0"
        ],
        [
         "2021-03-11 09:30:00",
         "0.0"
        ],
        [
         "2021-03-11 09:32:00",
         "0.0"
        ],
        [
         "2021-03-11 09:34:00",
         "0.0"
        ],
        [
         "2021-03-11 09:36:00",
         "0.0"
        ],
        [
         "2021-03-11 09:38:00",
         "0.0"
        ],
        [
         "2021-03-11 09:40:00",
         "0.0"
        ],
        [
         "2021-03-11 09:42:00",
         "0.0"
        ],
        [
         "2021-03-11 09:44:00",
         "0.0"
        ],
        [
         "2021-03-11 09:46:00",
         "0.0"
        ],
        [
         "2021-03-11 09:48:00",
         "0.0"
        ],
        [
         "2021-03-11 09:50:00",
         "0.0"
        ],
        [
         "2021-03-11 09:52:00",
         "0.0"
        ],
        [
         "2021-03-11 09:54:00",
         "0.0"
        ],
        [
         "2021-03-11 09:56:00",
         "0.0"
        ],
        [
         "2021-03-11 09:58:00",
         "0.0"
        ],
        [
         "2021-03-16 14:00:00",
         "0.0"
        ],
        [
         "2021-03-16 14:02:00",
         "0.0"
        ],
        [
         "2021-03-16 14:04:00",
         "0.0"
        ],
        [
         "2021-03-16 14:06:00",
         "0.0"
        ],
        [
         "2021-03-16 14:08:00",
         "0.0"
        ],
        [
         "2021-03-16 14:10:00",
         "0.0"
        ],
        [
         "2021-03-16 14:12:00",
         "0.0"
        ],
        [
         "2021-03-16 14:14:00",
         "0.0"
        ],
        [
         "2021-03-16 14:16:00",
         "0.0"
        ],
        [
         "2021-03-16 14:18:00",
         "0.0"
        ],
        [
         "2021-03-16 14:20:00",
         "0.0"
        ],
        [
         "2021-03-16 14:22:00",
         "0.0"
        ],
        [
         "2021-03-16 14:24:00",
         "0.0"
        ],
        [
         "2021-03-16 14:26:00",
         "0.0"
        ],
        [
         "2021-03-16 14:28:00",
         "0.0"
        ],
        [
         "2021-03-16 14:30:00",
         "0.0"
        ],
        [
         "2021-03-16 14:32:00",
         "0.0"
        ],
        [
         "2021-03-16 14:34:00",
         "0.0"
        ],
        [
         "2021-03-16 14:36:00",
         "0.0"
        ],
        [
         "2021-03-16 14:38:00",
         "0.0"
        ]
       ],
       "shape": {
        "columns": 1,
        "rows": 1000
       }
      },
      "text/html": [
       "<div>\n",
       "<style scoped>\n",
       "    .dataframe tbody tr th:only-of-type {\n",
       "        vertical-align: middle;\n",
       "    }\n",
       "\n",
       "    .dataframe tbody tr th {\n",
       "        vertical-align: top;\n",
       "    }\n",
       "\n",
       "    .dataframe thead th {\n",
       "        text-align: right;\n",
       "    }\n",
       "</style>\n",
       "<table border=\"1\" class=\"dataframe\">\n",
       "  <thead>\n",
       "    <tr style=\"text-align: right;\">\n",
       "      <th></th>\n",
       "      <th>value</th>\n",
       "    </tr>\n",
       "    <tr>\n",
       "      <th>timestamp</th>\n",
       "      <th></th>\n",
       "    </tr>\n",
       "  </thead>\n",
       "  <tbody>\n",
       "    <tr>\n",
       "      <th>2021-03-11 09:00:00</th>\n",
       "      <td>0.0</td>\n",
       "    </tr>\n",
       "    <tr>\n",
       "      <th>2021-03-11 09:02:00</th>\n",
       "      <td>0.0</td>\n",
       "    </tr>\n",
       "    <tr>\n",
       "      <th>2021-03-11 09:04:00</th>\n",
       "      <td>0.0</td>\n",
       "    </tr>\n",
       "    <tr>\n",
       "      <th>2021-03-11 09:06:00</th>\n",
       "      <td>0.0</td>\n",
       "    </tr>\n",
       "    <tr>\n",
       "      <th>2021-03-11 09:08:00</th>\n",
       "      <td>0.0</td>\n",
       "    </tr>\n",
       "    <tr>\n",
       "      <th>...</th>\n",
       "      <td>...</td>\n",
       "    </tr>\n",
       "    <tr>\n",
       "      <th>2021-03-27 13:24:00</th>\n",
       "      <td>0.0</td>\n",
       "    </tr>\n",
       "    <tr>\n",
       "      <th>2021-03-27 13:26:00</th>\n",
       "      <td>0.0</td>\n",
       "    </tr>\n",
       "    <tr>\n",
       "      <th>2021-03-27 13:28:00</th>\n",
       "      <td>0.0</td>\n",
       "    </tr>\n",
       "    <tr>\n",
       "      <th>2021-03-27 13:30:00</th>\n",
       "      <td>0.0</td>\n",
       "    </tr>\n",
       "    <tr>\n",
       "      <th>2021-03-27 13:32:00</th>\n",
       "      <td>0.0</td>\n",
       "    </tr>\n",
       "  </tbody>\n",
       "</table>\n",
       "<p>1000 rows × 1 columns</p>\n",
       "</div>"
      ],
      "text/plain": [
       "                     value\n",
       "timestamp                 \n",
       "2021-03-11 09:00:00    0.0\n",
       "2021-03-11 09:02:00    0.0\n",
       "2021-03-11 09:04:00    0.0\n",
       "2021-03-11 09:06:00    0.0\n",
       "2021-03-11 09:08:00    0.0\n",
       "...                    ...\n",
       "2021-03-27 13:24:00    0.0\n",
       "2021-03-27 13:26:00    0.0\n",
       "2021-03-27 13:28:00    0.0\n",
       "2021-03-27 13:30:00    0.0\n",
       "2021-03-27 13:32:00    0.0\n",
       "\n",
       "[1000 rows x 1 columns]"
      ]
     },
     "execution_count": 88,
     "metadata": {},
     "output_type": "execute_result"
    }
   ],
   "source": [
    "pd.read_parquet(dest_folder / f\"{coord.name}.parquet\")"
   ]
  }
 ],
 "metadata": {
  "kernelspec": {
   "display_name": "zenv",
   "language": "python",
   "name": "python3"
  },
  "language_info": {
   "codemirror_mode": {
    "name": "ipython",
    "version": 3
   },
   "file_extension": ".py",
   "mimetype": "text/x-python",
   "name": "python",
   "nbconvert_exporter": "python",
   "pygments_lexer": "ipython3",
   "version": "3.12.9"
  }
 },
 "nbformat": 4,
 "nbformat_minor": 2
}
