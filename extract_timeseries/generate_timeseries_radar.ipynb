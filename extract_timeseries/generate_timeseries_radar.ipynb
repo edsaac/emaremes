{
 "cells": [
  {
   "cell_type": "code",
   "execution_count": 1,
   "metadata": {},
   "outputs": [],
   "source": [
    "import pickle\n",
    "from pathlib import Path\n",
    "from collections import namedtuple\n",
    "from itertools import chain\n",
    "import pandas as pd\n",
    "from timeseries_point import extract_series\n",
    "\n",
    "GlobHelper = namedtuple(\"GlobHelper\", [\"date\", \"hour\"])\n",
    "NamedCoord = namedtuple(\"NamedCoord\", [\"name\", \"lat\", \"lon\"])"
   ]
  },
  {
   "cell_type": "code",
   "execution_count": 2,
   "metadata": {},
   "outputs": [
    {
     "name": "stdout",
     "output_type": "stream",
     "text": [
      "33 lat/lon pairs will be queried\n"
     ]
    }
   ],
   "source": [
    "usgs_data_path = Path(\"usgs/usgs_Cook County.pkl\")\n",
    "\n",
    "with open(usgs_data_path, \"rb\") as f:\n",
    "    data = pickle.load(f)\n",
    "    daily, inst, site_info, pcodes = data.values()\n",
    "\n",
    "print(f\"{len(site_info)} lat/lon pairs will be queried\")"
   ]
  },
  {
   "cell_type": "code",
   "execution_count": 3,
   "metadata": {},
   "outputs": [
    {
     "data": {
      "text/html": [
       "<div>\n",
       "<style scoped>\n",
       "    .dataframe tbody tr th:only-of-type {\n",
       "        vertical-align: middle;\n",
       "    }\n",
       "\n",
       "    .dataframe tbody tr th {\n",
       "        vertical-align: top;\n",
       "    }\n",
       "\n",
       "    .dataframe thead th {\n",
       "        text-align: right;\n",
       "    }\n",
       "</style>\n",
       "<table border=\"1\" class=\"dataframe\">\n",
       "  <thead>\n",
       "    <tr style=\"text-align: right;\">\n",
       "      <th></th>\n",
       "      <th>agency_cd</th>\n",
       "      <th>site_no</th>\n",
       "      <th>station_nm</th>\n",
       "      <th>site_tp_cd</th>\n",
       "      <th>lat_va</th>\n",
       "      <th>long_va</th>\n",
       "      <th>dec_lat_va</th>\n",
       "      <th>dec_long_va</th>\n",
       "      <th>coord_meth_cd</th>\n",
       "      <th>coord_acy_cd</th>\n",
       "      <th>...</th>\n",
       "      <th>reliability_cd</th>\n",
       "      <th>gw_file_cd</th>\n",
       "      <th>nat_aqfr_cd</th>\n",
       "      <th>aqfr_cd</th>\n",
       "      <th>aqfr_type_cd</th>\n",
       "      <th>well_depth_va</th>\n",
       "      <th>hole_depth_va</th>\n",
       "      <th>depth_src_cd</th>\n",
       "      <th>project_no</th>\n",
       "      <th>geometry</th>\n",
       "    </tr>\n",
       "  </thead>\n",
       "  <tbody>\n",
       "    <tr>\n",
       "      <th>0</th>\n",
       "      <td>USGS</td>\n",
       "      <td>05530990</td>\n",
       "      <td>SALT CREEK AT ROLLING MEADOWS, IL</td>\n",
       "      <td>ST</td>\n",
       "      <td>420337.41</td>\n",
       "      <td>880059.97</td>\n",
       "      <td>42.060392</td>\n",
       "      <td>-88.016658</td>\n",
       "      <td>N</td>\n",
       "      <td>5</td>\n",
       "      <td>...</td>\n",
       "      <td>NaN</td>\n",
       "      <td>NNNNNNNN</td>\n",
       "      <td>NaN</td>\n",
       "      <td>NaN</td>\n",
       "      <td>NaN</td>\n",
       "      <td>NaN</td>\n",
       "      <td>NaN</td>\n",
       "      <td>NaN</td>\n",
       "      <td>NaN</td>\n",
       "      <td>POINT (-88.01666 42.06039)</td>\n",
       "    </tr>\n",
       "    <tr>\n",
       "      <th>1</th>\n",
       "      <td>USGS</td>\n",
       "      <td>05536290</td>\n",
       "      <td>LITTLE CALUMET RIVER AT SOUTH HOLLAND, IL</td>\n",
       "      <td>ST</td>\n",
       "      <td>413625.30</td>\n",
       "      <td>873551.30</td>\n",
       "      <td>41.607028</td>\n",
       "      <td>-87.597583</td>\n",
       "      <td>X</td>\n",
       "      <td>F</td>\n",
       "      <td>...</td>\n",
       "      <td>NaN</td>\n",
       "      <td>NNNNNNNN</td>\n",
       "      <td>NaN</td>\n",
       "      <td>NaN</td>\n",
       "      <td>NaN</td>\n",
       "      <td>NaN</td>\n",
       "      <td>NaN</td>\n",
       "      <td>NaN</td>\n",
       "      <td>NaN</td>\n",
       "      <td>POINT (-87.59758 41.60703)</td>\n",
       "    </tr>\n",
       "    <tr>\n",
       "      <th>2</th>\n",
       "      <td>USGS</td>\n",
       "      <td>413104087440001</td>\n",
       "      <td>RAIN GAGE AT MATTESON, IL</td>\n",
       "      <td>AT</td>\n",
       "      <td>413104.00</td>\n",
       "      <td>874400.00</td>\n",
       "      <td>41.517778</td>\n",
       "      <td>-87.733333</td>\n",
       "      <td>N</td>\n",
       "      <td>S</td>\n",
       "      <td>...</td>\n",
       "      <td>NaN</td>\n",
       "      <td>NaN</td>\n",
       "      <td>NaN</td>\n",
       "      <td>NaN</td>\n",
       "      <td>NaN</td>\n",
       "      <td>NaN</td>\n",
       "      <td>NaN</td>\n",
       "      <td>NaN</td>\n",
       "      <td>CAWS0</td>\n",
       "      <td>POINT (-87.73333 41.51778)</td>\n",
       "    </tr>\n",
       "    <tr>\n",
       "      <th>3</th>\n",
       "      <td>USGS</td>\n",
       "      <td>413113087342201</td>\n",
       "      <td>RAIN GAGE NEAR CHICAGO HEIGHTS, IL</td>\n",
       "      <td>AT</td>\n",
       "      <td>413115.00</td>\n",
       "      <td>873525.00</td>\n",
       "      <td>41.520868</td>\n",
       "      <td>-87.590321</td>\n",
       "      <td>M</td>\n",
       "      <td>S</td>\n",
       "      <td>...</td>\n",
       "      <td>NaN</td>\n",
       "      <td>NNNNNNNN</td>\n",
       "      <td>NaN</td>\n",
       "      <td>NaN</td>\n",
       "      <td>NaN</td>\n",
       "      <td>NaN</td>\n",
       "      <td>NaN</td>\n",
       "      <td>NaN</td>\n",
       "      <td>00100</td>\n",
       "      <td>POINT (-87.59032 41.52087)</td>\n",
       "    </tr>\n",
       "    <tr>\n",
       "      <th>4</th>\n",
       "      <td>USGS</td>\n",
       "      <td>413115087352501</td>\n",
       "      <td>RAIN GAGE AT DEER CREEK NEAR CHICAGO HEIGHTS, IL</td>\n",
       "      <td>AT</td>\n",
       "      <td>413115.00</td>\n",
       "      <td>873525.00</td>\n",
       "      <td>41.520833</td>\n",
       "      <td>-87.590278</td>\n",
       "      <td>N</td>\n",
       "      <td>S</td>\n",
       "      <td>...</td>\n",
       "      <td>NaN</td>\n",
       "      <td>NaN</td>\n",
       "      <td>NaN</td>\n",
       "      <td>NaN</td>\n",
       "      <td>NaN</td>\n",
       "      <td>NaN</td>\n",
       "      <td>NaN</td>\n",
       "      <td>NaN</td>\n",
       "      <td>CAWS00</td>\n",
       "      <td>POINT (-87.59028 41.52083)</td>\n",
       "    </tr>\n",
       "  </tbody>\n",
       "</table>\n",
       "<p>5 rows × 43 columns</p>\n",
       "</div>"
      ],
      "text/plain": [
       "  agency_cd          site_no  \\\n",
       "0      USGS         05530990   \n",
       "1      USGS         05536290   \n",
       "2      USGS  413104087440001   \n",
       "3      USGS  413113087342201   \n",
       "4      USGS  413115087352501   \n",
       "\n",
       "                                         station_nm site_tp_cd     lat_va  \\\n",
       "0                 SALT CREEK AT ROLLING MEADOWS, IL         ST  420337.41   \n",
       "1         LITTLE CALUMET RIVER AT SOUTH HOLLAND, IL         ST  413625.30   \n",
       "2                         RAIN GAGE AT MATTESON, IL         AT  413104.00   \n",
       "3                RAIN GAGE NEAR CHICAGO HEIGHTS, IL         AT  413115.00   \n",
       "4  RAIN GAGE AT DEER CREEK NEAR CHICAGO HEIGHTS, IL         AT  413115.00   \n",
       "\n",
       "     long_va  dec_lat_va  dec_long_va coord_meth_cd coord_acy_cd  ...  \\\n",
       "0  880059.97   42.060392   -88.016658             N            5  ...   \n",
       "1  873551.30   41.607028   -87.597583             X            F  ...   \n",
       "2  874400.00   41.517778   -87.733333             N            S  ...   \n",
       "3  873525.00   41.520868   -87.590321             M            S  ...   \n",
       "4  873525.00   41.520833   -87.590278             N            S  ...   \n",
       "\n",
       "  reliability_cd gw_file_cd  nat_aqfr_cd  aqfr_cd  aqfr_type_cd well_depth_va  \\\n",
       "0            NaN   NNNNNNNN          NaN      NaN           NaN           NaN   \n",
       "1            NaN   NNNNNNNN          NaN      NaN           NaN           NaN   \n",
       "2            NaN        NaN          NaN      NaN           NaN           NaN   \n",
       "3            NaN   NNNNNNNN          NaN      NaN           NaN           NaN   \n",
       "4            NaN        NaN          NaN      NaN           NaN           NaN   \n",
       "\n",
       "  hole_depth_va depth_src_cd  project_no                    geometry  \n",
       "0           NaN          NaN         NaN  POINT (-88.01666 42.06039)  \n",
       "1           NaN          NaN         NaN  POINT (-87.59758 41.60703)  \n",
       "2           NaN          NaN       CAWS0  POINT (-87.73333 41.51778)  \n",
       "3           NaN          NaN       00100  POINT (-87.59032 41.52087)  \n",
       "4           NaN          NaN      CAWS00  POINT (-87.59028 41.52083)  \n",
       "\n",
       "[5 rows x 43 columns]"
      ]
     },
     "execution_count": 3,
     "metadata": {},
     "output_type": "execute_result"
    }
   ],
   "source": [
    "site_info.head()"
   ]
  },
  {
   "cell_type": "code",
   "execution_count": 4,
   "metadata": {},
   "outputs": [
    {
     "name": "stderr",
     "output_type": "stream",
     "text": [
      "Can't create file '/tmp/tmpaqacmhl0.grib2.5b7b6.idx'\n",
      "Traceback (most recent call last):\n",
      "  File \"/home/edwin/.virtualenvs/zenv/lib/python3.12/site-packages/cfgrib/messages.py\", line 274, in itervalues\n",
      "    yield self.filestream.message_from_file(file, errors=errors)\n",
      "          ^^^^^^^^^^^^^^^^^^^^^^^^^^^^^^^^^^^^^^^^^^^^^^^^^^^^^^\n",
      "  File \"/home/edwin/.virtualenvs/zenv/lib/python3.12/site-packages/cfgrib/messages.py\", line 341, in message_from_file\n",
      "    return Message.from_file(file, offset, **kwargs)\n",
      "           ^^^^^^^^^^^^^^^^^^^^^^^^^^^^^^^^^^^^^^^^^\n",
      "  File \"/home/edwin/.virtualenvs/zenv/lib/python3.12/site-packages/cfgrib/messages.py\", line 105, in from_file\n",
      "    raise EOFError(\"End of file: %r\" % file)\n",
      "EOFError: End of file: <_io.BufferedReader name='/tmp/tmpaqacmhl0.grib2'>\n",
      "\n",
      "During handling of the above exception, another exception occurred:\n",
      "\n",
      "Traceback (most recent call last):\n",
      "  File \"/home/edwin/.virtualenvs/zenv/lib/python3.12/site-packages/cfgrib/messages.py\", line 539, in from_indexpath_or_filestream\n",
      "    self = cls.from_fieldset(filestream, index_keys, computed_keys)\n",
      "           ^^^^^^^^^^^^^^^^^^^^^^^^^^^^^^^^^^^^^^^^^^^^^^^^^^^^^^^^\n",
      "  File \"/home/edwin/.virtualenvs/zenv/lib/python3.12/site-packages/cfgrib/messages.py\", line 379, in from_fieldset\n",
      "    return cls.from_fieldset_and_iteritems(fieldset, iteritems, index_keys, computed_keys)\n",
      "           ^^^^^^^^^^^^^^^^^^^^^^^^^^^^^^^^^^^^^^^^^^^^^^^^^^^^^^^^^^^^^^^^^^^^^^^^^^^^^^^\n",
      "  File \"/home/edwin/.virtualenvs/zenv/lib/python3.12/site-packages/cfgrib/messages.py\", line 392, in from_fieldset_and_iteritems\n",
      "    for field_id, raw_field in iteritems:\n",
      "                               ^^^^^^^^^\n",
      "  File \"/home/edwin/.virtualenvs/zenv/lib/python3.12/site-packages/cfgrib/messages.py\", line 292, in __iter__\n",
      "    for message in self.itervalues():\n",
      "                   ^^^^^^^^^^^^^^^^^\n",
      "  File \"/home/edwin/.virtualenvs/zenv/lib/python3.12/site-packages/cfgrib/messages.py\", line 278, in itervalues\n",
      "    raise EOFError(\"No valid message found: %r\" % self.filestream.path)\n",
      "EOFError: No valid message found: '/tmp/tmpaqacmhl0.grib2'\n",
      "Can't read index file '/tmp/tmpaqacmhl0.grib2.5b7b6.idx'\n",
      "Traceback (most recent call last):\n",
      "  File \"/home/edwin/.virtualenvs/zenv/lib/python3.12/site-packages/cfgrib/messages.py\", line 548, in from_indexpath_or_filestream\n",
      "    index_mtime = os.path.getmtime(indexpath)\n",
      "                  ^^^^^^^^^^^^^^^^^^^^^^^^^^^\n",
      "  File \"<frozen genericpath>\", line 67, in getmtime\n",
      "FileNotFoundError: [Errno 2] No such file or directory: '/tmp/tmpaqacmhl0.grib2.5b7b6.idx'\n"
     ]
    },
    {
     "ename": "EOFError",
     "evalue": "No valid message found: '/tmp/tmpaqacmhl0.grib2'",
     "output_type": "error",
     "traceback": [
      "\u001b[0;31m---------------------------------------------------------------------------\u001b[0m",
      "\u001b[0;31mRemoteTraceback\u001b[0m                           Traceback (most recent call last)",
      "\u001b[0;31mRemoteTraceback\u001b[0m: \n\"\"\"\nTraceback (most recent call last):\n  File \"/home/edwin/.virtualenvs/zenv/lib/python3.12/site-packages/cfgrib/messages.py\", line 274, in itervalues\n    yield self.filestream.message_from_file(file, errors=errors)\n          ^^^^^^^^^^^^^^^^^^^^^^^^^^^^^^^^^^^^^^^^^^^^^^^^^^^^^^\n  File \"/home/edwin/.virtualenvs/zenv/lib/python3.12/site-packages/cfgrib/messages.py\", line 341, in message_from_file\n    return Message.from_file(file, offset, **kwargs)\n           ^^^^^^^^^^^^^^^^^^^^^^^^^^^^^^^^^^^^^^^^^\n  File \"/home/edwin/.virtualenvs/zenv/lib/python3.12/site-packages/cfgrib/messages.py\", line 105, in from_file\n    raise EOFError(\"End of file: %r\" % file)\nEOFError: End of file: <_io.BufferedReader name='/tmp/tmpaqacmhl0.grib2'>\n\nDuring handling of the above exception, another exception occurred:\n\nTraceback (most recent call last):\n  File \"/usr/lib/python3.12/multiprocessing/pool.py\", line 125, in worker\n    result = (True, func(*args, **kwds))\n                    ^^^^^^^^^^^^^^^^^^^\n  File \"/usr/lib/python3.12/multiprocessing/pool.py\", line 51, in starmapstar\n    return list(itertools.starmap(args[0], args[1]))\n           ^^^^^^^^^^^^^^^^^^^^^^^^^^^^^^^^^^^^^^^^^\n  File \"/home/edwin/Repositories/mrms-data/extract_timeseries/timeseries_point.py\", line 37, in extract_point_value\n    time, val = _extract_point_from_zipped_file(f, lat, lon)\n                ^^^^^^^^^^^^^^^^^^^^^^^^^^^^^^^^^^^^^^^^^^^^\n  File \"/home/edwin/Repositories/mrms-data/extract_timeseries/timeseries_point.py\", line 25, in _extract_point_from_zipped_file\n    time, val = _extract_point_from_grib2_file(tf.name, lat, lon)\n                ^^^^^^^^^^^^^^^^^^^^^^^^^^^^^^^^^^^^^^^^^^^^^^^^^\n  File \"/home/edwin/Repositories/mrms-data/extract_timeseries/timeseries_point.py\", line 13, in _extract_point_from_grib2_file\n    with xr.open_dataset(f, engine=\"cfgrib\", decode_timedelta=False) as ds:\n         ^^^^^^^^^^^^^^^^^^^^^^^^^^^^^^^^^^^^^^^^^^^^^^^^^^^^^^^^^^^\n  File \"/home/edwin/.virtualenvs/zenv/lib/python3.12/site-packages/xarray/backends/api.py\", line 686, in open_dataset\n    backend_ds = backend.open_dataset(\n                 ^^^^^^^^^^^^^^^^^^^^^\n  File \"/home/edwin/.virtualenvs/zenv/lib/python3.12/site-packages/cfgrib/xarray_plugin.py\", line 112, in open_dataset\n    store = CfGribDataStore(\n            ^^^^^^^^^^^^^^^^\n  File \"/home/edwin/.virtualenvs/zenv/lib/python3.12/site-packages/cfgrib/xarray_plugin.py\", line 40, in __init__\n    self.ds = opener(filename, **backend_kwargs)\n              ^^^^^^^^^^^^^^^^^^^^^^^^^^^^^^^^^^\n  File \"/home/edwin/.virtualenvs/zenv/lib/python3.12/site-packages/cfgrib/dataset.py\", line 827, in open_file\n    index = open_fileindex(stream, indexpath, index_keys, ignore_keys=ignore_keys, filter_by_keys=filter_by_keys)\n            ^^^^^^^^^^^^^^^^^^^^^^^^^^^^^^^^^^^^^^^^^^^^^^^^^^^^^^^^^^^^^^^^^^^^^^^^^^^^^^^^^^^^^^^^^^^^^^^^^^^^^\n  File \"/home/edwin/.virtualenvs/zenv/lib/python3.12/site-packages/cfgrib/dataset.py\", line 806, in open_fileindex\n    index = messages.FileIndex.from_indexpath_or_filestream(\n            ^^^^^^^^^^^^^^^^^^^^^^^^^^^^^^^^^^^^^^^^^^^^^^^^\n  File \"/home/edwin/.virtualenvs/zenv/lib/python3.12/site-packages/cfgrib/messages.py\", line 565, in from_indexpath_or_filestream\n    return cls.from_fieldset(filestream, index_keys, computed_keys)\n           ^^^^^^^^^^^^^^^^^^^^^^^^^^^^^^^^^^^^^^^^^^^^^^^^^^^^^^^^\n  File \"/home/edwin/.virtualenvs/zenv/lib/python3.12/site-packages/cfgrib/messages.py\", line 379, in from_fieldset\n    return cls.from_fieldset_and_iteritems(fieldset, iteritems, index_keys, computed_keys)\n           ^^^^^^^^^^^^^^^^^^^^^^^^^^^^^^^^^^^^^^^^^^^^^^^^^^^^^^^^^^^^^^^^^^^^^^^^^^^^^^^\n  File \"/home/edwin/.virtualenvs/zenv/lib/python3.12/site-packages/cfgrib/messages.py\", line 392, in from_fieldset_and_iteritems\n    for field_id, raw_field in iteritems:\n                               ^^^^^^^^^\n  File \"/home/edwin/.virtualenvs/zenv/lib/python3.12/site-packages/cfgrib/messages.py\", line 292, in __iter__\n    for message in self.itervalues():\n                   ^^^^^^^^^^^^^^^^^\n  File \"/home/edwin/.virtualenvs/zenv/lib/python3.12/site-packages/cfgrib/messages.py\", line 278, in itervalues\n    raise EOFError(\"No valid message found: %r\" % self.filestream.path)\nEOFError: No valid message found: '/tmp/tmpaqacmhl0.grib2'\n\"\"\"",
      "\nThe above exception was the direct cause of the following exception:\n",
      "\u001b[0;31mEOFError\u001b[0m                                  Traceback (most recent call last)",
      "Cell \u001b[0;32mIn[4], line 35\u001b[0m\n\u001b[1;32m     32\u001b[0m files \u001b[38;5;241m=\u001b[39m \u001b[38;5;28mlist\u001b[39m(chain(\u001b[38;5;241m*\u001b[39mfiles))\n\u001b[1;32m     34\u001b[0m \u001b[38;5;66;03m## Execute GRIB2 query\u001b[39;00m\n\u001b[0;32m---> 35\u001b[0m df \u001b[38;5;241m=\u001b[39m \u001b[43mextract_series\u001b[49m\u001b[43m(\u001b[49m\u001b[43mfiles\u001b[49m\u001b[43m,\u001b[49m\u001b[43m \u001b[49m\u001b[43mcoord\u001b[49m\u001b[38;5;241;43m.\u001b[39;49m\u001b[43mlat\u001b[49m\u001b[43m,\u001b[49m\u001b[43m \u001b[49m\u001b[43mcoord\u001b[49m\u001b[38;5;241;43m.\u001b[39;49m\u001b[43mlon\u001b[49m\u001b[43m)\u001b[49m\n\u001b[1;32m     36\u001b[0m df\u001b[38;5;241m.\u001b[39mto_parquet(parquet_file)\n\u001b[1;32m     37\u001b[0m \u001b[38;5;28;01mbreak\u001b[39;00m\n",
      "File \u001b[0;32m~/Repositories/mrms-data/extract_timeseries/timeseries_point.py:47\u001b[0m, in \u001b[0;36mextract_series\u001b[0;34m(files, lat, lon)\u001b[0m\n\u001b[1;32m     45\u001b[0m \u001b[38;5;28;01mdef\u001b[39;00m \u001b[38;5;21mextract_series\u001b[39m(files: \u001b[38;5;28mlist\u001b[39m[Path], lat: \u001b[38;5;28mfloat\u001b[39m, lon: \u001b[38;5;28mfloat\u001b[39m) \u001b[38;5;241m-\u001b[39m\u001b[38;5;241m>\u001b[39m pd\u001b[38;5;241m.\u001b[39mDataFrame:\n\u001b[1;32m     46\u001b[0m     \u001b[38;5;28;01mwith\u001b[39;00m Pool() \u001b[38;5;28;01mas\u001b[39;00m pool:\n\u001b[0;32m---> 47\u001b[0m         query \u001b[38;5;241m=\u001b[39m \u001b[43mpool\u001b[49m\u001b[38;5;241;43m.\u001b[39;49m\u001b[43mstarmap\u001b[49m\u001b[43m(\u001b[49m\u001b[43mextract_point_value\u001b[49m\u001b[43m,\u001b[49m\u001b[43m \u001b[49m\u001b[43m[\u001b[49m\u001b[43m(\u001b[49m\u001b[43mf\u001b[49m\u001b[43m,\u001b[49m\u001b[43m \u001b[49m\u001b[43mlat\u001b[49m\u001b[43m,\u001b[49m\u001b[43m \u001b[49m\u001b[43mlon\u001b[49m\u001b[43m)\u001b[49m\u001b[43m \u001b[49m\u001b[38;5;28;43;01mfor\u001b[39;49;00m\u001b[43m \u001b[49m\u001b[43mf\u001b[49m\u001b[43m \u001b[49m\u001b[38;5;129;43;01min\u001b[39;49;00m\u001b[43m \u001b[49m\u001b[43mfiles\u001b[49m\u001b[43m]\u001b[49m\u001b[43m)\u001b[49m\n\u001b[1;32m     49\u001b[0m     df \u001b[38;5;241m=\u001b[39m pd\u001b[38;5;241m.\u001b[39mDataFrame(\n\u001b[1;32m     50\u001b[0m         {\n\u001b[1;32m     51\u001b[0m             \u001b[38;5;124m\"\u001b[39m\u001b[38;5;124mtimestamp\u001b[39m\u001b[38;5;124m\"\u001b[39m: pd\u001b[38;5;241m.\u001b[39mDatetimeIndex([q[\u001b[38;5;241m0\u001b[39m] \u001b[38;5;28;01mfor\u001b[39;00m q \u001b[38;5;129;01min\u001b[39;00m query]),\n\u001b[1;32m     52\u001b[0m             \u001b[38;5;124m\"\u001b[39m\u001b[38;5;124mvalue\u001b[39m\u001b[38;5;124m\"\u001b[39m: [q[\u001b[38;5;241m1\u001b[39m] \u001b[38;5;28;01mfor\u001b[39;00m q \u001b[38;5;129;01min\u001b[39;00m query],\n\u001b[1;32m     53\u001b[0m         },\n\u001b[1;32m     54\u001b[0m     )\n\u001b[1;32m     55\u001b[0m     df[\u001b[38;5;124m\"\u001b[39m\u001b[38;5;124mtimestamp\u001b[39m\u001b[38;5;124m\"\u001b[39m] \u001b[38;5;241m=\u001b[39m pd\u001b[38;5;241m.\u001b[39mto_datetime(df[\u001b[38;5;124m\"\u001b[39m\u001b[38;5;124mtimestamp\u001b[39m\u001b[38;5;124m\"\u001b[39m])\n",
      "File \u001b[0;32m/usr/lib/python3.12/multiprocessing/pool.py:375\u001b[0m, in \u001b[0;36mPool.starmap\u001b[0;34m(self, func, iterable, chunksize)\u001b[0m\n\u001b[1;32m    369\u001b[0m \u001b[38;5;28;01mdef\u001b[39;00m \u001b[38;5;21mstarmap\u001b[39m(\u001b[38;5;28mself\u001b[39m, func, iterable, chunksize\u001b[38;5;241m=\u001b[39m\u001b[38;5;28;01mNone\u001b[39;00m):\n\u001b[1;32m    370\u001b[0m \u001b[38;5;250m    \u001b[39m\u001b[38;5;124;03m'''\u001b[39;00m\n\u001b[1;32m    371\u001b[0m \u001b[38;5;124;03m    Like `map()` method but the elements of the `iterable` are expected to\u001b[39;00m\n\u001b[1;32m    372\u001b[0m \u001b[38;5;124;03m    be iterables as well and will be unpacked as arguments. Hence\u001b[39;00m\n\u001b[1;32m    373\u001b[0m \u001b[38;5;124;03m    `func` and (a, b) becomes func(a, b).\u001b[39;00m\n\u001b[1;32m    374\u001b[0m \u001b[38;5;124;03m    '''\u001b[39;00m\n\u001b[0;32m--> 375\u001b[0m     \u001b[38;5;28;01mreturn\u001b[39;00m \u001b[38;5;28;43mself\u001b[39;49m\u001b[38;5;241;43m.\u001b[39;49m\u001b[43m_map_async\u001b[49m\u001b[43m(\u001b[49m\u001b[43mfunc\u001b[49m\u001b[43m,\u001b[49m\u001b[43m \u001b[49m\u001b[43miterable\u001b[49m\u001b[43m,\u001b[49m\u001b[43m \u001b[49m\u001b[43mstarmapstar\u001b[49m\u001b[43m,\u001b[49m\u001b[43m \u001b[49m\u001b[43mchunksize\u001b[49m\u001b[43m)\u001b[49m\u001b[38;5;241;43m.\u001b[39;49m\u001b[43mget\u001b[49m\u001b[43m(\u001b[49m\u001b[43m)\u001b[49m\n",
      "File \u001b[0;32m/usr/lib/python3.12/multiprocessing/pool.py:774\u001b[0m, in \u001b[0;36mApplyResult.get\u001b[0;34m(self, timeout)\u001b[0m\n\u001b[1;32m    772\u001b[0m     \u001b[38;5;28;01mreturn\u001b[39;00m \u001b[38;5;28mself\u001b[39m\u001b[38;5;241m.\u001b[39m_value\n\u001b[1;32m    773\u001b[0m \u001b[38;5;28;01melse\u001b[39;00m:\n\u001b[0;32m--> 774\u001b[0m     \u001b[38;5;28;01mraise\u001b[39;00m \u001b[38;5;28mself\u001b[39m\u001b[38;5;241m.\u001b[39m_value\n",
      "\u001b[0;31mEOFError\u001b[0m: No valid message found: '/tmp/tmpaqacmhl0.grib2'"
     ]
    }
   ],
   "source": [
    "START_DATE = pd.Timestamp(\"20210301\", tz=\"utc\")\n",
    "END_DATE = pd.Timestamp(\"20210831\", tz=\"utc\")\n",
    "\n",
    "for i, site in site_info.iterrows():\n",
    "    \"\"\"\"\"\"\n",
    "    ## Get site coordinates and number\n",
    "    site_no = site[\"site_no\"]\n",
    "    coord = NamedCoord(\n",
    "        site[\"station_nm\"],\n",
    "        site[\"dec_lat_va\"],\n",
    "        360 + site[\"dec_long_va\"],\n",
    "    )\n",
    "    dest_folder = Path(\"./timeseries\")\n",
    "    dest_folder.mkdir(parents=True, exist_ok=True)\n",
    "    parquet_file = dest_folder / f\"{coord.name}.parquet\"\n",
    "\n",
    "    if parquet_file.exists():\n",
    "        continue\n",
    "\n",
    "    ## Filter hours with rain - skip zeros from query\n",
    "    files = []\n",
    "    resampled = inst.xs(site_no).loc[START_DATE:END_DATE].resample(\"1h\").sum()\n",
    "    filtered = resampled[resampled[\"00045\"] > 0]\n",
    "    hours_with_storms = [GlobHelper(t.strftime(\"%Y%m%d\"), t.strftime(\"%H\")) for t in filtered.index]\n",
    "\n",
    "    for hd in hours_with_storms:\n",
    "        pattern = f\"{hd.date}/*{hd.date}-{hd.hour}*.gz\"\n",
    "        ls = Path(\"../data\").glob(pattern)\n",
    "        ls = sorted(ls)\n",
    "        files.append(ls)\n",
    "\n",
    "    files = list(chain(*files))\n",
    "\n",
    "    ## Execute GRIB2 query\n",
    "    df = extract_series(files, coord.lat, coord.lon)\n",
    "    df.to_parquet(parquet_file)\n",
    "    break"
   ]
  },
  {
   "cell_type": "code",
   "execution_count": null,
   "metadata": {},
   "outputs": [
    {
     "data": {
      "application/vnd.microsoft.datawrangler.viewer.v0+json": {
       "columns": [
        {
         "name": "timestamp",
         "rawType": "datetime64[ns]",
         "type": "datetime"
        },
        {
         "name": "value",
         "rawType": "float64",
         "type": "float"
        }
       ],
       "conversionMethod": "pd.DataFrame",
       "ref": "eda9bb2d-4e76-465c-b5c8-48ad87721b20",
       "rows": [
        [
         "2021-03-11 09:00:00",
         "0.0"
        ],
        [
         "2021-03-11 09:02:00",
         "0.0"
        ],
        [
         "2021-03-11 09:04:00",
         "0.0"
        ],
        [
         "2021-03-11 09:06:00",
         "0.0"
        ],
        [
         "2021-03-11 09:08:00",
         "0.0"
        ],
        [
         "2021-03-11 09:10:00",
         "0.0"
        ],
        [
         "2021-03-11 09:12:00",
         "1.399999976158142"
        ],
        [
         "2021-03-11 09:14:00",
         "2.5"
        ],
        [
         "2021-03-11 09:16:00",
         "0.699999988079071"
        ],
        [
         "2021-03-11 09:18:00",
         "0.30000001192092896"
        ],
        [
         "2021-03-11 09:20:00",
         "0.0"
        ],
        [
         "2021-03-11 09:22:00",
         "0.0"
        ],
        [
         "2021-03-11 09:24:00",
         "0.0"
        ],
        [
         "2021-03-11 09:26:00",
         "1.2000000476837158"
        ],
        [
         "2021-03-11 09:28:00",
         "0.0"
        ],
        [
         "2021-03-11 09:30:00",
         "0.0"
        ],
        [
         "2021-03-11 09:32:00",
         "0.0"
        ],
        [
         "2021-03-11 09:34:00",
         "0.0"
        ],
        [
         "2021-03-11 09:36:00",
         "0.0"
        ],
        [
         "2021-03-11 09:38:00",
         "0.0"
        ],
        [
         "2021-03-11 09:40:00",
         "0.0"
        ],
        [
         "2021-03-11 09:42:00",
         "0.0"
        ],
        [
         "2021-03-11 09:44:00",
         "0.0"
        ],
        [
         "2021-03-11 09:46:00",
         "0.0"
        ],
        [
         "2021-03-11 09:48:00",
         "0.0"
        ],
        [
         "2021-03-11 09:50:00",
         "0.0"
        ],
        [
         "2021-03-11 09:52:00",
         "0.0"
        ],
        [
         "2021-03-11 09:54:00",
         "0.0"
        ],
        [
         "2021-03-11 09:56:00",
         "0.0"
        ],
        [
         "2021-03-11 09:58:00",
         "0.0"
        ],
        [
         "2021-03-16 14:00:00",
         "0.0"
        ],
        [
         "2021-03-16 14:02:00",
         "0.0"
        ],
        [
         "2021-03-16 14:04:00",
         "0.0"
        ],
        [
         "2021-03-16 14:06:00",
         "0.0"
        ],
        [
         "2021-03-16 14:08:00",
         "0.0"
        ],
        [
         "2021-03-16 14:10:00",
         "0.0"
        ],
        [
         "2021-03-16 14:12:00",
         "0.0"
        ],
        [
         "2021-03-16 14:14:00",
         "0.0"
        ],
        [
         "2021-03-16 14:16:00",
         "0.0"
        ],
        [
         "2021-03-16 14:18:00",
         "0.0"
        ],
        [
         "2021-03-16 14:20:00",
         "0.0"
        ],
        [
         "2021-03-16 14:22:00",
         "0.0"
        ],
        [
         "2021-03-16 14:24:00",
         "0.0"
        ],
        [
         "2021-03-16 14:26:00",
         "0.0"
        ],
        [
         "2021-03-16 14:28:00",
         "0.0"
        ],
        [
         "2021-03-16 14:30:00",
         "0.0"
        ],
        [
         "2021-03-16 14:32:00",
         "0.0"
        ],
        [
         "2021-03-16 14:34:00",
         "0.0"
        ],
        [
         "2021-03-16 14:36:00",
         "0.0"
        ],
        [
         "2021-03-16 14:38:00",
         "0.0"
        ]
       ],
       "shape": {
        "columns": 1,
        "rows": 1000
       }
      },
      "text/html": [
       "<div>\n",
       "<style scoped>\n",
       "    .dataframe tbody tr th:only-of-type {\n",
       "        vertical-align: middle;\n",
       "    }\n",
       "\n",
       "    .dataframe tbody tr th {\n",
       "        vertical-align: top;\n",
       "    }\n",
       "\n",
       "    .dataframe thead th {\n",
       "        text-align: right;\n",
       "    }\n",
       "</style>\n",
       "<table border=\"1\" class=\"dataframe\">\n",
       "  <thead>\n",
       "    <tr style=\"text-align: right;\">\n",
       "      <th></th>\n",
       "      <th>value</th>\n",
       "    </tr>\n",
       "    <tr>\n",
       "      <th>timestamp</th>\n",
       "      <th></th>\n",
       "    </tr>\n",
       "  </thead>\n",
       "  <tbody>\n",
       "    <tr>\n",
       "      <th>2021-03-11 09:00:00</th>\n",
       "      <td>0.0</td>\n",
       "    </tr>\n",
       "    <tr>\n",
       "      <th>2021-03-11 09:02:00</th>\n",
       "      <td>0.0</td>\n",
       "    </tr>\n",
       "    <tr>\n",
       "      <th>2021-03-11 09:04:00</th>\n",
       "      <td>0.0</td>\n",
       "    </tr>\n",
       "    <tr>\n",
       "      <th>2021-03-11 09:06:00</th>\n",
       "      <td>0.0</td>\n",
       "    </tr>\n",
       "    <tr>\n",
       "      <th>2021-03-11 09:08:00</th>\n",
       "      <td>0.0</td>\n",
       "    </tr>\n",
       "    <tr>\n",
       "      <th>...</th>\n",
       "      <td>...</td>\n",
       "    </tr>\n",
       "    <tr>\n",
       "      <th>2021-03-27 13:24:00</th>\n",
       "      <td>0.0</td>\n",
       "    </tr>\n",
       "    <tr>\n",
       "      <th>2021-03-27 13:26:00</th>\n",
       "      <td>0.0</td>\n",
       "    </tr>\n",
       "    <tr>\n",
       "      <th>2021-03-27 13:28:00</th>\n",
       "      <td>0.0</td>\n",
       "    </tr>\n",
       "    <tr>\n",
       "      <th>2021-03-27 13:30:00</th>\n",
       "      <td>0.0</td>\n",
       "    </tr>\n",
       "    <tr>\n",
       "      <th>2021-03-27 13:32:00</th>\n",
       "      <td>0.0</td>\n",
       "    </tr>\n",
       "  </tbody>\n",
       "</table>\n",
       "<p>1000 rows × 1 columns</p>\n",
       "</div>"
      ],
      "text/plain": [
       "                     value\n",
       "timestamp                 \n",
       "2021-03-11 09:00:00    0.0\n",
       "2021-03-11 09:02:00    0.0\n",
       "2021-03-11 09:04:00    0.0\n",
       "2021-03-11 09:06:00    0.0\n",
       "2021-03-11 09:08:00    0.0\n",
       "...                    ...\n",
       "2021-03-27 13:24:00    0.0\n",
       "2021-03-27 13:26:00    0.0\n",
       "2021-03-27 13:28:00    0.0\n",
       "2021-03-27 13:30:00    0.0\n",
       "2021-03-27 13:32:00    0.0\n",
       "\n",
       "[1000 rows x 1 columns]"
      ]
     },
     "execution_count": 88,
     "metadata": {},
     "output_type": "execute_result"
    }
   ],
   "source": [
    "pd.read_parquet(dest_folder / f\"{coord.name}.parquet\")"
   ]
  }
 ],
 "metadata": {
  "kernelspec": {
   "display_name": "zenv",
   "language": "python",
   "name": "python3"
  },
  "language_info": {
   "codemirror_mode": {
    "name": "ipython",
    "version": 3
   },
   "file_extension": ".py",
   "mimetype": "text/x-python",
   "name": "python",
   "nbconvert_exporter": "python",
   "pygments_lexer": "ipython3",
   "version": "3.12.9"
  }
 },
 "nbformat": 4,
 "nbformat_minor": 2
}
