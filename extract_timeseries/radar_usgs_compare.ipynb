{
 "cells": [
  {
   "cell_type": "code",
   "execution_count": 1,
   "metadata": {},
   "outputs": [],
   "source": [
    "from pathlib import Path\n",
    "import pickle\n",
    "\n",
    "import pandas as pd\n",
    "import matplotlib.pyplot as plt\n",
    "import matplotlib.dates as mdates"
   ]
  },
  {
   "cell_type": "code",
   "execution_count": 2,
   "metadata": {},
   "outputs": [
    {
     "data": {
      "text/html": [
       "<div>\n",
       "<style scoped>\n",
       "    .dataframe tbody tr th:only-of-type {\n",
       "        vertical-align: middle;\n",
       "    }\n",
       "\n",
       "    .dataframe tbody tr th {\n",
       "        vertical-align: top;\n",
       "    }\n",
       "\n",
       "    .dataframe thead th {\n",
       "        text-align: right;\n",
       "    }\n",
       "</style>\n",
       "<table border=\"1\" class=\"dataframe\">\n",
       "  <thead>\n",
       "    <tr style=\"text-align: right;\">\n",
       "      <th></th>\n",
       "      <th>agency_cd</th>\n",
       "      <th>site_no</th>\n",
       "      <th>station_nm</th>\n",
       "      <th>site_tp_cd</th>\n",
       "      <th>lat_va</th>\n",
       "      <th>long_va</th>\n",
       "      <th>dec_lat_va</th>\n",
       "      <th>dec_long_va</th>\n",
       "      <th>coord_meth_cd</th>\n",
       "      <th>coord_acy_cd</th>\n",
       "      <th>...</th>\n",
       "      <th>reliability_cd</th>\n",
       "      <th>gw_file_cd</th>\n",
       "      <th>nat_aqfr_cd</th>\n",
       "      <th>aqfr_cd</th>\n",
       "      <th>aqfr_type_cd</th>\n",
       "      <th>well_depth_va</th>\n",
       "      <th>hole_depth_va</th>\n",
       "      <th>depth_src_cd</th>\n",
       "      <th>project_no</th>\n",
       "      <th>geometry</th>\n",
       "    </tr>\n",
       "  </thead>\n",
       "  <tbody>\n",
       "    <tr>\n",
       "      <th>0</th>\n",
       "      <td>USGS</td>\n",
       "      <td>413104087440001</td>\n",
       "      <td>RAIN GAGE AT MATTESON, IL</td>\n",
       "      <td>AT</td>\n",
       "      <td>413104</td>\n",
       "      <td>874400</td>\n",
       "      <td>41.517778</td>\n",
       "      <td>-87.733333</td>\n",
       "      <td>N</td>\n",
       "      <td>S</td>\n",
       "      <td>...</td>\n",
       "      <td>NaN</td>\n",
       "      <td>NaN</td>\n",
       "      <td>NaN</td>\n",
       "      <td>NaN</td>\n",
       "      <td>NaN</td>\n",
       "      <td>NaN</td>\n",
       "      <td>NaN</td>\n",
       "      <td>NaN</td>\n",
       "      <td>CAWS0</td>\n",
       "      <td>POINT (-87.73333 41.51778)</td>\n",
       "    </tr>\n",
       "    <tr>\n",
       "      <th>1</th>\n",
       "      <td>USGS</td>\n",
       "      <td>413510087380201</td>\n",
       "      <td>RAIN GAGE AT HARVEY, IL</td>\n",
       "      <td>AT</td>\n",
       "      <td>413510</td>\n",
       "      <td>873802</td>\n",
       "      <td>41.586111</td>\n",
       "      <td>-87.633889</td>\n",
       "      <td>N</td>\n",
       "      <td>S</td>\n",
       "      <td>...</td>\n",
       "      <td>NaN</td>\n",
       "      <td>NaN</td>\n",
       "      <td>NaN</td>\n",
       "      <td>NaN</td>\n",
       "      <td>NaN</td>\n",
       "      <td>NaN</td>\n",
       "      <td>NaN</td>\n",
       "      <td>NaN</td>\n",
       "      <td>CAWS00</td>\n",
       "      <td>POINT (-87.63389 41.58611)</td>\n",
       "    </tr>\n",
       "    <tr>\n",
       "      <th>2</th>\n",
       "      <td>USGS</td>\n",
       "      <td>413516087442101</td>\n",
       "      <td>RAIN GAGE AT OAK FOREST, IL</td>\n",
       "      <td>AT</td>\n",
       "      <td>413516</td>\n",
       "      <td>874421</td>\n",
       "      <td>41.587778</td>\n",
       "      <td>-87.739167</td>\n",
       "      <td>N</td>\n",
       "      <td>S</td>\n",
       "      <td>...</td>\n",
       "      <td>NaN</td>\n",
       "      <td>NaN</td>\n",
       "      <td>NaN</td>\n",
       "      <td>NaN</td>\n",
       "      <td>NaN</td>\n",
       "      <td>NaN</td>\n",
       "      <td>NaN</td>\n",
       "      <td>NaN</td>\n",
       "      <td>CAWS00</td>\n",
       "      <td>POINT (-87.73917 41.58778)</td>\n",
       "    </tr>\n",
       "    <tr>\n",
       "      <th>3</th>\n",
       "      <td>USGS</td>\n",
       "      <td>413548087395901</td>\n",
       "      <td>RAIN GAGE AT CALUMET UNION DR CANAL NR MARKHAM...</td>\n",
       "      <td>AT</td>\n",
       "      <td>413548</td>\n",
       "      <td>873959</td>\n",
       "      <td>41.596667</td>\n",
       "      <td>-87.666389</td>\n",
       "      <td>M</td>\n",
       "      <td>S</td>\n",
       "      <td>...</td>\n",
       "      <td>NaN</td>\n",
       "      <td>NaN</td>\n",
       "      <td>NaN</td>\n",
       "      <td>NaN</td>\n",
       "      <td>NaN</td>\n",
       "      <td>NaN</td>\n",
       "      <td>NaN</td>\n",
       "      <td>NaN</td>\n",
       "      <td>001UM</td>\n",
       "      <td>POINT (-87.66639 41.59667)</td>\n",
       "    </tr>\n",
       "    <tr>\n",
       "      <th>4</th>\n",
       "      <td>USGS</td>\n",
       "      <td>414028087383501</td>\n",
       "      <td>RAIN GAGE AT WEST PULLMAN AT CHICAGO, IL</td>\n",
       "      <td>AT</td>\n",
       "      <td>414028</td>\n",
       "      <td>873835</td>\n",
       "      <td>41.674444</td>\n",
       "      <td>-87.643056</td>\n",
       "      <td>N</td>\n",
       "      <td>S</td>\n",
       "      <td>...</td>\n",
       "      <td>NaN</td>\n",
       "      <td>NaN</td>\n",
       "      <td>NaN</td>\n",
       "      <td>NaN</td>\n",
       "      <td>NaN</td>\n",
       "      <td>NaN</td>\n",
       "      <td>NaN</td>\n",
       "      <td>NaN</td>\n",
       "      <td>001CC</td>\n",
       "      <td>POINT (-87.64306 41.67444)</td>\n",
       "    </tr>\n",
       "    <tr>\n",
       "      <th>5</th>\n",
       "      <td>USGS</td>\n",
       "      <td>414030087450001</td>\n",
       "      <td>RAIN GAGE AT ALSIP, IL</td>\n",
       "      <td>AT</td>\n",
       "      <td>414030</td>\n",
       "      <td>874500</td>\n",
       "      <td>41.675000</td>\n",
       "      <td>-87.750000</td>\n",
       "      <td>N</td>\n",
       "      <td>S</td>\n",
       "      <td>...</td>\n",
       "      <td>NaN</td>\n",
       "      <td>NaN</td>\n",
       "      <td>NaN</td>\n",
       "      <td>NaN</td>\n",
       "      <td>NaN</td>\n",
       "      <td>NaN</td>\n",
       "      <td>NaN</td>\n",
       "      <td>NaN</td>\n",
       "      <td>CAWS00</td>\n",
       "      <td>POINT (-87.75 41.675)</td>\n",
       "    </tr>\n",
       "    <tr>\n",
       "      <th>6</th>\n",
       "      <td>USGS</td>\n",
       "      <td>415755087525300</td>\n",
       "      <td>OHARE AIRPORT AT CHICAGO, IL</td>\n",
       "      <td>AT</td>\n",
       "      <td>415755</td>\n",
       "      <td>875253</td>\n",
       "      <td>41.965308</td>\n",
       "      <td>-87.881453</td>\n",
       "      <td>M</td>\n",
       "      <td>S</td>\n",
       "      <td>...</td>\n",
       "      <td>NaN</td>\n",
       "      <td>NNNNNNNN</td>\n",
       "      <td>NaN</td>\n",
       "      <td>NaN</td>\n",
       "      <td>NaN</td>\n",
       "      <td>NaN</td>\n",
       "      <td>NaN</td>\n",
       "      <td>NaN</td>\n",
       "      <td>11303</td>\n",
       "      <td>POINT (-87.88145 41.96531)</td>\n",
       "    </tr>\n",
       "  </tbody>\n",
       "</table>\n",
       "<p>7 rows × 43 columns</p>\n",
       "</div>"
      ],
      "text/plain": [
       "  agency_cd          site_no  \\\n",
       "0      USGS  413104087440001   \n",
       "1      USGS  413510087380201   \n",
       "2      USGS  413516087442101   \n",
       "3      USGS  413548087395901   \n",
       "4      USGS  414028087383501   \n",
       "5      USGS  414030087450001   \n",
       "6      USGS  415755087525300   \n",
       "\n",
       "                                          station_nm site_tp_cd  lat_va  \\\n",
       "0                          RAIN GAGE AT MATTESON, IL         AT  413104   \n",
       "1                            RAIN GAGE AT HARVEY, IL         AT  413510   \n",
       "2                        RAIN GAGE AT OAK FOREST, IL         AT  413516   \n",
       "3  RAIN GAGE AT CALUMET UNION DR CANAL NR MARKHAM...         AT  413548   \n",
       "4           RAIN GAGE AT WEST PULLMAN AT CHICAGO, IL         AT  414028   \n",
       "5                             RAIN GAGE AT ALSIP, IL         AT  414030   \n",
       "6                       OHARE AIRPORT AT CHICAGO, IL         AT  415755   \n",
       "\n",
       "   long_va  dec_lat_va  dec_long_va coord_meth_cd coord_acy_cd  ...  \\\n",
       "0   874400   41.517778   -87.733333             N            S  ...   \n",
       "1   873802   41.586111   -87.633889             N            S  ...   \n",
       "2   874421   41.587778   -87.739167             N            S  ...   \n",
       "3   873959   41.596667   -87.666389             M            S  ...   \n",
       "4   873835   41.674444   -87.643056             N            S  ...   \n",
       "5   874500   41.675000   -87.750000             N            S  ...   \n",
       "6   875253   41.965308   -87.881453             M            S  ...   \n",
       "\n",
       "  reliability_cd gw_file_cd  nat_aqfr_cd  aqfr_cd  aqfr_type_cd well_depth_va  \\\n",
       "0            NaN        NaN          NaN      NaN           NaN           NaN   \n",
       "1            NaN        NaN          NaN      NaN           NaN           NaN   \n",
       "2            NaN        NaN          NaN      NaN           NaN           NaN   \n",
       "3            NaN        NaN          NaN      NaN           NaN           NaN   \n",
       "4            NaN        NaN          NaN      NaN           NaN           NaN   \n",
       "5            NaN        NaN          NaN      NaN           NaN           NaN   \n",
       "6            NaN   NNNNNNNN          NaN      NaN           NaN           NaN   \n",
       "\n",
       "  hole_depth_va depth_src_cd  project_no                    geometry  \n",
       "0           NaN          NaN       CAWS0  POINT (-87.73333 41.51778)  \n",
       "1           NaN          NaN      CAWS00  POINT (-87.63389 41.58611)  \n",
       "2           NaN          NaN      CAWS00  POINT (-87.73917 41.58778)  \n",
       "3           NaN          NaN       001UM  POINT (-87.66639 41.59667)  \n",
       "4           NaN          NaN       001CC  POINT (-87.64306 41.67444)  \n",
       "5           NaN          NaN      CAWS00       POINT (-87.75 41.675)  \n",
       "6           NaN          NaN       11303  POINT (-87.88145 41.96531)  \n",
       "\n",
       "[7 rows x 43 columns]"
      ]
     },
     "execution_count": 2,
     "metadata": {},
     "output_type": "execute_result"
    }
   ],
   "source": [
    "## USGS rain gage data\n",
    "\n",
    "usgs_data_path = Path(\"usgs/usgs_data.pkl\")\n",
    "\n",
    "with open(usgs_data_path, \"rb\") as f:\n",
    "    data = pickle.load(f)\n",
    "\n",
    "daily, df, site_info, pcodes = data.values()\n",
    "site_info"
   ]
  },
  {
   "cell_type": "code",
   "execution_count": null,
   "metadata": {},
   "outputs": [
    {
     "data": {
      "application/vnd.microsoft.datawrangler.viewer.v0+json": {
       "columns": [
        {
         "name": "index",
         "rawType": "int64",
         "type": "integer"
        },
        {
         "name": "parameter_cd",
         "rawType": "object",
         "type": "string"
        },
        {
         "name": "group",
         "rawType": "object",
         "type": "string"
        },
        {
         "name": "parm_nm",
         "rawType": "object",
         "type": "string"
        },
        {
         "name": "epa_equivalence",
         "rawType": "object",
         "type": "string"
        },
        {
         "name": "result_statistical_basis",
         "rawType": "float64",
         "type": "float"
        },
        {
         "name": "result_time_basis",
         "rawType": "float64",
         "type": "float"
        },
        {
         "name": "result_weight_basis",
         "rawType": "float64",
         "type": "float"
        },
        {
         "name": "result_particle_size_basis",
         "rawType": "float64",
         "type": "float"
        },
        {
         "name": "result_sample_fraction",
         "rawType": "float64",
         "type": "float"
        },
        {
         "name": "result_temperature_basis",
         "rawType": "float64",
         "type": "float"
        },
        {
         "name": "CASRN",
         "rawType": "object",
         "type": "string"
        },
        {
         "name": "SRSName",
         "rawType": "object",
         "type": "string"
        },
        {
         "name": "parm_unit",
         "rawType": "object",
         "type": "string"
        }
       ],
       "conversionMethod": "pd.DataFrame",
       "ref": "bf0018e1-4072-465b-83a6-29c29b7e3ce1",
       "rows": [
        [
         "0",
         "00020",
         "Physical",
         "Temperature, air, degrees Celsius",
         "Agree",
         null,
         null,
         null,
         null,
         null,
         null,
         " ",
         "Temperature, air, deg C",
         "deg C"
        ],
        [
         "0",
         "00045",
         "Physical",
         "Precipitation, total, inches",
         "Agree",
         null,
         null,
         null,
         null,
         null,
         null,
         " ",
         "Precipitation",
         "in"
        ]
       ],
       "shape": {
        "columns": 13,
        "rows": 2
       }
      },
      "text/html": [
       "<div>\n",
       "<style scoped>\n",
       "    .dataframe tbody tr th:only-of-type {\n",
       "        vertical-align: middle;\n",
       "    }\n",
       "\n",
       "    .dataframe tbody tr th {\n",
       "        vertical-align: top;\n",
       "    }\n",
       "\n",
       "    .dataframe thead th {\n",
       "        text-align: right;\n",
       "    }\n",
       "</style>\n",
       "<table border=\"1\" class=\"dataframe\">\n",
       "  <thead>\n",
       "    <tr style=\"text-align: right;\">\n",
       "      <th></th>\n",
       "      <th>parameter_cd</th>\n",
       "      <th>group</th>\n",
       "      <th>parm_nm</th>\n",
       "      <th>epa_equivalence</th>\n",
       "      <th>result_statistical_basis</th>\n",
       "      <th>result_time_basis</th>\n",
       "      <th>result_weight_basis</th>\n",
       "      <th>result_particle_size_basis</th>\n",
       "      <th>result_sample_fraction</th>\n",
       "      <th>result_temperature_basis</th>\n",
       "      <th>CASRN</th>\n",
       "      <th>SRSName</th>\n",
       "      <th>parm_unit</th>\n",
       "    </tr>\n",
       "  </thead>\n",
       "  <tbody>\n",
       "    <tr>\n",
       "      <th>0</th>\n",
       "      <td>00020</td>\n",
       "      <td>Physical</td>\n",
       "      <td>Temperature, air, degrees Celsius</td>\n",
       "      <td>Agree</td>\n",
       "      <td>NaN</td>\n",
       "      <td>NaN</td>\n",
       "      <td>NaN</td>\n",
       "      <td>NaN</td>\n",
       "      <td>NaN</td>\n",
       "      <td>NaN</td>\n",
       "      <td></td>\n",
       "      <td>Temperature, air, deg C</td>\n",
       "      <td>deg C</td>\n",
       "    </tr>\n",
       "    <tr>\n",
       "      <th>0</th>\n",
       "      <td>00045</td>\n",
       "      <td>Physical</td>\n",
       "      <td>Precipitation, total, inches</td>\n",
       "      <td>Agree</td>\n",
       "      <td>NaN</td>\n",
       "      <td>NaN</td>\n",
       "      <td>NaN</td>\n",
       "      <td>NaN</td>\n",
       "      <td>NaN</td>\n",
       "      <td>NaN</td>\n",
       "      <td></td>\n",
       "      <td>Precipitation</td>\n",
       "      <td>in</td>\n",
       "    </tr>\n",
       "  </tbody>\n",
       "</table>\n",
       "</div>"
      ],
      "text/plain": [
       "  parameter_cd     group                            parm_nm epa_equivalence  \\\n",
       "0        00020  Physical  Temperature, air, degrees Celsius           Agree   \n",
       "0        00045  Physical       Precipitation, total, inches           Agree   \n",
       "\n",
       "   result_statistical_basis  result_time_basis  result_weight_basis  \\\n",
       "0                       NaN                NaN                  NaN   \n",
       "0                       NaN                NaN                  NaN   \n",
       "\n",
       "   result_particle_size_basis  result_sample_fraction  \\\n",
       "0                         NaN                     NaN   \n",
       "0                         NaN                     NaN   \n",
       "\n",
       "   result_temperature_basis CASRN                  SRSName parm_unit  \n",
       "0                       NaN        Temperature, air, deg C     deg C  \n",
       "0                       NaN                  Precipitation        in  "
      ]
     },
     "metadata": {},
     "output_type": "display_data"
    }
   ],
   "source": [
    "pcodes"
   ]
  },
  {
   "cell_type": "code",
   "execution_count": 3,
   "metadata": {},
   "outputs": [
    {
     "data": {
      "text/plain": [
       "[PosixPath('timeseries/20210626/OHARE AIRPORT AT CHICAGO, IL.csv'),\n",
       " PosixPath('timeseries/20210626/RAIN GAGE AT ALSIP, IL.csv'),\n",
       " PosixPath('timeseries/20210626/RAIN GAGE AT CALUMET UNION DR CANAL NR MARKHAM, IL.csv'),\n",
       " PosixPath('timeseries/20210626/RAIN GAGE AT HARVEY, IL.csv'),\n",
       " PosixPath('timeseries/20210626/RAIN GAGE AT MATTESON, IL.csv'),\n",
       " PosixPath('timeseries/20210626/RAIN GAGE AT OAK FOREST, IL.csv'),\n",
       " PosixPath('timeseries/20210626/RAIN GAGE AT WEST PULLMAN AT CHICAGO, IL.csv')]"
      ]
     },
     "execution_count": 3,
     "metadata": {},
     "output_type": "execute_result"
    }
   ],
   "source": [
    "## Radar point query data\n",
    "\n",
    "DATE = \"20210626\"\n",
    "\n",
    "radar_pfiles = Path(f\"./timeseries/{DATE}\").glob(\"*.csv\")\n",
    "radar_pfiles = sorted(radar_pfiles)\n",
    "radar_pfiles"
   ]
  },
  {
   "cell_type": "code",
   "execution_count": 14,
   "metadata": {},
   "outputs": [],
   "source": [
    "start = pd.Timestamp(\"2021-06-26T00:00:00\", tz=\"UTC\")\n",
    "end = pd.Timestamp(\"2021-06-27T00:00:00\", tz=\"UTC\")"
   ]
  },
  {
   "cell_type": "code",
   "execution_count": null,
   "metadata": {},
   "outputs": [
    {
     "data": {
      "text/plain": [
       "'5.0'"
      ]
     },
     "execution_count": 87,
     "metadata": {},
     "output_type": "execute_result"
    }
   ],
   "source": [
    "str(tdelta_usgs.seconds / 60)"
   ]
  },
  {
   "cell_type": "code",
   "execution_count": null,
   "metadata": {},
   "outputs": [
    {
     "data": {
      "image/png": "[encoded data removed]",
      "text/plain": [
       "<Figure size 640x480 with 3 Axes>"
      ]
     },
     "metadata": {},
     "output_type": "display_data"
    },
    {
     "data": {
      "image/png": "[encoded data removed]",
      "text/plain": [
       "<Figure size 640x480 with 3 Axes>"
      ]
     },
     "metadata": {},
     "output_type": "display_data"
    },
    {
     "data": {
      "image/png": "[encoded data removed]",
      "text/plain": [
       "<Figure size 640x480 with 3 Axes>"
      ]
     },
     "metadata": {},
     "output_type": "display_data"
    },
    {
     "data": {
      "image/png": "[encoded data removed]",
      "text/plain": [
       "<Figure size 640x480 with 3 Axes>"
      ]
     },
     "metadata": {},
     "output_type": "display_data"
    },
    {
     "data": {
      "image/png": "[encoded data removed]",
      "text/plain": [
       "<Figure size 640x480 with 3 Axes>"
      ]
     },
     "metadata": {},
     "output_type": "display_data"
    },
    {
     "data": {
      "image/png": "[encoded data removed]",
      "text/plain": [
       "<Figure size 640x480 with 3 Axes>"
      ]
     },
     "metadata": {},
     "output_type": "display_data"
    },
    {
     "data": {
      "image/png": "[encoded data removed]",
      "text/plain": [
       "<Figure size 640x480 with 3 Axes>"
      ]
     },
     "metadata": {},
     "output_type": "display_data"
    }
   ],
   "source": [
    "import numpy as np\n",
    "\n",
    "\n",
    "for radar_pfile in radar_pfiles:\n",
    "    station_name = radar_pfile.stem\n",
    "    station_id = site_info.set_index(\"station_nm\").loc[station_name][\"site_no\"]\n",
    "\n",
    "    usgs_rain = df.xs(station_id).loc[start:end, \"00045\"]\n",
    "    tdelta_usgs = np.diff(usgs_rain.index)[0]\n",
    "    usgs_rain_mmhr = usgs_rain * 25.4 / (tdelta_usgs / pd.Timedelta(\"1h\"))  # from in to mm/hr\n",
    "\n",
    "    radar_rain = pd.read_csv(radar_pfile, index_col=0)\n",
    "    radar_rain.index = pd.to_datetime(radar_rain.index)\n",
    "\n",
    "    fig, axs = plt.subplots(3, 1, sharex=True, sharey=True, gridspec_kw={\"hspace\": 0.1})\n",
    "\n",
    "    ax = axs[0]\n",
    "    ax.set_title(\"MRMS Radar data\", fontsize=8, va=\"top\", y=0.9)\n",
    "    ax.bar(radar_rain.index, radar_rain[\"value\"], width=pd.Timedelta(\"1.8min\"))\n",
    "\n",
    "    ax = axs[1]\n",
    "    resampled = radar_rain.resample(tdelta_usgs).mean()\n",
    "    ax.set_title(f\"Resampled 2min -> {tdelta_usgs.seconds / 60}min\", fontsize=8, va=\"top\", y=0.9)\n",
    "    ax.bar(resampled.index, resampled[\"value\"], width=0.95 * tdelta_usgs)\n",
    "\n",
    "    ax = axs[2]\n",
    "    ax.set_title(f\"USGS Rain gage\\n{station_name}\", fontsize=8, va=\"top\", y=0.9)\n",
    "    ax.bar(usgs_rain.index, usgs_rain_mmhr, width=0.95 * tdelta_usgs)\n",
    "\n",
    "    for ax in axs:\n",
    "        ax.set_xlim(start, end)\n",
    "        ax.xaxis.set_major_locator(mdates.AutoDateLocator())\n",
    "        ax.xaxis.set_major_formatter(mdates.ConciseDateFormatter(ax.xaxis.get_major_locator()))\n",
    "        ax.spines.top.set_visible(False)\n",
    "        ax.spines.right.set_visible(False)\n",
    "    fig.supylabel(\"Precip Intensity [mm/h]\", fontsize=10, fontweight=300, x=0.05)\n",
    "    plt.show()\n"
   ]
  },
  {
   "cell_type": "code",
   "execution_count": 95,
   "metadata": {},
   "outputs": [
    {
     "data": {
      "text/plain": [
       "value    38.953333\n",
       "00045    22.860000\n",
       "dtype: float64"
      ]
     },
     "execution_count": 95,
     "metadata": {},
     "output_type": "execute_result"
    }
   ],
   "source": [
    "merged.max()"
   ]
  },
  {
   "cell_type": "code",
   "execution_count": 99,
   "metadata": {},
   "outputs": [
    {
     "data": {
      "application/vnd.microsoft.datawrangler.viewer.v0+json": {
       "columns": [
        {
         "name": "index",
         "rawType": "datetime64[ns, UTC]",
         "type": "unknown"
        },
        {
         "name": "value",
         "rawType": "float64",
         "type": "float"
        },
        {
         "name": "00045",
         "rawType": "float64",
         "type": "float"
        }
       ],
       "conversionMethod": "pd.DataFrame",
       "ref": "e0337bd4-64a9-4ee1-b02d-b8a07fa5ba14",
       "rows": [
        [
         "2021-06-26 00:00:00+00:00",
         "0.0",
         "0.0"
        ],
        [
         "2021-06-26 00:30:00+00:00",
         "0.0",
         "0.0"
        ],
        [
         "2021-06-26 01:00:00+00:00",
         "0.0",
         "0.0"
        ],
        [
         "2021-06-26 01:30:00+00:00",
         "0.020000000794728592",
         "0.0"
        ],
        [
         "2021-06-26 02:00:00+00:00",
         "0.0",
         "0.0"
        ],
        [
         "2021-06-26 02:30:00+00:00",
         "0.1599999984105428",
         "0.0"
        ],
        [
         "2021-06-26 03:00:00+00:00",
         "0.020000000794728592",
         "0.0"
        ],
        [
         "2021-06-26 03:30:00+00:00",
         "0.0",
         "0.0"
        ],
        [
         "2021-06-26 04:00:00+00:00",
         "0.0",
         "0.0"
        ],
        [
         "2021-06-26 04:30:00+00:00",
         "0.0",
         "0.0"
        ],
        [
         "2021-06-26 05:00:00+00:00",
         "0.0",
         "0.0"
        ],
        [
         "2021-06-26 05:30:00+00:00",
         "0.0",
         "0.0"
        ],
        [
         "2021-06-26 06:00:00+00:00",
         "0.74666668176651",
         "0.0"
        ],
        [
         "2021-06-26 06:30:00+00:00",
         "4.213333342472712",
         "1.016"
        ],
        [
         "2021-06-26 07:00:00+00:00",
         "6.133333285649617",
         "4.064"
        ],
        [
         "2021-06-26 07:30:00+00:00",
         "1.026666675011317",
         "1.016"
        ],
        [
         "2021-06-26 08:00:00+00:00",
         "0.6599999984105428",
         "0.0"
        ],
        [
         "2021-06-26 08:30:00+00:00",
         "0.12666666905085247",
         "0.508"
        ],
        [
         "2021-06-26 09:00:00+00:00",
         "0.08666666944821674",
         "0.0"
        ],
        [
         "2021-06-26 09:30:00+00:00",
         "0.026666667064030966",
         "0.0"
        ],
        [
         "2021-06-26 10:00:00+00:00",
         "0.0",
         "0.0"
        ],
        [
         "2021-06-26 10:30:00+00:00",
         "0.0",
         "0.0"
        ],
        [
         "2021-06-26 11:00:00+00:00",
         "0.0",
         "0.0"
        ],
        [
         "2021-06-26 11:30:00+00:00",
         "0.0",
         "0.0"
        ],
        [
         "2021-06-26 12:00:00+00:00",
         "3.706666580835978",
         "0.0"
        ],
        [
         "2021-06-26 12:30:00+00:00",
         "2.766666618982951",
         "3.048"
        ],
        [
         "2021-06-26 13:00:00+00:00",
         "0.4866666555404663",
         "1.524"
        ],
        [
         "2021-06-26 13:30:00+00:00",
         "0.0",
         "0.0"
        ],
        [
         "2021-06-26 14:00:00+00:00",
         "0.0",
         "0.0"
        ],
        [
         "2021-06-26 14:30:00+00:00",
         "0.0",
         "0.0"
        ],
        [
         "2021-06-26 15:00:00+00:00",
         "0.0",
         "0.0"
        ],
        [
         "2021-06-26 15:30:00+00:00",
         "0.32000001271565753",
         "0.0"
        ],
        [
         "2021-06-26 16:00:00+00:00",
         "7.746666717529297",
         "7.62"
        ],
        [
         "2021-06-26 16:30:00+00:00",
         "4.393333299954732",
         "13.716000000000001"
        ],
        [
         "2021-06-26 17:00:00+00:00",
         "3.1600000262260437",
         "3.556"
        ],
        [
         "2021-06-26 17:30:00+00:00",
         "0.3466666638851166",
         "3.0479999999999996"
        ],
        [
         "2021-06-26 18:00:00+00:00",
         "0.0",
         "0.0"
        ],
        [
         "2021-06-26 18:30:00+00:00",
         "0.0",
         "0.0"
        ],
        [
         "2021-06-26 19:00:00+00:00",
         "0.0",
         "0.508"
        ],
        [
         "2021-06-26 19:30:00+00:00",
         "0.0",
         "0.0"
        ],
        [
         "2021-06-26 20:00:00+00:00",
         "0.0",
         "0.0"
        ],
        [
         "2021-06-26 20:30:00+00:00",
         "0.0",
         "0.0"
        ],
        [
         "2021-06-26 21:00:00+00:00",
         "0.0",
         "0.0"
        ],
        [
         "2021-06-26 21:30:00+00:00",
         "0.0",
         "0.0"
        ],
        [
         "2021-06-26 22:00:00+00:00",
         "0.0",
         "0.0"
        ],
        [
         "2021-06-26 22:30:00+00:00",
         "0.0",
         "0.0"
        ],
        [
         "2021-06-26 23:00:00+00:00",
         "1.8199999749660491",
         "0.0"
        ],
        [
         "2021-06-26 23:30:00+00:00",
         "0.42000000476837157",
         "0.0"
        ],
        [
         "2021-06-27 00:00:00+00:00",
         null,
         "1.016"
        ]
       ],
       "shape": {
        "columns": 2,
        "rows": 49
       }
      },
      "text/html": [
       "<div>\n",
       "<style scoped>\n",
       "    .dataframe tbody tr th:only-of-type {\n",
       "        vertical-align: middle;\n",
       "    }\n",
       "\n",
       "    .dataframe tbody tr th {\n",
       "        vertical-align: top;\n",
       "    }\n",
       "\n",
       "    .dataframe thead th {\n",
       "        text-align: right;\n",
       "    }\n",
       "</style>\n",
       "<table border=\"1\" class=\"dataframe\">\n",
       "  <thead>\n",
       "    <tr style=\"text-align: right;\">\n",
       "      <th></th>\n",
       "      <th>value</th>\n",
       "      <th>00045</th>\n",
       "    </tr>\n",
       "  </thead>\n",
       "  <tbody>\n",
       "    <tr>\n",
       "      <th>2021-06-26 00:00:00+00:00</th>\n",
       "      <td>0.000000</td>\n",
       "      <td>0.000</td>\n",
       "    </tr>\n",
       "    <tr>\n",
       "      <th>2021-06-26 00:30:00+00:00</th>\n",
       "      <td>0.000000</td>\n",
       "      <td>0.000</td>\n",
       "    </tr>\n",
       "    <tr>\n",
       "      <th>2021-06-26 01:00:00+00:00</th>\n",
       "      <td>0.000000</td>\n",
       "      <td>0.000</td>\n",
       "    </tr>\n",
       "    <tr>\n",
       "      <th>2021-06-26 01:30:00+00:00</th>\n",
       "      <td>0.020000</td>\n",
       "      <td>0.000</td>\n",
       "    </tr>\n",
       "    <tr>\n",
       "      <th>2021-06-26 02:00:00+00:00</th>\n",
       "      <td>0.000000</td>\n",
       "      <td>0.000</td>\n",
       "    </tr>\n",
       "    <tr>\n",
       "      <th>2021-06-26 02:30:00+00:00</th>\n",
       "      <td>0.160000</td>\n",
       "      <td>0.000</td>\n",
       "    </tr>\n",
       "    <tr>\n",
       "      <th>2021-06-26 03:00:00+00:00</th>\n",
       "      <td>0.020000</td>\n",
       "      <td>0.000</td>\n",
       "    </tr>\n",
       "    <tr>\n",
       "      <th>2021-06-26 03:30:00+00:00</th>\n",
       "      <td>0.000000</td>\n",
       "      <td>0.000</td>\n",
       "    </tr>\n",
       "    <tr>\n",
       "      <th>2021-06-26 04:00:00+00:00</th>\n",
       "      <td>0.000000</td>\n",
       "      <td>0.000</td>\n",
       "    </tr>\n",
       "    <tr>\n",
       "      <th>2021-06-26 04:30:00+00:00</th>\n",
       "      <td>0.000000</td>\n",
       "      <td>0.000</td>\n",
       "    </tr>\n",
       "    <tr>\n",
       "      <th>2021-06-26 05:00:00+00:00</th>\n",
       "      <td>0.000000</td>\n",
       "      <td>0.000</td>\n",
       "    </tr>\n",
       "    <tr>\n",
       "      <th>2021-06-26 05:30:00+00:00</th>\n",
       "      <td>0.000000</td>\n",
       "      <td>0.000</td>\n",
       "    </tr>\n",
       "    <tr>\n",
       "      <th>2021-06-26 06:00:00+00:00</th>\n",
       "      <td>0.746667</td>\n",
       "      <td>0.000</td>\n",
       "    </tr>\n",
       "    <tr>\n",
       "      <th>2021-06-26 06:30:00+00:00</th>\n",
       "      <td>4.213333</td>\n",
       "      <td>1.016</td>\n",
       "    </tr>\n",
       "    <tr>\n",
       "      <th>2021-06-26 07:00:00+00:00</th>\n",
       "      <td>6.133333</td>\n",
       "      <td>4.064</td>\n",
       "    </tr>\n",
       "    <tr>\n",
       "      <th>2021-06-26 07:30:00+00:00</th>\n",
       "      <td>1.026667</td>\n",
       "      <td>1.016</td>\n",
       "    </tr>\n",
       "    <tr>\n",
       "      <th>2021-06-26 08:00:00+00:00</th>\n",
       "      <td>0.660000</td>\n",
       "      <td>0.000</td>\n",
       "    </tr>\n",
       "    <tr>\n",
       "      <th>2021-06-26 08:30:00+00:00</th>\n",
       "      <td>0.126667</td>\n",
       "      <td>0.508</td>\n",
       "    </tr>\n",
       "    <tr>\n",
       "      <th>2021-06-26 09:00:00+00:00</th>\n",
       "      <td>0.086667</td>\n",
       "      <td>0.000</td>\n",
       "    </tr>\n",
       "    <tr>\n",
       "      <th>2021-06-26 09:30:00+00:00</th>\n",
       "      <td>0.026667</td>\n",
       "      <td>0.000</td>\n",
       "    </tr>\n",
       "    <tr>\n",
       "      <th>2021-06-26 10:00:00+00:00</th>\n",
       "      <td>0.000000</td>\n",
       "      <td>0.000</td>\n",
       "    </tr>\n",
       "    <tr>\n",
       "      <th>2021-06-26 10:30:00+00:00</th>\n",
       "      <td>0.000000</td>\n",
       "      <td>0.000</td>\n",
       "    </tr>\n",
       "    <tr>\n",
       "      <th>2021-06-26 11:00:00+00:00</th>\n",
       "      <td>0.000000</td>\n",
       "      <td>0.000</td>\n",
       "    </tr>\n",
       "    <tr>\n",
       "      <th>2021-06-26 11:30:00+00:00</th>\n",
       "      <td>0.000000</td>\n",
       "      <td>0.000</td>\n",
       "    </tr>\n",
       "    <tr>\n",
       "      <th>2021-06-26 12:00:00+00:00</th>\n",
       "      <td>3.706667</td>\n",
       "      <td>0.000</td>\n",
       "    </tr>\n",
       "    <tr>\n",
       "      <th>2021-06-26 12:30:00+00:00</th>\n",
       "      <td>2.766667</td>\n",
       "      <td>3.048</td>\n",
       "    </tr>\n",
       "    <tr>\n",
       "      <th>2021-06-26 13:00:00+00:00</th>\n",
       "      <td>0.486667</td>\n",
       "      <td>1.524</td>\n",
       "    </tr>\n",
       "    <tr>\n",
       "      <th>2021-06-26 13:30:00+00:00</th>\n",
       "      <td>0.000000</td>\n",
       "      <td>0.000</td>\n",
       "    </tr>\n",
       "    <tr>\n",
       "      <th>2021-06-26 14:00:00+00:00</th>\n",
       "      <td>0.000000</td>\n",
       "      <td>0.000</td>\n",
       "    </tr>\n",
       "    <tr>\n",
       "      <th>2021-06-26 14:30:00+00:00</th>\n",
       "      <td>0.000000</td>\n",
       "      <td>0.000</td>\n",
       "    </tr>\n",
       "    <tr>\n",
       "      <th>2021-06-26 15:00:00+00:00</th>\n",
       "      <td>0.000000</td>\n",
       "      <td>0.000</td>\n",
       "    </tr>\n",
       "    <tr>\n",
       "      <th>2021-06-26 15:30:00+00:00</th>\n",
       "      <td>0.320000</td>\n",
       "      <td>0.000</td>\n",
       "    </tr>\n",
       "    <tr>\n",
       "      <th>2021-06-26 16:00:00+00:00</th>\n",
       "      <td>7.746667</td>\n",
       "      <td>7.620</td>\n",
       "    </tr>\n",
       "    <tr>\n",
       "      <th>2021-06-26 16:30:00+00:00</th>\n",
       "      <td>4.393333</td>\n",
       "      <td>13.716</td>\n",
       "    </tr>\n",
       "    <tr>\n",
       "      <th>2021-06-26 17:00:00+00:00</th>\n",
       "      <td>3.160000</td>\n",
       "      <td>3.556</td>\n",
       "    </tr>\n",
       "    <tr>\n",
       "      <th>2021-06-26 17:30:00+00:00</th>\n",
       "      <td>0.346667</td>\n",
       "      <td>3.048</td>\n",
       "    </tr>\n",
       "    <tr>\n",
       "      <th>2021-06-26 18:00:00+00:00</th>\n",
       "      <td>0.000000</td>\n",
       "      <td>0.000</td>\n",
       "    </tr>\n",
       "    <tr>\n",
       "      <th>2021-06-26 18:30:00+00:00</th>\n",
       "      <td>0.000000</td>\n",
       "      <td>0.000</td>\n",
       "    </tr>\n",
       "    <tr>\n",
       "      <th>2021-06-26 19:00:00+00:00</th>\n",
       "      <td>0.000000</td>\n",
       "      <td>0.508</td>\n",
       "    </tr>\n",
       "    <tr>\n",
       "      <th>2021-06-26 19:30:00+00:00</th>\n",
       "      <td>0.000000</td>\n",
       "      <td>0.000</td>\n",
       "    </tr>\n",
       "    <tr>\n",
       "      <th>2021-06-26 20:00:00+00:00</th>\n",
       "      <td>0.000000</td>\n",
       "      <td>0.000</td>\n",
       "    </tr>\n",
       "    <tr>\n",
       "      <th>2021-06-26 20:30:00+00:00</th>\n",
       "      <td>0.000000</td>\n",
       "      <td>0.000</td>\n",
       "    </tr>\n",
       "    <tr>\n",
       "      <th>2021-06-26 21:00:00+00:00</th>\n",
       "      <td>0.000000</td>\n",
       "      <td>0.000</td>\n",
       "    </tr>\n",
       "    <tr>\n",
       "      <th>2021-06-26 21:30:00+00:00</th>\n",
       "      <td>0.000000</td>\n",
       "      <td>0.000</td>\n",
       "    </tr>\n",
       "    <tr>\n",
       "      <th>2021-06-26 22:00:00+00:00</th>\n",
       "      <td>0.000000</td>\n",
       "      <td>0.000</td>\n",
       "    </tr>\n",
       "    <tr>\n",
       "      <th>2021-06-26 22:30:00+00:00</th>\n",
       "      <td>0.000000</td>\n",
       "      <td>0.000</td>\n",
       "    </tr>\n",
       "    <tr>\n",
       "      <th>2021-06-26 23:00:00+00:00</th>\n",
       "      <td>1.820000</td>\n",
       "      <td>0.000</td>\n",
       "    </tr>\n",
       "    <tr>\n",
       "      <th>2021-06-26 23:30:00+00:00</th>\n",
       "      <td>0.420000</td>\n",
       "      <td>0.000</td>\n",
       "    </tr>\n",
       "    <tr>\n",
       "      <th>2021-06-27 00:00:00+00:00</th>\n",
       "      <td>NaN</td>\n",
       "      <td>1.016</td>\n",
       "    </tr>\n",
       "  </tbody>\n",
       "</table>\n",
       "</div>"
      ],
      "text/plain": [
       "                              value   00045\n",
       "2021-06-26 00:00:00+00:00  0.000000   0.000\n",
       "2021-06-26 00:30:00+00:00  0.000000   0.000\n",
       "2021-06-26 01:00:00+00:00  0.000000   0.000\n",
       "2021-06-26 01:30:00+00:00  0.020000   0.000\n",
       "2021-06-26 02:00:00+00:00  0.000000   0.000\n",
       "2021-06-26 02:30:00+00:00  0.160000   0.000\n",
       "2021-06-26 03:00:00+00:00  0.020000   0.000\n",
       "2021-06-26 03:30:00+00:00  0.000000   0.000\n",
       "2021-06-26 04:00:00+00:00  0.000000   0.000\n",
       "2021-06-26 04:30:00+00:00  0.000000   0.000\n",
       "2021-06-26 05:00:00+00:00  0.000000   0.000\n",
       "2021-06-26 05:30:00+00:00  0.000000   0.000\n",
       "2021-06-26 06:00:00+00:00  0.746667   0.000\n",
       "2021-06-26 06:30:00+00:00  4.213333   1.016\n",
       "2021-06-26 07:00:00+00:00  6.133333   4.064\n",
       "2021-06-26 07:30:00+00:00  1.026667   1.016\n",
       "2021-06-26 08:00:00+00:00  0.660000   0.000\n",
       "2021-06-26 08:30:00+00:00  0.126667   0.508\n",
       "2021-06-26 09:00:00+00:00  0.086667   0.000\n",
       "2021-06-26 09:30:00+00:00  0.026667   0.000\n",
       "2021-06-26 10:00:00+00:00  0.000000   0.000\n",
       "2021-06-26 10:30:00+00:00  0.000000   0.000\n",
       "2021-06-26 11:00:00+00:00  0.000000   0.000\n",
       "2021-06-26 11:30:00+00:00  0.000000   0.000\n",
       "2021-06-26 12:00:00+00:00  3.706667   0.000\n",
       "2021-06-26 12:30:00+00:00  2.766667   3.048\n",
       "2021-06-26 13:00:00+00:00  0.486667   1.524\n",
       "2021-06-26 13:30:00+00:00  0.000000   0.000\n",
       "2021-06-26 14:00:00+00:00  0.000000   0.000\n",
       "2021-06-26 14:30:00+00:00  0.000000   0.000\n",
       "2021-06-26 15:00:00+00:00  0.000000   0.000\n",
       "2021-06-26 15:30:00+00:00  0.320000   0.000\n",
       "2021-06-26 16:00:00+00:00  7.746667   7.620\n",
       "2021-06-26 16:30:00+00:00  4.393333  13.716\n",
       "2021-06-26 17:00:00+00:00  3.160000   3.556\n",
       "2021-06-26 17:30:00+00:00  0.346667   3.048\n",
       "2021-06-26 18:00:00+00:00  0.000000   0.000\n",
       "2021-06-26 18:30:00+00:00  0.000000   0.000\n",
       "2021-06-26 19:00:00+00:00  0.000000   0.508\n",
       "2021-06-26 19:30:00+00:00  0.000000   0.000\n",
       "2021-06-26 20:00:00+00:00  0.000000   0.000\n",
       "2021-06-26 20:30:00+00:00  0.000000   0.000\n",
       "2021-06-26 21:00:00+00:00  0.000000   0.000\n",
       "2021-06-26 21:30:00+00:00  0.000000   0.000\n",
       "2021-06-26 22:00:00+00:00  0.000000   0.000\n",
       "2021-06-26 22:30:00+00:00  0.000000   0.000\n",
       "2021-06-26 23:00:00+00:00  1.820000   0.000\n",
       "2021-06-26 23:30:00+00:00  0.420000   0.000\n",
       "2021-06-27 00:00:00+00:00       NaN   1.016"
      ]
     },
     "metadata": {},
     "output_type": "display_data"
    },
    {
     "data": {
      "image/png": "[encoded data removed]",
      "text/plain": [
       "<Figure size 640x480 with 1 Axes>"
      ]
     },
     "metadata": {},
     "output_type": "display_data"
    },
    {
     "data": {
      "application/vnd.microsoft.datawrangler.viewer.v0+json": {
       "columns": [
        {
         "name": "index",
         "rawType": "datetime64[ns, UTC]",
         "type": "unknown"
        },
        {
         "name": "value",
         "rawType": "float64",
         "type": "float"
        },
        {
         "name": "00045",
         "rawType": "float64",
         "type": "float"
        }
       ],
       "conversionMethod": "pd.DataFrame",
       "ref": "61d60e0c-c270-43f1-8ff5-c6a92279bf8c",
       "rows": [
        [
         "2021-06-26 00:00:00+00:00",
         "0.0",
         "0.0"
        ],
        [
         "2021-06-26 00:30:00+00:00",
         "0.0",
         "0.0"
        ],
        [
         "2021-06-26 01:00:00+00:00",
         "0.0",
         "0.0"
        ],
        [
         "2021-06-26 01:30:00+00:00",
         "0.0",
         "0.0"
        ],
        [
         "2021-06-26 02:00:00+00:00",
         "0.0",
         "0.0"
        ],
        [
         "2021-06-26 02:30:00+00:00",
         "0.0",
         "0.0"
        ],
        [
         "2021-06-26 03:00:00+00:00",
         "0.0",
         "0.0"
        ],
        [
         "2021-06-26 03:30:00+00:00",
         "0.0",
         "0.0"
        ],
        [
         "2021-06-26 04:00:00+00:00",
         "0.0",
         "0.0"
        ],
        [
         "2021-06-26 04:30:00+00:00",
         "0.0",
         "0.0"
        ],
        [
         "2021-06-26 05:00:00+00:00",
         "0.3933333416779836",
         "0.0"
        ],
        [
         "2021-06-26 05:30:00+00:00",
         "6.373333386580149",
         "9.652000000000001"
        ],
        [
         "2021-06-26 06:00:00+00:00",
         "1.0600000222524006",
         "0.508"
        ],
        [
         "2021-06-26 06:30:00+00:00",
         "0.3599999984105428",
         "0.0"
        ],
        [
         "2021-06-26 07:00:00+00:00",
         "0.3800000051657359",
         "0.0"
        ],
        [
         "2021-06-26 07:30:00+00:00",
         "1.02666667898496",
         "0.0"
        ],
        [
         "2021-06-26 08:00:00+00:00",
         "0.23333333532015482",
         "0.0"
        ],
        [
         "2021-06-26 08:30:00+00:00",
         "0.0",
         "0.0"
        ],
        [
         "2021-06-26 09:00:00+00:00",
         "0.0",
         "0.0"
        ],
        [
         "2021-06-26 09:30:00+00:00",
         "0.0",
         "0.0"
        ],
        [
         "2021-06-26 10:00:00+00:00",
         "0.0",
         "0.0"
        ],
        [
         "2021-06-26 10:30:00+00:00",
         "0.0",
         "0.0"
        ],
        [
         "2021-06-26 11:00:00+00:00",
         "0.699999992052714",
         "0.0"
        ],
        [
         "2021-06-26 11:30:00+00:00",
         "8.393333327770232",
         "14.0208"
        ],
        [
         "2021-06-26 12:00:00+00:00",
         "9.63333322207133",
         "4.064"
        ],
        [
         "2021-06-26 12:30:00+00:00",
         "1.7800000111262004",
         "2.032"
        ],
        [
         "2021-06-26 13:00:00+00:00",
         "0.1200000007947286",
         "0.0"
        ],
        [
         "2021-06-26 13:30:00+00:00",
         "0.0",
         "0.0"
        ],
        [
         "2021-06-26 14:00:00+00:00",
         "0.0",
         "0.0"
        ],
        [
         "2021-06-26 14:30:00+00:00",
         "0.0",
         "0.0"
        ],
        [
         "2021-06-26 15:00:00+00:00",
         "0.0",
         "0.0"
        ],
        [
         "2021-06-26 15:30:00+00:00",
         "0.0",
         "0.0"
        ],
        [
         "2021-06-26 16:00:00+00:00",
         "0.0",
         "0.0"
        ],
        [
         "2021-06-26 16:30:00+00:00",
         "0.0",
         "0.0"
        ],
        [
         "2021-06-26 17:00:00+00:00",
         "0.0",
         "0.0"
        ],
        [
         "2021-06-26 17:30:00+00:00",
         "7.299999936421712",
         "2.54"
        ],
        [
         "2021-06-26 18:00:00+00:00",
         "2.913333296775818",
         "4.572"
        ],
        [
         "2021-06-26 18:30:00+00:00",
         "0.4928571326392038",
         "0.508"
        ],
        [
         "2021-06-26 19:00:00+00:00",
         "0.0",
         "0.0"
        ],
        [
         "2021-06-26 19:30:00+00:00",
         "0.9466666718324025",
         "0.0"
        ],
        [
         "2021-06-26 20:00:00+00:00",
         "0.10666667024294534",
         "0.508"
        ],
        [
         "2021-06-26 20:30:00+00:00",
         "1.1799999713897704",
         "0.0"
        ],
        [
         "2021-06-26 21:00:00+00:00",
         "20.859999704360963",
         "29.464000000000002"
        ],
        [
         "2021-06-26 21:30:00+00:00",
         "9.33333322207133",
         "8.636000000000001"
        ],
        [
         "2021-06-26 22:00:00+00:00",
         "5.614285698958805",
         "2.54"
        ],
        [
         "2021-06-26 22:30:00+00:00",
         "8.080000066757203",
         "3.048"
        ],
        [
         "2021-06-26 23:00:00+00:00",
         "3.1533333539962767",
         "1.524"
        ],
        [
         "2021-06-26 23:30:00+00:00",
         "0.3666666686534882",
         "0.0"
        ],
        [
         "2021-06-27 00:00:00+00:00",
         null,
         "0.0"
        ]
       ],
       "shape": {
        "columns": 2,
        "rows": 49
       }
      },
      "text/html": [
       "<div>\n",
       "<style scoped>\n",
       "    .dataframe tbody tr th:only-of-type {\n",
       "        vertical-align: middle;\n",
       "    }\n",
       "\n",
       "    .dataframe tbody tr th {\n",
       "        vertical-align: top;\n",
       "    }\n",
       "\n",
       "    .dataframe thead th {\n",
       "        text-align: right;\n",
       "    }\n",
       "</style>\n",
       "<table border=\"1\" class=\"dataframe\">\n",
       "  <thead>\n",
       "    <tr style=\"text-align: right;\">\n",
       "      <th></th>\n",
       "      <th>value</th>\n",
       "      <th>00045</th>\n",
       "    </tr>\n",
       "  </thead>\n",
       "  <tbody>\n",
       "    <tr>\n",
       "      <th>2021-06-26 00:00:00+00:00</th>\n",
       "      <td>0.000000</td>\n",
       "      <td>0.0000</td>\n",
       "    </tr>\n",
       "    <tr>\n",
       "      <th>2021-06-26 00:30:00+00:00</th>\n",
       "      <td>0.000000</td>\n",
       "      <td>0.0000</td>\n",
       "    </tr>\n",
       "    <tr>\n",
       "      <th>2021-06-26 01:00:00+00:00</th>\n",
       "      <td>0.000000</td>\n",
       "      <td>0.0000</td>\n",
       "    </tr>\n",
       "    <tr>\n",
       "      <th>2021-06-26 01:30:00+00:00</th>\n",
       "      <td>0.000000</td>\n",
       "      <td>0.0000</td>\n",
       "    </tr>\n",
       "    <tr>\n",
       "      <th>2021-06-26 02:00:00+00:00</th>\n",
       "      <td>0.000000</td>\n",
       "      <td>0.0000</td>\n",
       "    </tr>\n",
       "    <tr>\n",
       "      <th>2021-06-26 02:30:00+00:00</th>\n",
       "      <td>0.000000</td>\n",
       "      <td>0.0000</td>\n",
       "    </tr>\n",
       "    <tr>\n",
       "      <th>2021-06-26 03:00:00+00:00</th>\n",
       "      <td>0.000000</td>\n",
       "      <td>0.0000</td>\n",
       "    </tr>\n",
       "    <tr>\n",
       "      <th>2021-06-26 03:30:00+00:00</th>\n",
       "      <td>0.000000</td>\n",
       "      <td>0.0000</td>\n",
       "    </tr>\n",
       "    <tr>\n",
       "      <th>2021-06-26 04:00:00+00:00</th>\n",
       "      <td>0.000000</td>\n",
       "      <td>0.0000</td>\n",
       "    </tr>\n",
       "    <tr>\n",
       "      <th>2021-06-26 04:30:00+00:00</th>\n",
       "      <td>0.000000</td>\n",
       "      <td>0.0000</td>\n",
       "    </tr>\n",
       "    <tr>\n",
       "      <th>2021-06-26 05:00:00+00:00</th>\n",
       "      <td>0.393333</td>\n",
       "      <td>0.0000</td>\n",
       "    </tr>\n",
       "    <tr>\n",
       "      <th>2021-06-26 05:30:00+00:00</th>\n",
       "      <td>6.373333</td>\n",
       "      <td>9.6520</td>\n",
       "    </tr>\n",
       "    <tr>\n",
       "      <th>2021-06-26 06:00:00+00:00</th>\n",
       "      <td>1.060000</td>\n",
       "      <td>0.5080</td>\n",
       "    </tr>\n",
       "    <tr>\n",
       "      <th>2021-06-26 06:30:00+00:00</th>\n",
       "      <td>0.360000</td>\n",
       "      <td>0.0000</td>\n",
       "    </tr>\n",
       "    <tr>\n",
       "      <th>2021-06-26 07:00:00+00:00</th>\n",
       "      <td>0.380000</td>\n",
       "      <td>0.0000</td>\n",
       "    </tr>\n",
       "    <tr>\n",
       "      <th>2021-06-26 07:30:00+00:00</th>\n",
       "      <td>1.026667</td>\n",
       "      <td>0.0000</td>\n",
       "    </tr>\n",
       "    <tr>\n",
       "      <th>2021-06-26 08:00:00+00:00</th>\n",
       "      <td>0.233333</td>\n",
       "      <td>0.0000</td>\n",
       "    </tr>\n",
       "    <tr>\n",
       "      <th>2021-06-26 08:30:00+00:00</th>\n",
       "      <td>0.000000</td>\n",
       "      <td>0.0000</td>\n",
       "    </tr>\n",
       "    <tr>\n",
       "      <th>2021-06-26 09:00:00+00:00</th>\n",
       "      <td>0.000000</td>\n",
       "      <td>0.0000</td>\n",
       "    </tr>\n",
       "    <tr>\n",
       "      <th>2021-06-26 09:30:00+00:00</th>\n",
       "      <td>0.000000</td>\n",
       "      <td>0.0000</td>\n",
       "    </tr>\n",
       "    <tr>\n",
       "      <th>2021-06-26 10:00:00+00:00</th>\n",
       "      <td>0.000000</td>\n",
       "      <td>0.0000</td>\n",
       "    </tr>\n",
       "    <tr>\n",
       "      <th>2021-06-26 10:30:00+00:00</th>\n",
       "      <td>0.000000</td>\n",
       "      <td>0.0000</td>\n",
       "    </tr>\n",
       "    <tr>\n",
       "      <th>2021-06-26 11:00:00+00:00</th>\n",
       "      <td>0.700000</td>\n",
       "      <td>0.0000</td>\n",
       "    </tr>\n",
       "    <tr>\n",
       "      <th>2021-06-26 11:30:00+00:00</th>\n",
       "      <td>8.393333</td>\n",
       "      <td>14.0208</td>\n",
       "    </tr>\n",
       "    <tr>\n",
       "      <th>2021-06-26 12:00:00+00:00</th>\n",
       "      <td>9.633333</td>\n",
       "      <td>4.0640</td>\n",
       "    </tr>\n",
       "    <tr>\n",
       "      <th>2021-06-26 12:30:00+00:00</th>\n",
       "      <td>1.780000</td>\n",
       "      <td>2.0320</td>\n",
       "    </tr>\n",
       "    <tr>\n",
       "      <th>2021-06-26 13:00:00+00:00</th>\n",
       "      <td>0.120000</td>\n",
       "      <td>0.0000</td>\n",
       "    </tr>\n",
       "    <tr>\n",
       "      <th>2021-06-26 13:30:00+00:00</th>\n",
       "      <td>0.000000</td>\n",
       "      <td>0.0000</td>\n",
       "    </tr>\n",
       "    <tr>\n",
       "      <th>2021-06-26 14:00:00+00:00</th>\n",
       "      <td>0.000000</td>\n",
       "      <td>0.0000</td>\n",
       "    </tr>\n",
       "    <tr>\n",
       "      <th>2021-06-26 14:30:00+00:00</th>\n",
       "      <td>0.000000</td>\n",
       "      <td>0.0000</td>\n",
       "    </tr>\n",
       "    <tr>\n",
       "      <th>2021-06-26 15:00:00+00:00</th>\n",
       "      <td>0.000000</td>\n",
       "      <td>0.0000</td>\n",
       "    </tr>\n",
       "    <tr>\n",
       "      <th>2021-06-26 15:30:00+00:00</th>\n",
       "      <td>0.000000</td>\n",
       "      <td>0.0000</td>\n",
       "    </tr>\n",
       "    <tr>\n",
       "      <th>2021-06-26 16:00:00+00:00</th>\n",
       "      <td>0.000000</td>\n",
       "      <td>0.0000</td>\n",
       "    </tr>\n",
       "    <tr>\n",
       "      <th>2021-06-26 16:30:00+00:00</th>\n",
       "      <td>0.000000</td>\n",
       "      <td>0.0000</td>\n",
       "    </tr>\n",
       "    <tr>\n",
       "      <th>2021-06-26 17:00:00+00:00</th>\n",
       "      <td>0.000000</td>\n",
       "      <td>0.0000</td>\n",
       "    </tr>\n",
       "    <tr>\n",
       "      <th>2021-06-26 17:30:00+00:00</th>\n",
       "      <td>7.300000</td>\n",
       "      <td>2.5400</td>\n",
       "    </tr>\n",
       "    <tr>\n",
       "      <th>2021-06-26 18:00:00+00:00</th>\n",
       "      <td>2.913333</td>\n",
       "      <td>4.5720</td>\n",
       "    </tr>\n",
       "    <tr>\n",
       "      <th>2021-06-26 18:30:00+00:00</th>\n",
       "      <td>0.492857</td>\n",
       "      <td>0.5080</td>\n",
       "    </tr>\n",
       "    <tr>\n",
       "      <th>2021-06-26 19:00:00+00:00</th>\n",
       "      <td>0.000000</td>\n",
       "      <td>0.0000</td>\n",
       "    </tr>\n",
       "    <tr>\n",
       "      <th>2021-06-26 19:30:00+00:00</th>\n",
       "      <td>0.946667</td>\n",
       "      <td>0.0000</td>\n",
       "    </tr>\n",
       "    <tr>\n",
       "      <th>2021-06-26 20:00:00+00:00</th>\n",
       "      <td>0.106667</td>\n",
       "      <td>0.5080</td>\n",
       "    </tr>\n",
       "    <tr>\n",
       "      <th>2021-06-26 20:30:00+00:00</th>\n",
       "      <td>1.180000</td>\n",
       "      <td>0.0000</td>\n",
       "    </tr>\n",
       "    <tr>\n",
       "      <th>2021-06-26 21:00:00+00:00</th>\n",
       "      <td>20.860000</td>\n",
       "      <td>29.4640</td>\n",
       "    </tr>\n",
       "    <tr>\n",
       "      <th>2021-06-26 21:30:00+00:00</th>\n",
       "      <td>9.333333</td>\n",
       "      <td>8.6360</td>\n",
       "    </tr>\n",
       "    <tr>\n",
       "      <th>2021-06-26 22:00:00+00:00</th>\n",
       "      <td>5.614286</td>\n",
       "      <td>2.5400</td>\n",
       "    </tr>\n",
       "    <tr>\n",
       "      <th>2021-06-26 22:30:00+00:00</th>\n",
       "      <td>8.080000</td>\n",
       "      <td>3.0480</td>\n",
       "    </tr>\n",
       "    <tr>\n",
       "      <th>2021-06-26 23:00:00+00:00</th>\n",
       "      <td>3.153333</td>\n",
       "      <td>1.5240</td>\n",
       "    </tr>\n",
       "    <tr>\n",
       "      <th>2021-06-26 23:30:00+00:00</th>\n",
       "      <td>0.366667</td>\n",
       "      <td>0.0000</td>\n",
       "    </tr>\n",
       "    <tr>\n",
       "      <th>2021-06-27 00:00:00+00:00</th>\n",
       "      <td>NaN</td>\n",
       "      <td>0.0000</td>\n",
       "    </tr>\n",
       "  </tbody>\n",
       "</table>\n",
       "</div>"
      ],
      "text/plain": [
       "                               value    00045\n",
       "2021-06-26 00:00:00+00:00   0.000000   0.0000\n",
       "2021-06-26 00:30:00+00:00   0.000000   0.0000\n",
       "2021-06-26 01:00:00+00:00   0.000000   0.0000\n",
       "2021-06-26 01:30:00+00:00   0.000000   0.0000\n",
       "2021-06-26 02:00:00+00:00   0.000000   0.0000\n",
       "2021-06-26 02:30:00+00:00   0.000000   0.0000\n",
       "2021-06-26 03:00:00+00:00   0.000000   0.0000\n",
       "2021-06-26 03:30:00+00:00   0.000000   0.0000\n",
       "2021-06-26 04:00:00+00:00   0.000000   0.0000\n",
       "2021-06-26 04:30:00+00:00   0.000000   0.0000\n",
       "2021-06-26 05:00:00+00:00   0.393333   0.0000\n",
       "2021-06-26 05:30:00+00:00   6.373333   9.6520\n",
       "2021-06-26 06:00:00+00:00   1.060000   0.5080\n",
       "2021-06-26 06:30:00+00:00   0.360000   0.0000\n",
       "2021-06-26 07:00:00+00:00   0.380000   0.0000\n",
       "2021-06-26 07:30:00+00:00   1.026667   0.0000\n",
       "2021-06-26 08:00:00+00:00   0.233333   0.0000\n",
       "2021-06-26 08:30:00+00:00   0.000000   0.0000\n",
       "2021-06-26 09:00:00+00:00   0.000000   0.0000\n",
       "2021-06-26 09:30:00+00:00   0.000000   0.0000\n",
       "2021-06-26 10:00:00+00:00   0.000000   0.0000\n",
       "2021-06-26 10:30:00+00:00   0.000000   0.0000\n",
       "2021-06-26 11:00:00+00:00   0.700000   0.0000\n",
       "2021-06-26 11:30:00+00:00   8.393333  14.0208\n",
       "2021-06-26 12:00:00+00:00   9.633333   4.0640\n",
       "2021-06-26 12:30:00+00:00   1.780000   2.0320\n",
       "2021-06-26 13:00:00+00:00   0.120000   0.0000\n",
       "2021-06-26 13:30:00+00:00   0.000000   0.0000\n",
       "2021-06-26 14:00:00+00:00   0.000000   0.0000\n",
       "2021-06-26 14:30:00+00:00   0.000000   0.0000\n",
       "2021-06-26 15:00:00+00:00   0.000000   0.0000\n",
       "2021-06-26 15:30:00+00:00   0.000000   0.0000\n",
       "2021-06-26 16:00:00+00:00   0.000000   0.0000\n",
       "2021-06-26 16:30:00+00:00   0.000000   0.0000\n",
       "2021-06-26 17:00:00+00:00   0.000000   0.0000\n",
       "2021-06-26 17:30:00+00:00   7.300000   2.5400\n",
       "2021-06-26 18:00:00+00:00   2.913333   4.5720\n",
       "2021-06-26 18:30:00+00:00   0.492857   0.5080\n",
       "2021-06-26 19:00:00+00:00   0.000000   0.0000\n",
       "2021-06-26 19:30:00+00:00   0.946667   0.0000\n",
       "2021-06-26 20:00:00+00:00   0.106667   0.5080\n",
       "2021-06-26 20:30:00+00:00   1.180000   0.0000\n",
       "2021-06-26 21:00:00+00:00  20.860000  29.4640\n",
       "2021-06-26 21:30:00+00:00   9.333333   8.6360\n",
       "2021-06-26 22:00:00+00:00   5.614286   2.5400\n",
       "2021-06-26 22:30:00+00:00   8.080000   3.0480\n",
       "2021-06-26 23:00:00+00:00   3.153333   1.5240\n",
       "2021-06-26 23:30:00+00:00   0.366667   0.0000\n",
       "2021-06-27 00:00:00+00:00        NaN   0.0000"
      ]
     },
     "metadata": {},
     "output_type": "display_data"
    },
    {
     "data": {
      "image/png": "[encoded data removed]",
      "text/plain": [
       "<Figure size 640x480 with 1 Axes>"
      ]
     },
     "metadata": {},
     "output_type": "display_data"
    },
    {
     "data": {
      "application/vnd.microsoft.datawrangler.viewer.v0+json": {
       "columns": [
        {
         "name": "index",
         "rawType": "datetime64[ns, UTC]",
         "type": "unknown"
        },
        {
         "name": "value",
         "rawType": "float64",
         "type": "float"
        },
        {
         "name": "00045",
         "rawType": "float64",
         "type": "float"
        }
       ],
       "conversionMethod": "pd.DataFrame",
       "ref": "51495d5a-4e05-45db-83f8-936fa0012ab7",
       "rows": [
        [
         "2021-06-26 00:00:00+00:00",
         "0.0",
         "0.0"
        ],
        [
         "2021-06-26 00:30:00+00:00",
         "0.0",
         "0.0"
        ],
        [
         "2021-06-26 01:00:00+00:00",
         "0.0",
         "0.0"
        ],
        [
         "2021-06-26 01:30:00+00:00",
         "0.0",
         "0.0"
        ],
        [
         "2021-06-26 02:00:00+00:00",
         "0.0",
         "0.0"
        ],
        [
         "2021-06-26 02:30:00+00:00",
         "0.0",
         "0.0"
        ],
        [
         "2021-06-26 03:00:00+00:00",
         "0.0",
         "0.0"
        ],
        [
         "2021-06-26 03:30:00+00:00",
         "0.0",
         "0.0"
        ],
        [
         "2021-06-26 04:00:00+00:00",
         "0.0",
         "0.0"
        ],
        [
         "2021-06-26 04:30:00+00:00",
         "0.9999999920527141",
         "0.0"
        ],
        [
         "2021-06-26 05:00:00+00:00",
         "0.3466666638851166",
         "0.508"
        ],
        [
         "2021-06-26 05:30:00+00:00",
         "2.1933333039283753",
         "1.016"
        ],
        [
         "2021-06-26 06:00:00+00:00",
         "0.7333333412806193",
         "2.54"
        ],
        [
         "2021-06-26 06:30:00+00:00",
         "0.26666667064030963",
         "0.508"
        ],
        [
         "2021-06-26 07:00:00+00:00",
         "0.7333333392937978",
         "0.508"
        ],
        [
         "2021-06-26 07:30:00+00:00",
         "1.6066666960716247",
         "0.508"
        ],
        [
         "2021-06-26 08:00:00+00:00",
         "0.900000003973643",
         "1.016"
        ],
        [
         "2021-06-26 08:30:00+00:00",
         "0.9133333226044973",
         "0.508"
        ],
        [
         "2021-06-26 09:00:00+00:00",
         "0.15333333810170488",
         "0.0"
        ],
        [
         "2021-06-26 09:30:00+00:00",
         "0.24666666984558105",
         "0.508"
        ],
        [
         "2021-06-26 10:00:00+00:00",
         "0.05714285799435207",
         "0.0"
        ],
        [
         "2021-06-26 10:30:00+00:00",
         "3.6933333615461987",
         "0.0"
        ],
        [
         "2021-06-26 11:00:00+00:00",
         "22.49333318074544",
         "20.32"
        ],
        [
         "2021-06-26 11:30:00+00:00",
         "18.566667079925537",
         "8.636"
        ],
        [
         "2021-06-26 12:00:00+00:00",
         "17.533333524068198",
         "12.7"
        ],
        [
         "2021-06-26 12:30:00+00:00",
         "1.1800000071525574",
         "3.048"
        ],
        [
         "2021-06-26 13:00:00+00:00",
         "0.08000000317891438",
         "0.0"
        ],
        [
         "2021-06-26 13:30:00+00:00",
         "0.0",
         "0.508"
        ],
        [
         "2021-06-26 14:00:00+00:00",
         "0.0",
         "0.0"
        ],
        [
         "2021-06-26 14:30:00+00:00",
         "0.0",
         "0.0"
        ],
        [
         "2021-06-26 15:00:00+00:00",
         "0.0",
         "0.0"
        ],
        [
         "2021-06-26 15:30:00+00:00",
         "0.0",
         "0.0"
        ],
        [
         "2021-06-26 16:00:00+00:00",
         "0.0",
         "0.0"
        ],
        [
         "2021-06-26 16:30:00+00:00",
         "0.11333333651224772",
         "0.0"
        ],
        [
         "2021-06-26 17:00:00+00:00",
         "7.21333327293396",
         "0.0"
        ],
        [
         "2021-06-26 17:30:00+00:00",
         "7.860000133514404",
         "11.684"
        ],
        [
         "2021-06-26 18:00:00+00:00",
         "23.37333327929179",
         "24.383999999999997"
        ],
        [
         "2021-06-26 18:30:00+00:00",
         "3.1928571803229198",
         "5.08"
        ],
        [
         "2021-06-26 19:00:00+00:00",
         "0.6066666762034099",
         "0.0"
        ],
        [
         "2021-06-26 19:30:00+00:00",
         "14.666666603088379",
         "5.08"
        ],
        [
         "2021-06-26 20:00:00+00:00",
         "1.5399999956289927",
         "12.192"
        ],
        [
         "2021-06-26 20:30:00+00:00",
         "0.2",
         "1.5239999999999998"
        ],
        [
         "2021-06-26 21:00:00+00:00",
         "4.579999947547913",
         "0.508"
        ],
        [
         "2021-06-26 21:30:00+00:00",
         "6.159999938805898",
         "3.048"
        ],
        [
         "2021-06-26 22:00:00+00:00",
         "18.964285918644496",
         "14.223999999999998"
        ],
        [
         "2021-06-26 22:30:00+00:00",
         "11.853333234786987",
         "8.636"
        ],
        [
         "2021-06-26 23:00:00+00:00",
         "4.926666657129924",
         "3.556"
        ],
        [
         "2021-06-26 23:30:00+00:00",
         "0.11333333651224772",
         "0.508"
        ],
        [
         "2021-06-27 00:00:00+00:00",
         null,
         "0.0"
        ]
       ],
       "shape": {
        "columns": 2,
        "rows": 49
       }
      },
      "text/html": [
       "<div>\n",
       "<style scoped>\n",
       "    .dataframe tbody tr th:only-of-type {\n",
       "        vertical-align: middle;\n",
       "    }\n",
       "\n",
       "    .dataframe tbody tr th {\n",
       "        vertical-align: top;\n",
       "    }\n",
       "\n",
       "    .dataframe thead th {\n",
       "        text-align: right;\n",
       "    }\n",
       "</style>\n",
       "<table border=\"1\" class=\"dataframe\">\n",
       "  <thead>\n",
       "    <tr style=\"text-align: right;\">\n",
       "      <th></th>\n",
       "      <th>value</th>\n",
       "      <th>00045</th>\n",
       "    </tr>\n",
       "  </thead>\n",
       "  <tbody>\n",
       "    <tr>\n",
       "      <th>2021-06-26 00:00:00+00:00</th>\n",
       "      <td>0.000000</td>\n",
       "      <td>0.000</td>\n",
       "    </tr>\n",
       "    <tr>\n",
       "      <th>2021-06-26 00:30:00+00:00</th>\n",
       "      <td>0.000000</td>\n",
       "      <td>0.000</td>\n",
       "    </tr>\n",
       "    <tr>\n",
       "      <th>2021-06-26 01:00:00+00:00</th>\n",
       "      <td>0.000000</td>\n",
       "      <td>0.000</td>\n",
       "    </tr>\n",
       "    <tr>\n",
       "      <th>2021-06-26 01:30:00+00:00</th>\n",
       "      <td>0.000000</td>\n",
       "      <td>0.000</td>\n",
       "    </tr>\n",
       "    <tr>\n",
       "      <th>2021-06-26 02:00:00+00:00</th>\n",
       "      <td>0.000000</td>\n",
       "      <td>0.000</td>\n",
       "    </tr>\n",
       "    <tr>\n",
       "      <th>2021-06-26 02:30:00+00:00</th>\n",
       "      <td>0.000000</td>\n",
       "      <td>0.000</td>\n",
       "    </tr>\n",
       "    <tr>\n",
       "      <th>2021-06-26 03:00:00+00:00</th>\n",
       "      <td>0.000000</td>\n",
       "      <td>0.000</td>\n",
       "    </tr>\n",
       "    <tr>\n",
       "      <th>2021-06-26 03:30:00+00:00</th>\n",
       "      <td>0.000000</td>\n",
       "      <td>0.000</td>\n",
       "    </tr>\n",
       "    <tr>\n",
       "      <th>2021-06-26 04:00:00+00:00</th>\n",
       "      <td>0.000000</td>\n",
       "      <td>0.000</td>\n",
       "    </tr>\n",
       "    <tr>\n",
       "      <th>2021-06-26 04:30:00+00:00</th>\n",
       "      <td>1.000000</td>\n",
       "      <td>0.000</td>\n",
       "    </tr>\n",
       "    <tr>\n",
       "      <th>2021-06-26 05:00:00+00:00</th>\n",
       "      <td>0.346667</td>\n",
       "      <td>0.508</td>\n",
       "    </tr>\n",
       "    <tr>\n",
       "      <th>2021-06-26 05:30:00+00:00</th>\n",
       "      <td>2.193333</td>\n",
       "      <td>1.016</td>\n",
       "    </tr>\n",
       "    <tr>\n",
       "      <th>2021-06-26 06:00:00+00:00</th>\n",
       "      <td>0.733333</td>\n",
       "      <td>2.540</td>\n",
       "    </tr>\n",
       "    <tr>\n",
       "      <th>2021-06-26 06:30:00+00:00</th>\n",
       "      <td>0.266667</td>\n",
       "      <td>0.508</td>\n",
       "    </tr>\n",
       "    <tr>\n",
       "      <th>2021-06-26 07:00:00+00:00</th>\n",
       "      <td>0.733333</td>\n",
       "      <td>0.508</td>\n",
       "    </tr>\n",
       "    <tr>\n",
       "      <th>2021-06-26 07:30:00+00:00</th>\n",
       "      <td>1.606667</td>\n",
       "      <td>0.508</td>\n",
       "    </tr>\n",
       "    <tr>\n",
       "      <th>2021-06-26 08:00:00+00:00</th>\n",
       "      <td>0.900000</td>\n",
       "      <td>1.016</td>\n",
       "    </tr>\n",
       "    <tr>\n",
       "      <th>2021-06-26 08:30:00+00:00</th>\n",
       "      <td>0.913333</td>\n",
       "      <td>0.508</td>\n",
       "    </tr>\n",
       "    <tr>\n",
       "      <th>2021-06-26 09:00:00+00:00</th>\n",
       "      <td>0.153333</td>\n",
       "      <td>0.000</td>\n",
       "    </tr>\n",
       "    <tr>\n",
       "      <th>2021-06-26 09:30:00+00:00</th>\n",
       "      <td>0.246667</td>\n",
       "      <td>0.508</td>\n",
       "    </tr>\n",
       "    <tr>\n",
       "      <th>2021-06-26 10:00:00+00:00</th>\n",
       "      <td>0.057143</td>\n",
       "      <td>0.000</td>\n",
       "    </tr>\n",
       "    <tr>\n",
       "      <th>2021-06-26 10:30:00+00:00</th>\n",
       "      <td>3.693333</td>\n",
       "      <td>0.000</td>\n",
       "    </tr>\n",
       "    <tr>\n",
       "      <th>2021-06-26 11:00:00+00:00</th>\n",
       "      <td>22.493333</td>\n",
       "      <td>20.320</td>\n",
       "    </tr>\n",
       "    <tr>\n",
       "      <th>2021-06-26 11:30:00+00:00</th>\n",
       "      <td>18.566667</td>\n",
       "      <td>8.636</td>\n",
       "    </tr>\n",
       "    <tr>\n",
       "      <th>2021-06-26 12:00:00+00:00</th>\n",
       "      <td>17.533334</td>\n",
       "      <td>12.700</td>\n",
       "    </tr>\n",
       "    <tr>\n",
       "      <th>2021-06-26 12:30:00+00:00</th>\n",
       "      <td>1.180000</td>\n",
       "      <td>3.048</td>\n",
       "    </tr>\n",
       "    <tr>\n",
       "      <th>2021-06-26 13:00:00+00:00</th>\n",
       "      <td>0.080000</td>\n",
       "      <td>0.000</td>\n",
       "    </tr>\n",
       "    <tr>\n",
       "      <th>2021-06-26 13:30:00+00:00</th>\n",
       "      <td>0.000000</td>\n",
       "      <td>0.508</td>\n",
       "    </tr>\n",
       "    <tr>\n",
       "      <th>2021-06-26 14:00:00+00:00</th>\n",
       "      <td>0.000000</td>\n",
       "      <td>0.000</td>\n",
       "    </tr>\n",
       "    <tr>\n",
       "      <th>2021-06-26 14:30:00+00:00</th>\n",
       "      <td>0.000000</td>\n",
       "      <td>0.000</td>\n",
       "    </tr>\n",
       "    <tr>\n",
       "      <th>2021-06-26 15:00:00+00:00</th>\n",
       "      <td>0.000000</td>\n",
       "      <td>0.000</td>\n",
       "    </tr>\n",
       "    <tr>\n",
       "      <th>2021-06-26 15:30:00+00:00</th>\n",
       "      <td>0.000000</td>\n",
       "      <td>0.000</td>\n",
       "    </tr>\n",
       "    <tr>\n",
       "      <th>2021-06-26 16:00:00+00:00</th>\n",
       "      <td>0.000000</td>\n",
       "      <td>0.000</td>\n",
       "    </tr>\n",
       "    <tr>\n",
       "      <th>2021-06-26 16:30:00+00:00</th>\n",
       "      <td>0.113333</td>\n",
       "      <td>0.000</td>\n",
       "    </tr>\n",
       "    <tr>\n",
       "      <th>2021-06-26 17:00:00+00:00</th>\n",
       "      <td>7.213333</td>\n",
       "      <td>0.000</td>\n",
       "    </tr>\n",
       "    <tr>\n",
       "      <th>2021-06-26 17:30:00+00:00</th>\n",
       "      <td>7.860000</td>\n",
       "      <td>11.684</td>\n",
       "    </tr>\n",
       "    <tr>\n",
       "      <th>2021-06-26 18:00:00+00:00</th>\n",
       "      <td>23.373333</td>\n",
       "      <td>24.384</td>\n",
       "    </tr>\n",
       "    <tr>\n",
       "      <th>2021-06-26 18:30:00+00:00</th>\n",
       "      <td>3.192857</td>\n",
       "      <td>5.080</td>\n",
       "    </tr>\n",
       "    <tr>\n",
       "      <th>2021-06-26 19:00:00+00:00</th>\n",
       "      <td>0.606667</td>\n",
       "      <td>0.000</td>\n",
       "    </tr>\n",
       "    <tr>\n",
       "      <th>2021-06-26 19:30:00+00:00</th>\n",
       "      <td>14.666667</td>\n",
       "      <td>5.080</td>\n",
       "    </tr>\n",
       "    <tr>\n",
       "      <th>2021-06-26 20:00:00+00:00</th>\n",
       "      <td>1.540000</td>\n",
       "      <td>12.192</td>\n",
       "    </tr>\n",
       "    <tr>\n",
       "      <th>2021-06-26 20:30:00+00:00</th>\n",
       "      <td>0.200000</td>\n",
       "      <td>1.524</td>\n",
       "    </tr>\n",
       "    <tr>\n",
       "      <th>2021-06-26 21:00:00+00:00</th>\n",
       "      <td>4.580000</td>\n",
       "      <td>0.508</td>\n",
       "    </tr>\n",
       "    <tr>\n",
       "      <th>2021-06-26 21:30:00+00:00</th>\n",
       "      <td>6.160000</td>\n",
       "      <td>3.048</td>\n",
       "    </tr>\n",
       "    <tr>\n",
       "      <th>2021-06-26 22:00:00+00:00</th>\n",
       "      <td>18.964286</td>\n",
       "      <td>14.224</td>\n",
       "    </tr>\n",
       "    <tr>\n",
       "      <th>2021-06-26 22:30:00+00:00</th>\n",
       "      <td>11.853333</td>\n",
       "      <td>8.636</td>\n",
       "    </tr>\n",
       "    <tr>\n",
       "      <th>2021-06-26 23:00:00+00:00</th>\n",
       "      <td>4.926667</td>\n",
       "      <td>3.556</td>\n",
       "    </tr>\n",
       "    <tr>\n",
       "      <th>2021-06-26 23:30:00+00:00</th>\n",
       "      <td>0.113333</td>\n",
       "      <td>0.508</td>\n",
       "    </tr>\n",
       "    <tr>\n",
       "      <th>2021-06-27 00:00:00+00:00</th>\n",
       "      <td>NaN</td>\n",
       "      <td>0.000</td>\n",
       "    </tr>\n",
       "  </tbody>\n",
       "</table>\n",
       "</div>"
      ],
      "text/plain": [
       "                               value   00045\n",
       "2021-06-26 00:00:00+00:00   0.000000   0.000\n",
       "2021-06-26 00:30:00+00:00   0.000000   0.000\n",
       "2021-06-26 01:00:00+00:00   0.000000   0.000\n",
       "2021-06-26 01:30:00+00:00   0.000000   0.000\n",
       "2021-06-26 02:00:00+00:00   0.000000   0.000\n",
       "2021-06-26 02:30:00+00:00   0.000000   0.000\n",
       "2021-06-26 03:00:00+00:00   0.000000   0.000\n",
       "2021-06-26 03:30:00+00:00   0.000000   0.000\n",
       "2021-06-26 04:00:00+00:00   0.000000   0.000\n",
       "2021-06-26 04:30:00+00:00   1.000000   0.000\n",
       "2021-06-26 05:00:00+00:00   0.346667   0.508\n",
       "2021-06-26 05:30:00+00:00   2.193333   1.016\n",
       "2021-06-26 06:00:00+00:00   0.733333   2.540\n",
       "2021-06-26 06:30:00+00:00   0.266667   0.508\n",
       "2021-06-26 07:00:00+00:00   0.733333   0.508\n",
       "2021-06-26 07:30:00+00:00   1.606667   0.508\n",
       "2021-06-26 08:00:00+00:00   0.900000   1.016\n",
       "2021-06-26 08:30:00+00:00   0.913333   0.508\n",
       "2021-06-26 09:00:00+00:00   0.153333   0.000\n",
       "2021-06-26 09:30:00+00:00   0.246667   0.508\n",
       "2021-06-26 10:00:00+00:00   0.057143   0.000\n",
       "2021-06-26 10:30:00+00:00   3.693333   0.000\n",
       "2021-06-26 11:00:00+00:00  22.493333  20.320\n",
       "2021-06-26 11:30:00+00:00  18.566667   8.636\n",
       "2021-06-26 12:00:00+00:00  17.533334  12.700\n",
       "2021-06-26 12:30:00+00:00   1.180000   3.048\n",
       "2021-06-26 13:00:00+00:00   0.080000   0.000\n",
       "2021-06-26 13:30:00+00:00   0.000000   0.508\n",
       "2021-06-26 14:00:00+00:00   0.000000   0.000\n",
       "2021-06-26 14:30:00+00:00   0.000000   0.000\n",
       "2021-06-26 15:00:00+00:00   0.000000   0.000\n",
       "2021-06-26 15:30:00+00:00   0.000000   0.000\n",
       "2021-06-26 16:00:00+00:00   0.000000   0.000\n",
       "2021-06-26 16:30:00+00:00   0.113333   0.000\n",
       "2021-06-26 17:00:00+00:00   7.213333   0.000\n",
       "2021-06-26 17:30:00+00:00   7.860000  11.684\n",
       "2021-06-26 18:00:00+00:00  23.373333  24.384\n",
       "2021-06-26 18:30:00+00:00   3.192857   5.080\n",
       "2021-06-26 19:00:00+00:00   0.606667   0.000\n",
       "2021-06-26 19:30:00+00:00  14.666667   5.080\n",
       "2021-06-26 20:00:00+00:00   1.540000  12.192\n",
       "2021-06-26 20:30:00+00:00   0.200000   1.524\n",
       "2021-06-26 21:00:00+00:00   4.580000   0.508\n",
       "2021-06-26 21:30:00+00:00   6.160000   3.048\n",
       "2021-06-26 22:00:00+00:00  18.964286  14.224\n",
       "2021-06-26 22:30:00+00:00  11.853333   8.636\n",
       "2021-06-26 23:00:00+00:00   4.926667   3.556\n",
       "2021-06-26 23:30:00+00:00   0.113333   0.508\n",
       "2021-06-27 00:00:00+00:00        NaN   0.000"
      ]
     },
     "metadata": {},
     "output_type": "display_data"
    },
    {
     "data": {
      "image/png": "[encoded data removed]",
      "text/plain": [
       "<Figure size 640x480 with 1 Axes>"
      ]
     },
     "metadata": {},
     "output_type": "display_data"
    },
    {
     "data": {
      "application/vnd.microsoft.datawrangler.viewer.v0+json": {
       "columns": [
        {
         "name": "index",
         "rawType": "datetime64[ns, UTC]",
         "type": "unknown"
        },
        {
         "name": "value",
         "rawType": "float64",
         "type": "float"
        },
        {
         "name": "00045",
         "rawType": "float64",
         "type": "float"
        }
       ],
       "conversionMethod": "pd.DataFrame",
       "ref": "2d51a6e5-cd5a-4cd3-828c-c2ca349bd2c1",
       "rows": [
        [
         "2021-06-26 00:00:00+00:00",
         "0.0",
         "0.0"
        ],
        [
         "2021-06-26 00:30:00+00:00",
         "0.0",
         "0.0"
        ],
        [
         "2021-06-26 01:00:00+00:00",
         "0.0",
         "0.0"
        ],
        [
         "2021-06-26 01:30:00+00:00",
         "0.0",
         "0.0"
        ],
        [
         "2021-06-26 02:00:00+00:00",
         "0.0",
         "0.0"
        ],
        [
         "2021-06-26 02:30:00+00:00",
         "0.0",
         "0.0"
        ],
        [
         "2021-06-26 03:00:00+00:00",
         "0.0",
         "0.0"
        ],
        [
         "2021-06-26 03:30:00+00:00",
         "0.0",
         "0.0"
        ],
        [
         "2021-06-26 04:00:00+00:00",
         "0.0",
         "0.0"
        ],
        [
         "2021-06-26 04:30:00+00:00",
         "0.9133333305517832",
         "0.0"
        ],
        [
         "2021-06-26 05:00:00+00:00",
         "0.3600000003973643",
         "0.0"
        ],
        [
         "2021-06-26 05:30:00+00:00",
         "1.5200000047683715",
         "2.54"
        ],
        [
         "2021-06-26 06:00:00+00:00",
         "1.2400000154972077",
         "3.048"
        ],
        [
         "2021-06-26 06:30:00+00:00",
         "0.21333333651224773",
         "0.508"
        ],
        [
         "2021-06-26 07:00:00+00:00",
         "0.5133333424727122",
         "0.0"
        ],
        [
         "2021-06-26 07:30:00+00:00",
         "1.2333333214124045",
         "0.0"
        ],
        [
         "2021-06-26 08:00:00+00:00",
         "1.0",
         "0.0"
        ],
        [
         "2021-06-26 08:30:00+00:00",
         "0.7600000003973643",
         "0.0"
        ],
        [
         "2021-06-26 09:00:00+00:00",
         "0.05333333412806193",
         "0.0"
        ],
        [
         "2021-06-26 09:30:00+00:00",
         "0.17333333690961203",
         "0.0"
        ],
        [
         "2021-06-26 10:00:00+00:00",
         "0.0857142891202654",
         "0.0"
        ],
        [
         "2021-06-26 10:30:00+00:00",
         "6.326666752497355",
         "0.0"
        ],
        [
         "2021-06-26 11:00:00+00:00",
         "26.259999783833823",
         "28.956000000000003"
        ],
        [
         "2021-06-26 11:30:00+00:00",
         "10.900000190734863",
         "13.716000000000001"
        ],
        [
         "2021-06-26 12:00:00+00:00",
         "14.606666882832846",
         "9.144"
        ],
        [
         "2021-06-26 12:30:00+00:00",
         "1.3",
         "1.524"
        ],
        [
         "2021-06-26 13:00:00+00:00",
         "0.040000001589457185",
         "0.0"
        ],
        [
         "2021-06-26 13:30:00+00:00",
         "0.0",
         "0.0"
        ],
        [
         "2021-06-26 14:00:00+00:00",
         "0.0",
         "0.0"
        ],
        [
         "2021-06-26 14:30:00+00:00",
         "0.0",
         "0.0"
        ],
        [
         "2021-06-26 15:00:00+00:00",
         "0.0",
         "0.0"
        ],
        [
         "2021-06-26 15:30:00+00:00",
         "0.0",
         "0.0"
        ],
        [
         "2021-06-26 16:00:00+00:00",
         "0.0",
         "0.0"
        ],
        [
         "2021-06-26 16:30:00+00:00",
         "0.0",
         "0.0"
        ],
        [
         "2021-06-26 17:00:00+00:00",
         "1.3799999435742696",
         "0.0"
        ],
        [
         "2021-06-26 17:30:00+00:00",
         "2.133333373069763",
         "0.0"
        ],
        [
         "2021-06-26 18:00:00+00:00",
         "26.760000133514403",
         "25.908"
        ],
        [
         "2021-06-26 18:30:00+00:00",
         "2.142857185431889",
         "3.048"
        ],
        [
         "2021-06-26 19:00:00+00:00",
         "0.7800000031789144",
         "0.0"
        ],
        [
         "2021-06-26 19:30:00+00:00",
         "11.91999994913737",
         "27.432"
        ],
        [
         "2021-06-26 20:00:00+00:00",
         "0.39333333969116213",
         "0.0"
        ],
        [
         "2021-06-26 20:30:00+00:00",
         "0.0",
         "0.0"
        ],
        [
         "2021-06-26 21:00:00+00:00",
         "2.1466666559378305",
         "1.016"
        ],
        [
         "2021-06-26 21:30:00+00:00",
         "4.686666721105576",
         "1.524"
        ],
        [
         "2021-06-26 22:00:00+00:00",
         "18.699999945504324",
         "23.368"
        ],
        [
         "2021-06-26 22:30:00+00:00",
         "6.033333412806193",
         "5.08"
        ],
        [
         "2021-06-26 23:00:00+00:00",
         "6.526666649182638",
         "3.048"
        ],
        [
         "2021-06-26 23:30:00+00:00",
         "0.11333333651224771",
         "0.0"
        ],
        [
         "2021-06-27 00:00:00+00:00",
         null,
         "0.0"
        ]
       ],
       "shape": {
        "columns": 2,
        "rows": 49
       }
      },
      "text/html": [
       "<div>\n",
       "<style scoped>\n",
       "    .dataframe tbody tr th:only-of-type {\n",
       "        vertical-align: middle;\n",
       "    }\n",
       "\n",
       "    .dataframe tbody tr th {\n",
       "        vertical-align: top;\n",
       "    }\n",
       "\n",
       "    .dataframe thead th {\n",
       "        text-align: right;\n",
       "    }\n",
       "</style>\n",
       "<table border=\"1\" class=\"dataframe\">\n",
       "  <thead>\n",
       "    <tr style=\"text-align: right;\">\n",
       "      <th></th>\n",
       "      <th>value</th>\n",
       "      <th>00045</th>\n",
       "    </tr>\n",
       "  </thead>\n",
       "  <tbody>\n",
       "    <tr>\n",
       "      <th>2021-06-26 00:00:00+00:00</th>\n",
       "      <td>0.000000</td>\n",
       "      <td>0.000</td>\n",
       "    </tr>\n",
       "    <tr>\n",
       "      <th>2021-06-26 00:30:00+00:00</th>\n",
       "      <td>0.000000</td>\n",
       "      <td>0.000</td>\n",
       "    </tr>\n",
       "    <tr>\n",
       "      <th>2021-06-26 01:00:00+00:00</th>\n",
       "      <td>0.000000</td>\n",
       "      <td>0.000</td>\n",
       "    </tr>\n",
       "    <tr>\n",
       "      <th>2021-06-26 01:30:00+00:00</th>\n",
       "      <td>0.000000</td>\n",
       "      <td>0.000</td>\n",
       "    </tr>\n",
       "    <tr>\n",
       "      <th>2021-06-26 02:00:00+00:00</th>\n",
       "      <td>0.000000</td>\n",
       "      <td>0.000</td>\n",
       "    </tr>\n",
       "    <tr>\n",
       "      <th>2021-06-26 02:30:00+00:00</th>\n",
       "      <td>0.000000</td>\n",
       "      <td>0.000</td>\n",
       "    </tr>\n",
       "    <tr>\n",
       "      <th>2021-06-26 03:00:00+00:00</th>\n",
       "      <td>0.000000</td>\n",
       "      <td>0.000</td>\n",
       "    </tr>\n",
       "    <tr>\n",
       "      <th>2021-06-26 03:30:00+00:00</th>\n",
       "      <td>0.000000</td>\n",
       "      <td>0.000</td>\n",
       "    </tr>\n",
       "    <tr>\n",
       "      <th>2021-06-26 04:00:00+00:00</th>\n",
       "      <td>0.000000</td>\n",
       "      <td>0.000</td>\n",
       "    </tr>\n",
       "    <tr>\n",
       "      <th>2021-06-26 04:30:00+00:00</th>\n",
       "      <td>0.913333</td>\n",
       "      <td>0.000</td>\n",
       "    </tr>\n",
       "    <tr>\n",
       "      <th>2021-06-26 05:00:00+00:00</th>\n",
       "      <td>0.360000</td>\n",
       "      <td>0.000</td>\n",
       "    </tr>\n",
       "    <tr>\n",
       "      <th>2021-06-26 05:30:00+00:00</th>\n",
       "      <td>1.520000</td>\n",
       "      <td>2.540</td>\n",
       "    </tr>\n",
       "    <tr>\n",
       "      <th>2021-06-26 06:00:00+00:00</th>\n",
       "      <td>1.240000</td>\n",
       "      <td>3.048</td>\n",
       "    </tr>\n",
       "    <tr>\n",
       "      <th>2021-06-26 06:30:00+00:00</th>\n",
       "      <td>0.213333</td>\n",
       "      <td>0.508</td>\n",
       "    </tr>\n",
       "    <tr>\n",
       "      <th>2021-06-26 07:00:00+00:00</th>\n",
       "      <td>0.513333</td>\n",
       "      <td>0.000</td>\n",
       "    </tr>\n",
       "    <tr>\n",
       "      <th>2021-06-26 07:30:00+00:00</th>\n",
       "      <td>1.233333</td>\n",
       "      <td>0.000</td>\n",
       "    </tr>\n",
       "    <tr>\n",
       "      <th>2021-06-26 08:00:00+00:00</th>\n",
       "      <td>1.000000</td>\n",
       "      <td>0.000</td>\n",
       "    </tr>\n",
       "    <tr>\n",
       "      <th>2021-06-26 08:30:00+00:00</th>\n",
       "      <td>0.760000</td>\n",
       "      <td>0.000</td>\n",
       "    </tr>\n",
       "    <tr>\n",
       "      <th>2021-06-26 09:00:00+00:00</th>\n",
       "      <td>0.053333</td>\n",
       "      <td>0.000</td>\n",
       "    </tr>\n",
       "    <tr>\n",
       "      <th>2021-06-26 09:30:00+00:00</th>\n",
       "      <td>0.173333</td>\n",
       "      <td>0.000</td>\n",
       "    </tr>\n",
       "    <tr>\n",
       "      <th>2021-06-26 10:00:00+00:00</th>\n",
       "      <td>0.085714</td>\n",
       "      <td>0.000</td>\n",
       "    </tr>\n",
       "    <tr>\n",
       "      <th>2021-06-26 10:30:00+00:00</th>\n",
       "      <td>6.326667</td>\n",
       "      <td>0.000</td>\n",
       "    </tr>\n",
       "    <tr>\n",
       "      <th>2021-06-26 11:00:00+00:00</th>\n",
       "      <td>26.260000</td>\n",
       "      <td>28.956</td>\n",
       "    </tr>\n",
       "    <tr>\n",
       "      <th>2021-06-26 11:30:00+00:00</th>\n",
       "      <td>10.900000</td>\n",
       "      <td>13.716</td>\n",
       "    </tr>\n",
       "    <tr>\n",
       "      <th>2021-06-26 12:00:00+00:00</th>\n",
       "      <td>14.606667</td>\n",
       "      <td>9.144</td>\n",
       "    </tr>\n",
       "    <tr>\n",
       "      <th>2021-06-26 12:30:00+00:00</th>\n",
       "      <td>1.300000</td>\n",
       "      <td>1.524</td>\n",
       "    </tr>\n",
       "    <tr>\n",
       "      <th>2021-06-26 13:00:00+00:00</th>\n",
       "      <td>0.040000</td>\n",
       "      <td>0.000</td>\n",
       "    </tr>\n",
       "    <tr>\n",
       "      <th>2021-06-26 13:30:00+00:00</th>\n",
       "      <td>0.000000</td>\n",
       "      <td>0.000</td>\n",
       "    </tr>\n",
       "    <tr>\n",
       "      <th>2021-06-26 14:00:00+00:00</th>\n",
       "      <td>0.000000</td>\n",
       "      <td>0.000</td>\n",
       "    </tr>\n",
       "    <tr>\n",
       "      <th>2021-06-26 14:30:00+00:00</th>\n",
       "      <td>0.000000</td>\n",
       "      <td>0.000</td>\n",
       "    </tr>\n",
       "    <tr>\n",
       "      <th>2021-06-26 15:00:00+00:00</th>\n",
       "      <td>0.000000</td>\n",
       "      <td>0.000</td>\n",
       "    </tr>\n",
       "    <tr>\n",
       "      <th>2021-06-26 15:30:00+00:00</th>\n",
       "      <td>0.000000</td>\n",
       "      <td>0.000</td>\n",
       "    </tr>\n",
       "    <tr>\n",
       "      <th>2021-06-26 16:00:00+00:00</th>\n",
       "      <td>0.000000</td>\n",
       "      <td>0.000</td>\n",
       "    </tr>\n",
       "    <tr>\n",
       "      <th>2021-06-26 16:30:00+00:00</th>\n",
       "      <td>0.000000</td>\n",
       "      <td>0.000</td>\n",
       "    </tr>\n",
       "    <tr>\n",
       "      <th>2021-06-26 17:00:00+00:00</th>\n",
       "      <td>1.380000</td>\n",
       "      <td>0.000</td>\n",
       "    </tr>\n",
       "    <tr>\n",
       "      <th>2021-06-26 17:30:00+00:00</th>\n",
       "      <td>2.133333</td>\n",
       "      <td>0.000</td>\n",
       "    </tr>\n",
       "    <tr>\n",
       "      <th>2021-06-26 18:00:00+00:00</th>\n",
       "      <td>26.760000</td>\n",
       "      <td>25.908</td>\n",
       "    </tr>\n",
       "    <tr>\n",
       "      <th>2021-06-26 18:30:00+00:00</th>\n",
       "      <td>2.142857</td>\n",
       "      <td>3.048</td>\n",
       "    </tr>\n",
       "    <tr>\n",
       "      <th>2021-06-26 19:00:00+00:00</th>\n",
       "      <td>0.780000</td>\n",
       "      <td>0.000</td>\n",
       "    </tr>\n",
       "    <tr>\n",
       "      <th>2021-06-26 19:30:00+00:00</th>\n",
       "      <td>11.920000</td>\n",
       "      <td>27.432</td>\n",
       "    </tr>\n",
       "    <tr>\n",
       "      <th>2021-06-26 20:00:00+00:00</th>\n",
       "      <td>0.393333</td>\n",
       "      <td>0.000</td>\n",
       "    </tr>\n",
       "    <tr>\n",
       "      <th>2021-06-26 20:30:00+00:00</th>\n",
       "      <td>0.000000</td>\n",
       "      <td>0.000</td>\n",
       "    </tr>\n",
       "    <tr>\n",
       "      <th>2021-06-26 21:00:00+00:00</th>\n",
       "      <td>2.146667</td>\n",
       "      <td>1.016</td>\n",
       "    </tr>\n",
       "    <tr>\n",
       "      <th>2021-06-26 21:30:00+00:00</th>\n",
       "      <td>4.686667</td>\n",
       "      <td>1.524</td>\n",
       "    </tr>\n",
       "    <tr>\n",
       "      <th>2021-06-26 22:00:00+00:00</th>\n",
       "      <td>18.700000</td>\n",
       "      <td>23.368</td>\n",
       "    </tr>\n",
       "    <tr>\n",
       "      <th>2021-06-26 22:30:00+00:00</th>\n",
       "      <td>6.033333</td>\n",
       "      <td>5.080</td>\n",
       "    </tr>\n",
       "    <tr>\n",
       "      <th>2021-06-26 23:00:00+00:00</th>\n",
       "      <td>6.526667</td>\n",
       "      <td>3.048</td>\n",
       "    </tr>\n",
       "    <tr>\n",
       "      <th>2021-06-26 23:30:00+00:00</th>\n",
       "      <td>0.113333</td>\n",
       "      <td>0.000</td>\n",
       "    </tr>\n",
       "    <tr>\n",
       "      <th>2021-06-27 00:00:00+00:00</th>\n",
       "      <td>NaN</td>\n",
       "      <td>0.000</td>\n",
       "    </tr>\n",
       "  </tbody>\n",
       "</table>\n",
       "</div>"
      ],
      "text/plain": [
       "                               value   00045\n",
       "2021-06-26 00:00:00+00:00   0.000000   0.000\n",
       "2021-06-26 00:30:00+00:00   0.000000   0.000\n",
       "2021-06-26 01:00:00+00:00   0.000000   0.000\n",
       "2021-06-26 01:30:00+00:00   0.000000   0.000\n",
       "2021-06-26 02:00:00+00:00   0.000000   0.000\n",
       "2021-06-26 02:30:00+00:00   0.000000   0.000\n",
       "2021-06-26 03:00:00+00:00   0.000000   0.000\n",
       "2021-06-26 03:30:00+00:00   0.000000   0.000\n",
       "2021-06-26 04:00:00+00:00   0.000000   0.000\n",
       "2021-06-26 04:30:00+00:00   0.913333   0.000\n",
       "2021-06-26 05:00:00+00:00   0.360000   0.000\n",
       "2021-06-26 05:30:00+00:00   1.520000   2.540\n",
       "2021-06-26 06:00:00+00:00   1.240000   3.048\n",
       "2021-06-26 06:30:00+00:00   0.213333   0.508\n",
       "2021-06-26 07:00:00+00:00   0.513333   0.000\n",
       "2021-06-26 07:30:00+00:00   1.233333   0.000\n",
       "2021-06-26 08:00:00+00:00   1.000000   0.000\n",
       "2021-06-26 08:30:00+00:00   0.760000   0.000\n",
       "2021-06-26 09:00:00+00:00   0.053333   0.000\n",
       "2021-06-26 09:30:00+00:00   0.173333   0.000\n",
       "2021-06-26 10:00:00+00:00   0.085714   0.000\n",
       "2021-06-26 10:30:00+00:00   6.326667   0.000\n",
       "2021-06-26 11:00:00+00:00  26.260000  28.956\n",
       "2021-06-26 11:30:00+00:00  10.900000  13.716\n",
       "2021-06-26 12:00:00+00:00  14.606667   9.144\n",
       "2021-06-26 12:30:00+00:00   1.300000   1.524\n",
       "2021-06-26 13:00:00+00:00   0.040000   0.000\n",
       "2021-06-26 13:30:00+00:00   0.000000   0.000\n",
       "2021-06-26 14:00:00+00:00   0.000000   0.000\n",
       "2021-06-26 14:30:00+00:00   0.000000   0.000\n",
       "2021-06-26 15:00:00+00:00   0.000000   0.000\n",
       "2021-06-26 15:30:00+00:00   0.000000   0.000\n",
       "2021-06-26 16:00:00+00:00   0.000000   0.000\n",
       "2021-06-26 16:30:00+00:00   0.000000   0.000\n",
       "2021-06-26 17:00:00+00:00   1.380000   0.000\n",
       "2021-06-26 17:30:00+00:00   2.133333   0.000\n",
       "2021-06-26 18:00:00+00:00  26.760000  25.908\n",
       "2021-06-26 18:30:00+00:00   2.142857   3.048\n",
       "2021-06-26 19:00:00+00:00   0.780000   0.000\n",
       "2021-06-26 19:30:00+00:00  11.920000  27.432\n",
       "2021-06-26 20:00:00+00:00   0.393333   0.000\n",
       "2021-06-26 20:30:00+00:00   0.000000   0.000\n",
       "2021-06-26 21:00:00+00:00   2.146667   1.016\n",
       "2021-06-26 21:30:00+00:00   4.686667   1.524\n",
       "2021-06-26 22:00:00+00:00  18.700000  23.368\n",
       "2021-06-26 22:30:00+00:00   6.033333   5.080\n",
       "2021-06-26 23:00:00+00:00   6.526667   3.048\n",
       "2021-06-26 23:30:00+00:00   0.113333   0.000\n",
       "2021-06-27 00:00:00+00:00        NaN   0.000"
      ]
     },
     "metadata": {},
     "output_type": "display_data"
    },
    {
     "data": {
      "image/png": "[encoded data removed]",
      "text/plain": [
       "<Figure size 640x480 with 1 Axes>"
      ]
     },
     "metadata": {},
     "output_type": "display_data"
    },
    {
     "data": {
      "application/vnd.microsoft.datawrangler.viewer.v0+json": {
       "columns": [
        {
         "name": "index",
         "rawType": "datetime64[ns, UTC]",
         "type": "unknown"
        },
        {
         "name": "value",
         "rawType": "float64",
         "type": "float"
        },
        {
         "name": "00045",
         "rawType": "float64",
         "type": "float"
        }
       ],
       "conversionMethod": "pd.DataFrame",
       "ref": "db2031bd-be4a-449b-98d0-aa06d3b91478",
       "rows": [
        [
         "2021-06-26 00:00:00+00:00",
         "0.0",
         "0.0"
        ],
        [
         "2021-06-26 00:30:00+00:00",
         "0.0",
         "0.0"
        ],
        [
         "2021-06-26 01:00:00+00:00",
         "0.0",
         "0.0"
        ],
        [
         "2021-06-26 01:30:00+00:00",
         "0.0",
         "0.0"
        ],
        [
         "2021-06-26 02:00:00+00:00",
         "0.0",
         "0.0"
        ],
        [
         "2021-06-26 02:30:00+00:00",
         "0.0",
         "0.0"
        ],
        [
         "2021-06-26 03:00:00+00:00",
         "0.0",
         "0.0"
        ],
        [
         "2021-06-26 03:30:00+00:00",
         "0.0",
         "0.0"
        ],
        [
         "2021-06-26 04:00:00+00:00",
         "0.04000000158945719",
         "0.0"
        ],
        [
         "2021-06-26 04:30:00+00:00",
         "1.4999999860922495",
         "0.508"
        ],
        [
         "2021-06-26 05:00:00+00:00",
         "2.3066666881243387",
         "0.0"
        ],
        [
         "2021-06-26 05:30:00+00:00",
         "3.2200000286102295",
         "3.5559999999999996"
        ],
        [
         "2021-06-26 06:00:00+00:00",
         "2.2666666209697723",
         "3.5559999999999996"
        ],
        [
         "2021-06-26 06:30:00+00:00",
         "0.5066666682561238",
         "0.0"
        ],
        [
         "2021-06-26 07:00:00+00:00",
         "1.8000000298023224",
         "0.0"
        ],
        [
         "2021-06-26 07:30:00+00:00",
         "1.953333350022634",
         "0.0"
        ],
        [
         "2021-06-26 08:00:00+00:00",
         "1.5466666579246522",
         "0.0"
        ],
        [
         "2021-06-26 08:30:00+00:00",
         "1.5866666555404663",
         "0.508"
        ],
        [
         "2021-06-26 09:00:00+00:00",
         "0.3933333357175191",
         "0.0"
        ],
        [
         "2021-06-26 09:30:00+00:00",
         "0.0",
         "0.0"
        ],
        [
         "2021-06-26 10:00:00+00:00",
         "0.3428571564810617",
         "0.0"
        ],
        [
         "2021-06-26 10:30:00+00:00",
         "17.11333348751068",
         "8.636000000000001"
        ],
        [
         "2021-06-26 11:00:00+00:00",
         "27.25333334604899",
         "30.48"
        ],
        [
         "2021-06-26 11:30:00+00:00",
         "11.239999961853027",
         "7.111999999999999"
        ],
        [
         "2021-06-26 12:00:00+00:00",
         "8.500000111262004",
         "10.668"
        ],
        [
         "2021-06-26 12:30:00+00:00",
         "0.800000011920929",
         "0.508"
        ],
        [
         "2021-06-26 13:00:00+00:00",
         "0.0",
         "0.0"
        ],
        [
         "2021-06-26 13:30:00+00:00",
         "0.0",
         "0.0"
        ],
        [
         "2021-06-26 14:00:00+00:00",
         "0.0",
         "0.0"
        ],
        [
         "2021-06-26 14:30:00+00:00",
         "0.0",
         "0.0"
        ],
        [
         "2021-06-26 15:00:00+00:00",
         "0.0",
         "0.0"
        ],
        [
         "2021-06-26 15:30:00+00:00",
         "0.0",
         "0.0"
        ],
        [
         "2021-06-26 16:00:00+00:00",
         "0.0",
         "0.0"
        ],
        [
         "2021-06-26 16:30:00+00:00",
         "0.0",
         "0.0"
        ],
        [
         "2021-06-26 17:00:00+00:00",
         "0.24666666984558105",
         "0.0"
        ],
        [
         "2021-06-26 17:30:00+00:00",
         "7.293333538373312",
         "0.0"
        ],
        [
         "2021-06-26 18:00:00+00:00",
         "13.859999744097392",
         "16.764"
        ],
        [
         "2021-06-26 18:30:00+00:00",
         "0.964285705770765",
         "2.032"
        ],
        [
         "2021-06-26 19:00:00+00:00",
         "11.593333331743876",
         "1.016"
        ],
        [
         "2021-06-26 19:30:00+00:00",
         "8.559999926884968",
         "23.368"
        ],
        [
         "2021-06-26 20:00:00+00:00",
         "1.946666701634725",
         "1.524"
        ],
        [
         "2021-06-26 20:30:00+00:00",
         "0.0",
         "0.0"
        ],
        [
         "2021-06-26 21:00:00+00:00",
         "3.733333345254262",
         "2.54"
        ],
        [
         "2021-06-26 21:30:00+00:00",
         "18.80666663646698",
         "3.048"
        ],
        [
         "2021-06-26 22:00:00+00:00",
         "20.7999994627067",
         "26.416"
        ],
        [
         "2021-06-26 22:30:00+00:00",
         "9.073333390553792",
         "5.08"
        ],
        [
         "2021-06-26 23:00:00+00:00",
         "4.940000009536743",
         "1.524"
        ],
        [
         "2021-06-26 23:30:00+00:00",
         "0.04000000158945719",
         "0.0"
        ],
        [
         "2021-06-27 00:00:00+00:00",
         null,
         "0.0"
        ]
       ],
       "shape": {
        "columns": 2,
        "rows": 49
       }
      },
      "text/html": [
       "<div>\n",
       "<style scoped>\n",
       "    .dataframe tbody tr th:only-of-type {\n",
       "        vertical-align: middle;\n",
       "    }\n",
       "\n",
       "    .dataframe tbody tr th {\n",
       "        vertical-align: top;\n",
       "    }\n",
       "\n",
       "    .dataframe thead th {\n",
       "        text-align: right;\n",
       "    }\n",
       "</style>\n",
       "<table border=\"1\" class=\"dataframe\">\n",
       "  <thead>\n",
       "    <tr style=\"text-align: right;\">\n",
       "      <th></th>\n",
       "      <th>value</th>\n",
       "      <th>00045</th>\n",
       "    </tr>\n",
       "  </thead>\n",
       "  <tbody>\n",
       "    <tr>\n",
       "      <th>2021-06-26 00:00:00+00:00</th>\n",
       "      <td>0.000000</td>\n",
       "      <td>0.000</td>\n",
       "    </tr>\n",
       "    <tr>\n",
       "      <th>2021-06-26 00:30:00+00:00</th>\n",
       "      <td>0.000000</td>\n",
       "      <td>0.000</td>\n",
       "    </tr>\n",
       "    <tr>\n",
       "      <th>2021-06-26 01:00:00+00:00</th>\n",
       "      <td>0.000000</td>\n",
       "      <td>0.000</td>\n",
       "    </tr>\n",
       "    <tr>\n",
       "      <th>2021-06-26 01:30:00+00:00</th>\n",
       "      <td>0.000000</td>\n",
       "      <td>0.000</td>\n",
       "    </tr>\n",
       "    <tr>\n",
       "      <th>2021-06-26 02:00:00+00:00</th>\n",
       "      <td>0.000000</td>\n",
       "      <td>0.000</td>\n",
       "    </tr>\n",
       "    <tr>\n",
       "      <th>2021-06-26 02:30:00+00:00</th>\n",
       "      <td>0.000000</td>\n",
       "      <td>0.000</td>\n",
       "    </tr>\n",
       "    <tr>\n",
       "      <th>2021-06-26 03:00:00+00:00</th>\n",
       "      <td>0.000000</td>\n",
       "      <td>0.000</td>\n",
       "    </tr>\n",
       "    <tr>\n",
       "      <th>2021-06-26 03:30:00+00:00</th>\n",
       "      <td>0.000000</td>\n",
       "      <td>0.000</td>\n",
       "    </tr>\n",
       "    <tr>\n",
       "      <th>2021-06-26 04:00:00+00:00</th>\n",
       "      <td>0.040000</td>\n",
       "      <td>0.000</td>\n",
       "    </tr>\n",
       "    <tr>\n",
       "      <th>2021-06-26 04:30:00+00:00</th>\n",
       "      <td>1.500000</td>\n",
       "      <td>0.508</td>\n",
       "    </tr>\n",
       "    <tr>\n",
       "      <th>2021-06-26 05:00:00+00:00</th>\n",
       "      <td>2.306667</td>\n",
       "      <td>0.000</td>\n",
       "    </tr>\n",
       "    <tr>\n",
       "      <th>2021-06-26 05:30:00+00:00</th>\n",
       "      <td>3.220000</td>\n",
       "      <td>3.556</td>\n",
       "    </tr>\n",
       "    <tr>\n",
       "      <th>2021-06-26 06:00:00+00:00</th>\n",
       "      <td>2.266667</td>\n",
       "      <td>3.556</td>\n",
       "    </tr>\n",
       "    <tr>\n",
       "      <th>2021-06-26 06:30:00+00:00</th>\n",
       "      <td>0.506667</td>\n",
       "      <td>0.000</td>\n",
       "    </tr>\n",
       "    <tr>\n",
       "      <th>2021-06-26 07:00:00+00:00</th>\n",
       "      <td>1.800000</td>\n",
       "      <td>0.000</td>\n",
       "    </tr>\n",
       "    <tr>\n",
       "      <th>2021-06-26 07:30:00+00:00</th>\n",
       "      <td>1.953333</td>\n",
       "      <td>0.000</td>\n",
       "    </tr>\n",
       "    <tr>\n",
       "      <th>2021-06-26 08:00:00+00:00</th>\n",
       "      <td>1.546667</td>\n",
       "      <td>0.000</td>\n",
       "    </tr>\n",
       "    <tr>\n",
       "      <th>2021-06-26 08:30:00+00:00</th>\n",
       "      <td>1.586667</td>\n",
       "      <td>0.508</td>\n",
       "    </tr>\n",
       "    <tr>\n",
       "      <th>2021-06-26 09:00:00+00:00</th>\n",
       "      <td>0.393333</td>\n",
       "      <td>0.000</td>\n",
       "    </tr>\n",
       "    <tr>\n",
       "      <th>2021-06-26 09:30:00+00:00</th>\n",
       "      <td>0.000000</td>\n",
       "      <td>0.000</td>\n",
       "    </tr>\n",
       "    <tr>\n",
       "      <th>2021-06-26 10:00:00+00:00</th>\n",
       "      <td>0.342857</td>\n",
       "      <td>0.000</td>\n",
       "    </tr>\n",
       "    <tr>\n",
       "      <th>2021-06-26 10:30:00+00:00</th>\n",
       "      <td>17.113333</td>\n",
       "      <td>8.636</td>\n",
       "    </tr>\n",
       "    <tr>\n",
       "      <th>2021-06-26 11:00:00+00:00</th>\n",
       "      <td>27.253333</td>\n",
       "      <td>30.480</td>\n",
       "    </tr>\n",
       "    <tr>\n",
       "      <th>2021-06-26 11:30:00+00:00</th>\n",
       "      <td>11.240000</td>\n",
       "      <td>7.112</td>\n",
       "    </tr>\n",
       "    <tr>\n",
       "      <th>2021-06-26 12:00:00+00:00</th>\n",
       "      <td>8.500000</td>\n",
       "      <td>10.668</td>\n",
       "    </tr>\n",
       "    <tr>\n",
       "      <th>2021-06-26 12:30:00+00:00</th>\n",
       "      <td>0.800000</td>\n",
       "      <td>0.508</td>\n",
       "    </tr>\n",
       "    <tr>\n",
       "      <th>2021-06-26 13:00:00+00:00</th>\n",
       "      <td>0.000000</td>\n",
       "      <td>0.000</td>\n",
       "    </tr>\n",
       "    <tr>\n",
       "      <th>2021-06-26 13:30:00+00:00</th>\n",
       "      <td>0.000000</td>\n",
       "      <td>0.000</td>\n",
       "    </tr>\n",
       "    <tr>\n",
       "      <th>2021-06-26 14:00:00+00:00</th>\n",
       "      <td>0.000000</td>\n",
       "      <td>0.000</td>\n",
       "    </tr>\n",
       "    <tr>\n",
       "      <th>2021-06-26 14:30:00+00:00</th>\n",
       "      <td>0.000000</td>\n",
       "      <td>0.000</td>\n",
       "    </tr>\n",
       "    <tr>\n",
       "      <th>2021-06-26 15:00:00+00:00</th>\n",
       "      <td>0.000000</td>\n",
       "      <td>0.000</td>\n",
       "    </tr>\n",
       "    <tr>\n",
       "      <th>2021-06-26 15:30:00+00:00</th>\n",
       "      <td>0.000000</td>\n",
       "      <td>0.000</td>\n",
       "    </tr>\n",
       "    <tr>\n",
       "      <th>2021-06-26 16:00:00+00:00</th>\n",
       "      <td>0.000000</td>\n",
       "      <td>0.000</td>\n",
       "    </tr>\n",
       "    <tr>\n",
       "      <th>2021-06-26 16:30:00+00:00</th>\n",
       "      <td>0.000000</td>\n",
       "      <td>0.000</td>\n",
       "    </tr>\n",
       "    <tr>\n",
       "      <th>2021-06-26 17:00:00+00:00</th>\n",
       "      <td>0.246667</td>\n",
       "      <td>0.000</td>\n",
       "    </tr>\n",
       "    <tr>\n",
       "      <th>2021-06-26 17:30:00+00:00</th>\n",
       "      <td>7.293334</td>\n",
       "      <td>0.000</td>\n",
       "    </tr>\n",
       "    <tr>\n",
       "      <th>2021-06-26 18:00:00+00:00</th>\n",
       "      <td>13.860000</td>\n",
       "      <td>16.764</td>\n",
       "    </tr>\n",
       "    <tr>\n",
       "      <th>2021-06-26 18:30:00+00:00</th>\n",
       "      <td>0.964286</td>\n",
       "      <td>2.032</td>\n",
       "    </tr>\n",
       "    <tr>\n",
       "      <th>2021-06-26 19:00:00+00:00</th>\n",
       "      <td>11.593333</td>\n",
       "      <td>1.016</td>\n",
       "    </tr>\n",
       "    <tr>\n",
       "      <th>2021-06-26 19:30:00+00:00</th>\n",
       "      <td>8.560000</td>\n",
       "      <td>23.368</td>\n",
       "    </tr>\n",
       "    <tr>\n",
       "      <th>2021-06-26 20:00:00+00:00</th>\n",
       "      <td>1.946667</td>\n",
       "      <td>1.524</td>\n",
       "    </tr>\n",
       "    <tr>\n",
       "      <th>2021-06-26 20:30:00+00:00</th>\n",
       "      <td>0.000000</td>\n",
       "      <td>0.000</td>\n",
       "    </tr>\n",
       "    <tr>\n",
       "      <th>2021-06-26 21:00:00+00:00</th>\n",
       "      <td>3.733333</td>\n",
       "      <td>2.540</td>\n",
       "    </tr>\n",
       "    <tr>\n",
       "      <th>2021-06-26 21:30:00+00:00</th>\n",
       "      <td>18.806667</td>\n",
       "      <td>3.048</td>\n",
       "    </tr>\n",
       "    <tr>\n",
       "      <th>2021-06-26 22:00:00+00:00</th>\n",
       "      <td>20.799999</td>\n",
       "      <td>26.416</td>\n",
       "    </tr>\n",
       "    <tr>\n",
       "      <th>2021-06-26 22:30:00+00:00</th>\n",
       "      <td>9.073333</td>\n",
       "      <td>5.080</td>\n",
       "    </tr>\n",
       "    <tr>\n",
       "      <th>2021-06-26 23:00:00+00:00</th>\n",
       "      <td>4.940000</td>\n",
       "      <td>1.524</td>\n",
       "    </tr>\n",
       "    <tr>\n",
       "      <th>2021-06-26 23:30:00+00:00</th>\n",
       "      <td>0.040000</td>\n",
       "      <td>0.000</td>\n",
       "    </tr>\n",
       "    <tr>\n",
       "      <th>2021-06-27 00:00:00+00:00</th>\n",
       "      <td>NaN</td>\n",
       "      <td>0.000</td>\n",
       "    </tr>\n",
       "  </tbody>\n",
       "</table>\n",
       "</div>"
      ],
      "text/plain": [
       "                               value   00045\n",
       "2021-06-26 00:00:00+00:00   0.000000   0.000\n",
       "2021-06-26 00:30:00+00:00   0.000000   0.000\n",
       "2021-06-26 01:00:00+00:00   0.000000   0.000\n",
       "2021-06-26 01:30:00+00:00   0.000000   0.000\n",
       "2021-06-26 02:00:00+00:00   0.000000   0.000\n",
       "2021-06-26 02:30:00+00:00   0.000000   0.000\n",
       "2021-06-26 03:00:00+00:00   0.000000   0.000\n",
       "2021-06-26 03:30:00+00:00   0.000000   0.000\n",
       "2021-06-26 04:00:00+00:00   0.040000   0.000\n",
       "2021-06-26 04:30:00+00:00   1.500000   0.508\n",
       "2021-06-26 05:00:00+00:00   2.306667   0.000\n",
       "2021-06-26 05:30:00+00:00   3.220000   3.556\n",
       "2021-06-26 06:00:00+00:00   2.266667   3.556\n",
       "2021-06-26 06:30:00+00:00   0.506667   0.000\n",
       "2021-06-26 07:00:00+00:00   1.800000   0.000\n",
       "2021-06-26 07:30:00+00:00   1.953333   0.000\n",
       "2021-06-26 08:00:00+00:00   1.546667   0.000\n",
       "2021-06-26 08:30:00+00:00   1.586667   0.508\n",
       "2021-06-26 09:00:00+00:00   0.393333   0.000\n",
       "2021-06-26 09:30:00+00:00   0.000000   0.000\n",
       "2021-06-26 10:00:00+00:00   0.342857   0.000\n",
       "2021-06-26 10:30:00+00:00  17.113333   8.636\n",
       "2021-06-26 11:00:00+00:00  27.253333  30.480\n",
       "2021-06-26 11:30:00+00:00  11.240000   7.112\n",
       "2021-06-26 12:00:00+00:00   8.500000  10.668\n",
       "2021-06-26 12:30:00+00:00   0.800000   0.508\n",
       "2021-06-26 13:00:00+00:00   0.000000   0.000\n",
       "2021-06-26 13:30:00+00:00   0.000000   0.000\n",
       "2021-06-26 14:00:00+00:00   0.000000   0.000\n",
       "2021-06-26 14:30:00+00:00   0.000000   0.000\n",
       "2021-06-26 15:00:00+00:00   0.000000   0.000\n",
       "2021-06-26 15:30:00+00:00   0.000000   0.000\n",
       "2021-06-26 16:00:00+00:00   0.000000   0.000\n",
       "2021-06-26 16:30:00+00:00   0.000000   0.000\n",
       "2021-06-26 17:00:00+00:00   0.246667   0.000\n",
       "2021-06-26 17:30:00+00:00   7.293334   0.000\n",
       "2021-06-26 18:00:00+00:00  13.860000  16.764\n",
       "2021-06-26 18:30:00+00:00   0.964286   2.032\n",
       "2021-06-26 19:00:00+00:00  11.593333   1.016\n",
       "2021-06-26 19:30:00+00:00   8.560000  23.368\n",
       "2021-06-26 20:00:00+00:00   1.946667   1.524\n",
       "2021-06-26 20:30:00+00:00   0.000000   0.000\n",
       "2021-06-26 21:00:00+00:00   3.733333   2.540\n",
       "2021-06-26 21:30:00+00:00  18.806667   3.048\n",
       "2021-06-26 22:00:00+00:00  20.799999  26.416\n",
       "2021-06-26 22:30:00+00:00   9.073333   5.080\n",
       "2021-06-26 23:00:00+00:00   4.940000   1.524\n",
       "2021-06-26 23:30:00+00:00   0.040000   0.000\n",
       "2021-06-27 00:00:00+00:00        NaN   0.000"
      ]
     },
     "metadata": {},
     "output_type": "display_data"
    },
    {
     "data": {
      "image/png": "[encoded data removed]",
      "text/plain": [
       "<Figure size 640x480 with 1 Axes>"
      ]
     },
     "metadata": {},
     "output_type": "display_data"
    },
    {
     "data": {
      "application/vnd.microsoft.datawrangler.viewer.v0+json": {
       "columns": [
        {
         "name": "index",
         "rawType": "datetime64[ns, UTC]",
         "type": "unknown"
        },
        {
         "name": "value",
         "rawType": "float64",
         "type": "float"
        },
        {
         "name": "00045",
         "rawType": "float64",
         "type": "float"
        }
       ],
       "conversionMethod": "pd.DataFrame",
       "ref": "07dfa525-e758-4bc6-b80e-38205ae799bf",
       "rows": [
        [
         "2021-06-26 00:00:00+00:00",
         "0.0",
         "0.0"
        ],
        [
         "2021-06-26 00:30:00+00:00",
         "0.0",
         "0.0"
        ],
        [
         "2021-06-26 01:00:00+00:00",
         "0.0",
         "0.0"
        ],
        [
         "2021-06-26 01:30:00+00:00",
         "0.0",
         "0.0"
        ],
        [
         "2021-06-26 02:00:00+00:00",
         "0.0",
         "0.0"
        ],
        [
         "2021-06-26 02:30:00+00:00",
         "0.0",
         "0.0"
        ],
        [
         "2021-06-26 03:00:00+00:00",
         "0.0",
         "0.0"
        ],
        [
         "2021-06-26 03:30:00+00:00",
         "0.0",
         "0.0"
        ],
        [
         "2021-06-26 04:00:00+00:00",
         "0.0",
         "0.0"
        ],
        [
         "2021-06-26 04:30:00+00:00",
         "0.5066666702429453",
         "0.0"
        ],
        [
         "2021-06-26 05:00:00+00:00",
         "1.520000030597051",
         "0.0"
        ],
        [
         "2021-06-26 05:30:00+00:00",
         "6.053333393732706",
         "9.652"
        ],
        [
         "2021-06-26 06:00:00+00:00",
         "0.7600000083446503",
         "0.508"
        ],
        [
         "2021-06-26 06:30:00+00:00",
         "0.1800000051657359",
         "0.508"
        ],
        [
         "2021-06-26 07:00:00+00:00",
         "0.8066666642824809",
         "0.0"
        ],
        [
         "2021-06-26 07:30:00+00:00",
         "1.0999999960263571",
         "0.0"
        ],
        [
         "2021-06-26 08:00:00+00:00",
         "0.7133333404858907",
         "0.0"
        ],
        [
         "2021-06-26 08:30:00+00:00",
         "1.1199999888737997",
         "0.0"
        ],
        [
         "2021-06-26 09:00:00+00:00",
         "0.373333340883255",
         "0.0"
        ],
        [
         "2021-06-26 09:30:00+00:00",
         "0.10000000397364298",
         "0.0"
        ],
        [
         "2021-06-26 10:00:00+00:00",
         "0.0428571445601327",
         "0.0"
        ],
        [
         "2021-06-26 10:30:00+00:00",
         "15.75333301226298",
         "1.016"
        ],
        [
         "2021-06-26 11:00:00+00:00",
         "10.593333514531453",
         "24.892"
        ],
        [
         "2021-06-26 11:30:00+00:00",
         "6.459999910990397",
         "7.62"
        ],
        [
         "2021-06-26 12:00:00+00:00",
         "3.3666666030883787",
         "4.064"
        ],
        [
         "2021-06-26 12:30:00+00:00",
         "5.20666651725769",
         "2.032"
        ],
        [
         "2021-06-26 13:00:00+00:00",
         "0.0",
         "0.0"
        ],
        [
         "2021-06-26 13:30:00+00:00",
         "0.0",
         "0.0"
        ],
        [
         "2021-06-26 14:00:00+00:00",
         "0.0",
         "0.0"
        ],
        [
         "2021-06-26 14:30:00+00:00",
         "0.0",
         "0.0"
        ],
        [
         "2021-06-26 15:00:00+00:00",
         "0.0",
         "0.0"
        ],
        [
         "2021-06-26 15:30:00+00:00",
         "0.0",
         "0.0"
        ],
        [
         "2021-06-26 16:00:00+00:00",
         "0.0",
         "0.0"
        ],
        [
         "2021-06-26 16:30:00+00:00",
         "0.3933333436648051",
         "0.0"
        ],
        [
         "2021-06-26 17:00:00+00:00",
         "21.266666253407795",
         "11.176"
        ],
        [
         "2021-06-26 17:30:00+00:00",
         "11.04000027179718",
         "22.860000000000003"
        ],
        [
         "2021-06-26 18:00:00+00:00",
         "3.4000000794728598",
         "13.208"
        ],
        [
         "2021-06-26 18:30:00+00:00",
         "0.29285713604518343",
         "0.0"
        ],
        [
         "2021-06-26 19:00:00+00:00",
         "1.3533333400885263",
         "0.0"
        ],
        [
         "2021-06-26 19:30:00+00:00",
         "8.053333282470703",
         "5.588"
        ],
        [
         "2021-06-26 20:00:00+00:00",
         "0.8666666825612386",
         "3.048"
        ],
        [
         "2021-06-26 20:30:00+00:00",
         "3.753333302338918",
         "0.508"
        ],
        [
         "2021-06-26 21:00:00+00:00",
         "5.053333365917206",
         "5.588"
        ],
        [
         "2021-06-26 21:30:00+00:00",
         "3.286666655540466",
         "1.524"
        ],
        [
         "2021-06-26 22:00:00+00:00",
         "12.735714367457799",
         "8.636000000000001"
        ],
        [
         "2021-06-26 22:30:00+00:00",
         "7.666666650772095",
         "4.064"
        ],
        [
         "2021-06-26 23:00:00+00:00",
         "5.279999901851018",
         "2.032"
        ],
        [
         "2021-06-26 23:30:00+00:00",
         "0.30666667222976685",
         "0.0"
        ],
        [
         "2021-06-27 00:00:00+00:00",
         null,
         "0.0"
        ]
       ],
       "shape": {
        "columns": 2,
        "rows": 49
       }
      },
      "text/html": [
       "<div>\n",
       "<style scoped>\n",
       "    .dataframe tbody tr th:only-of-type {\n",
       "        vertical-align: middle;\n",
       "    }\n",
       "\n",
       "    .dataframe tbody tr th {\n",
       "        vertical-align: top;\n",
       "    }\n",
       "\n",
       "    .dataframe thead th {\n",
       "        text-align: right;\n",
       "    }\n",
       "</style>\n",
       "<table border=\"1\" class=\"dataframe\">\n",
       "  <thead>\n",
       "    <tr style=\"text-align: right;\">\n",
       "      <th></th>\n",
       "      <th>value</th>\n",
       "      <th>00045</th>\n",
       "    </tr>\n",
       "  </thead>\n",
       "  <tbody>\n",
       "    <tr>\n",
       "      <th>2021-06-26 00:00:00+00:00</th>\n",
       "      <td>0.000000</td>\n",
       "      <td>0.000</td>\n",
       "    </tr>\n",
       "    <tr>\n",
       "      <th>2021-06-26 00:30:00+00:00</th>\n",
       "      <td>0.000000</td>\n",
       "      <td>0.000</td>\n",
       "    </tr>\n",
       "    <tr>\n",
       "      <th>2021-06-26 01:00:00+00:00</th>\n",
       "      <td>0.000000</td>\n",
       "      <td>0.000</td>\n",
       "    </tr>\n",
       "    <tr>\n",
       "      <th>2021-06-26 01:30:00+00:00</th>\n",
       "      <td>0.000000</td>\n",
       "      <td>0.000</td>\n",
       "    </tr>\n",
       "    <tr>\n",
       "      <th>2021-06-26 02:00:00+00:00</th>\n",
       "      <td>0.000000</td>\n",
       "      <td>0.000</td>\n",
       "    </tr>\n",
       "    <tr>\n",
       "      <th>2021-06-26 02:30:00+00:00</th>\n",
       "      <td>0.000000</td>\n",
       "      <td>0.000</td>\n",
       "    </tr>\n",
       "    <tr>\n",
       "      <th>2021-06-26 03:00:00+00:00</th>\n",
       "      <td>0.000000</td>\n",
       "      <td>0.000</td>\n",
       "    </tr>\n",
       "    <tr>\n",
       "      <th>2021-06-26 03:30:00+00:00</th>\n",
       "      <td>0.000000</td>\n",
       "      <td>0.000</td>\n",
       "    </tr>\n",
       "    <tr>\n",
       "      <th>2021-06-26 04:00:00+00:00</th>\n",
       "      <td>0.000000</td>\n",
       "      <td>0.000</td>\n",
       "    </tr>\n",
       "    <tr>\n",
       "      <th>2021-06-26 04:30:00+00:00</th>\n",
       "      <td>0.506667</td>\n",
       "      <td>0.000</td>\n",
       "    </tr>\n",
       "    <tr>\n",
       "      <th>2021-06-26 05:00:00+00:00</th>\n",
       "      <td>1.520000</td>\n",
       "      <td>0.000</td>\n",
       "    </tr>\n",
       "    <tr>\n",
       "      <th>2021-06-26 05:30:00+00:00</th>\n",
       "      <td>6.053333</td>\n",
       "      <td>9.652</td>\n",
       "    </tr>\n",
       "    <tr>\n",
       "      <th>2021-06-26 06:00:00+00:00</th>\n",
       "      <td>0.760000</td>\n",
       "      <td>0.508</td>\n",
       "    </tr>\n",
       "    <tr>\n",
       "      <th>2021-06-26 06:30:00+00:00</th>\n",
       "      <td>0.180000</td>\n",
       "      <td>0.508</td>\n",
       "    </tr>\n",
       "    <tr>\n",
       "      <th>2021-06-26 07:00:00+00:00</th>\n",
       "      <td>0.806667</td>\n",
       "      <td>0.000</td>\n",
       "    </tr>\n",
       "    <tr>\n",
       "      <th>2021-06-26 07:30:00+00:00</th>\n",
       "      <td>1.100000</td>\n",
       "      <td>0.000</td>\n",
       "    </tr>\n",
       "    <tr>\n",
       "      <th>2021-06-26 08:00:00+00:00</th>\n",
       "      <td>0.713333</td>\n",
       "      <td>0.000</td>\n",
       "    </tr>\n",
       "    <tr>\n",
       "      <th>2021-06-26 08:30:00+00:00</th>\n",
       "      <td>1.120000</td>\n",
       "      <td>0.000</td>\n",
       "    </tr>\n",
       "    <tr>\n",
       "      <th>2021-06-26 09:00:00+00:00</th>\n",
       "      <td>0.373333</td>\n",
       "      <td>0.000</td>\n",
       "    </tr>\n",
       "    <tr>\n",
       "      <th>2021-06-26 09:30:00+00:00</th>\n",
       "      <td>0.100000</td>\n",
       "      <td>0.000</td>\n",
       "    </tr>\n",
       "    <tr>\n",
       "      <th>2021-06-26 10:00:00+00:00</th>\n",
       "      <td>0.042857</td>\n",
       "      <td>0.000</td>\n",
       "    </tr>\n",
       "    <tr>\n",
       "      <th>2021-06-26 10:30:00+00:00</th>\n",
       "      <td>15.753333</td>\n",
       "      <td>1.016</td>\n",
       "    </tr>\n",
       "    <tr>\n",
       "      <th>2021-06-26 11:00:00+00:00</th>\n",
       "      <td>10.593334</td>\n",
       "      <td>24.892</td>\n",
       "    </tr>\n",
       "    <tr>\n",
       "      <th>2021-06-26 11:30:00+00:00</th>\n",
       "      <td>6.460000</td>\n",
       "      <td>7.620</td>\n",
       "    </tr>\n",
       "    <tr>\n",
       "      <th>2021-06-26 12:00:00+00:00</th>\n",
       "      <td>3.366667</td>\n",
       "      <td>4.064</td>\n",
       "    </tr>\n",
       "    <tr>\n",
       "      <th>2021-06-26 12:30:00+00:00</th>\n",
       "      <td>5.206667</td>\n",
       "      <td>2.032</td>\n",
       "    </tr>\n",
       "    <tr>\n",
       "      <th>2021-06-26 13:00:00+00:00</th>\n",
       "      <td>0.000000</td>\n",
       "      <td>0.000</td>\n",
       "    </tr>\n",
       "    <tr>\n",
       "      <th>2021-06-26 13:30:00+00:00</th>\n",
       "      <td>0.000000</td>\n",
       "      <td>0.000</td>\n",
       "    </tr>\n",
       "    <tr>\n",
       "      <th>2021-06-26 14:00:00+00:00</th>\n",
       "      <td>0.000000</td>\n",
       "      <td>0.000</td>\n",
       "    </tr>\n",
       "    <tr>\n",
       "      <th>2021-06-26 14:30:00+00:00</th>\n",
       "      <td>0.000000</td>\n",
       "      <td>0.000</td>\n",
       "    </tr>\n",
       "    <tr>\n",
       "      <th>2021-06-26 15:00:00+00:00</th>\n",
       "      <td>0.000000</td>\n",
       "      <td>0.000</td>\n",
       "    </tr>\n",
       "    <tr>\n",
       "      <th>2021-06-26 15:30:00+00:00</th>\n",
       "      <td>0.000000</td>\n",
       "      <td>0.000</td>\n",
       "    </tr>\n",
       "    <tr>\n",
       "      <th>2021-06-26 16:00:00+00:00</th>\n",
       "      <td>0.000000</td>\n",
       "      <td>0.000</td>\n",
       "    </tr>\n",
       "    <tr>\n",
       "      <th>2021-06-26 16:30:00+00:00</th>\n",
       "      <td>0.393333</td>\n",
       "      <td>0.000</td>\n",
       "    </tr>\n",
       "    <tr>\n",
       "      <th>2021-06-26 17:00:00+00:00</th>\n",
       "      <td>21.266666</td>\n",
       "      <td>11.176</td>\n",
       "    </tr>\n",
       "    <tr>\n",
       "      <th>2021-06-26 17:30:00+00:00</th>\n",
       "      <td>11.040000</td>\n",
       "      <td>22.860</td>\n",
       "    </tr>\n",
       "    <tr>\n",
       "      <th>2021-06-26 18:00:00+00:00</th>\n",
       "      <td>3.400000</td>\n",
       "      <td>13.208</td>\n",
       "    </tr>\n",
       "    <tr>\n",
       "      <th>2021-06-26 18:30:00+00:00</th>\n",
       "      <td>0.292857</td>\n",
       "      <td>0.000</td>\n",
       "    </tr>\n",
       "    <tr>\n",
       "      <th>2021-06-26 19:00:00+00:00</th>\n",
       "      <td>1.353333</td>\n",
       "      <td>0.000</td>\n",
       "    </tr>\n",
       "    <tr>\n",
       "      <th>2021-06-26 19:30:00+00:00</th>\n",
       "      <td>8.053333</td>\n",
       "      <td>5.588</td>\n",
       "    </tr>\n",
       "    <tr>\n",
       "      <th>2021-06-26 20:00:00+00:00</th>\n",
       "      <td>0.866667</td>\n",
       "      <td>3.048</td>\n",
       "    </tr>\n",
       "    <tr>\n",
       "      <th>2021-06-26 20:30:00+00:00</th>\n",
       "      <td>3.753333</td>\n",
       "      <td>0.508</td>\n",
       "    </tr>\n",
       "    <tr>\n",
       "      <th>2021-06-26 21:00:00+00:00</th>\n",
       "      <td>5.053333</td>\n",
       "      <td>5.588</td>\n",
       "    </tr>\n",
       "    <tr>\n",
       "      <th>2021-06-26 21:30:00+00:00</th>\n",
       "      <td>3.286667</td>\n",
       "      <td>1.524</td>\n",
       "    </tr>\n",
       "    <tr>\n",
       "      <th>2021-06-26 22:00:00+00:00</th>\n",
       "      <td>12.735714</td>\n",
       "      <td>8.636</td>\n",
       "    </tr>\n",
       "    <tr>\n",
       "      <th>2021-06-26 22:30:00+00:00</th>\n",
       "      <td>7.666667</td>\n",
       "      <td>4.064</td>\n",
       "    </tr>\n",
       "    <tr>\n",
       "      <th>2021-06-26 23:00:00+00:00</th>\n",
       "      <td>5.280000</td>\n",
       "      <td>2.032</td>\n",
       "    </tr>\n",
       "    <tr>\n",
       "      <th>2021-06-26 23:30:00+00:00</th>\n",
       "      <td>0.306667</td>\n",
       "      <td>0.000</td>\n",
       "    </tr>\n",
       "    <tr>\n",
       "      <th>2021-06-27 00:00:00+00:00</th>\n",
       "      <td>NaN</td>\n",
       "      <td>0.000</td>\n",
       "    </tr>\n",
       "  </tbody>\n",
       "</table>\n",
       "</div>"
      ],
      "text/plain": [
       "                               value   00045\n",
       "2021-06-26 00:00:00+00:00   0.000000   0.000\n",
       "2021-06-26 00:30:00+00:00   0.000000   0.000\n",
       "2021-06-26 01:00:00+00:00   0.000000   0.000\n",
       "2021-06-26 01:30:00+00:00   0.000000   0.000\n",
       "2021-06-26 02:00:00+00:00   0.000000   0.000\n",
       "2021-06-26 02:30:00+00:00   0.000000   0.000\n",
       "2021-06-26 03:00:00+00:00   0.000000   0.000\n",
       "2021-06-26 03:30:00+00:00   0.000000   0.000\n",
       "2021-06-26 04:00:00+00:00   0.000000   0.000\n",
       "2021-06-26 04:30:00+00:00   0.506667   0.000\n",
       "2021-06-26 05:00:00+00:00   1.520000   0.000\n",
       "2021-06-26 05:30:00+00:00   6.053333   9.652\n",
       "2021-06-26 06:00:00+00:00   0.760000   0.508\n",
       "2021-06-26 06:30:00+00:00   0.180000   0.508\n",
       "2021-06-26 07:00:00+00:00   0.806667   0.000\n",
       "2021-06-26 07:30:00+00:00   1.100000   0.000\n",
       "2021-06-26 08:00:00+00:00   0.713333   0.000\n",
       "2021-06-26 08:30:00+00:00   1.120000   0.000\n",
       "2021-06-26 09:00:00+00:00   0.373333   0.000\n",
       "2021-06-26 09:30:00+00:00   0.100000   0.000\n",
       "2021-06-26 10:00:00+00:00   0.042857   0.000\n",
       "2021-06-26 10:30:00+00:00  15.753333   1.016\n",
       "2021-06-26 11:00:00+00:00  10.593334  24.892\n",
       "2021-06-26 11:30:00+00:00   6.460000   7.620\n",
       "2021-06-26 12:00:00+00:00   3.366667   4.064\n",
       "2021-06-26 12:30:00+00:00   5.206667   2.032\n",
       "2021-06-26 13:00:00+00:00   0.000000   0.000\n",
       "2021-06-26 13:30:00+00:00   0.000000   0.000\n",
       "2021-06-26 14:00:00+00:00   0.000000   0.000\n",
       "2021-06-26 14:30:00+00:00   0.000000   0.000\n",
       "2021-06-26 15:00:00+00:00   0.000000   0.000\n",
       "2021-06-26 15:30:00+00:00   0.000000   0.000\n",
       "2021-06-26 16:00:00+00:00   0.000000   0.000\n",
       "2021-06-26 16:30:00+00:00   0.393333   0.000\n",
       "2021-06-26 17:00:00+00:00  21.266666  11.176\n",
       "2021-06-26 17:30:00+00:00  11.040000  22.860\n",
       "2021-06-26 18:00:00+00:00   3.400000  13.208\n",
       "2021-06-26 18:30:00+00:00   0.292857   0.000\n",
       "2021-06-26 19:00:00+00:00   1.353333   0.000\n",
       "2021-06-26 19:30:00+00:00   8.053333   5.588\n",
       "2021-06-26 20:00:00+00:00   0.866667   3.048\n",
       "2021-06-26 20:30:00+00:00   3.753333   0.508\n",
       "2021-06-26 21:00:00+00:00   5.053333   5.588\n",
       "2021-06-26 21:30:00+00:00   3.286667   1.524\n",
       "2021-06-26 22:00:00+00:00  12.735714   8.636\n",
       "2021-06-26 22:30:00+00:00   7.666667   4.064\n",
       "2021-06-26 23:00:00+00:00   5.280000   2.032\n",
       "2021-06-26 23:30:00+00:00   0.306667   0.000\n",
       "2021-06-27 00:00:00+00:00        NaN   0.000"
      ]
     },
     "metadata": {},
     "output_type": "display_data"
    },
    {
     "data": {
      "image/png": "[encoded data removed]",
      "text/plain": [
       "<Figure size 640x480 with 1 Axes>"
      ]
     },
     "metadata": {},
     "output_type": "display_data"
    },
    {
     "data": {
      "application/vnd.microsoft.datawrangler.viewer.v0+json": {
       "columns": [
        {
         "name": "index",
         "rawType": "datetime64[ns, UTC]",
         "type": "unknown"
        },
        {
         "name": "value",
         "rawType": "float64",
         "type": "float"
        },
        {
         "name": "00045",
         "rawType": "float64",
         "type": "float"
        }
       ],
       "conversionMethod": "pd.DataFrame",
       "ref": "1654198f-7c12-4c2a-9dcc-f6c01ce702fc",
       "rows": [
        [
         "2021-06-26 00:00:00+00:00",
         "0.0",
         "0.0"
        ],
        [
         "2021-06-26 00:30:00+00:00",
         "0.0",
         "0.0"
        ],
        [
         "2021-06-26 01:00:00+00:00",
         "0.0",
         "0.0"
        ],
        [
         "2021-06-26 01:30:00+00:00",
         "0.0",
         "0.0"
        ],
        [
         "2021-06-26 02:00:00+00:00",
         "0.0",
         "0.0"
        ],
        [
         "2021-06-26 02:30:00+00:00",
         "0.0",
         "0.0"
        ],
        [
         "2021-06-26 03:00:00+00:00",
         "0.0",
         "0.0"
        ],
        [
         "2021-06-26 03:30:00+00:00",
         "0.0",
         "0.0"
        ],
        [
         "2021-06-26 04:00:00+00:00",
         "0.0",
         "0.0"
        ],
        [
         "2021-06-26 04:30:00+00:00",
         "0.0",
         "0.0"
        ],
        [
         "2021-06-26 05:00:00+00:00",
         "0.10666666825612386",
         "0.0"
        ],
        [
         "2021-06-26 05:30:00+00:00",
         "3.9733333826065063",
         "2.54"
        ],
        [
         "2021-06-26 06:00:00+00:00",
         "1.2066666583220165",
         "3.048"
        ],
        [
         "2021-06-26 06:30:00+00:00",
         "0.4666666587193807",
         "0.0"
        ],
        [
         "2021-06-26 07:00:00+00:00",
         "0.3400000075499216",
         "0.0"
        ],
        [
         "2021-06-26 07:30:00+00:00",
         "1.033333311478297",
         "0.0"
        ],
        [
         "2021-06-26 08:00:00+00:00",
         "0.47333333690961205",
         "0.0"
        ],
        [
         "2021-06-26 08:30:00+00:00",
         "0.14000000357627868",
         "0.0"
        ],
        [
         "2021-06-26 09:00:00+00:00",
         "0.15333333810170488",
         "0.0"
        ],
        [
         "2021-06-26 09:30:00+00:00",
         "0.0",
         "0.0"
        ],
        [
         "2021-06-26 10:00:00+00:00",
         "0.0",
         "0.0"
        ],
        [
         "2021-06-26 10:30:00+00:00",
         "0.3333333253860474",
         "0.0"
        ],
        [
         "2021-06-26 11:00:00+00:00",
         "2.3266667445500695",
         "3.5559999999999996"
        ],
        [
         "2021-06-26 11:30:00+00:00",
         "38.95333302815755",
         "22.352"
        ],
        [
         "2021-06-26 12:00:00+00:00",
         "8.953333346048991",
         "9.144"
        ],
        [
         "2021-06-26 12:30:00+00:00",
         "3.5733332435290017",
         "3.048"
        ],
        [
         "2021-06-26 13:00:00+00:00",
         "0.28000000715255735",
         "0.0"
        ],
        [
         "2021-06-26 13:30:00+00:00",
         "0.0",
         "0.0"
        ],
        [
         "2021-06-26 14:00:00+00:00",
         "0.0",
         "0.0"
        ],
        [
         "2021-06-26 14:30:00+00:00",
         "0.0",
         "0.0"
        ],
        [
         "2021-06-26 15:00:00+00:00",
         "0.0",
         "0.0"
        ],
        [
         "2021-06-26 15:30:00+00:00",
         "0.0",
         "0.0"
        ],
        [
         "2021-06-26 16:00:00+00:00",
         "0.0",
         "0.0"
        ],
        [
         "2021-06-26 16:30:00+00:00",
         "0.040000001589457185",
         "0.0"
        ],
        [
         "2021-06-26 17:00:00+00:00",
         "1.7866666952768961",
         "0.0"
        ],
        [
         "2021-06-26 17:30:00+00:00",
         "13.4",
         "11.176"
        ],
        [
         "2021-06-26 18:00:00+00:00",
         "6.020000048478445",
         "22.86"
        ],
        [
         "2021-06-26 18:30:00+00:00",
         "0.3785714251654489",
         "0.0"
        ],
        [
         "2021-06-26 19:00:00+00:00",
         "0.17333333492279052",
         "0.0"
        ],
        [
         "2021-06-26 19:30:00+00:00",
         "2.2666666825612385",
         "0.0"
        ],
        [
         "2021-06-26 20:00:00+00:00",
         "0.4933333476384481",
         "2.032"
        ],
        [
         "2021-06-26 20:30:00+00:00",
         "0.0",
         "0.0"
        ],
        [
         "2021-06-26 21:00:00+00:00",
         "21.980000124375024",
         "16.764"
        ],
        [
         "2021-06-26 21:30:00+00:00",
         "3.313333344459534",
         "4.064"
        ],
        [
         "2021-06-26 22:00:00+00:00",
         "6.621428587606975",
         "3.048"
        ],
        [
         "2021-06-26 22:30:00+00:00",
         "9.059999942779541",
         "5.08"
        ],
        [
         "2021-06-26 23:00:00+00:00",
         "4.566666666666666",
         "2.54"
        ],
        [
         "2021-06-26 23:30:00+00:00",
         "0.16666666865348817",
         "0.0"
        ],
        [
         "2021-06-27 00:00:00+00:00",
         null,
         "0.0"
        ]
       ],
       "shape": {
        "columns": 2,
        "rows": 49
       }
      },
      "text/html": [
       "<div>\n",
       "<style scoped>\n",
       "    .dataframe tbody tr th:only-of-type {\n",
       "        vertical-align: middle;\n",
       "    }\n",
       "\n",
       "    .dataframe tbody tr th {\n",
       "        vertical-align: top;\n",
       "    }\n",
       "\n",
       "    .dataframe thead th {\n",
       "        text-align: right;\n",
       "    }\n",
       "</style>\n",
       "<table border=\"1\" class=\"dataframe\">\n",
       "  <thead>\n",
       "    <tr style=\"text-align: right;\">\n",
       "      <th></th>\n",
       "      <th>value</th>\n",
       "      <th>00045</th>\n",
       "    </tr>\n",
       "  </thead>\n",
       "  <tbody>\n",
       "    <tr>\n",
       "      <th>2021-06-26 00:00:00+00:00</th>\n",
       "      <td>0.000000</td>\n",
       "      <td>0.000</td>\n",
       "    </tr>\n",
       "    <tr>\n",
       "      <th>2021-06-26 00:30:00+00:00</th>\n",
       "      <td>0.000000</td>\n",
       "      <td>0.000</td>\n",
       "    </tr>\n",
       "    <tr>\n",
       "      <th>2021-06-26 01:00:00+00:00</th>\n",
       "      <td>0.000000</td>\n",
       "      <td>0.000</td>\n",
       "    </tr>\n",
       "    <tr>\n",
       "      <th>2021-06-26 01:30:00+00:00</th>\n",
       "      <td>0.000000</td>\n",
       "      <td>0.000</td>\n",
       "    </tr>\n",
       "    <tr>\n",
       "      <th>2021-06-26 02:00:00+00:00</th>\n",
       "      <td>0.000000</td>\n",
       "      <td>0.000</td>\n",
       "    </tr>\n",
       "    <tr>\n",
       "      <th>2021-06-26 02:30:00+00:00</th>\n",
       "      <td>0.000000</td>\n",
       "      <td>0.000</td>\n",
       "    </tr>\n",
       "    <tr>\n",
       "      <th>2021-06-26 03:00:00+00:00</th>\n",
       "      <td>0.000000</td>\n",
       "      <td>0.000</td>\n",
       "    </tr>\n",
       "    <tr>\n",
       "      <th>2021-06-26 03:30:00+00:00</th>\n",
       "      <td>0.000000</td>\n",
       "      <td>0.000</td>\n",
       "    </tr>\n",
       "    <tr>\n",
       "      <th>2021-06-26 04:00:00+00:00</th>\n",
       "      <td>0.000000</td>\n",
       "      <td>0.000</td>\n",
       "    </tr>\n",
       "    <tr>\n",
       "      <th>2021-06-26 04:30:00+00:00</th>\n",
       "      <td>0.000000</td>\n",
       "      <td>0.000</td>\n",
       "    </tr>\n",
       "    <tr>\n",
       "      <th>2021-06-26 05:00:00+00:00</th>\n",
       "      <td>0.106667</td>\n",
       "      <td>0.000</td>\n",
       "    </tr>\n",
       "    <tr>\n",
       "      <th>2021-06-26 05:30:00+00:00</th>\n",
       "      <td>3.973333</td>\n",
       "      <td>2.540</td>\n",
       "    </tr>\n",
       "    <tr>\n",
       "      <th>2021-06-26 06:00:00+00:00</th>\n",
       "      <td>1.206667</td>\n",
       "      <td>3.048</td>\n",
       "    </tr>\n",
       "    <tr>\n",
       "      <th>2021-06-26 06:30:00+00:00</th>\n",
       "      <td>0.466667</td>\n",
       "      <td>0.000</td>\n",
       "    </tr>\n",
       "    <tr>\n",
       "      <th>2021-06-26 07:00:00+00:00</th>\n",
       "      <td>0.340000</td>\n",
       "      <td>0.000</td>\n",
       "    </tr>\n",
       "    <tr>\n",
       "      <th>2021-06-26 07:30:00+00:00</th>\n",
       "      <td>1.033333</td>\n",
       "      <td>0.000</td>\n",
       "    </tr>\n",
       "    <tr>\n",
       "      <th>2021-06-26 08:00:00+00:00</th>\n",
       "      <td>0.473333</td>\n",
       "      <td>0.000</td>\n",
       "    </tr>\n",
       "    <tr>\n",
       "      <th>2021-06-26 08:30:00+00:00</th>\n",
       "      <td>0.140000</td>\n",
       "      <td>0.000</td>\n",
       "    </tr>\n",
       "    <tr>\n",
       "      <th>2021-06-26 09:00:00+00:00</th>\n",
       "      <td>0.153333</td>\n",
       "      <td>0.000</td>\n",
       "    </tr>\n",
       "    <tr>\n",
       "      <th>2021-06-26 09:30:00+00:00</th>\n",
       "      <td>0.000000</td>\n",
       "      <td>0.000</td>\n",
       "    </tr>\n",
       "    <tr>\n",
       "      <th>2021-06-26 10:00:00+00:00</th>\n",
       "      <td>0.000000</td>\n",
       "      <td>0.000</td>\n",
       "    </tr>\n",
       "    <tr>\n",
       "      <th>2021-06-26 10:30:00+00:00</th>\n",
       "      <td>0.333333</td>\n",
       "      <td>0.000</td>\n",
       "    </tr>\n",
       "    <tr>\n",
       "      <th>2021-06-26 11:00:00+00:00</th>\n",
       "      <td>2.326667</td>\n",
       "      <td>3.556</td>\n",
       "    </tr>\n",
       "    <tr>\n",
       "      <th>2021-06-26 11:30:00+00:00</th>\n",
       "      <td>38.953333</td>\n",
       "      <td>22.352</td>\n",
       "    </tr>\n",
       "    <tr>\n",
       "      <th>2021-06-26 12:00:00+00:00</th>\n",
       "      <td>8.953333</td>\n",
       "      <td>9.144</td>\n",
       "    </tr>\n",
       "    <tr>\n",
       "      <th>2021-06-26 12:30:00+00:00</th>\n",
       "      <td>3.573333</td>\n",
       "      <td>3.048</td>\n",
       "    </tr>\n",
       "    <tr>\n",
       "      <th>2021-06-26 13:00:00+00:00</th>\n",
       "      <td>0.280000</td>\n",
       "      <td>0.000</td>\n",
       "    </tr>\n",
       "    <tr>\n",
       "      <th>2021-06-26 13:30:00+00:00</th>\n",
       "      <td>0.000000</td>\n",
       "      <td>0.000</td>\n",
       "    </tr>\n",
       "    <tr>\n",
       "      <th>2021-06-26 14:00:00+00:00</th>\n",
       "      <td>0.000000</td>\n",
       "      <td>0.000</td>\n",
       "    </tr>\n",
       "    <tr>\n",
       "      <th>2021-06-26 14:30:00+00:00</th>\n",
       "      <td>0.000000</td>\n",
       "      <td>0.000</td>\n",
       "    </tr>\n",
       "    <tr>\n",
       "      <th>2021-06-26 15:00:00+00:00</th>\n",
       "      <td>0.000000</td>\n",
       "      <td>0.000</td>\n",
       "    </tr>\n",
       "    <tr>\n",
       "      <th>2021-06-26 15:30:00+00:00</th>\n",
       "      <td>0.000000</td>\n",
       "      <td>0.000</td>\n",
       "    </tr>\n",
       "    <tr>\n",
       "      <th>2021-06-26 16:00:00+00:00</th>\n",
       "      <td>0.000000</td>\n",
       "      <td>0.000</td>\n",
       "    </tr>\n",
       "    <tr>\n",
       "      <th>2021-06-26 16:30:00+00:00</th>\n",
       "      <td>0.040000</td>\n",
       "      <td>0.000</td>\n",
       "    </tr>\n",
       "    <tr>\n",
       "      <th>2021-06-26 17:00:00+00:00</th>\n",
       "      <td>1.786667</td>\n",
       "      <td>0.000</td>\n",
       "    </tr>\n",
       "    <tr>\n",
       "      <th>2021-06-26 17:30:00+00:00</th>\n",
       "      <td>13.400000</td>\n",
       "      <td>11.176</td>\n",
       "    </tr>\n",
       "    <tr>\n",
       "      <th>2021-06-26 18:00:00+00:00</th>\n",
       "      <td>6.020000</td>\n",
       "      <td>22.860</td>\n",
       "    </tr>\n",
       "    <tr>\n",
       "      <th>2021-06-26 18:30:00+00:00</th>\n",
       "      <td>0.378571</td>\n",
       "      <td>0.000</td>\n",
       "    </tr>\n",
       "    <tr>\n",
       "      <th>2021-06-26 19:00:00+00:00</th>\n",
       "      <td>0.173333</td>\n",
       "      <td>0.000</td>\n",
       "    </tr>\n",
       "    <tr>\n",
       "      <th>2021-06-26 19:30:00+00:00</th>\n",
       "      <td>2.266667</td>\n",
       "      <td>0.000</td>\n",
       "    </tr>\n",
       "    <tr>\n",
       "      <th>2021-06-26 20:00:00+00:00</th>\n",
       "      <td>0.493333</td>\n",
       "      <td>2.032</td>\n",
       "    </tr>\n",
       "    <tr>\n",
       "      <th>2021-06-26 20:30:00+00:00</th>\n",
       "      <td>0.000000</td>\n",
       "      <td>0.000</td>\n",
       "    </tr>\n",
       "    <tr>\n",
       "      <th>2021-06-26 21:00:00+00:00</th>\n",
       "      <td>21.980000</td>\n",
       "      <td>16.764</td>\n",
       "    </tr>\n",
       "    <tr>\n",
       "      <th>2021-06-26 21:30:00+00:00</th>\n",
       "      <td>3.313333</td>\n",
       "      <td>4.064</td>\n",
       "    </tr>\n",
       "    <tr>\n",
       "      <th>2021-06-26 22:00:00+00:00</th>\n",
       "      <td>6.621429</td>\n",
       "      <td>3.048</td>\n",
       "    </tr>\n",
       "    <tr>\n",
       "      <th>2021-06-26 22:30:00+00:00</th>\n",
       "      <td>9.060000</td>\n",
       "      <td>5.080</td>\n",
       "    </tr>\n",
       "    <tr>\n",
       "      <th>2021-06-26 23:00:00+00:00</th>\n",
       "      <td>4.566667</td>\n",
       "      <td>2.540</td>\n",
       "    </tr>\n",
       "    <tr>\n",
       "      <th>2021-06-26 23:30:00+00:00</th>\n",
       "      <td>0.166667</td>\n",
       "      <td>0.000</td>\n",
       "    </tr>\n",
       "    <tr>\n",
       "      <th>2021-06-27 00:00:00+00:00</th>\n",
       "      <td>NaN</td>\n",
       "      <td>0.000</td>\n",
       "    </tr>\n",
       "  </tbody>\n",
       "</table>\n",
       "</div>"
      ],
      "text/plain": [
       "                               value   00045\n",
       "2021-06-26 00:00:00+00:00   0.000000   0.000\n",
       "2021-06-26 00:30:00+00:00   0.000000   0.000\n",
       "2021-06-26 01:00:00+00:00   0.000000   0.000\n",
       "2021-06-26 01:30:00+00:00   0.000000   0.000\n",
       "2021-06-26 02:00:00+00:00   0.000000   0.000\n",
       "2021-06-26 02:30:00+00:00   0.000000   0.000\n",
       "2021-06-26 03:00:00+00:00   0.000000   0.000\n",
       "2021-06-26 03:30:00+00:00   0.000000   0.000\n",
       "2021-06-26 04:00:00+00:00   0.000000   0.000\n",
       "2021-06-26 04:30:00+00:00   0.000000   0.000\n",
       "2021-06-26 05:00:00+00:00   0.106667   0.000\n",
       "2021-06-26 05:30:00+00:00   3.973333   2.540\n",
       "2021-06-26 06:00:00+00:00   1.206667   3.048\n",
       "2021-06-26 06:30:00+00:00   0.466667   0.000\n",
       "2021-06-26 07:00:00+00:00   0.340000   0.000\n",
       "2021-06-26 07:30:00+00:00   1.033333   0.000\n",
       "2021-06-26 08:00:00+00:00   0.473333   0.000\n",
       "2021-06-26 08:30:00+00:00   0.140000   0.000\n",
       "2021-06-26 09:00:00+00:00   0.153333   0.000\n",
       "2021-06-26 09:30:00+00:00   0.000000   0.000\n",
       "2021-06-26 10:00:00+00:00   0.000000   0.000\n",
       "2021-06-26 10:30:00+00:00   0.333333   0.000\n",
       "2021-06-26 11:00:00+00:00   2.326667   3.556\n",
       "2021-06-26 11:30:00+00:00  38.953333  22.352\n",
       "2021-06-26 12:00:00+00:00   8.953333   9.144\n",
       "2021-06-26 12:30:00+00:00   3.573333   3.048\n",
       "2021-06-26 13:00:00+00:00   0.280000   0.000\n",
       "2021-06-26 13:30:00+00:00   0.000000   0.000\n",
       "2021-06-26 14:00:00+00:00   0.000000   0.000\n",
       "2021-06-26 14:30:00+00:00   0.000000   0.000\n",
       "2021-06-26 15:00:00+00:00   0.000000   0.000\n",
       "2021-06-26 15:30:00+00:00   0.000000   0.000\n",
       "2021-06-26 16:00:00+00:00   0.000000   0.000\n",
       "2021-06-26 16:30:00+00:00   0.040000   0.000\n",
       "2021-06-26 17:00:00+00:00   1.786667   0.000\n",
       "2021-06-26 17:30:00+00:00  13.400000  11.176\n",
       "2021-06-26 18:00:00+00:00   6.020000  22.860\n",
       "2021-06-26 18:30:00+00:00   0.378571   0.000\n",
       "2021-06-26 19:00:00+00:00   0.173333   0.000\n",
       "2021-06-26 19:30:00+00:00   2.266667   0.000\n",
       "2021-06-26 20:00:00+00:00   0.493333   2.032\n",
       "2021-06-26 20:30:00+00:00   0.000000   0.000\n",
       "2021-06-26 21:00:00+00:00  21.980000  16.764\n",
       "2021-06-26 21:30:00+00:00   3.313333   4.064\n",
       "2021-06-26 22:00:00+00:00   6.621429   3.048\n",
       "2021-06-26 22:30:00+00:00   9.060000   5.080\n",
       "2021-06-26 23:00:00+00:00   4.566667   2.540\n",
       "2021-06-26 23:30:00+00:00   0.166667   0.000\n",
       "2021-06-27 00:00:00+00:00        NaN   0.000"
      ]
     },
     "metadata": {},
     "output_type": "display_data"
    },
    {
     "data": {
      "image/png": "[encoded data removed]",
      "text/plain": [
       "<Figure size 640x480 with 1 Axes>"
      ]
     },
     "metadata": {},
     "output_type": "display_data"
    }
   ],
   "source": [
    "for radar_pfile in radar_pfiles:\n",
    "    station_name = radar_pfile.stem\n",
    "    station_id = site_info.set_index(\"station_nm\").loc[station_name][\"site_no\"]\n",
    "\n",
    "    usgs_rain = df.xs(station_id).loc[start:end, \"00045\"]\n",
    "    tdelta_usgs = np.diff(usgs_rain.index)[0]\n",
    "    usgs_rain_mmhr = usgs_rain * 25.4 / (tdelta_usgs / pd.Timedelta(\"1h\"))  # from in to mm/hr\n",
    "    usgs_resample = usgs_rain_mmhr.resample(pd.Timedelta(\"30min\")).mean()\n",
    "\n",
    "    radar_rain = pd.read_csv(radar_pfile, index_col=0)\n",
    "    radar_rain.index = pd.to_datetime(radar_rain.index, utc=True)\n",
    "    radar_resample = radar_rain.resample(pd.Timedelta(\"30min\")).mean()\n",
    "\n",
    "    merged = pd.concat([radar_resample, usgs_resample], axis=1)\n",
    "    display(merged)\n",
    "\n",
    "    fig, ax = plt.subplots()\n",
    "    ax.set_title(f\"{station_name}\", fontsize=8, va=\"top\", y=0.9)\n",
    "    ax.set_aspect(\"equal\")\n",
    "    ax.scatter(merged[\"value\"], merged[\"00045\"], marker=\".\", s=50)\n",
    "    ax.set_xlabel(\"USGS 30-min resampled\")\n",
    "    ax.set_ylabel(\"MRMS 30-min resampled\")\n",
    "    ax.axline((0, 0), slope=1, ls=\"dotted\", c=\"k\")\n",
    "\n",
    "    maxv = merged.max().max() + 0.2\n",
    "    ax.set_xlim(-0.2, maxv)\n",
    "    ax.set_ylim(-0.2, maxv)\n",
    "    fig.tight_layout()\n",
    "    plt.show()\n"
   ]
  }
 ],
 "metadata": {
  "kernelspec": {
   "display_name": "zenv",
   "language": "python",
   "name": "python3"
  },
  "language_info": {
   "codemirror_mode": {
    "name": "ipython",
    "version": 3
   },
   "file_extension": ".py",
   "mimetype": "text/x-python",
   "name": "python",
   "nbconvert_exporter": "python",
   "pygments_lexer": "ipython3",
   "version": "3.12.9"
  }
 },
 "nbformat": 4,
 "nbformat_minor": 2
}
