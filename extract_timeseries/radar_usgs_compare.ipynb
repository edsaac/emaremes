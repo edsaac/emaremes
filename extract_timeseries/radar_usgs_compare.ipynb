{
 "cells": [
  {
   "cell_type": "code",
   "execution_count": 1,
   "metadata": {},
   "outputs": [],
   "source": [
    "from pathlib import Path\n",
    "import pickle\n",
    "\n",
    "import numpy as np\n",
    "import pandas as pd\n",
    "import matplotlib.pyplot as plt\n",
    "import matplotlib.dates as mdates"
   ]
  },
  {
   "cell_type": "code",
   "execution_count": 2,
   "metadata": {},
   "outputs": [
    {
     "data": {
      "text/html": [
       "<div>\n",
       "<style scoped>\n",
       "    .dataframe tbody tr th:only-of-type {\n",
       "        vertical-align: middle;\n",
       "    }\n",
       "\n",
       "    .dataframe tbody tr th {\n",
       "        vertical-align: top;\n",
       "    }\n",
       "\n",
       "    .dataframe thead th {\n",
       "        text-align: right;\n",
       "    }\n",
       "</style>\n",
       "<table border=\"1\" class=\"dataframe\">\n",
       "  <thead>\n",
       "    <tr style=\"text-align: right;\">\n",
       "      <th></th>\n",
       "      <th>agency_cd</th>\n",
       "      <th>site_no</th>\n",
       "      <th>station_nm</th>\n",
       "      <th>site_tp_cd</th>\n",
       "      <th>lat_va</th>\n",
       "      <th>long_va</th>\n",
       "      <th>dec_lat_va</th>\n",
       "      <th>dec_long_va</th>\n",
       "      <th>coord_meth_cd</th>\n",
       "      <th>coord_acy_cd</th>\n",
       "      <th>...</th>\n",
       "      <th>reliability_cd</th>\n",
       "      <th>gw_file_cd</th>\n",
       "      <th>nat_aqfr_cd</th>\n",
       "      <th>aqfr_cd</th>\n",
       "      <th>aqfr_type_cd</th>\n",
       "      <th>well_depth_va</th>\n",
       "      <th>hole_depth_va</th>\n",
       "      <th>depth_src_cd</th>\n",
       "      <th>project_no</th>\n",
       "      <th>geometry</th>\n",
       "    </tr>\n",
       "  </thead>\n",
       "  <tbody>\n",
       "    <tr>\n",
       "      <th>0</th>\n",
       "      <td>USGS</td>\n",
       "      <td>413104087440001</td>\n",
       "      <td>RAIN GAGE AT MATTESON, IL</td>\n",
       "      <td>AT</td>\n",
       "      <td>413104</td>\n",
       "      <td>874400</td>\n",
       "      <td>41.517778</td>\n",
       "      <td>-87.733333</td>\n",
       "      <td>N</td>\n",
       "      <td>S</td>\n",
       "      <td>...</td>\n",
       "      <td>NaN</td>\n",
       "      <td>NaN</td>\n",
       "      <td>NaN</td>\n",
       "      <td>NaN</td>\n",
       "      <td>NaN</td>\n",
       "      <td>NaN</td>\n",
       "      <td>NaN</td>\n",
       "      <td>NaN</td>\n",
       "      <td>CAWS0</td>\n",
       "      <td>POINT (-87.73333 41.51778)</td>\n",
       "    </tr>\n",
       "    <tr>\n",
       "      <th>1</th>\n",
       "      <td>USGS</td>\n",
       "      <td>413510087380201</td>\n",
       "      <td>RAIN GAGE AT HARVEY, IL</td>\n",
       "      <td>AT</td>\n",
       "      <td>413510</td>\n",
       "      <td>873802</td>\n",
       "      <td>41.586111</td>\n",
       "      <td>-87.633889</td>\n",
       "      <td>N</td>\n",
       "      <td>S</td>\n",
       "      <td>...</td>\n",
       "      <td>NaN</td>\n",
       "      <td>NaN</td>\n",
       "      <td>NaN</td>\n",
       "      <td>NaN</td>\n",
       "      <td>NaN</td>\n",
       "      <td>NaN</td>\n",
       "      <td>NaN</td>\n",
       "      <td>NaN</td>\n",
       "      <td>CAWS00</td>\n",
       "      <td>POINT (-87.63389 41.58611)</td>\n",
       "    </tr>\n",
       "    <tr>\n",
       "      <th>2</th>\n",
       "      <td>USGS</td>\n",
       "      <td>413516087442101</td>\n",
       "      <td>RAIN GAGE AT OAK FOREST, IL</td>\n",
       "      <td>AT</td>\n",
       "      <td>413516</td>\n",
       "      <td>874421</td>\n",
       "      <td>41.587778</td>\n",
       "      <td>-87.739167</td>\n",
       "      <td>N</td>\n",
       "      <td>S</td>\n",
       "      <td>...</td>\n",
       "      <td>NaN</td>\n",
       "      <td>NaN</td>\n",
       "      <td>NaN</td>\n",
       "      <td>NaN</td>\n",
       "      <td>NaN</td>\n",
       "      <td>NaN</td>\n",
       "      <td>NaN</td>\n",
       "      <td>NaN</td>\n",
       "      <td>CAWS00</td>\n",
       "      <td>POINT (-87.73917 41.58778)</td>\n",
       "    </tr>\n",
       "    <tr>\n",
       "      <th>3</th>\n",
       "      <td>USGS</td>\n",
       "      <td>413548087395901</td>\n",
       "      <td>RAIN GAGE AT CALUMET UNION DR CANAL NR MARKHAM...</td>\n",
       "      <td>AT</td>\n",
       "      <td>413548</td>\n",
       "      <td>873959</td>\n",
       "      <td>41.596667</td>\n",
       "      <td>-87.666389</td>\n",
       "      <td>M</td>\n",
       "      <td>S</td>\n",
       "      <td>...</td>\n",
       "      <td>NaN</td>\n",
       "      <td>NaN</td>\n",
       "      <td>NaN</td>\n",
       "      <td>NaN</td>\n",
       "      <td>NaN</td>\n",
       "      <td>NaN</td>\n",
       "      <td>NaN</td>\n",
       "      <td>NaN</td>\n",
       "      <td>001UM</td>\n",
       "      <td>POINT (-87.66639 41.59667)</td>\n",
       "    </tr>\n",
       "    <tr>\n",
       "      <th>4</th>\n",
       "      <td>USGS</td>\n",
       "      <td>414028087383501</td>\n",
       "      <td>RAIN GAGE AT WEST PULLMAN AT CHICAGO, IL</td>\n",
       "      <td>AT</td>\n",
       "      <td>414028</td>\n",
       "      <td>873835</td>\n",
       "      <td>41.674444</td>\n",
       "      <td>-87.643056</td>\n",
       "      <td>N</td>\n",
       "      <td>S</td>\n",
       "      <td>...</td>\n",
       "      <td>NaN</td>\n",
       "      <td>NaN</td>\n",
       "      <td>NaN</td>\n",
       "      <td>NaN</td>\n",
       "      <td>NaN</td>\n",
       "      <td>NaN</td>\n",
       "      <td>NaN</td>\n",
       "      <td>NaN</td>\n",
       "      <td>001CC</td>\n",
       "      <td>POINT (-87.64306 41.67444)</td>\n",
       "    </tr>\n",
       "    <tr>\n",
       "      <th>5</th>\n",
       "      <td>USGS</td>\n",
       "      <td>414030087450001</td>\n",
       "      <td>RAIN GAGE AT ALSIP, IL</td>\n",
       "      <td>AT</td>\n",
       "      <td>414030</td>\n",
       "      <td>874500</td>\n",
       "      <td>41.675000</td>\n",
       "      <td>-87.750000</td>\n",
       "      <td>N</td>\n",
       "      <td>S</td>\n",
       "      <td>...</td>\n",
       "      <td>NaN</td>\n",
       "      <td>NaN</td>\n",
       "      <td>NaN</td>\n",
       "      <td>NaN</td>\n",
       "      <td>NaN</td>\n",
       "      <td>NaN</td>\n",
       "      <td>NaN</td>\n",
       "      <td>NaN</td>\n",
       "      <td>CAWS00</td>\n",
       "      <td>POINT (-87.75 41.675)</td>\n",
       "    </tr>\n",
       "    <tr>\n",
       "      <th>6</th>\n",
       "      <td>USGS</td>\n",
       "      <td>415755087525300</td>\n",
       "      <td>OHARE AIRPORT AT CHICAGO, IL</td>\n",
       "      <td>AT</td>\n",
       "      <td>415755</td>\n",
       "      <td>875253</td>\n",
       "      <td>41.965308</td>\n",
       "      <td>-87.881453</td>\n",
       "      <td>M</td>\n",
       "      <td>S</td>\n",
       "      <td>...</td>\n",
       "      <td>NaN</td>\n",
       "      <td>NNNNNNNN</td>\n",
       "      <td>NaN</td>\n",
       "      <td>NaN</td>\n",
       "      <td>NaN</td>\n",
       "      <td>NaN</td>\n",
       "      <td>NaN</td>\n",
       "      <td>NaN</td>\n",
       "      <td>11303</td>\n",
       "      <td>POINT (-87.88145 41.96531)</td>\n",
       "    </tr>\n",
       "  </tbody>\n",
       "</table>\n",
       "<p>7 rows × 43 columns</p>\n",
       "</div>"
      ],
      "text/plain": [
       "  agency_cd          site_no  \\\n",
       "0      USGS  413104087440001   \n",
       "1      USGS  413510087380201   \n",
       "2      USGS  413516087442101   \n",
       "3      USGS  413548087395901   \n",
       "4      USGS  414028087383501   \n",
       "5      USGS  414030087450001   \n",
       "6      USGS  415755087525300   \n",
       "\n",
       "                                          station_nm site_tp_cd  lat_va  \\\n",
       "0                          RAIN GAGE AT MATTESON, IL         AT  413104   \n",
       "1                            RAIN GAGE AT HARVEY, IL         AT  413510   \n",
       "2                        RAIN GAGE AT OAK FOREST, IL         AT  413516   \n",
       "3  RAIN GAGE AT CALUMET UNION DR CANAL NR MARKHAM...         AT  413548   \n",
       "4           RAIN GAGE AT WEST PULLMAN AT CHICAGO, IL         AT  414028   \n",
       "5                             RAIN GAGE AT ALSIP, IL         AT  414030   \n",
       "6                       OHARE AIRPORT AT CHICAGO, IL         AT  415755   \n",
       "\n",
       "   long_va  dec_lat_va  dec_long_va coord_meth_cd coord_acy_cd  ...  \\\n",
       "0   874400   41.517778   -87.733333             N            S  ...   \n",
       "1   873802   41.586111   -87.633889             N            S  ...   \n",
       "2   874421   41.587778   -87.739167             N            S  ...   \n",
       "3   873959   41.596667   -87.666389             M            S  ...   \n",
       "4   873835   41.674444   -87.643056             N            S  ...   \n",
       "5   874500   41.675000   -87.750000             N            S  ...   \n",
       "6   875253   41.965308   -87.881453             M            S  ...   \n",
       "\n",
       "  reliability_cd gw_file_cd  nat_aqfr_cd  aqfr_cd  aqfr_type_cd well_depth_va  \\\n",
       "0            NaN        NaN          NaN      NaN           NaN           NaN   \n",
       "1            NaN        NaN          NaN      NaN           NaN           NaN   \n",
       "2            NaN        NaN          NaN      NaN           NaN           NaN   \n",
       "3            NaN        NaN          NaN      NaN           NaN           NaN   \n",
       "4            NaN        NaN          NaN      NaN           NaN           NaN   \n",
       "5            NaN        NaN          NaN      NaN           NaN           NaN   \n",
       "6            NaN   NNNNNNNN          NaN      NaN           NaN           NaN   \n",
       "\n",
       "  hole_depth_va depth_src_cd  project_no                    geometry  \n",
       "0           NaN          NaN       CAWS0  POINT (-87.73333 41.51778)  \n",
       "1           NaN          NaN      CAWS00  POINT (-87.63389 41.58611)  \n",
       "2           NaN          NaN      CAWS00  POINT (-87.73917 41.58778)  \n",
       "3           NaN          NaN       001UM  POINT (-87.66639 41.59667)  \n",
       "4           NaN          NaN       001CC  POINT (-87.64306 41.67444)  \n",
       "5           NaN          NaN      CAWS00       POINT (-87.75 41.675)  \n",
       "6           NaN          NaN       11303  POINT (-87.88145 41.96531)  \n",
       "\n",
       "[7 rows x 43 columns]"
      ]
     },
     "execution_count": 2,
     "metadata": {},
     "output_type": "execute_result"
    }
   ],
   "source": [
    "## USGS rain gage data\n",
    "\n",
    "usgs_data_path = Path(\"usgs/usgs_data.pkl\")\n",
    "\n",
    "with open(usgs_data_path, \"rb\") as f:\n",
    "    data = pickle.load(f)\n",
    "\n",
    "daily, df, site_info, pcodes = data.values()\n",
    "site_info"
   ]
  },
  {
   "cell_type": "code",
   "execution_count": 3,
   "metadata": {},
   "outputs": [
    {
     "data": {
      "application/vnd.microsoft.datawrangler.viewer.v0+json": {
       "columns": [
        {
         "name": "index",
         "rawType": "int64",
         "type": "integer"
        },
        {
         "name": "parameter_cd",
         "rawType": "object",
         "type": "string"
        },
        {
         "name": "group",
         "rawType": "object",
         "type": "string"
        },
        {
         "name": "parm_nm",
         "rawType": "object",
         "type": "string"
        },
        {
         "name": "epa_equivalence",
         "rawType": "object",
         "type": "string"
        },
        {
         "name": "result_statistical_basis",
         "rawType": "float64",
         "type": "float"
        },
        {
         "name": "result_time_basis",
         "rawType": "float64",
         "type": "float"
        },
        {
         "name": "result_weight_basis",
         "rawType": "float64",
         "type": "float"
        },
        {
         "name": "result_particle_size_basis",
         "rawType": "float64",
         "type": "float"
        },
        {
         "name": "result_sample_fraction",
         "rawType": "float64",
         "type": "float"
        },
        {
         "name": "result_temperature_basis",
         "rawType": "float64",
         "type": "float"
        },
        {
         "name": "CASRN",
         "rawType": "object",
         "type": "string"
        },
        {
         "name": "SRSName",
         "rawType": "object",
         "type": "string"
        },
        {
         "name": "parm_unit",
         "rawType": "object",
         "type": "string"
        }
       ],
       "conversionMethod": "pd.DataFrame",
       "ref": "cb1a7c11-2f47-480c-bb30-8bb7ed9f8c77",
       "rows": [
        [
         "0",
         "00045",
         "Physical",
         "Precipitation, total, inches",
         "Agree",
         null,
         null,
         null,
         null,
         null,
         null,
         " ",
         "Precipitation",
         "in"
        ],
        [
         "0",
         "00020",
         "Physical",
         "Temperature, air, degrees Celsius",
         "Agree",
         null,
         null,
         null,
         null,
         null,
         null,
         " ",
         "Temperature, air, deg C",
         "deg C"
        ]
       ],
       "shape": {
        "columns": 13,
        "rows": 2
       }
      },
      "text/html": [
       "<div>\n",
       "<style scoped>\n",
       "    .dataframe tbody tr th:only-of-type {\n",
       "        vertical-align: middle;\n",
       "    }\n",
       "\n",
       "    .dataframe tbody tr th {\n",
       "        vertical-align: top;\n",
       "    }\n",
       "\n",
       "    .dataframe thead th {\n",
       "        text-align: right;\n",
       "    }\n",
       "</style>\n",
       "<table border=\"1\" class=\"dataframe\">\n",
       "  <thead>\n",
       "    <tr style=\"text-align: right;\">\n",
       "      <th></th>\n",
       "      <th>parameter_cd</th>\n",
       "      <th>group</th>\n",
       "      <th>parm_nm</th>\n",
       "      <th>epa_equivalence</th>\n",
       "      <th>result_statistical_basis</th>\n",
       "      <th>result_time_basis</th>\n",
       "      <th>result_weight_basis</th>\n",
       "      <th>result_particle_size_basis</th>\n",
       "      <th>result_sample_fraction</th>\n",
       "      <th>result_temperature_basis</th>\n",
       "      <th>CASRN</th>\n",
       "      <th>SRSName</th>\n",
       "      <th>parm_unit</th>\n",
       "    </tr>\n",
       "  </thead>\n",
       "  <tbody>\n",
       "    <tr>\n",
       "      <th>0</th>\n",
       "      <td>00045</td>\n",
       "      <td>Physical</td>\n",
       "      <td>Precipitation, total, inches</td>\n",
       "      <td>Agree</td>\n",
       "      <td>NaN</td>\n",
       "      <td>NaN</td>\n",
       "      <td>NaN</td>\n",
       "      <td>NaN</td>\n",
       "      <td>NaN</td>\n",
       "      <td>NaN</td>\n",
       "      <td></td>\n",
       "      <td>Precipitation</td>\n",
       "      <td>in</td>\n",
       "    </tr>\n",
       "    <tr>\n",
       "      <th>0</th>\n",
       "      <td>00020</td>\n",
       "      <td>Physical</td>\n",
       "      <td>Temperature, air, degrees Celsius</td>\n",
       "      <td>Agree</td>\n",
       "      <td>NaN</td>\n",
       "      <td>NaN</td>\n",
       "      <td>NaN</td>\n",
       "      <td>NaN</td>\n",
       "      <td>NaN</td>\n",
       "      <td>NaN</td>\n",
       "      <td></td>\n",
       "      <td>Temperature, air, deg C</td>\n",
       "      <td>deg C</td>\n",
       "    </tr>\n",
       "  </tbody>\n",
       "</table>\n",
       "</div>"
      ],
      "text/plain": [
       "  parameter_cd     group                            parm_nm epa_equivalence  \\\n",
       "0        00045  Physical       Precipitation, total, inches           Agree   \n",
       "0        00020  Physical  Temperature, air, degrees Celsius           Agree   \n",
       "\n",
       "   result_statistical_basis  result_time_basis  result_weight_basis  \\\n",
       "0                       NaN                NaN                  NaN   \n",
       "0                       NaN                NaN                  NaN   \n",
       "\n",
       "   result_particle_size_basis  result_sample_fraction  \\\n",
       "0                         NaN                     NaN   \n",
       "0                         NaN                     NaN   \n",
       "\n",
       "   result_temperature_basis CASRN                  SRSName parm_unit  \n",
       "0                       NaN                  Precipitation        in  \n",
       "0                       NaN        Temperature, air, deg C     deg C  "
      ]
     },
     "execution_count": 3,
     "metadata": {},
     "output_type": "execute_result"
    }
   ],
   "source": [
    "pcodes"
   ]
  },
  {
   "cell_type": "code",
   "execution_count": 4,
   "metadata": {},
   "outputs": [
    {
     "data": {
      "text/plain": [
       "[PosixPath('timeseries/20210626/OHARE AIRPORT AT CHICAGO, IL.csv'),\n",
       " PosixPath('timeseries/20210626/RAIN GAGE AT ALSIP, IL.csv'),\n",
       " PosixPath('timeseries/20210626/RAIN GAGE AT CALUMET UNION DR CANAL NR MARKHAM, IL.csv'),\n",
       " PosixPath('timeseries/20210626/RAIN GAGE AT HARVEY, IL.csv'),\n",
       " PosixPath('timeseries/20210626/RAIN GAGE AT MATTESON, IL.csv'),\n",
       " PosixPath('timeseries/20210626/RAIN GAGE AT OAK FOREST, IL.csv'),\n",
       " PosixPath('timeseries/20210626/RAIN GAGE AT WEST PULLMAN AT CHICAGO, IL.csv')]"
      ]
     },
     "execution_count": 4,
     "metadata": {},
     "output_type": "execute_result"
    }
   ],
   "source": [
    "## Radar point query data\n",
    "\n",
    "DATE = \"20210626\"\n",
    "\n",
    "radar_pfiles = Path(f\"./timeseries/{DATE}\").glob(\"*.csv\")\n",
    "radar_pfiles = sorted(radar_pfiles)\n",
    "radar_pfiles"
   ]
  },
  {
   "cell_type": "code",
   "execution_count": 5,
   "metadata": {},
   "outputs": [],
   "source": [
    "start = pd.Timestamp(\"2021-06-26T00:00:00\", tz=\"UTC\")\n",
    "end = pd.Timestamp(\"2021-06-27T00:00:00\", tz=\"UTC\")"
   ]
  },
  {
   "cell_type": "code",
   "execution_count": null,
   "metadata": {},
   "outputs": [
    {
     "data": {
      "image/png": "[encoded data removed]",
      "text/plain": [
       "<Figure size 640x480 with 3 Axes>"
      ]
     },
     "metadata": {},
     "output_type": "display_data"
    },
    {
     "data": {
      "image/png": "[encoded data removed]",
      "text/plain": [
       "<Figure size 640x480 with 3 Axes>"
      ]
     },
     "metadata": {},
     "output_type": "display_data"
    },
    {
     "data": {
      "image/png": "[encoded data removed]",
      "text/plain": [
       "<Figure size 640x480 with 3 Axes>"
      ]
     },
     "metadata": {},
     "output_type": "display_data"
    },
    {
     "data": {
      "image/png": "[encoded data removed]",
      "text/plain": [
       "<Figure size 640x480 with 3 Axes>"
      ]
     },
     "metadata": {},
     "output_type": "display_data"
    },
    {
     "data": {
      "image/png": "[encoded data removed]",
      "text/plain": [
       "<Figure size 640x480 with 3 Axes>"
      ]
     },
     "metadata": {},
     "output_type": "display_data"
    },
    {
     "data": {
      "image/png": "[encoded data removed]",
      "text/plain": [
       "<Figure size 640x480 with 3 Axes>"
      ]
     },
     "metadata": {},
     "output_type": "display_data"
    },
    {
     "data": {
      "image/png": "[encoded data removed]",
      "text/plain": [
       "<Figure size 640x480 with 3 Axes>"
      ]
     },
     "metadata": {},
     "output_type": "display_data"
    }
   ],
   "source": [
    "for radar_pfile in radar_pfiles:\n",
    "    station_name = radar_pfile.stem\n",
    "    station_id = site_info.set_index(\"station_nm\").loc[station_name][\"site_no\"]\n",
    "\n",
    "    usgs_rain = df.xs(station_id).loc[start:end, \"00045\"]\n",
    "    tdelta_usgs = np.diff(usgs_rain.index)[0]\n",
    "    usgs_rain_mmhr = usgs_rain * 25.4 / (tdelta_usgs / pd.Timedelta(\"1h\"))  # from in to mm/hr\n",
    "\n",
    "    radar_rain = pd.read_csv(radar_pfile, index_col=0)\n",
    "    radar_rain.index = pd.to_datetime(radar_rain.index)\n",
    "\n",
    "    fig, axs = plt.subplots(3, 1, sharex=True, sharey=True, gridspec_kw={\"hspace\": 0.1})\n",
    "\n",
    "    ax = axs[0]\n",
    "    ax.set_title(\"MRMS Radar data\", fontsize=8, va=\"top\", y=0.9)\n",
    "    ax.bar(radar_rain.index, radar_rain[\"value\"], width=pd.Timedelta(\"1.8min\"))\n",
    "\n",
    "    ax = axs[1]\n",
    "    downsampled = radar_rain.resample(\"1min\").interpolate(\"linear\")\n",
    "    resampled = downsampled.resample(tdelta_usgs).mean()\n",
    "    ax.set_title(f\"Resampled 2min -> {tdelta_usgs.seconds / 60}min\", fontsize=8, va=\"top\", y=0.9)\n",
    "    ax.bar(resampled.index, resampled[\"value\"], width=0.95 * tdelta_usgs)\n",
    "\n",
    "    ax = axs[2]\n",
    "    ax.set_title(f\"USGS Rain gage\\n{station_name}\", fontsize=8, va=\"top\", y=0.9)\n",
    "    ax.bar(usgs_rain.index, usgs_rain_mmhr, width=0.95 * tdelta_usgs)\n",
    "\n",
    "    for ax in axs:\n",
    "        ax.set_xlim(start, end)\n",
    "        ax.xaxis.set_major_locator(mdates.AutoDateLocator())\n",
    "        ax.xaxis.set_major_formatter(mdates.ConciseDateFormatter(ax.xaxis.get_major_locator()))\n",
    "        ax.spines.top.set_visible(False)\n",
    "        ax.spines.right.set_visible(False)\n",
    "    fig.supylabel(\"Precip Intensity [mm/h]\", fontsize=10, fontweight=300, x=0.05)\n",
    "    plt.show()\n"
   ]
  },
  {
   "cell_type": "code",
   "execution_count": null,
   "metadata": {},
   "outputs": [
    {
     "data": {
      "application/vnd.microsoft.datawrangler.viewer.v0+json": {
       "columns": [
        {
         "name": "index",
         "rawType": "datetime64[ns, UTC]",
         "type": "unknown"
        },
        {
         "name": "value",
         "rawType": "float64",
         "type": "float"
        },
        {
         "name": "00045",
         "rawType": "float64",
         "type": "float"
        }
       ],
       "conversionMethod": "pd.DataFrame",
       "ref": "2ee13570-277f-43d9-bda6-95842e41f2d4",
       "rows": [
        [
         "2021-06-26 00:00:00+00:00",
         "0.0",
         "0.0"
        ],
        [
         "2021-06-26 00:30:00+00:00",
         "0.0",
         "0.0"
        ],
        [
         "2021-06-26 01:00:00+00:00",
         "0.0",
         "0.0"
        ],
        [
         "2021-06-26 01:30:00+00:00",
         "0.020000000794728592",
         "0.0"
        ],
        [
         "2021-06-26 02:00:00+00:00",
         "0.0",
         "0.0"
        ],
        [
         "2021-06-26 02:30:00+00:00",
         "0.16499999860922496",
         "0.0"
        ],
        [
         "2021-06-26 03:00:00+00:00",
         "0.015000000596046444",
         "0.0"
        ],
        [
         "2021-06-26 03:30:00+00:00",
         "0.0",
         "0.0"
        ],
        [
         "2021-06-26 04:00:00+00:00",
         "0.0",
         "0.0"
        ],
        [
         "2021-06-26 04:30:00+00:00",
         "0.0",
         "0.0"
        ],
        [
         "2021-06-26 05:00:00+00:00",
         "0.0",
         "0.0"
        ],
        [
         "2021-06-26 05:30:00+00:00",
         "0.0",
         "0.0"
        ],
        [
         "2021-06-26 06:00:00+00:00",
         "0.7583333482344945",
         "0.4741333333333334"
        ],
        [
         "2021-06-26 06:30:00+00:00",
         "4.475000002980233",
         "1.7272"
        ],
        [
         "2021-06-26 07:00:00+00:00",
         "5.8749999582767485",
         "3.115733333333333"
        ],
        [
         "2021-06-26 07:30:00+00:00",
         "1.0350000083446502",
         "0.7789333333333333"
        ],
        [
         "2021-06-26 08:00:00+00:00",
         "0.6449999988079071",
         "0.2370666666666667"
        ],
        [
         "2021-06-26 08:30:00+00:00",
         "0.11833333571751913",
         "0.27093333333333336"
        ],
        [
         "2021-06-26 09:00:00+00:00",
         "0.09333333621422449",
         "0.0"
        ],
        [
         "2021-06-26 09:30:00+00:00",
         "0.020000000298023225",
         "0.0"
        ],
        [
         "2021-06-26 10:00:00+00:00",
         "0.0",
         "0.0"
        ],
        [
         "2021-06-26 10:30:00+00:00",
         "0.0",
         "0.0"
        ],
        [
         "2021-06-26 11:00:00+00:00",
         "0.0",
         "0.0"
        ],
        [
         "2021-06-26 11:30:00+00:00",
         "0.0",
         "0.0"
        ],
        [
         "2021-06-26 12:00:00+00:00",
         "3.783333245913188",
         "0.9482666666666668"
        ],
        [
         "2021-06-26 12:30:00+00:00",
         "2.728333286444346",
         "2.5738666666666665"
        ],
        [
         "2021-06-26 13:00:00+00:00",
         "0.4483333230018616",
         "1.0498666666666667"
        ],
        [
         "2021-06-26 13:30:00+00:00",
         "0.0",
         "0.0"
        ],
        [
         "2021-06-26 14:00:00+00:00",
         "0.0",
         "0.0"
        ],
        [
         "2021-06-26 14:30:00+00:00",
         "0.0",
         "0.0"
        ],
        [
         "2021-06-26 15:00:00+00:00",
         "0.0",
         "0.0"
        ],
        [
         "2021-06-26 15:30:00+00:00",
         "0.40000001589457196",
         "0.2370666666666667"
        ],
        [
         "2021-06-26 16:00:00+00:00",
         "7.725000047683716",
         "12.124266666666667"
        ],
        [
         "2021-06-26 16:30:00+00:00",
         "4.409999966621399",
         "10.16"
        ],
        [
         "2021-06-26 17:00:00+00:00",
         "3.1033333599567414",
         "3.793066666666667"
        ],
        [
         "2021-06-26 17:30:00+00:00",
         "0.32833333015441896",
         "1.6255999999999997"
        ],
        [
         "2021-06-26 18:00:00+00:00",
         "0.0",
         "0.0"
        ],
        [
         "2021-06-26 18:30:00+00:00",
         "0.0",
         "0.0"
        ],
        [
         "2021-06-26 19:00:00+00:00",
         "0.0",
         "0.508"
        ],
        [
         "2021-06-26 19:30:00+00:00",
         "0.0",
         "0.0"
        ],
        [
         "2021-06-26 20:00:00+00:00",
         "0.0",
         "0.0"
        ],
        [
         "2021-06-26 20:30:00+00:00",
         "0.0",
         "0.0"
        ],
        [
         "2021-06-26 21:00:00+00:00",
         "0.0",
         "0.0"
        ],
        [
         "2021-06-26 21:30:00+00:00",
         "0.0",
         "0.0"
        ],
        [
         "2021-06-26 22:00:00+00:00",
         "0.0",
         "0.0"
        ],
        [
         "2021-06-26 22:30:00+00:00",
         "0.0",
         "0.0"
        ],
        [
         "2021-06-26 23:00:00+00:00",
         "1.8566666424274445",
         "0.0"
        ],
        [
         "2021-06-26 23:30:00+00:00",
         "0.3965517282485962",
         "0.2370666666666667"
        ],
        [
         "2021-06-27 00:00:00+00:00",
         null,
         "1.016"
        ]
       ],
       "shape": {
        "columns": 2,
        "rows": 49
       }
      },
      "text/html": [
       "<div>\n",
       "<style scoped>\n",
       "    .dataframe tbody tr th:only-of-type {\n",
       "        vertical-align: middle;\n",
       "    }\n",
       "\n",
       "    .dataframe tbody tr th {\n",
       "        vertical-align: top;\n",
       "    }\n",
       "\n",
       "    .dataframe thead th {\n",
       "        text-align: right;\n",
       "    }\n",
       "</style>\n",
       "<table border=\"1\" class=\"dataframe\">\n",
       "  <thead>\n",
       "    <tr style=\"text-align: right;\">\n",
       "      <th></th>\n",
       "      <th>value</th>\n",
       "      <th>00045</th>\n",
       "    </tr>\n",
       "  </thead>\n",
       "  <tbody>\n",
       "    <tr>\n",
       "      <th>2021-06-26 00:00:00+00:00</th>\n",
       "      <td>0.000000</td>\n",
       "      <td>0.000000</td>\n",
       "    </tr>\n",
       "    <tr>\n",
       "      <th>2021-06-26 00:30:00+00:00</th>\n",
       "      <td>0.000000</td>\n",
       "      <td>0.000000</td>\n",
       "    </tr>\n",
       "    <tr>\n",
       "      <th>2021-06-26 01:00:00+00:00</th>\n",
       "      <td>0.000000</td>\n",
       "      <td>0.000000</td>\n",
       "    </tr>\n",
       "    <tr>\n",
       "      <th>2021-06-26 01:30:00+00:00</th>\n",
       "      <td>0.020000</td>\n",
       "      <td>0.000000</td>\n",
       "    </tr>\n",
       "    <tr>\n",
       "      <th>2021-06-26 02:00:00+00:00</th>\n",
       "      <td>0.000000</td>\n",
       "      <td>0.000000</td>\n",
       "    </tr>\n",
       "    <tr>\n",
       "      <th>2021-06-26 02:30:00+00:00</th>\n",
       "      <td>0.165000</td>\n",
       "      <td>0.000000</td>\n",
       "    </tr>\n",
       "    <tr>\n",
       "      <th>2021-06-26 03:00:00+00:00</th>\n",
       "      <td>0.015000</td>\n",
       "      <td>0.000000</td>\n",
       "    </tr>\n",
       "    <tr>\n",
       "      <th>2021-06-26 03:30:00+00:00</th>\n",
       "      <td>0.000000</td>\n",
       "      <td>0.000000</td>\n",
       "    </tr>\n",
       "    <tr>\n",
       "      <th>2021-06-26 04:00:00+00:00</th>\n",
       "      <td>0.000000</td>\n",
       "      <td>0.000000</td>\n",
       "    </tr>\n",
       "    <tr>\n",
       "      <th>2021-06-26 04:30:00+00:00</th>\n",
       "      <td>0.000000</td>\n",
       "      <td>0.000000</td>\n",
       "    </tr>\n",
       "    <tr>\n",
       "      <th>2021-06-26 05:00:00+00:00</th>\n",
       "      <td>0.000000</td>\n",
       "      <td>0.000000</td>\n",
       "    </tr>\n",
       "    <tr>\n",
       "      <th>2021-06-26 05:30:00+00:00</th>\n",
       "      <td>0.000000</td>\n",
       "      <td>0.000000</td>\n",
       "    </tr>\n",
       "    <tr>\n",
       "      <th>2021-06-26 06:00:00+00:00</th>\n",
       "      <td>0.758333</td>\n",
       "      <td>0.474133</td>\n",
       "    </tr>\n",
       "    <tr>\n",
       "      <th>2021-06-26 06:30:00+00:00</th>\n",
       "      <td>4.475000</td>\n",
       "      <td>1.727200</td>\n",
       "    </tr>\n",
       "    <tr>\n",
       "      <th>2021-06-26 07:00:00+00:00</th>\n",
       "      <td>5.875000</td>\n",
       "      <td>3.115733</td>\n",
       "    </tr>\n",
       "    <tr>\n",
       "      <th>2021-06-26 07:30:00+00:00</th>\n",
       "      <td>1.035000</td>\n",
       "      <td>0.778933</td>\n",
       "    </tr>\n",
       "    <tr>\n",
       "      <th>2021-06-26 08:00:00+00:00</th>\n",
       "      <td>0.645000</td>\n",
       "      <td>0.237067</td>\n",
       "    </tr>\n",
       "    <tr>\n",
       "      <th>2021-06-26 08:30:00+00:00</th>\n",
       "      <td>0.118333</td>\n",
       "      <td>0.270933</td>\n",
       "    </tr>\n",
       "    <tr>\n",
       "      <th>2021-06-26 09:00:00+00:00</th>\n",
       "      <td>0.093333</td>\n",
       "      <td>0.000000</td>\n",
       "    </tr>\n",
       "    <tr>\n",
       "      <th>2021-06-26 09:30:00+00:00</th>\n",
       "      <td>0.020000</td>\n",
       "      <td>0.000000</td>\n",
       "    </tr>\n",
       "    <tr>\n",
       "      <th>2021-06-26 10:00:00+00:00</th>\n",
       "      <td>0.000000</td>\n",
       "      <td>0.000000</td>\n",
       "    </tr>\n",
       "    <tr>\n",
       "      <th>2021-06-26 10:30:00+00:00</th>\n",
       "      <td>0.000000</td>\n",
       "      <td>0.000000</td>\n",
       "    </tr>\n",
       "    <tr>\n",
       "      <th>2021-06-26 11:00:00+00:00</th>\n",
       "      <td>0.000000</td>\n",
       "      <td>0.000000</td>\n",
       "    </tr>\n",
       "    <tr>\n",
       "      <th>2021-06-26 11:30:00+00:00</th>\n",
       "      <td>0.000000</td>\n",
       "      <td>0.000000</td>\n",
       "    </tr>\n",
       "    <tr>\n",
       "      <th>2021-06-26 12:00:00+00:00</th>\n",
       "      <td>3.783333</td>\n",
       "      <td>0.948267</td>\n",
       "    </tr>\n",
       "    <tr>\n",
       "      <th>2021-06-26 12:30:00+00:00</th>\n",
       "      <td>2.728333</td>\n",
       "      <td>2.573867</td>\n",
       "    </tr>\n",
       "    <tr>\n",
       "      <th>2021-06-26 13:00:00+00:00</th>\n",
       "      <td>0.448333</td>\n",
       "      <td>1.049867</td>\n",
       "    </tr>\n",
       "    <tr>\n",
       "      <th>2021-06-26 13:30:00+00:00</th>\n",
       "      <td>0.000000</td>\n",
       "      <td>0.000000</td>\n",
       "    </tr>\n",
       "    <tr>\n",
       "      <th>2021-06-26 14:00:00+00:00</th>\n",
       "      <td>0.000000</td>\n",
       "      <td>0.000000</td>\n",
       "    </tr>\n",
       "    <tr>\n",
       "      <th>2021-06-26 14:30:00+00:00</th>\n",
       "      <td>0.000000</td>\n",
       "      <td>0.000000</td>\n",
       "    </tr>\n",
       "    <tr>\n",
       "      <th>2021-06-26 15:00:00+00:00</th>\n",
       "      <td>0.000000</td>\n",
       "      <td>0.000000</td>\n",
       "    </tr>\n",
       "    <tr>\n",
       "      <th>2021-06-26 15:30:00+00:00</th>\n",
       "      <td>0.400000</td>\n",
       "      <td>0.237067</td>\n",
       "    </tr>\n",
       "    <tr>\n",
       "      <th>2021-06-26 16:00:00+00:00</th>\n",
       "      <td>7.725000</td>\n",
       "      <td>12.124267</td>\n",
       "    </tr>\n",
       "    <tr>\n",
       "      <th>2021-06-26 16:30:00+00:00</th>\n",
       "      <td>4.410000</td>\n",
       "      <td>10.160000</td>\n",
       "    </tr>\n",
       "    <tr>\n",
       "      <th>2021-06-26 17:00:00+00:00</th>\n",
       "      <td>3.103333</td>\n",
       "      <td>3.793067</td>\n",
       "    </tr>\n",
       "    <tr>\n",
       "      <th>2021-06-26 17:30:00+00:00</th>\n",
       "      <td>0.328333</td>\n",
       "      <td>1.625600</td>\n",
       "    </tr>\n",
       "    <tr>\n",
       "      <th>2021-06-26 18:00:00+00:00</th>\n",
       "      <td>0.000000</td>\n",
       "      <td>0.000000</td>\n",
       "    </tr>\n",
       "    <tr>\n",
       "      <th>2021-06-26 18:30:00+00:00</th>\n",
       "      <td>0.000000</td>\n",
       "      <td>0.000000</td>\n",
       "    </tr>\n",
       "    <tr>\n",
       "      <th>2021-06-26 19:00:00+00:00</th>\n",
       "      <td>0.000000</td>\n",
       "      <td>0.508000</td>\n",
       "    </tr>\n",
       "    <tr>\n",
       "      <th>2021-06-26 19:30:00+00:00</th>\n",
       "      <td>0.000000</td>\n",
       "      <td>0.000000</td>\n",
       "    </tr>\n",
       "    <tr>\n",
       "      <th>2021-06-26 20:00:00+00:00</th>\n",
       "      <td>0.000000</td>\n",
       "      <td>0.000000</td>\n",
       "    </tr>\n",
       "    <tr>\n",
       "      <th>2021-06-26 20:30:00+00:00</th>\n",
       "      <td>0.000000</td>\n",
       "      <td>0.000000</td>\n",
       "    </tr>\n",
       "    <tr>\n",
       "      <th>2021-06-26 21:00:00+00:00</th>\n",
       "      <td>0.000000</td>\n",
       "      <td>0.000000</td>\n",
       "    </tr>\n",
       "    <tr>\n",
       "      <th>2021-06-26 21:30:00+00:00</th>\n",
       "      <td>0.000000</td>\n",
       "      <td>0.000000</td>\n",
       "    </tr>\n",
       "    <tr>\n",
       "      <th>2021-06-26 22:00:00+00:00</th>\n",
       "      <td>0.000000</td>\n",
       "      <td>0.000000</td>\n",
       "    </tr>\n",
       "    <tr>\n",
       "      <th>2021-06-26 22:30:00+00:00</th>\n",
       "      <td>0.000000</td>\n",
       "      <td>0.000000</td>\n",
       "    </tr>\n",
       "    <tr>\n",
       "      <th>2021-06-26 23:00:00+00:00</th>\n",
       "      <td>1.856667</td>\n",
       "      <td>0.000000</td>\n",
       "    </tr>\n",
       "    <tr>\n",
       "      <th>2021-06-26 23:30:00+00:00</th>\n",
       "      <td>0.396552</td>\n",
       "      <td>0.237067</td>\n",
       "    </tr>\n",
       "    <tr>\n",
       "      <th>2021-06-27 00:00:00+00:00</th>\n",
       "      <td>NaN</td>\n",
       "      <td>1.016000</td>\n",
       "    </tr>\n",
       "  </tbody>\n",
       "</table>\n",
       "</div>"
      ],
      "text/plain": [
       "                              value      00045\n",
       "2021-06-26 00:00:00+00:00  0.000000   0.000000\n",
       "2021-06-26 00:30:00+00:00  0.000000   0.000000\n",
       "2021-06-26 01:00:00+00:00  0.000000   0.000000\n",
       "2021-06-26 01:30:00+00:00  0.020000   0.000000\n",
       "2021-06-26 02:00:00+00:00  0.000000   0.000000\n",
       "2021-06-26 02:30:00+00:00  0.165000   0.000000\n",
       "2021-06-26 03:00:00+00:00  0.015000   0.000000\n",
       "2021-06-26 03:30:00+00:00  0.000000   0.000000\n",
       "2021-06-26 04:00:00+00:00  0.000000   0.000000\n",
       "2021-06-26 04:30:00+00:00  0.000000   0.000000\n",
       "2021-06-26 05:00:00+00:00  0.000000   0.000000\n",
       "2021-06-26 05:30:00+00:00  0.000000   0.000000\n",
       "2021-06-26 06:00:00+00:00  0.758333   0.474133\n",
       "2021-06-26 06:30:00+00:00  4.475000   1.727200\n",
       "2021-06-26 07:00:00+00:00  5.875000   3.115733\n",
       "2021-06-26 07:30:00+00:00  1.035000   0.778933\n",
       "2021-06-26 08:00:00+00:00  0.645000   0.237067\n",
       "2021-06-26 08:30:00+00:00  0.118333   0.270933\n",
       "2021-06-26 09:00:00+00:00  0.093333   0.000000\n",
       "2021-06-26 09:30:00+00:00  0.020000   0.000000\n",
       "2021-06-26 10:00:00+00:00  0.000000   0.000000\n",
       "2021-06-26 10:30:00+00:00  0.000000   0.000000\n",
       "2021-06-26 11:00:00+00:00  0.000000   0.000000\n",
       "2021-06-26 11:30:00+00:00  0.000000   0.000000\n",
       "2021-06-26 12:00:00+00:00  3.783333   0.948267\n",
       "2021-06-26 12:30:00+00:00  2.728333   2.573867\n",
       "2021-06-26 13:00:00+00:00  0.448333   1.049867\n",
       "2021-06-26 13:30:00+00:00  0.000000   0.000000\n",
       "2021-06-26 14:00:00+00:00  0.000000   0.000000\n",
       "2021-06-26 14:30:00+00:00  0.000000   0.000000\n",
       "2021-06-26 15:00:00+00:00  0.000000   0.000000\n",
       "2021-06-26 15:30:00+00:00  0.400000   0.237067\n",
       "2021-06-26 16:00:00+00:00  7.725000  12.124267\n",
       "2021-06-26 16:30:00+00:00  4.410000  10.160000\n",
       "2021-06-26 17:00:00+00:00  3.103333   3.793067\n",
       "2021-06-26 17:30:00+00:00  0.328333   1.625600\n",
       "2021-06-26 18:00:00+00:00  0.000000   0.000000\n",
       "2021-06-26 18:30:00+00:00  0.000000   0.000000\n",
       "2021-06-26 19:00:00+00:00  0.000000   0.508000\n",
       "2021-06-26 19:30:00+00:00  0.000000   0.000000\n",
       "2021-06-26 20:00:00+00:00  0.000000   0.000000\n",
       "2021-06-26 20:30:00+00:00  0.000000   0.000000\n",
       "2021-06-26 21:00:00+00:00  0.000000   0.000000\n",
       "2021-06-26 21:30:00+00:00  0.000000   0.000000\n",
       "2021-06-26 22:00:00+00:00  0.000000   0.000000\n",
       "2021-06-26 22:30:00+00:00  0.000000   0.000000\n",
       "2021-06-26 23:00:00+00:00  1.856667   0.000000\n",
       "2021-06-26 23:30:00+00:00  0.396552   0.237067\n",
       "2021-06-27 00:00:00+00:00       NaN   1.016000"
      ]
     },
     "metadata": {},
     "output_type": "display_data"
    },
    {
     "data": {
      "image/png": "[encoded data removed]",
      "text/plain": [
       "<Figure size 640x480 with 1 Axes>"
      ]
     },
     "metadata": {},
     "output_type": "display_data"
    },
    {
     "data": {
      "application/vnd.microsoft.datawrangler.viewer.v0+json": {
       "columns": [
        {
         "name": "index",
         "rawType": "datetime64[ns, UTC]",
         "type": "unknown"
        },
        {
         "name": "value",
         "rawType": "float64",
         "type": "float"
        },
        {
         "name": "00045",
         "rawType": "float64",
         "type": "float"
        }
       ],
       "conversionMethod": "pd.DataFrame",
       "ref": "5df879c3-ee61-4aa8-9b8c-af4019c17f3e",
       "rows": [
        [
         "2021-06-26 00:00:00+00:00",
         "0.0",
         "0.0"
        ],
        [
         "2021-06-26 00:30:00+00:00",
         "0.0",
         "0.0"
        ],
        [
         "2021-06-26 01:00:00+00:00",
         "0.0",
         "0.0"
        ],
        [
         "2021-06-26 01:30:00+00:00",
         "0.0",
         "0.0"
        ],
        [
         "2021-06-26 02:00:00+00:00",
         "0.0",
         "0.0"
        ],
        [
         "2021-06-26 02:30:00+00:00",
         "0.0",
         "0.0"
        ],
        [
         "2021-06-26 03:00:00+00:00",
         "0.0",
         "0.0"
        ],
        [
         "2021-06-26 03:30:00+00:00",
         "0.0",
         "0.0"
        ],
        [
         "2021-06-26 04:00:00+00:00",
         "0.0",
         "0.0"
        ],
        [
         "2021-06-26 04:30:00+00:00",
         "0.0",
         "0.0"
        ],
        [
         "2021-06-26 05:00:00+00:00",
         "0.43166667421658833",
         "0.0"
        ],
        [
         "2021-06-26 05:30:00+00:00",
         "6.340000054240226",
         "9.8552"
        ],
        [
         "2021-06-26 06:00:00+00:00",
         "1.0716666887203852",
         "0.3048"
        ],
        [
         "2021-06-26 06:30:00+00:00",
         "0.3483333319425583",
         "0.0"
        ],
        [
         "2021-06-26 07:00:00+00:00",
         "0.39500000576178235",
         "0.0"
        ],
        [
         "2021-06-26 07:30:00+00:00",
         "1.0116666783889134",
         "0.0"
        ],
        [
         "2021-06-26 08:00:00+00:00",
         "0.22833333512147266",
         "0.0"
        ],
        [
         "2021-06-26 08:30:00+00:00",
         "0.0",
         "0.0"
        ],
        [
         "2021-06-26 09:00:00+00:00",
         "0.0",
         "0.0"
        ],
        [
         "2021-06-26 09:30:00+00:00",
         "0.0",
         "0.0"
        ],
        [
         "2021-06-26 10:00:00+00:00",
         "0.0",
         "0.0"
        ],
        [
         "2021-06-26 10:30:00+00:00",
         "0.0",
         "0.0"
        ],
        [
         "2021-06-26 11:00:00+00:00",
         "0.7849999904632569",
         "0.4064"
        ],
        [
         "2021-06-26 11:30:00+00:00",
         "8.416666662693023",
         "14.985999999999999"
        ],
        [
         "2021-06-26 12:00:00+00:00",
         "9.561666556199391",
         "3.8608"
        ],
        [
         "2021-06-26 12:30:00+00:00",
         "1.743333343664805",
         "1.8288"
        ],
        [
         "2021-06-26 13:00:00+00:00",
         "0.1200000007947286",
         "0.0"
        ],
        [
         "2021-06-26 13:30:00+00:00",
         "0.0",
         "0.0"
        ],
        [
         "2021-06-26 14:00:00+00:00",
         "0.0",
         "0.0"
        ],
        [
         "2021-06-26 14:30:00+00:00",
         "0.0",
         "0.0"
        ],
        [
         "2021-06-26 15:00:00+00:00",
         "0.0",
         "0.0"
        ],
        [
         "2021-06-26 15:30:00+00:00",
         "0.0",
         "0.0"
        ],
        [
         "2021-06-26 16:00:00+00:00",
         "0.0",
         "0.0"
        ],
        [
         "2021-06-26 16:30:00+00:00",
         "0.0",
         "0.0"
        ],
        [
         "2021-06-26 17:00:00+00:00",
         "0.0",
         "0.0"
        ],
        [
         "2021-06-26 17:30:00+00:00",
         "7.384999934832255",
         "4.1656"
        ],
        [
         "2021-06-26 18:00:00+00:00",
         "2.8283332983652754",
         "2.9463999999999997"
        ],
        [
         "2021-06-26 18:30:00+00:00",
         "0.45999999046325685",
         "0.508"
        ],
        [
         "2021-06-26 19:00:00+00:00",
         "0.0",
         "0.0"
        ],
        [
         "2021-06-26 19:30:00+00:00",
         "0.9466666718324025",
         "0.0"
        ],
        [
         "2021-06-26 20:00:00+00:00",
         "0.10666667024294534",
         "0.508"
        ],
        [
         "2021-06-26 20:30:00+00:00",
         "1.438333304723104",
         "0.2032"
        ],
        [
         "2021-06-26 21:00:00+00:00",
         "20.6566663702329",
         "29.6672"
        ],
        [
         "2021-06-26 21:30:00+00:00",
         "9.30999988913536",
         "8.432800000000002"
        ],
        [
         "2021-06-26 22:00:00+00:00",
         "6.148333313067754",
         "2.54"
        ],
        [
         "2021-06-26 22:30:00+00:00",
         "7.896666733423869",
         "3.048"
        ],
        [
         "2021-06-26 23:00:00+00:00",
         "3.1533333539962767",
         "1.3208"
        ],
        [
         "2021-06-26 23:30:00+00:00",
         "0.34482758826222915",
         "0.0"
        ],
        [
         "2021-06-27 00:00:00+00:00",
         null,
         "0.0"
        ]
       ],
       "shape": {
        "columns": 2,
        "rows": 49
       }
      },
      "text/html": [
       "<div>\n",
       "<style scoped>\n",
       "    .dataframe tbody tr th:only-of-type {\n",
       "        vertical-align: middle;\n",
       "    }\n",
       "\n",
       "    .dataframe tbody tr th {\n",
       "        vertical-align: top;\n",
       "    }\n",
       "\n",
       "    .dataframe thead th {\n",
       "        text-align: right;\n",
       "    }\n",
       "</style>\n",
       "<table border=\"1\" class=\"dataframe\">\n",
       "  <thead>\n",
       "    <tr style=\"text-align: right;\">\n",
       "      <th></th>\n",
       "      <th>value</th>\n",
       "      <th>00045</th>\n",
       "    </tr>\n",
       "  </thead>\n",
       "  <tbody>\n",
       "    <tr>\n",
       "      <th>2021-06-26 00:00:00+00:00</th>\n",
       "      <td>0.000000</td>\n",
       "      <td>0.0000</td>\n",
       "    </tr>\n",
       "    <tr>\n",
       "      <th>2021-06-26 00:30:00+00:00</th>\n",
       "      <td>0.000000</td>\n",
       "      <td>0.0000</td>\n",
       "    </tr>\n",
       "    <tr>\n",
       "      <th>2021-06-26 01:00:00+00:00</th>\n",
       "      <td>0.000000</td>\n",
       "      <td>0.0000</td>\n",
       "    </tr>\n",
       "    <tr>\n",
       "      <th>2021-06-26 01:30:00+00:00</th>\n",
       "      <td>0.000000</td>\n",
       "      <td>0.0000</td>\n",
       "    </tr>\n",
       "    <tr>\n",
       "      <th>2021-06-26 02:00:00+00:00</th>\n",
       "      <td>0.000000</td>\n",
       "      <td>0.0000</td>\n",
       "    </tr>\n",
       "    <tr>\n",
       "      <th>2021-06-26 02:30:00+00:00</th>\n",
       "      <td>0.000000</td>\n",
       "      <td>0.0000</td>\n",
       "    </tr>\n",
       "    <tr>\n",
       "      <th>2021-06-26 03:00:00+00:00</th>\n",
       "      <td>0.000000</td>\n",
       "      <td>0.0000</td>\n",
       "    </tr>\n",
       "    <tr>\n",
       "      <th>2021-06-26 03:30:00+00:00</th>\n",
       "      <td>0.000000</td>\n",
       "      <td>0.0000</td>\n",
       "    </tr>\n",
       "    <tr>\n",
       "      <th>2021-06-26 04:00:00+00:00</th>\n",
       "      <td>0.000000</td>\n",
       "      <td>0.0000</td>\n",
       "    </tr>\n",
       "    <tr>\n",
       "      <th>2021-06-26 04:30:00+00:00</th>\n",
       "      <td>0.000000</td>\n",
       "      <td>0.0000</td>\n",
       "    </tr>\n",
       "    <tr>\n",
       "      <th>2021-06-26 05:00:00+00:00</th>\n",
       "      <td>0.431667</td>\n",
       "      <td>0.0000</td>\n",
       "    </tr>\n",
       "    <tr>\n",
       "      <th>2021-06-26 05:30:00+00:00</th>\n",
       "      <td>6.340000</td>\n",
       "      <td>9.8552</td>\n",
       "    </tr>\n",
       "    <tr>\n",
       "      <th>2021-06-26 06:00:00+00:00</th>\n",
       "      <td>1.071667</td>\n",
       "      <td>0.3048</td>\n",
       "    </tr>\n",
       "    <tr>\n",
       "      <th>2021-06-26 06:30:00+00:00</th>\n",
       "      <td>0.348333</td>\n",
       "      <td>0.0000</td>\n",
       "    </tr>\n",
       "    <tr>\n",
       "      <th>2021-06-26 07:00:00+00:00</th>\n",
       "      <td>0.395000</td>\n",
       "      <td>0.0000</td>\n",
       "    </tr>\n",
       "    <tr>\n",
       "      <th>2021-06-26 07:30:00+00:00</th>\n",
       "      <td>1.011667</td>\n",
       "      <td>0.0000</td>\n",
       "    </tr>\n",
       "    <tr>\n",
       "      <th>2021-06-26 08:00:00+00:00</th>\n",
       "      <td>0.228333</td>\n",
       "      <td>0.0000</td>\n",
       "    </tr>\n",
       "    <tr>\n",
       "      <th>2021-06-26 08:30:00+00:00</th>\n",
       "      <td>0.000000</td>\n",
       "      <td>0.0000</td>\n",
       "    </tr>\n",
       "    <tr>\n",
       "      <th>2021-06-26 09:00:00+00:00</th>\n",
       "      <td>0.000000</td>\n",
       "      <td>0.0000</td>\n",
       "    </tr>\n",
       "    <tr>\n",
       "      <th>2021-06-26 09:30:00+00:00</th>\n",
       "      <td>0.000000</td>\n",
       "      <td>0.0000</td>\n",
       "    </tr>\n",
       "    <tr>\n",
       "      <th>2021-06-26 10:00:00+00:00</th>\n",
       "      <td>0.000000</td>\n",
       "      <td>0.0000</td>\n",
       "    </tr>\n",
       "    <tr>\n",
       "      <th>2021-06-26 10:30:00+00:00</th>\n",
       "      <td>0.000000</td>\n",
       "      <td>0.0000</td>\n",
       "    </tr>\n",
       "    <tr>\n",
       "      <th>2021-06-26 11:00:00+00:00</th>\n",
       "      <td>0.785000</td>\n",
       "      <td>0.4064</td>\n",
       "    </tr>\n",
       "    <tr>\n",
       "      <th>2021-06-26 11:30:00+00:00</th>\n",
       "      <td>8.416667</td>\n",
       "      <td>14.9860</td>\n",
       "    </tr>\n",
       "    <tr>\n",
       "      <th>2021-06-26 12:00:00+00:00</th>\n",
       "      <td>9.561667</td>\n",
       "      <td>3.8608</td>\n",
       "    </tr>\n",
       "    <tr>\n",
       "      <th>2021-06-26 12:30:00+00:00</th>\n",
       "      <td>1.743333</td>\n",
       "      <td>1.8288</td>\n",
       "    </tr>\n",
       "    <tr>\n",
       "      <th>2021-06-26 13:00:00+00:00</th>\n",
       "      <td>0.120000</td>\n",
       "      <td>0.0000</td>\n",
       "    </tr>\n",
       "    <tr>\n",
       "      <th>2021-06-26 13:30:00+00:00</th>\n",
       "      <td>0.000000</td>\n",
       "      <td>0.0000</td>\n",
       "    </tr>\n",
       "    <tr>\n",
       "      <th>2021-06-26 14:00:00+00:00</th>\n",
       "      <td>0.000000</td>\n",
       "      <td>0.0000</td>\n",
       "    </tr>\n",
       "    <tr>\n",
       "      <th>2021-06-26 14:30:00+00:00</th>\n",
       "      <td>0.000000</td>\n",
       "      <td>0.0000</td>\n",
       "    </tr>\n",
       "    <tr>\n",
       "      <th>2021-06-26 15:00:00+00:00</th>\n",
       "      <td>0.000000</td>\n",
       "      <td>0.0000</td>\n",
       "    </tr>\n",
       "    <tr>\n",
       "      <th>2021-06-26 15:30:00+00:00</th>\n",
       "      <td>0.000000</td>\n",
       "      <td>0.0000</td>\n",
       "    </tr>\n",
       "    <tr>\n",
       "      <th>2021-06-26 16:00:00+00:00</th>\n",
       "      <td>0.000000</td>\n",
       "      <td>0.0000</td>\n",
       "    </tr>\n",
       "    <tr>\n",
       "      <th>2021-06-26 16:30:00+00:00</th>\n",
       "      <td>0.000000</td>\n",
       "      <td>0.0000</td>\n",
       "    </tr>\n",
       "    <tr>\n",
       "      <th>2021-06-26 17:00:00+00:00</th>\n",
       "      <td>0.000000</td>\n",
       "      <td>0.0000</td>\n",
       "    </tr>\n",
       "    <tr>\n",
       "      <th>2021-06-26 17:30:00+00:00</th>\n",
       "      <td>7.385000</td>\n",
       "      <td>4.1656</td>\n",
       "    </tr>\n",
       "    <tr>\n",
       "      <th>2021-06-26 18:00:00+00:00</th>\n",
       "      <td>2.828333</td>\n",
       "      <td>2.9464</td>\n",
       "    </tr>\n",
       "    <tr>\n",
       "      <th>2021-06-26 18:30:00+00:00</th>\n",
       "      <td>0.460000</td>\n",
       "      <td>0.5080</td>\n",
       "    </tr>\n",
       "    <tr>\n",
       "      <th>2021-06-26 19:00:00+00:00</th>\n",
       "      <td>0.000000</td>\n",
       "      <td>0.0000</td>\n",
       "    </tr>\n",
       "    <tr>\n",
       "      <th>2021-06-26 19:30:00+00:00</th>\n",
       "      <td>0.946667</td>\n",
       "      <td>0.0000</td>\n",
       "    </tr>\n",
       "    <tr>\n",
       "      <th>2021-06-26 20:00:00+00:00</th>\n",
       "      <td>0.106667</td>\n",
       "      <td>0.5080</td>\n",
       "    </tr>\n",
       "    <tr>\n",
       "      <th>2021-06-26 20:30:00+00:00</th>\n",
       "      <td>1.438333</td>\n",
       "      <td>0.2032</td>\n",
       "    </tr>\n",
       "    <tr>\n",
       "      <th>2021-06-26 21:00:00+00:00</th>\n",
       "      <td>20.656666</td>\n",
       "      <td>29.6672</td>\n",
       "    </tr>\n",
       "    <tr>\n",
       "      <th>2021-06-26 21:30:00+00:00</th>\n",
       "      <td>9.310000</td>\n",
       "      <td>8.4328</td>\n",
       "    </tr>\n",
       "    <tr>\n",
       "      <th>2021-06-26 22:00:00+00:00</th>\n",
       "      <td>6.148333</td>\n",
       "      <td>2.5400</td>\n",
       "    </tr>\n",
       "    <tr>\n",
       "      <th>2021-06-26 22:30:00+00:00</th>\n",
       "      <td>7.896667</td>\n",
       "      <td>3.0480</td>\n",
       "    </tr>\n",
       "    <tr>\n",
       "      <th>2021-06-26 23:00:00+00:00</th>\n",
       "      <td>3.153333</td>\n",
       "      <td>1.3208</td>\n",
       "    </tr>\n",
       "    <tr>\n",
       "      <th>2021-06-26 23:30:00+00:00</th>\n",
       "      <td>0.344828</td>\n",
       "      <td>0.0000</td>\n",
       "    </tr>\n",
       "    <tr>\n",
       "      <th>2021-06-27 00:00:00+00:00</th>\n",
       "      <td>NaN</td>\n",
       "      <td>0.0000</td>\n",
       "    </tr>\n",
       "  </tbody>\n",
       "</table>\n",
       "</div>"
      ],
      "text/plain": [
       "                               value    00045\n",
       "2021-06-26 00:00:00+00:00   0.000000   0.0000\n",
       "2021-06-26 00:30:00+00:00   0.000000   0.0000\n",
       "2021-06-26 01:00:00+00:00   0.000000   0.0000\n",
       "2021-06-26 01:30:00+00:00   0.000000   0.0000\n",
       "2021-06-26 02:00:00+00:00   0.000000   0.0000\n",
       "2021-06-26 02:30:00+00:00   0.000000   0.0000\n",
       "2021-06-26 03:00:00+00:00   0.000000   0.0000\n",
       "2021-06-26 03:30:00+00:00   0.000000   0.0000\n",
       "2021-06-26 04:00:00+00:00   0.000000   0.0000\n",
       "2021-06-26 04:30:00+00:00   0.000000   0.0000\n",
       "2021-06-26 05:00:00+00:00   0.431667   0.0000\n",
       "2021-06-26 05:30:00+00:00   6.340000   9.8552\n",
       "2021-06-26 06:00:00+00:00   1.071667   0.3048\n",
       "2021-06-26 06:30:00+00:00   0.348333   0.0000\n",
       "2021-06-26 07:00:00+00:00   0.395000   0.0000\n",
       "2021-06-26 07:30:00+00:00   1.011667   0.0000\n",
       "2021-06-26 08:00:00+00:00   0.228333   0.0000\n",
       "2021-06-26 08:30:00+00:00   0.000000   0.0000\n",
       "2021-06-26 09:00:00+00:00   0.000000   0.0000\n",
       "2021-06-26 09:30:00+00:00   0.000000   0.0000\n",
       "2021-06-26 10:00:00+00:00   0.000000   0.0000\n",
       "2021-06-26 10:30:00+00:00   0.000000   0.0000\n",
       "2021-06-26 11:00:00+00:00   0.785000   0.4064\n",
       "2021-06-26 11:30:00+00:00   8.416667  14.9860\n",
       "2021-06-26 12:00:00+00:00   9.561667   3.8608\n",
       "2021-06-26 12:30:00+00:00   1.743333   1.8288\n",
       "2021-06-26 13:00:00+00:00   0.120000   0.0000\n",
       "2021-06-26 13:30:00+00:00   0.000000   0.0000\n",
       "2021-06-26 14:00:00+00:00   0.000000   0.0000\n",
       "2021-06-26 14:30:00+00:00   0.000000   0.0000\n",
       "2021-06-26 15:00:00+00:00   0.000000   0.0000\n",
       "2021-06-26 15:30:00+00:00   0.000000   0.0000\n",
       "2021-06-26 16:00:00+00:00   0.000000   0.0000\n",
       "2021-06-26 16:30:00+00:00   0.000000   0.0000\n",
       "2021-06-26 17:00:00+00:00   0.000000   0.0000\n",
       "2021-06-26 17:30:00+00:00   7.385000   4.1656\n",
       "2021-06-26 18:00:00+00:00   2.828333   2.9464\n",
       "2021-06-26 18:30:00+00:00   0.460000   0.5080\n",
       "2021-06-26 19:00:00+00:00   0.000000   0.0000\n",
       "2021-06-26 19:30:00+00:00   0.946667   0.0000\n",
       "2021-06-26 20:00:00+00:00   0.106667   0.5080\n",
       "2021-06-26 20:30:00+00:00   1.438333   0.2032\n",
       "2021-06-26 21:00:00+00:00  20.656666  29.6672\n",
       "2021-06-26 21:30:00+00:00   9.310000   8.4328\n",
       "2021-06-26 22:00:00+00:00   6.148333   2.5400\n",
       "2021-06-26 22:30:00+00:00   7.896667   3.0480\n",
       "2021-06-26 23:00:00+00:00   3.153333   1.3208\n",
       "2021-06-26 23:30:00+00:00   0.344828   0.0000\n",
       "2021-06-27 00:00:00+00:00        NaN   0.0000"
      ]
     },
     "metadata": {},
     "output_type": "display_data"
    },
    {
     "data": {
      "image/png": "[encoded data removed]",
      "text/plain": [
       "<Figure size 640x480 with 1 Axes>"
      ]
     },
     "metadata": {},
     "output_type": "display_data"
    },
    {
     "data": {
      "application/vnd.microsoft.datawrangler.viewer.v0+json": {
       "columns": [
        {
         "name": "index",
         "rawType": "datetime64[ns, UTC]",
         "type": "unknown"
        },
        {
         "name": "value",
         "rawType": "float64",
         "type": "float"
        },
        {
         "name": "00045",
         "rawType": "float64",
         "type": "float"
        }
       ],
       "conversionMethod": "pd.DataFrame",
       "ref": "eae7b858-dd0d-435a-a5fa-c3519bc1843f",
       "rows": [
        [
         "2021-06-26 00:00:00+00:00",
         "0.0",
         "0.0"
        ],
        [
         "2021-06-26 00:30:00+00:00",
         "0.0",
         "0.0"
        ],
        [
         "2021-06-26 01:00:00+00:00",
         "0.0",
         "0.0"
        ],
        [
         "2021-06-26 01:30:00+00:00",
         "0.0",
         "0.0"
        ],
        [
         "2021-06-26 02:00:00+00:00",
         "0.0",
         "0.0"
        ],
        [
         "2021-06-26 02:30:00+00:00",
         "0.0",
         "0.0"
        ],
        [
         "2021-06-26 03:00:00+00:00",
         "0.0",
         "0.0"
        ],
        [
         "2021-06-26 03:30:00+00:00",
         "0.0",
         "0.0"
        ],
        [
         "2021-06-26 04:00:00+00:00",
         "0.0",
         "0.0"
        ],
        [
         "2021-06-26 04:30:00+00:00",
         "1.021666657924652",
         "0.2370666666666667"
        ],
        [
         "2021-06-26 05:00:00+00:00",
         "0.35833333134651185",
         "0.27093333333333336"
        ],
        [
         "2021-06-26 05:30:00+00:00",
         "2.1833333035310107",
         "1.7271999999999998"
        ],
        [
         "2021-06-26 06:00:00+00:00",
         "0.728333342075348",
         "2.0658666666666665"
        ],
        [
         "2021-06-26 06:30:00+00:00",
         "0.25666667024294537",
         "0.27093333333333336"
        ],
        [
         "2021-06-26 07:00:00+00:00",
         "0.7466666718324025",
         "0.508"
        ],
        [
         "2021-06-26 07:30:00+00:00",
         "1.6066666960716247",
         "0.7450666666666667"
        ],
        [
         "2021-06-26 08:00:00+00:00",
         "0.8850000048677127",
         "0.7789333333333333"
        ],
        [
         "2021-06-26 08:30:00+00:00",
         "0.9133333226044973",
         "0.508"
        ],
        [
         "2021-06-26 09:00:00+00:00",
         "0.14666667133569714",
         "0.0"
        ],
        [
         "2021-06-26 09:30:00+00:00",
         "0.24666666984558105",
         "0.508"
        ],
        [
         "2021-06-26 10:00:00+00:00",
         "0.05333333412806193",
         "0.0"
        ],
        [
         "2021-06-26 10:30:00+00:00",
         "4.446666707595189",
         "5.452533333333333"
        ],
        [
         "2021-06-26 11:00:00+00:00",
         "21.841666499773662",
         "17.475199999999997"
        ],
        [
         "2021-06-26 11:30:00+00:00",
         "19.605000440279643",
         "10.769599999999999"
        ],
        [
         "2021-06-26 12:00:00+00:00",
         "16.426666831970216",
         "9.144"
        ],
        [
         "2021-06-26 12:30:00+00:00",
         "1.146666673819224",
         "1.8626666666666665"
        ],
        [
         "2021-06-26 13:00:00+00:00",
         "0.08000000317891438",
         "0.0"
        ],
        [
         "2021-06-26 13:30:00+00:00",
         "0.0",
         "0.508"
        ],
        [
         "2021-06-26 14:00:00+00:00",
         "0.0",
         "0.0"
        ],
        [
         "2021-06-26 14:30:00+00:00",
         "0.0",
         "0.0"
        ],
        [
         "2021-06-26 15:00:00+00:00",
         "0.0",
         "0.0"
        ],
        [
         "2021-06-26 15:30:00+00:00",
         "0.0",
         "0.0"
        ],
        [
         "2021-06-26 16:00:00+00:00",
         "0.0",
         "0.0"
        ],
        [
         "2021-06-26 16:30:00+00:00",
         "0.11333333651224772",
         "0.0"
        ],
        [
         "2021-06-26 17:00:00+00:00",
         "8.41833332379659",
         "4.741333333333333"
        ],
        [
         "2021-06-26 17:30:00+00:00",
         "6.958333428700765",
         "10.024533333333332"
        ],
        [
         "2021-06-26 18:00:00+00:00",
         "23.254999939600626",
         "23.198666666666664"
        ],
        [
         "2021-06-26 18:30:00+00:00",
         "2.7950000286102297",
         "3.183466666666667"
        ],
        [
         "2021-06-26 19:00:00+00:00",
         "0.6816666762034098",
         "0.4741333333333334"
        ],
        [
         "2021-06-26 19:30:00+00:00",
         "14.638333268960317",
         "10.058399999999999"
        ],
        [
         "2021-06-26 20:00:00+00:00",
         "1.4933333297570546",
         "7.450666666666667"
        ],
        [
         "2021-06-26 20:30:00+00:00",
         "0.21666666666666667",
         "0.8127999999999999"
        ],
        [
         "2021-06-26 21:00:00+00:00",
         "4.576666614413261",
         "1.6933333333333336"
        ],
        [
         "2021-06-26 21:30:00+00:00",
         "6.249999935428302",
         "2.8109333333333333"
        ],
        [
         "2021-06-26 22:00:00+00:00",
         "19.62166689236959",
         "16.594666666666665"
        ],
        [
         "2021-06-26 22:30:00+00:00",
         "10.868333220481873",
         "6.265333333333333"
        ],
        [
         "2021-06-26 23:00:00+00:00",
         "4.868333325783412",
         "2.8447999999999998"
        ],
        [
         "2021-06-26 23:30:00+00:00",
         "0.09827586494643113",
         "0.27093333333333336"
        ],
        [
         "2021-06-27 00:00:00+00:00",
         null,
         "0.0"
        ]
       ],
       "shape": {
        "columns": 2,
        "rows": 49
       }
      },
      "text/html": [
       "<div>\n",
       "<style scoped>\n",
       "    .dataframe tbody tr th:only-of-type {\n",
       "        vertical-align: middle;\n",
       "    }\n",
       "\n",
       "    .dataframe tbody tr th {\n",
       "        vertical-align: top;\n",
       "    }\n",
       "\n",
       "    .dataframe thead th {\n",
       "        text-align: right;\n",
       "    }\n",
       "</style>\n",
       "<table border=\"1\" class=\"dataframe\">\n",
       "  <thead>\n",
       "    <tr style=\"text-align: right;\">\n",
       "      <th></th>\n",
       "      <th>value</th>\n",
       "      <th>00045</th>\n",
       "    </tr>\n",
       "  </thead>\n",
       "  <tbody>\n",
       "    <tr>\n",
       "      <th>2021-06-26 00:00:00+00:00</th>\n",
       "      <td>0.000000</td>\n",
       "      <td>0.000000</td>\n",
       "    </tr>\n",
       "    <tr>\n",
       "      <th>2021-06-26 00:30:00+00:00</th>\n",
       "      <td>0.000000</td>\n",
       "      <td>0.000000</td>\n",
       "    </tr>\n",
       "    <tr>\n",
       "      <th>2021-06-26 01:00:00+00:00</th>\n",
       "      <td>0.000000</td>\n",
       "      <td>0.000000</td>\n",
       "    </tr>\n",
       "    <tr>\n",
       "      <th>2021-06-26 01:30:00+00:00</th>\n",
       "      <td>0.000000</td>\n",
       "      <td>0.000000</td>\n",
       "    </tr>\n",
       "    <tr>\n",
       "      <th>2021-06-26 02:00:00+00:00</th>\n",
       "      <td>0.000000</td>\n",
       "      <td>0.000000</td>\n",
       "    </tr>\n",
       "    <tr>\n",
       "      <th>2021-06-26 02:30:00+00:00</th>\n",
       "      <td>0.000000</td>\n",
       "      <td>0.000000</td>\n",
       "    </tr>\n",
       "    <tr>\n",
       "      <th>2021-06-26 03:00:00+00:00</th>\n",
       "      <td>0.000000</td>\n",
       "      <td>0.000000</td>\n",
       "    </tr>\n",
       "    <tr>\n",
       "      <th>2021-06-26 03:30:00+00:00</th>\n",
       "      <td>0.000000</td>\n",
       "      <td>0.000000</td>\n",
       "    </tr>\n",
       "    <tr>\n",
       "      <th>2021-06-26 04:00:00+00:00</th>\n",
       "      <td>0.000000</td>\n",
       "      <td>0.000000</td>\n",
       "    </tr>\n",
       "    <tr>\n",
       "      <th>2021-06-26 04:30:00+00:00</th>\n",
       "      <td>1.021667</td>\n",
       "      <td>0.237067</td>\n",
       "    </tr>\n",
       "    <tr>\n",
       "      <th>2021-06-26 05:00:00+00:00</th>\n",
       "      <td>0.358333</td>\n",
       "      <td>0.270933</td>\n",
       "    </tr>\n",
       "    <tr>\n",
       "      <th>2021-06-26 05:30:00+00:00</th>\n",
       "      <td>2.183333</td>\n",
       "      <td>1.727200</td>\n",
       "    </tr>\n",
       "    <tr>\n",
       "      <th>2021-06-26 06:00:00+00:00</th>\n",
       "      <td>0.728333</td>\n",
       "      <td>2.065867</td>\n",
       "    </tr>\n",
       "    <tr>\n",
       "      <th>2021-06-26 06:30:00+00:00</th>\n",
       "      <td>0.256667</td>\n",
       "      <td>0.270933</td>\n",
       "    </tr>\n",
       "    <tr>\n",
       "      <th>2021-06-26 07:00:00+00:00</th>\n",
       "      <td>0.746667</td>\n",
       "      <td>0.508000</td>\n",
       "    </tr>\n",
       "    <tr>\n",
       "      <th>2021-06-26 07:30:00+00:00</th>\n",
       "      <td>1.606667</td>\n",
       "      <td>0.745067</td>\n",
       "    </tr>\n",
       "    <tr>\n",
       "      <th>2021-06-26 08:00:00+00:00</th>\n",
       "      <td>0.885000</td>\n",
       "      <td>0.778933</td>\n",
       "    </tr>\n",
       "    <tr>\n",
       "      <th>2021-06-26 08:30:00+00:00</th>\n",
       "      <td>0.913333</td>\n",
       "      <td>0.508000</td>\n",
       "    </tr>\n",
       "    <tr>\n",
       "      <th>2021-06-26 09:00:00+00:00</th>\n",
       "      <td>0.146667</td>\n",
       "      <td>0.000000</td>\n",
       "    </tr>\n",
       "    <tr>\n",
       "      <th>2021-06-26 09:30:00+00:00</th>\n",
       "      <td>0.246667</td>\n",
       "      <td>0.508000</td>\n",
       "    </tr>\n",
       "    <tr>\n",
       "      <th>2021-06-26 10:00:00+00:00</th>\n",
       "      <td>0.053333</td>\n",
       "      <td>0.000000</td>\n",
       "    </tr>\n",
       "    <tr>\n",
       "      <th>2021-06-26 10:30:00+00:00</th>\n",
       "      <td>4.446667</td>\n",
       "      <td>5.452533</td>\n",
       "    </tr>\n",
       "    <tr>\n",
       "      <th>2021-06-26 11:00:00+00:00</th>\n",
       "      <td>21.841666</td>\n",
       "      <td>17.475200</td>\n",
       "    </tr>\n",
       "    <tr>\n",
       "      <th>2021-06-26 11:30:00+00:00</th>\n",
       "      <td>19.605000</td>\n",
       "      <td>10.769600</td>\n",
       "    </tr>\n",
       "    <tr>\n",
       "      <th>2021-06-26 12:00:00+00:00</th>\n",
       "      <td>16.426667</td>\n",
       "      <td>9.144000</td>\n",
       "    </tr>\n",
       "    <tr>\n",
       "      <th>2021-06-26 12:30:00+00:00</th>\n",
       "      <td>1.146667</td>\n",
       "      <td>1.862667</td>\n",
       "    </tr>\n",
       "    <tr>\n",
       "      <th>2021-06-26 13:00:00+00:00</th>\n",
       "      <td>0.080000</td>\n",
       "      <td>0.000000</td>\n",
       "    </tr>\n",
       "    <tr>\n",
       "      <th>2021-06-26 13:30:00+00:00</th>\n",
       "      <td>0.000000</td>\n",
       "      <td>0.508000</td>\n",
       "    </tr>\n",
       "    <tr>\n",
       "      <th>2021-06-26 14:00:00+00:00</th>\n",
       "      <td>0.000000</td>\n",
       "      <td>0.000000</td>\n",
       "    </tr>\n",
       "    <tr>\n",
       "      <th>2021-06-26 14:30:00+00:00</th>\n",
       "      <td>0.000000</td>\n",
       "      <td>0.000000</td>\n",
       "    </tr>\n",
       "    <tr>\n",
       "      <th>2021-06-26 15:00:00+00:00</th>\n",
       "      <td>0.000000</td>\n",
       "      <td>0.000000</td>\n",
       "    </tr>\n",
       "    <tr>\n",
       "      <th>2021-06-26 15:30:00+00:00</th>\n",
       "      <td>0.000000</td>\n",
       "      <td>0.000000</td>\n",
       "    </tr>\n",
       "    <tr>\n",
       "      <th>2021-06-26 16:00:00+00:00</th>\n",
       "      <td>0.000000</td>\n",
       "      <td>0.000000</td>\n",
       "    </tr>\n",
       "    <tr>\n",
       "      <th>2021-06-26 16:30:00+00:00</th>\n",
       "      <td>0.113333</td>\n",
       "      <td>0.000000</td>\n",
       "    </tr>\n",
       "    <tr>\n",
       "      <th>2021-06-26 17:00:00+00:00</th>\n",
       "      <td>8.418333</td>\n",
       "      <td>4.741333</td>\n",
       "    </tr>\n",
       "    <tr>\n",
       "      <th>2021-06-26 17:30:00+00:00</th>\n",
       "      <td>6.958333</td>\n",
       "      <td>10.024533</td>\n",
       "    </tr>\n",
       "    <tr>\n",
       "      <th>2021-06-26 18:00:00+00:00</th>\n",
       "      <td>23.255000</td>\n",
       "      <td>23.198667</td>\n",
       "    </tr>\n",
       "    <tr>\n",
       "      <th>2021-06-26 18:30:00+00:00</th>\n",
       "      <td>2.795000</td>\n",
       "      <td>3.183467</td>\n",
       "    </tr>\n",
       "    <tr>\n",
       "      <th>2021-06-26 19:00:00+00:00</th>\n",
       "      <td>0.681667</td>\n",
       "      <td>0.474133</td>\n",
       "    </tr>\n",
       "    <tr>\n",
       "      <th>2021-06-26 19:30:00+00:00</th>\n",
       "      <td>14.638333</td>\n",
       "      <td>10.058400</td>\n",
       "    </tr>\n",
       "    <tr>\n",
       "      <th>2021-06-26 20:00:00+00:00</th>\n",
       "      <td>1.493333</td>\n",
       "      <td>7.450667</td>\n",
       "    </tr>\n",
       "    <tr>\n",
       "      <th>2021-06-26 20:30:00+00:00</th>\n",
       "      <td>0.216667</td>\n",
       "      <td>0.812800</td>\n",
       "    </tr>\n",
       "    <tr>\n",
       "      <th>2021-06-26 21:00:00+00:00</th>\n",
       "      <td>4.576667</td>\n",
       "      <td>1.693333</td>\n",
       "    </tr>\n",
       "    <tr>\n",
       "      <th>2021-06-26 21:30:00+00:00</th>\n",
       "      <td>6.250000</td>\n",
       "      <td>2.810933</td>\n",
       "    </tr>\n",
       "    <tr>\n",
       "      <th>2021-06-26 22:00:00+00:00</th>\n",
       "      <td>19.621667</td>\n",
       "      <td>16.594667</td>\n",
       "    </tr>\n",
       "    <tr>\n",
       "      <th>2021-06-26 22:30:00+00:00</th>\n",
       "      <td>10.868333</td>\n",
       "      <td>6.265333</td>\n",
       "    </tr>\n",
       "    <tr>\n",
       "      <th>2021-06-26 23:00:00+00:00</th>\n",
       "      <td>4.868333</td>\n",
       "      <td>2.844800</td>\n",
       "    </tr>\n",
       "    <tr>\n",
       "      <th>2021-06-26 23:30:00+00:00</th>\n",
       "      <td>0.098276</td>\n",
       "      <td>0.270933</td>\n",
       "    </tr>\n",
       "    <tr>\n",
       "      <th>2021-06-27 00:00:00+00:00</th>\n",
       "      <td>NaN</td>\n",
       "      <td>0.000000</td>\n",
       "    </tr>\n",
       "  </tbody>\n",
       "</table>\n",
       "</div>"
      ],
      "text/plain": [
       "                               value      00045\n",
       "2021-06-26 00:00:00+00:00   0.000000   0.000000\n",
       "2021-06-26 00:30:00+00:00   0.000000   0.000000\n",
       "2021-06-26 01:00:00+00:00   0.000000   0.000000\n",
       "2021-06-26 01:30:00+00:00   0.000000   0.000000\n",
       "2021-06-26 02:00:00+00:00   0.000000   0.000000\n",
       "2021-06-26 02:30:00+00:00   0.000000   0.000000\n",
       "2021-06-26 03:00:00+00:00   0.000000   0.000000\n",
       "2021-06-26 03:30:00+00:00   0.000000   0.000000\n",
       "2021-06-26 04:00:00+00:00   0.000000   0.000000\n",
       "2021-06-26 04:30:00+00:00   1.021667   0.237067\n",
       "2021-06-26 05:00:00+00:00   0.358333   0.270933\n",
       "2021-06-26 05:30:00+00:00   2.183333   1.727200\n",
       "2021-06-26 06:00:00+00:00   0.728333   2.065867\n",
       "2021-06-26 06:30:00+00:00   0.256667   0.270933\n",
       "2021-06-26 07:00:00+00:00   0.746667   0.508000\n",
       "2021-06-26 07:30:00+00:00   1.606667   0.745067\n",
       "2021-06-26 08:00:00+00:00   0.885000   0.778933\n",
       "2021-06-26 08:30:00+00:00   0.913333   0.508000\n",
       "2021-06-26 09:00:00+00:00   0.146667   0.000000\n",
       "2021-06-26 09:30:00+00:00   0.246667   0.508000\n",
       "2021-06-26 10:00:00+00:00   0.053333   0.000000\n",
       "2021-06-26 10:30:00+00:00   4.446667   5.452533\n",
       "2021-06-26 11:00:00+00:00  21.841666  17.475200\n",
       "2021-06-26 11:30:00+00:00  19.605000  10.769600\n",
       "2021-06-26 12:00:00+00:00  16.426667   9.144000\n",
       "2021-06-26 12:30:00+00:00   1.146667   1.862667\n",
       "2021-06-26 13:00:00+00:00   0.080000   0.000000\n",
       "2021-06-26 13:30:00+00:00   0.000000   0.508000\n",
       "2021-06-26 14:00:00+00:00   0.000000   0.000000\n",
       "2021-06-26 14:30:00+00:00   0.000000   0.000000\n",
       "2021-06-26 15:00:00+00:00   0.000000   0.000000\n",
       "2021-06-26 15:30:00+00:00   0.000000   0.000000\n",
       "2021-06-26 16:00:00+00:00   0.000000   0.000000\n",
       "2021-06-26 16:30:00+00:00   0.113333   0.000000\n",
       "2021-06-26 17:00:00+00:00   8.418333   4.741333\n",
       "2021-06-26 17:30:00+00:00   6.958333  10.024533\n",
       "2021-06-26 18:00:00+00:00  23.255000  23.198667\n",
       "2021-06-26 18:30:00+00:00   2.795000   3.183467\n",
       "2021-06-26 19:00:00+00:00   0.681667   0.474133\n",
       "2021-06-26 19:30:00+00:00  14.638333  10.058400\n",
       "2021-06-26 20:00:00+00:00   1.493333   7.450667\n",
       "2021-06-26 20:30:00+00:00   0.216667   0.812800\n",
       "2021-06-26 21:00:00+00:00   4.576667   1.693333\n",
       "2021-06-26 21:30:00+00:00   6.250000   2.810933\n",
       "2021-06-26 22:00:00+00:00  19.621667  16.594667\n",
       "2021-06-26 22:30:00+00:00  10.868333   6.265333\n",
       "2021-06-26 23:00:00+00:00   4.868333   2.844800\n",
       "2021-06-26 23:30:00+00:00   0.098276   0.270933\n",
       "2021-06-27 00:00:00+00:00        NaN   0.000000"
      ]
     },
     "metadata": {},
     "output_type": "display_data"
    },
    {
     "data": {
      "image/png": "[encoded data removed]",
      "text/plain": [
       "<Figure size 640x480 with 1 Axes>"
      ]
     },
     "metadata": {},
     "output_type": "display_data"
    },
    {
     "data": {
      "application/vnd.microsoft.datawrangler.viewer.v0+json": {
       "columns": [
        {
         "name": "index",
         "rawType": "datetime64[ns, UTC]",
         "type": "unknown"
        },
        {
         "name": "value",
         "rawType": "float64",
         "type": "float"
        },
        {
         "name": "00045",
         "rawType": "float64",
         "type": "float"
        }
       ],
       "conversionMethod": "pd.DataFrame",
       "ref": "719e8040-22e4-400c-9178-152389a234f0",
       "rows": [
        [
         "2021-06-26 00:00:00+00:00",
         "0.0",
         "0.0"
        ],
        [
         "2021-06-26 00:30:00+00:00",
         "0.0",
         "0.0"
        ],
        [
         "2021-06-26 01:00:00+00:00",
         "0.0",
         "0.0"
        ],
        [
         "2021-06-26 01:30:00+00:00",
         "0.0",
         "0.0"
        ],
        [
         "2021-06-26 02:00:00+00:00",
         "0.0",
         "0.0"
        ],
        [
         "2021-06-26 02:30:00+00:00",
         "0.0",
         "0.0"
        ],
        [
         "2021-06-26 03:00:00+00:00",
         "0.0",
         "0.0"
        ],
        [
         "2021-06-26 03:30:00+00:00",
         "0.0",
         "0.0"
        ],
        [
         "2021-06-26 04:00:00+00:00",
         "0.0",
         "0.0"
        ],
        [
         "2021-06-26 04:30:00+00:00",
         "0.92999999721845",
         "0.0"
        ],
        [
         "2021-06-26 05:00:00+00:00",
         "0.37333333293596904",
         "0.0"
        ],
        [
         "2021-06-26 05:30:00+00:00",
         "1.5250000039736429",
         "2.7432000000000003"
        ],
        [
         "2021-06-26 06:00:00+00:00",
         "1.2133333504199981",
         "3.048"
        ],
        [
         "2021-06-26 06:30:00+00:00",
         "0.2150000035762787",
         "0.3048"
        ],
        [
         "2021-06-26 07:00:00+00:00",
         "0.525000007947286",
         "0.0"
        ],
        [
         "2021-06-26 07:30:00+00:00",
         "1.2283333222071329",
         "0.0"
        ],
        [
         "2021-06-26 08:00:00+00:00",
         "0.9900000000993411",
         "0.0"
        ],
        [
         "2021-06-26 08:30:00+00:00",
         "0.7600000003973643",
         "0.0"
        ],
        [
         "2021-06-26 09:00:00+00:00",
         "0.04666666736205419",
         "0.0"
        ],
        [
         "2021-06-26 09:30:00+00:00",
         "0.17333333690961203",
         "0.0"
        ],
        [
         "2021-06-26 10:00:00+00:00",
         "0.08000000317891437",
         "0.0"
        ],
        [
         "2021-06-26 10:30:00+00:00",
         "7.71666677792867",
         "0.4064"
        ],
        [
         "2021-06-26 11:00:00+00:00",
         "24.936666425069173",
         "31.8008"
        ],
        [
         "2021-06-26 11:30:00+00:00",
         "11.856666882832846",
         "11.277600000000001"
        ],
        [
         "2021-06-26 12:00:00+00:00",
         "13.630000189940136",
         "8.737599999999999"
        ],
        [
         "2021-06-26 12:30:00+00:00",
         "1.253333334128062",
         "1.1176"
        ],
        [
         "2021-06-26 13:00:00+00:00",
         "0.040000001589457185",
         "0.0"
        ],
        [
         "2021-06-26 13:30:00+00:00",
         "0.0",
         "0.0"
        ],
        [
         "2021-06-26 14:00:00+00:00",
         "0.0",
         "0.0"
        ],
        [
         "2021-06-26 14:30:00+00:00",
         "0.0",
         "0.0"
        ],
        [
         "2021-06-26 15:00:00+00:00",
         "0.0",
         "0.0"
        ],
        [
         "2021-06-26 15:30:00+00:00",
         "0.0",
         "0.0"
        ],
        [
         "2021-06-26 16:00:00+00:00",
         "0.0",
         "0.0"
        ],
        [
         "2021-06-26 16:30:00+00:00",
         "0.0",
         "0.0"
        ],
        [
         "2021-06-26 17:00:00+00:00",
         "1.3799999435742696",
         "0.0"
        ],
        [
         "2021-06-26 17:30:00+00:00",
         "2.755000027020772",
         "0.0"
        ],
        [
         "2021-06-26 18:00:00+00:00",
         "26.168333478768666",
         "26.3144"
        ],
        [
         "2021-06-26 18:30:00+00:00",
         "1.9700000405311584",
         "2.6416"
        ],
        [
         "2021-06-26 19:00:00+00:00",
         "1.0816666762034097",
         "0.0"
        ],
        [
         "2021-06-26 19:30:00+00:00",
         "11.618333276112875",
         "27.432000000000002"
        ],
        [
         "2021-06-26 20:00:00+00:00",
         "0.39333333969116213",
         "0.0"
        ],
        [
         "2021-06-26 20:30:00+00:00",
         "0.0",
         "0.0"
        ],
        [
         "2021-06-26 21:00:00+00:00",
         "2.1533333227038383",
         "1.4223999999999999"
        ],
        [
         "2021-06-26 21:30:00+00:00",
         "4.768333390851816",
         "1.524"
        ],
        [
         "2021-06-26 22:00:00+00:00",
         "18.396666622161867",
         "23.368"
        ],
        [
         "2021-06-26 22:30:00+00:00",
         "5.863333410024643",
         "5.08"
        ],
        [
         "2021-06-26 23:00:00+00:00",
         "6.521666648983955",
         "2.6416"
        ],
        [
         "2021-06-26 23:30:00+00:00",
         "0.10344827894506782",
         "0.0"
        ],
        [
         "2021-06-27 00:00:00+00:00",
         null,
         "0.0"
        ]
       ],
       "shape": {
        "columns": 2,
        "rows": 49
       }
      },
      "text/html": [
       "<div>\n",
       "<style scoped>\n",
       "    .dataframe tbody tr th:only-of-type {\n",
       "        vertical-align: middle;\n",
       "    }\n",
       "\n",
       "    .dataframe tbody tr th {\n",
       "        vertical-align: top;\n",
       "    }\n",
       "\n",
       "    .dataframe thead th {\n",
       "        text-align: right;\n",
       "    }\n",
       "</style>\n",
       "<table border=\"1\" class=\"dataframe\">\n",
       "  <thead>\n",
       "    <tr style=\"text-align: right;\">\n",
       "      <th></th>\n",
       "      <th>value</th>\n",
       "      <th>00045</th>\n",
       "    </tr>\n",
       "  </thead>\n",
       "  <tbody>\n",
       "    <tr>\n",
       "      <th>2021-06-26 00:00:00+00:00</th>\n",
       "      <td>0.000000</td>\n",
       "      <td>0.0000</td>\n",
       "    </tr>\n",
       "    <tr>\n",
       "      <th>2021-06-26 00:30:00+00:00</th>\n",
       "      <td>0.000000</td>\n",
       "      <td>0.0000</td>\n",
       "    </tr>\n",
       "    <tr>\n",
       "      <th>2021-06-26 01:00:00+00:00</th>\n",
       "      <td>0.000000</td>\n",
       "      <td>0.0000</td>\n",
       "    </tr>\n",
       "    <tr>\n",
       "      <th>2021-06-26 01:30:00+00:00</th>\n",
       "      <td>0.000000</td>\n",
       "      <td>0.0000</td>\n",
       "    </tr>\n",
       "    <tr>\n",
       "      <th>2021-06-26 02:00:00+00:00</th>\n",
       "      <td>0.000000</td>\n",
       "      <td>0.0000</td>\n",
       "    </tr>\n",
       "    <tr>\n",
       "      <th>2021-06-26 02:30:00+00:00</th>\n",
       "      <td>0.000000</td>\n",
       "      <td>0.0000</td>\n",
       "    </tr>\n",
       "    <tr>\n",
       "      <th>2021-06-26 03:00:00+00:00</th>\n",
       "      <td>0.000000</td>\n",
       "      <td>0.0000</td>\n",
       "    </tr>\n",
       "    <tr>\n",
       "      <th>2021-06-26 03:30:00+00:00</th>\n",
       "      <td>0.000000</td>\n",
       "      <td>0.0000</td>\n",
       "    </tr>\n",
       "    <tr>\n",
       "      <th>2021-06-26 04:00:00+00:00</th>\n",
       "      <td>0.000000</td>\n",
       "      <td>0.0000</td>\n",
       "    </tr>\n",
       "    <tr>\n",
       "      <th>2021-06-26 04:30:00+00:00</th>\n",
       "      <td>0.930000</td>\n",
       "      <td>0.0000</td>\n",
       "    </tr>\n",
       "    <tr>\n",
       "      <th>2021-06-26 05:00:00+00:00</th>\n",
       "      <td>0.373333</td>\n",
       "      <td>0.0000</td>\n",
       "    </tr>\n",
       "    <tr>\n",
       "      <th>2021-06-26 05:30:00+00:00</th>\n",
       "      <td>1.525000</td>\n",
       "      <td>2.7432</td>\n",
       "    </tr>\n",
       "    <tr>\n",
       "      <th>2021-06-26 06:00:00+00:00</th>\n",
       "      <td>1.213333</td>\n",
       "      <td>3.0480</td>\n",
       "    </tr>\n",
       "    <tr>\n",
       "      <th>2021-06-26 06:30:00+00:00</th>\n",
       "      <td>0.215000</td>\n",
       "      <td>0.3048</td>\n",
       "    </tr>\n",
       "    <tr>\n",
       "      <th>2021-06-26 07:00:00+00:00</th>\n",
       "      <td>0.525000</td>\n",
       "      <td>0.0000</td>\n",
       "    </tr>\n",
       "    <tr>\n",
       "      <th>2021-06-26 07:30:00+00:00</th>\n",
       "      <td>1.228333</td>\n",
       "      <td>0.0000</td>\n",
       "    </tr>\n",
       "    <tr>\n",
       "      <th>2021-06-26 08:00:00+00:00</th>\n",
       "      <td>0.990000</td>\n",
       "      <td>0.0000</td>\n",
       "    </tr>\n",
       "    <tr>\n",
       "      <th>2021-06-26 08:30:00+00:00</th>\n",
       "      <td>0.760000</td>\n",
       "      <td>0.0000</td>\n",
       "    </tr>\n",
       "    <tr>\n",
       "      <th>2021-06-26 09:00:00+00:00</th>\n",
       "      <td>0.046667</td>\n",
       "      <td>0.0000</td>\n",
       "    </tr>\n",
       "    <tr>\n",
       "      <th>2021-06-26 09:30:00+00:00</th>\n",
       "      <td>0.173333</td>\n",
       "      <td>0.0000</td>\n",
       "    </tr>\n",
       "    <tr>\n",
       "      <th>2021-06-26 10:00:00+00:00</th>\n",
       "      <td>0.080000</td>\n",
       "      <td>0.0000</td>\n",
       "    </tr>\n",
       "    <tr>\n",
       "      <th>2021-06-26 10:30:00+00:00</th>\n",
       "      <td>7.716667</td>\n",
       "      <td>0.4064</td>\n",
       "    </tr>\n",
       "    <tr>\n",
       "      <th>2021-06-26 11:00:00+00:00</th>\n",
       "      <td>24.936666</td>\n",
       "      <td>31.8008</td>\n",
       "    </tr>\n",
       "    <tr>\n",
       "      <th>2021-06-26 11:30:00+00:00</th>\n",
       "      <td>11.856667</td>\n",
       "      <td>11.2776</td>\n",
       "    </tr>\n",
       "    <tr>\n",
       "      <th>2021-06-26 12:00:00+00:00</th>\n",
       "      <td>13.630000</td>\n",
       "      <td>8.7376</td>\n",
       "    </tr>\n",
       "    <tr>\n",
       "      <th>2021-06-26 12:30:00+00:00</th>\n",
       "      <td>1.253333</td>\n",
       "      <td>1.1176</td>\n",
       "    </tr>\n",
       "    <tr>\n",
       "      <th>2021-06-26 13:00:00+00:00</th>\n",
       "      <td>0.040000</td>\n",
       "      <td>0.0000</td>\n",
       "    </tr>\n",
       "    <tr>\n",
       "      <th>2021-06-26 13:30:00+00:00</th>\n",
       "      <td>0.000000</td>\n",
       "      <td>0.0000</td>\n",
       "    </tr>\n",
       "    <tr>\n",
       "      <th>2021-06-26 14:00:00+00:00</th>\n",
       "      <td>0.000000</td>\n",
       "      <td>0.0000</td>\n",
       "    </tr>\n",
       "    <tr>\n",
       "      <th>2021-06-26 14:30:00+00:00</th>\n",
       "      <td>0.000000</td>\n",
       "      <td>0.0000</td>\n",
       "    </tr>\n",
       "    <tr>\n",
       "      <th>2021-06-26 15:00:00+00:00</th>\n",
       "      <td>0.000000</td>\n",
       "      <td>0.0000</td>\n",
       "    </tr>\n",
       "    <tr>\n",
       "      <th>2021-06-26 15:30:00+00:00</th>\n",
       "      <td>0.000000</td>\n",
       "      <td>0.0000</td>\n",
       "    </tr>\n",
       "    <tr>\n",
       "      <th>2021-06-26 16:00:00+00:00</th>\n",
       "      <td>0.000000</td>\n",
       "      <td>0.0000</td>\n",
       "    </tr>\n",
       "    <tr>\n",
       "      <th>2021-06-26 16:30:00+00:00</th>\n",
       "      <td>0.000000</td>\n",
       "      <td>0.0000</td>\n",
       "    </tr>\n",
       "    <tr>\n",
       "      <th>2021-06-26 17:00:00+00:00</th>\n",
       "      <td>1.380000</td>\n",
       "      <td>0.0000</td>\n",
       "    </tr>\n",
       "    <tr>\n",
       "      <th>2021-06-26 17:30:00+00:00</th>\n",
       "      <td>2.755000</td>\n",
       "      <td>0.0000</td>\n",
       "    </tr>\n",
       "    <tr>\n",
       "      <th>2021-06-26 18:00:00+00:00</th>\n",
       "      <td>26.168333</td>\n",
       "      <td>26.3144</td>\n",
       "    </tr>\n",
       "    <tr>\n",
       "      <th>2021-06-26 18:30:00+00:00</th>\n",
       "      <td>1.970000</td>\n",
       "      <td>2.6416</td>\n",
       "    </tr>\n",
       "    <tr>\n",
       "      <th>2021-06-26 19:00:00+00:00</th>\n",
       "      <td>1.081667</td>\n",
       "      <td>0.0000</td>\n",
       "    </tr>\n",
       "    <tr>\n",
       "      <th>2021-06-26 19:30:00+00:00</th>\n",
       "      <td>11.618333</td>\n",
       "      <td>27.4320</td>\n",
       "    </tr>\n",
       "    <tr>\n",
       "      <th>2021-06-26 20:00:00+00:00</th>\n",
       "      <td>0.393333</td>\n",
       "      <td>0.0000</td>\n",
       "    </tr>\n",
       "    <tr>\n",
       "      <th>2021-06-26 20:30:00+00:00</th>\n",
       "      <td>0.000000</td>\n",
       "      <td>0.0000</td>\n",
       "    </tr>\n",
       "    <tr>\n",
       "      <th>2021-06-26 21:00:00+00:00</th>\n",
       "      <td>2.153333</td>\n",
       "      <td>1.4224</td>\n",
       "    </tr>\n",
       "    <tr>\n",
       "      <th>2021-06-26 21:30:00+00:00</th>\n",
       "      <td>4.768333</td>\n",
       "      <td>1.5240</td>\n",
       "    </tr>\n",
       "    <tr>\n",
       "      <th>2021-06-26 22:00:00+00:00</th>\n",
       "      <td>18.396667</td>\n",
       "      <td>23.3680</td>\n",
       "    </tr>\n",
       "    <tr>\n",
       "      <th>2021-06-26 22:30:00+00:00</th>\n",
       "      <td>5.863333</td>\n",
       "      <td>5.0800</td>\n",
       "    </tr>\n",
       "    <tr>\n",
       "      <th>2021-06-26 23:00:00+00:00</th>\n",
       "      <td>6.521667</td>\n",
       "      <td>2.6416</td>\n",
       "    </tr>\n",
       "    <tr>\n",
       "      <th>2021-06-26 23:30:00+00:00</th>\n",
       "      <td>0.103448</td>\n",
       "      <td>0.0000</td>\n",
       "    </tr>\n",
       "    <tr>\n",
       "      <th>2021-06-27 00:00:00+00:00</th>\n",
       "      <td>NaN</td>\n",
       "      <td>0.0000</td>\n",
       "    </tr>\n",
       "  </tbody>\n",
       "</table>\n",
       "</div>"
      ],
      "text/plain": [
       "                               value    00045\n",
       "2021-06-26 00:00:00+00:00   0.000000   0.0000\n",
       "2021-06-26 00:30:00+00:00   0.000000   0.0000\n",
       "2021-06-26 01:00:00+00:00   0.000000   0.0000\n",
       "2021-06-26 01:30:00+00:00   0.000000   0.0000\n",
       "2021-06-26 02:00:00+00:00   0.000000   0.0000\n",
       "2021-06-26 02:30:00+00:00   0.000000   0.0000\n",
       "2021-06-26 03:00:00+00:00   0.000000   0.0000\n",
       "2021-06-26 03:30:00+00:00   0.000000   0.0000\n",
       "2021-06-26 04:00:00+00:00   0.000000   0.0000\n",
       "2021-06-26 04:30:00+00:00   0.930000   0.0000\n",
       "2021-06-26 05:00:00+00:00   0.373333   0.0000\n",
       "2021-06-26 05:30:00+00:00   1.525000   2.7432\n",
       "2021-06-26 06:00:00+00:00   1.213333   3.0480\n",
       "2021-06-26 06:30:00+00:00   0.215000   0.3048\n",
       "2021-06-26 07:00:00+00:00   0.525000   0.0000\n",
       "2021-06-26 07:30:00+00:00   1.228333   0.0000\n",
       "2021-06-26 08:00:00+00:00   0.990000   0.0000\n",
       "2021-06-26 08:30:00+00:00   0.760000   0.0000\n",
       "2021-06-26 09:00:00+00:00   0.046667   0.0000\n",
       "2021-06-26 09:30:00+00:00   0.173333   0.0000\n",
       "2021-06-26 10:00:00+00:00   0.080000   0.0000\n",
       "2021-06-26 10:30:00+00:00   7.716667   0.4064\n",
       "2021-06-26 11:00:00+00:00  24.936666  31.8008\n",
       "2021-06-26 11:30:00+00:00  11.856667  11.2776\n",
       "2021-06-26 12:00:00+00:00  13.630000   8.7376\n",
       "2021-06-26 12:30:00+00:00   1.253333   1.1176\n",
       "2021-06-26 13:00:00+00:00   0.040000   0.0000\n",
       "2021-06-26 13:30:00+00:00   0.000000   0.0000\n",
       "2021-06-26 14:00:00+00:00   0.000000   0.0000\n",
       "2021-06-26 14:30:00+00:00   0.000000   0.0000\n",
       "2021-06-26 15:00:00+00:00   0.000000   0.0000\n",
       "2021-06-26 15:30:00+00:00   0.000000   0.0000\n",
       "2021-06-26 16:00:00+00:00   0.000000   0.0000\n",
       "2021-06-26 16:30:00+00:00   0.000000   0.0000\n",
       "2021-06-26 17:00:00+00:00   1.380000   0.0000\n",
       "2021-06-26 17:30:00+00:00   2.755000   0.0000\n",
       "2021-06-26 18:00:00+00:00  26.168333  26.3144\n",
       "2021-06-26 18:30:00+00:00   1.970000   2.6416\n",
       "2021-06-26 19:00:00+00:00   1.081667   0.0000\n",
       "2021-06-26 19:30:00+00:00  11.618333  27.4320\n",
       "2021-06-26 20:00:00+00:00   0.393333   0.0000\n",
       "2021-06-26 20:30:00+00:00   0.000000   0.0000\n",
       "2021-06-26 21:00:00+00:00   2.153333   1.4224\n",
       "2021-06-26 21:30:00+00:00   4.768333   1.5240\n",
       "2021-06-26 22:00:00+00:00  18.396667  23.3680\n",
       "2021-06-26 22:30:00+00:00   5.863333   5.0800\n",
       "2021-06-26 23:00:00+00:00   6.521667   2.6416\n",
       "2021-06-26 23:30:00+00:00   0.103448   0.0000\n",
       "2021-06-27 00:00:00+00:00        NaN   0.0000"
      ]
     },
     "metadata": {},
     "output_type": "display_data"
    },
    {
     "data": {
      "image/png": "[encoded data removed]",
      "text/plain": [
       "<Figure size 640x480 with 1 Axes>"
      ]
     },
     "metadata": {},
     "output_type": "display_data"
    },
    {
     "data": {
      "application/vnd.microsoft.datawrangler.viewer.v0+json": {
       "columns": [
        {
         "name": "index",
         "rawType": "datetime64[ns, UTC]",
         "type": "unknown"
        },
        {
         "name": "value",
         "rawType": "float64",
         "type": "float"
        },
        {
         "name": "00045",
         "rawType": "float64",
         "type": "float"
        }
       ],
       "conversionMethod": "pd.DataFrame",
       "ref": "a1d756ae-9d6f-4b47-8232-b2ae95ecac99",
       "rows": [
        [
         "2021-06-26 00:00:00+00:00",
         "0.0",
         "0.0"
        ],
        [
         "2021-06-26 00:30:00+00:00",
         "0.0",
         "0.0"
        ],
        [
         "2021-06-26 01:00:00+00:00",
         "0.0",
         "0.0"
        ],
        [
         "2021-06-26 01:30:00+00:00",
         "0.0",
         "0.0"
        ],
        [
         "2021-06-26 02:00:00+00:00",
         "0.0",
         "0.0"
        ],
        [
         "2021-06-26 02:30:00+00:00",
         "0.0",
         "0.0"
        ],
        [
         "2021-06-26 03:00:00+00:00",
         "0.0",
         "0.0"
        ],
        [
         "2021-06-26 03:30:00+00:00",
         "0.0",
         "0.0"
        ],
        [
         "2021-06-26 04:00:00+00:00",
         "0.058333335320154826",
         "0.0"
        ],
        [
         "2021-06-26 04:30:00+00:00",
         "1.4866666525602341",
         "0.508"
        ],
        [
         "2021-06-26 05:00:00+00:00",
         "2.331666687130928",
         "0.4064"
        ],
        [
         "2021-06-26 05:30:00+00:00",
         "3.2333333611488344",
         "3.556"
        ],
        [
         "2021-06-26 06:00:00+00:00",
         "2.2233332892258963",
         "3.1496"
        ],
        [
         "2021-06-26 06:30:00+00:00",
         "0.5316666682561239",
         "0.0"
        ],
        [
         "2021-06-26 07:00:00+00:00",
         "1.8433333615461984",
         "0.0"
        ],
        [
         "2021-06-26 07:30:00+00:00",
         "1.9416666865348815",
         "0.0"
        ],
        [
         "2021-06-26 08:00:00+00:00",
         "1.5133333226044974",
         "0.0"
        ],
        [
         "2021-06-26 08:30:00+00:00",
         "1.5766666561365128",
         "0.508"
        ],
        [
         "2021-06-26 09:00:00+00:00",
         "0.3800000021855036",
         "0.0"
        ],
        [
         "2021-06-26 09:30:00+00:00",
         "0.0",
         "0.0"
        ],
        [
         "2021-06-26 10:00:00+00:00",
         "0.34000001351038617",
         "0.0"
        ],
        [
         "2021-06-26 10:30:00+00:00",
         "17.8816667954127",
         "11.480799999999999"
        ],
        [
         "2021-06-26 11:00:00+00:00",
         "26.643333371480306",
         "28.041600000000003"
        ],
        [
         "2021-06-26 11:30:00+00:00",
         "11.281666628519694",
         "9.144"
        ],
        [
         "2021-06-26 12:00:00+00:00",
         "8.356666779518127",
         "8.4328"
        ],
        [
         "2021-06-26 12:30:00+00:00",
         "0.7433333436648051",
         "0.3048"
        ],
        [
         "2021-06-26 13:00:00+00:00",
         "0.0",
         "0.0"
        ],
        [
         "2021-06-26 13:30:00+00:00",
         "0.0",
         "0.0"
        ],
        [
         "2021-06-26 14:00:00+00:00",
         "0.0",
         "0.0"
        ],
        [
         "2021-06-26 14:30:00+00:00",
         "0.0",
         "0.0"
        ],
        [
         "2021-06-26 15:00:00+00:00",
         "0.0",
         "0.0"
        ],
        [
         "2021-06-26 15:30:00+00:00",
         "0.0",
         "0.0"
        ],
        [
         "2021-06-26 16:00:00+00:00",
         "0.0",
         "0.0"
        ],
        [
         "2021-06-26 16:30:00+00:00",
         "0.0",
         "0.0"
        ],
        [
         "2021-06-26 17:00:00+00:00",
         "0.24666666984558105",
         "0.0"
        ],
        [
         "2021-06-26 17:30:00+00:00",
         "7.788333551088969",
         "0.2032"
        ],
        [
         "2021-06-26 18:00:00+00:00",
         "13.488333066304525",
         "16.5608"
        ],
        [
         "2021-06-26 18:30:00+00:00",
         "0.7766666571299236",
         "2.032"
        ],
        [
         "2021-06-26 19:00:00+00:00",
         "12.994999972979228",
         "3.4544"
        ],
        [
         "2021-06-26 19:30:00+00:00",
         "7.1583332856496185",
         "20.9296"
        ],
        [
         "2021-06-26 20:00:00+00:00",
         "1.946666701634725",
         "1.524"
        ],
        [
         "2021-06-26 20:30:00+00:00",
         "0.0066666667660077415",
         "0.0"
        ],
        [
         "2021-06-26 21:00:00+00:00",
         "3.7483333443601925",
         "2.54"
        ],
        [
         "2021-06-26 21:30:00+00:00",
         "19.45333327849706",
         "4.064"
        ],
        [
         "2021-06-26 22:00:00+00:00",
         "19.036666192611058",
         "26.416"
        ],
        [
         "2021-06-26 22:30:00+00:00",
         "9.276666728655497",
         "4.2672"
        ],
        [
         "2021-06-26 23:00:00+00:00",
         "4.671666669845581",
         "1.3208"
        ],
        [
         "2021-06-26 23:30:00+00:00",
         "0.04137931198909365",
         "0.0"
        ],
        [
         "2021-06-27 00:00:00+00:00",
         null,
         "0.0"
        ]
       ],
       "shape": {
        "columns": 2,
        "rows": 49
       }
      },
      "text/html": [
       "<div>\n",
       "<style scoped>\n",
       "    .dataframe tbody tr th:only-of-type {\n",
       "        vertical-align: middle;\n",
       "    }\n",
       "\n",
       "    .dataframe tbody tr th {\n",
       "        vertical-align: top;\n",
       "    }\n",
       "\n",
       "    .dataframe thead th {\n",
       "        text-align: right;\n",
       "    }\n",
       "</style>\n",
       "<table border=\"1\" class=\"dataframe\">\n",
       "  <thead>\n",
       "    <tr style=\"text-align: right;\">\n",
       "      <th></th>\n",
       "      <th>value</th>\n",
       "      <th>00045</th>\n",
       "    </tr>\n",
       "  </thead>\n",
       "  <tbody>\n",
       "    <tr>\n",
       "      <th>2021-06-26 00:00:00+00:00</th>\n",
       "      <td>0.000000</td>\n",
       "      <td>0.0000</td>\n",
       "    </tr>\n",
       "    <tr>\n",
       "      <th>2021-06-26 00:30:00+00:00</th>\n",
       "      <td>0.000000</td>\n",
       "      <td>0.0000</td>\n",
       "    </tr>\n",
       "    <tr>\n",
       "      <th>2021-06-26 01:00:00+00:00</th>\n",
       "      <td>0.000000</td>\n",
       "      <td>0.0000</td>\n",
       "    </tr>\n",
       "    <tr>\n",
       "      <th>2021-06-26 01:30:00+00:00</th>\n",
       "      <td>0.000000</td>\n",
       "      <td>0.0000</td>\n",
       "    </tr>\n",
       "    <tr>\n",
       "      <th>2021-06-26 02:00:00+00:00</th>\n",
       "      <td>0.000000</td>\n",
       "      <td>0.0000</td>\n",
       "    </tr>\n",
       "    <tr>\n",
       "      <th>2021-06-26 02:30:00+00:00</th>\n",
       "      <td>0.000000</td>\n",
       "      <td>0.0000</td>\n",
       "    </tr>\n",
       "    <tr>\n",
       "      <th>2021-06-26 03:00:00+00:00</th>\n",
       "      <td>0.000000</td>\n",
       "      <td>0.0000</td>\n",
       "    </tr>\n",
       "    <tr>\n",
       "      <th>2021-06-26 03:30:00+00:00</th>\n",
       "      <td>0.000000</td>\n",
       "      <td>0.0000</td>\n",
       "    </tr>\n",
       "    <tr>\n",
       "      <th>2021-06-26 04:00:00+00:00</th>\n",
       "      <td>0.058333</td>\n",
       "      <td>0.0000</td>\n",
       "    </tr>\n",
       "    <tr>\n",
       "      <th>2021-06-26 04:30:00+00:00</th>\n",
       "      <td>1.486667</td>\n",
       "      <td>0.5080</td>\n",
       "    </tr>\n",
       "    <tr>\n",
       "      <th>2021-06-26 05:00:00+00:00</th>\n",
       "      <td>2.331667</td>\n",
       "      <td>0.4064</td>\n",
       "    </tr>\n",
       "    <tr>\n",
       "      <th>2021-06-26 05:30:00+00:00</th>\n",
       "      <td>3.233333</td>\n",
       "      <td>3.5560</td>\n",
       "    </tr>\n",
       "    <tr>\n",
       "      <th>2021-06-26 06:00:00+00:00</th>\n",
       "      <td>2.223333</td>\n",
       "      <td>3.1496</td>\n",
       "    </tr>\n",
       "    <tr>\n",
       "      <th>2021-06-26 06:30:00+00:00</th>\n",
       "      <td>0.531667</td>\n",
       "      <td>0.0000</td>\n",
       "    </tr>\n",
       "    <tr>\n",
       "      <th>2021-06-26 07:00:00+00:00</th>\n",
       "      <td>1.843333</td>\n",
       "      <td>0.0000</td>\n",
       "    </tr>\n",
       "    <tr>\n",
       "      <th>2021-06-26 07:30:00+00:00</th>\n",
       "      <td>1.941667</td>\n",
       "      <td>0.0000</td>\n",
       "    </tr>\n",
       "    <tr>\n",
       "      <th>2021-06-26 08:00:00+00:00</th>\n",
       "      <td>1.513333</td>\n",
       "      <td>0.0000</td>\n",
       "    </tr>\n",
       "    <tr>\n",
       "      <th>2021-06-26 08:30:00+00:00</th>\n",
       "      <td>1.576667</td>\n",
       "      <td>0.5080</td>\n",
       "    </tr>\n",
       "    <tr>\n",
       "      <th>2021-06-26 09:00:00+00:00</th>\n",
       "      <td>0.380000</td>\n",
       "      <td>0.0000</td>\n",
       "    </tr>\n",
       "    <tr>\n",
       "      <th>2021-06-26 09:30:00+00:00</th>\n",
       "      <td>0.000000</td>\n",
       "      <td>0.0000</td>\n",
       "    </tr>\n",
       "    <tr>\n",
       "      <th>2021-06-26 10:00:00+00:00</th>\n",
       "      <td>0.340000</td>\n",
       "      <td>0.0000</td>\n",
       "    </tr>\n",
       "    <tr>\n",
       "      <th>2021-06-26 10:30:00+00:00</th>\n",
       "      <td>17.881667</td>\n",
       "      <td>11.4808</td>\n",
       "    </tr>\n",
       "    <tr>\n",
       "      <th>2021-06-26 11:00:00+00:00</th>\n",
       "      <td>26.643333</td>\n",
       "      <td>28.0416</td>\n",
       "    </tr>\n",
       "    <tr>\n",
       "      <th>2021-06-26 11:30:00+00:00</th>\n",
       "      <td>11.281667</td>\n",
       "      <td>9.1440</td>\n",
       "    </tr>\n",
       "    <tr>\n",
       "      <th>2021-06-26 12:00:00+00:00</th>\n",
       "      <td>8.356667</td>\n",
       "      <td>8.4328</td>\n",
       "    </tr>\n",
       "    <tr>\n",
       "      <th>2021-06-26 12:30:00+00:00</th>\n",
       "      <td>0.743333</td>\n",
       "      <td>0.3048</td>\n",
       "    </tr>\n",
       "    <tr>\n",
       "      <th>2021-06-26 13:00:00+00:00</th>\n",
       "      <td>0.000000</td>\n",
       "      <td>0.0000</td>\n",
       "    </tr>\n",
       "    <tr>\n",
       "      <th>2021-06-26 13:30:00+00:00</th>\n",
       "      <td>0.000000</td>\n",
       "      <td>0.0000</td>\n",
       "    </tr>\n",
       "    <tr>\n",
       "      <th>2021-06-26 14:00:00+00:00</th>\n",
       "      <td>0.000000</td>\n",
       "      <td>0.0000</td>\n",
       "    </tr>\n",
       "    <tr>\n",
       "      <th>2021-06-26 14:30:00+00:00</th>\n",
       "      <td>0.000000</td>\n",
       "      <td>0.0000</td>\n",
       "    </tr>\n",
       "    <tr>\n",
       "      <th>2021-06-26 15:00:00+00:00</th>\n",
       "      <td>0.000000</td>\n",
       "      <td>0.0000</td>\n",
       "    </tr>\n",
       "    <tr>\n",
       "      <th>2021-06-26 15:30:00+00:00</th>\n",
       "      <td>0.000000</td>\n",
       "      <td>0.0000</td>\n",
       "    </tr>\n",
       "    <tr>\n",
       "      <th>2021-06-26 16:00:00+00:00</th>\n",
       "      <td>0.000000</td>\n",
       "      <td>0.0000</td>\n",
       "    </tr>\n",
       "    <tr>\n",
       "      <th>2021-06-26 16:30:00+00:00</th>\n",
       "      <td>0.000000</td>\n",
       "      <td>0.0000</td>\n",
       "    </tr>\n",
       "    <tr>\n",
       "      <th>2021-06-26 17:00:00+00:00</th>\n",
       "      <td>0.246667</td>\n",
       "      <td>0.0000</td>\n",
       "    </tr>\n",
       "    <tr>\n",
       "      <th>2021-06-26 17:30:00+00:00</th>\n",
       "      <td>7.788334</td>\n",
       "      <td>0.2032</td>\n",
       "    </tr>\n",
       "    <tr>\n",
       "      <th>2021-06-26 18:00:00+00:00</th>\n",
       "      <td>13.488333</td>\n",
       "      <td>16.5608</td>\n",
       "    </tr>\n",
       "    <tr>\n",
       "      <th>2021-06-26 18:30:00+00:00</th>\n",
       "      <td>0.776667</td>\n",
       "      <td>2.0320</td>\n",
       "    </tr>\n",
       "    <tr>\n",
       "      <th>2021-06-26 19:00:00+00:00</th>\n",
       "      <td>12.995000</td>\n",
       "      <td>3.4544</td>\n",
       "    </tr>\n",
       "    <tr>\n",
       "      <th>2021-06-26 19:30:00+00:00</th>\n",
       "      <td>7.158333</td>\n",
       "      <td>20.9296</td>\n",
       "    </tr>\n",
       "    <tr>\n",
       "      <th>2021-06-26 20:00:00+00:00</th>\n",
       "      <td>1.946667</td>\n",
       "      <td>1.5240</td>\n",
       "    </tr>\n",
       "    <tr>\n",
       "      <th>2021-06-26 20:30:00+00:00</th>\n",
       "      <td>0.006667</td>\n",
       "      <td>0.0000</td>\n",
       "    </tr>\n",
       "    <tr>\n",
       "      <th>2021-06-26 21:00:00+00:00</th>\n",
       "      <td>3.748333</td>\n",
       "      <td>2.5400</td>\n",
       "    </tr>\n",
       "    <tr>\n",
       "      <th>2021-06-26 21:30:00+00:00</th>\n",
       "      <td>19.453333</td>\n",
       "      <td>4.0640</td>\n",
       "    </tr>\n",
       "    <tr>\n",
       "      <th>2021-06-26 22:00:00+00:00</th>\n",
       "      <td>19.036666</td>\n",
       "      <td>26.4160</td>\n",
       "    </tr>\n",
       "    <tr>\n",
       "      <th>2021-06-26 22:30:00+00:00</th>\n",
       "      <td>9.276667</td>\n",
       "      <td>4.2672</td>\n",
       "    </tr>\n",
       "    <tr>\n",
       "      <th>2021-06-26 23:00:00+00:00</th>\n",
       "      <td>4.671667</td>\n",
       "      <td>1.3208</td>\n",
       "    </tr>\n",
       "    <tr>\n",
       "      <th>2021-06-26 23:30:00+00:00</th>\n",
       "      <td>0.041379</td>\n",
       "      <td>0.0000</td>\n",
       "    </tr>\n",
       "    <tr>\n",
       "      <th>2021-06-27 00:00:00+00:00</th>\n",
       "      <td>NaN</td>\n",
       "      <td>0.0000</td>\n",
       "    </tr>\n",
       "  </tbody>\n",
       "</table>\n",
       "</div>"
      ],
      "text/plain": [
       "                               value    00045\n",
       "2021-06-26 00:00:00+00:00   0.000000   0.0000\n",
       "2021-06-26 00:30:00+00:00   0.000000   0.0000\n",
       "2021-06-26 01:00:00+00:00   0.000000   0.0000\n",
       "2021-06-26 01:30:00+00:00   0.000000   0.0000\n",
       "2021-06-26 02:00:00+00:00   0.000000   0.0000\n",
       "2021-06-26 02:30:00+00:00   0.000000   0.0000\n",
       "2021-06-26 03:00:00+00:00   0.000000   0.0000\n",
       "2021-06-26 03:30:00+00:00   0.000000   0.0000\n",
       "2021-06-26 04:00:00+00:00   0.058333   0.0000\n",
       "2021-06-26 04:30:00+00:00   1.486667   0.5080\n",
       "2021-06-26 05:00:00+00:00   2.331667   0.4064\n",
       "2021-06-26 05:30:00+00:00   3.233333   3.5560\n",
       "2021-06-26 06:00:00+00:00   2.223333   3.1496\n",
       "2021-06-26 06:30:00+00:00   0.531667   0.0000\n",
       "2021-06-26 07:00:00+00:00   1.843333   0.0000\n",
       "2021-06-26 07:30:00+00:00   1.941667   0.0000\n",
       "2021-06-26 08:00:00+00:00   1.513333   0.0000\n",
       "2021-06-26 08:30:00+00:00   1.576667   0.5080\n",
       "2021-06-26 09:00:00+00:00   0.380000   0.0000\n",
       "2021-06-26 09:30:00+00:00   0.000000   0.0000\n",
       "2021-06-26 10:00:00+00:00   0.340000   0.0000\n",
       "2021-06-26 10:30:00+00:00  17.881667  11.4808\n",
       "2021-06-26 11:00:00+00:00  26.643333  28.0416\n",
       "2021-06-26 11:30:00+00:00  11.281667   9.1440\n",
       "2021-06-26 12:00:00+00:00   8.356667   8.4328\n",
       "2021-06-26 12:30:00+00:00   0.743333   0.3048\n",
       "2021-06-26 13:00:00+00:00   0.000000   0.0000\n",
       "2021-06-26 13:30:00+00:00   0.000000   0.0000\n",
       "2021-06-26 14:00:00+00:00   0.000000   0.0000\n",
       "2021-06-26 14:30:00+00:00   0.000000   0.0000\n",
       "2021-06-26 15:00:00+00:00   0.000000   0.0000\n",
       "2021-06-26 15:30:00+00:00   0.000000   0.0000\n",
       "2021-06-26 16:00:00+00:00   0.000000   0.0000\n",
       "2021-06-26 16:30:00+00:00   0.000000   0.0000\n",
       "2021-06-26 17:00:00+00:00   0.246667   0.0000\n",
       "2021-06-26 17:30:00+00:00   7.788334   0.2032\n",
       "2021-06-26 18:00:00+00:00  13.488333  16.5608\n",
       "2021-06-26 18:30:00+00:00   0.776667   2.0320\n",
       "2021-06-26 19:00:00+00:00  12.995000   3.4544\n",
       "2021-06-26 19:30:00+00:00   7.158333  20.9296\n",
       "2021-06-26 20:00:00+00:00   1.946667   1.5240\n",
       "2021-06-26 20:30:00+00:00   0.006667   0.0000\n",
       "2021-06-26 21:00:00+00:00   3.748333   2.5400\n",
       "2021-06-26 21:30:00+00:00  19.453333   4.0640\n",
       "2021-06-26 22:00:00+00:00  19.036666  26.4160\n",
       "2021-06-26 22:30:00+00:00   9.276667   4.2672\n",
       "2021-06-26 23:00:00+00:00   4.671667   1.3208\n",
       "2021-06-26 23:30:00+00:00   0.041379   0.0000\n",
       "2021-06-27 00:00:00+00:00        NaN   0.0000"
      ]
     },
     "metadata": {},
     "output_type": "display_data"
    },
    {
     "data": {
      "image/png": "[encoded data removed]",
      "text/plain": [
       "<Figure size 640x480 with 1 Axes>"
      ]
     },
     "metadata": {},
     "output_type": "display_data"
    },
    {
     "data": {
      "application/vnd.microsoft.datawrangler.viewer.v0+json": {
       "columns": [
        {
         "name": "index",
         "rawType": "datetime64[ns, UTC]",
         "type": "unknown"
        },
        {
         "name": "value",
         "rawType": "float64",
         "type": "float"
        },
        {
         "name": "00045",
         "rawType": "float64",
         "type": "float"
        }
       ],
       "conversionMethod": "pd.DataFrame",
       "ref": "9595ff5a-2291-49a2-a362-973576f72082",
       "rows": [
        [
         "2021-06-26 00:00:00+00:00",
         "0.0",
         "0.0"
        ],
        [
         "2021-06-26 00:30:00+00:00",
         "0.0",
         "0.0"
        ],
        [
         "2021-06-26 01:00:00+00:00",
         "0.0",
         "0.0"
        ],
        [
         "2021-06-26 01:30:00+00:00",
         "0.0",
         "0.0"
        ],
        [
         "2021-06-26 02:00:00+00:00",
         "0.0",
         "0.0"
        ],
        [
         "2021-06-26 02:30:00+00:00",
         "0.0",
         "0.0"
        ],
        [
         "2021-06-26 03:00:00+00:00",
         "0.0",
         "0.0"
        ],
        [
         "2021-06-26 03:30:00+00:00",
         "0.0",
         "0.0"
        ],
        [
         "2021-06-26 04:00:00+00:00",
         "0.0",
         "0.0"
        ],
        [
         "2021-06-26 04:30:00+00:00",
         "0.5166666706403097",
         "0.0"
        ],
        [
         "2021-06-26 05:00:00+00:00",
         "1.6816667000452676",
         "0.0"
        ],
        [
         "2021-06-26 05:30:00+00:00",
         "5.881666723887125",
         "9.652"
        ],
        [
         "2021-06-26 06:00:00+00:00",
         "0.7600000083446503",
         "0.7111999999999999"
        ],
        [
         "2021-06-26 06:30:00+00:00",
         "0.18833333849906922",
         "0.3048"
        ],
        [
         "2021-06-26 07:00:00+00:00",
         "0.8333333293596904",
         "0.0"
        ],
        [
         "2021-06-26 07:30:00+00:00",
         "1.07999999721845",
         "0.0"
        ],
        [
         "2021-06-26 08:00:00+00:00",
         "0.7050000076492627",
         "0.0"
        ],
        [
         "2021-06-26 08:30:00+00:00",
         "1.118333322306474",
         "0.0"
        ],
        [
         "2021-06-26 09:00:00+00:00",
         "0.373333340883255",
         "0.0"
        ],
        [
         "2021-06-26 09:30:00+00:00",
         "0.09500000377496082",
         "0.0"
        ],
        [
         "2021-06-26 10:00:00+00:00",
         "0.040000001589457185",
         "0.0"
        ],
        [
         "2021-06-26 10:30:00+00:00",
         "16.47666637102763",
         "3.6576000000000004"
        ],
        [
         "2021-06-26 11:00:00+00:00",
         "9.961666822433472",
         "22.6568"
        ],
        [
         "2021-06-26 11:30:00+00:00",
         "6.446666574478149",
         "7.416799999999999"
        ],
        [
         "2021-06-26 12:00:00+00:00",
         "3.3083332737286884",
         "4.064"
        ],
        [
         "2021-06-26 12:30:00+00:00",
         "5.186666516462962",
         "1.8288"
        ],
        [
         "2021-06-26 13:00:00+00:00",
         "0.0",
         "0.0"
        ],
        [
         "2021-06-26 13:30:00+00:00",
         "0.0",
         "0.0"
        ],
        [
         "2021-06-26 14:00:00+00:00",
         "0.0",
         "0.0"
        ],
        [
         "2021-06-26 14:30:00+00:00",
         "0.0",
         "0.0"
        ],
        [
         "2021-06-26 15:00:00+00:00",
         "0.0",
         "0.0"
        ],
        [
         "2021-06-26 15:30:00+00:00",
         "0.0",
         "0.0"
        ],
        [
         "2021-06-26 16:00:00+00:00",
         "0.0",
         "0.0"
        ],
        [
         "2021-06-26 16:30:00+00:00",
         "0.3933333436648051",
         "0.0"
        ],
        [
         "2021-06-26 17:00:00+00:00",
         "21.266666253407795",
         "19.1008"
        ],
        [
         "2021-06-26 17:30:00+00:00",
         "11.060000272591909",
         "17.170400000000004"
        ],
        [
         "2021-06-26 18:00:00+00:00",
         "3.380000078678131",
         "10.972800000000001"
        ],
        [
         "2021-06-26 18:30:00+00:00",
         "0.27333332697550455",
         "0.0"
        ],
        [
         "2021-06-26 19:00:00+00:00",
         "1.420000006755193",
         "0.0"
        ],
        [
         "2021-06-26 19:30:00+00:00",
         "7.986666615804037",
         "6.4008"
        ],
        [
         "2021-06-26 20:00:00+00:00",
         "0.8716666827599208",
         "2.2352"
        ],
        [
         "2021-06-26 20:30:00+00:00",
         "3.9249999751647313",
         "1.1176"
        ],
        [
         "2021-06-26 21:00:00+00:00",
         "4.90166669289271",
         "5.1816"
        ],
        [
         "2021-06-26 21:30:00+00:00",
         "3.3949999888737996",
         "1.7272"
        ],
        [
         "2021-06-26 22:00:00+00:00",
         "12.52166674931844",
         "8.636"
        ],
        [
         "2021-06-26 22:30:00+00:00",
         "7.848333311080933",
         "3.8608"
        ],
        [
         "2021-06-26 23:00:00+00:00",
         "5.044999905427297",
         "1.8288"
        ],
        [
         "2021-06-26 23:30:00+00:00",
         "0.29827586741283024",
         "0.0"
        ],
        [
         "2021-06-27 00:00:00+00:00",
         null,
         "0.0"
        ]
       ],
       "shape": {
        "columns": 2,
        "rows": 49
       }
      },
      "text/html": [
       "<div>\n",
       "<style scoped>\n",
       "    .dataframe tbody tr th:only-of-type {\n",
       "        vertical-align: middle;\n",
       "    }\n",
       "\n",
       "    .dataframe tbody tr th {\n",
       "        vertical-align: top;\n",
       "    }\n",
       "\n",
       "    .dataframe thead th {\n",
       "        text-align: right;\n",
       "    }\n",
       "</style>\n",
       "<table border=\"1\" class=\"dataframe\">\n",
       "  <thead>\n",
       "    <tr style=\"text-align: right;\">\n",
       "      <th></th>\n",
       "      <th>value</th>\n",
       "      <th>00045</th>\n",
       "    </tr>\n",
       "  </thead>\n",
       "  <tbody>\n",
       "    <tr>\n",
       "      <th>2021-06-26 00:00:00+00:00</th>\n",
       "      <td>0.000000</td>\n",
       "      <td>0.0000</td>\n",
       "    </tr>\n",
       "    <tr>\n",
       "      <th>2021-06-26 00:30:00+00:00</th>\n",
       "      <td>0.000000</td>\n",
       "      <td>0.0000</td>\n",
       "    </tr>\n",
       "    <tr>\n",
       "      <th>2021-06-26 01:00:00+00:00</th>\n",
       "      <td>0.000000</td>\n",
       "      <td>0.0000</td>\n",
       "    </tr>\n",
       "    <tr>\n",
       "      <th>2021-06-26 01:30:00+00:00</th>\n",
       "      <td>0.000000</td>\n",
       "      <td>0.0000</td>\n",
       "    </tr>\n",
       "    <tr>\n",
       "      <th>2021-06-26 02:00:00+00:00</th>\n",
       "      <td>0.000000</td>\n",
       "      <td>0.0000</td>\n",
       "    </tr>\n",
       "    <tr>\n",
       "      <th>2021-06-26 02:30:00+00:00</th>\n",
       "      <td>0.000000</td>\n",
       "      <td>0.0000</td>\n",
       "    </tr>\n",
       "    <tr>\n",
       "      <th>2021-06-26 03:00:00+00:00</th>\n",
       "      <td>0.000000</td>\n",
       "      <td>0.0000</td>\n",
       "    </tr>\n",
       "    <tr>\n",
       "      <th>2021-06-26 03:30:00+00:00</th>\n",
       "      <td>0.000000</td>\n",
       "      <td>0.0000</td>\n",
       "    </tr>\n",
       "    <tr>\n",
       "      <th>2021-06-26 04:00:00+00:00</th>\n",
       "      <td>0.000000</td>\n",
       "      <td>0.0000</td>\n",
       "    </tr>\n",
       "    <tr>\n",
       "      <th>2021-06-26 04:30:00+00:00</th>\n",
       "      <td>0.516667</td>\n",
       "      <td>0.0000</td>\n",
       "    </tr>\n",
       "    <tr>\n",
       "      <th>2021-06-26 05:00:00+00:00</th>\n",
       "      <td>1.681667</td>\n",
       "      <td>0.0000</td>\n",
       "    </tr>\n",
       "    <tr>\n",
       "      <th>2021-06-26 05:30:00+00:00</th>\n",
       "      <td>5.881667</td>\n",
       "      <td>9.6520</td>\n",
       "    </tr>\n",
       "    <tr>\n",
       "      <th>2021-06-26 06:00:00+00:00</th>\n",
       "      <td>0.760000</td>\n",
       "      <td>0.7112</td>\n",
       "    </tr>\n",
       "    <tr>\n",
       "      <th>2021-06-26 06:30:00+00:00</th>\n",
       "      <td>0.188333</td>\n",
       "      <td>0.3048</td>\n",
       "    </tr>\n",
       "    <tr>\n",
       "      <th>2021-06-26 07:00:00+00:00</th>\n",
       "      <td>0.833333</td>\n",
       "      <td>0.0000</td>\n",
       "    </tr>\n",
       "    <tr>\n",
       "      <th>2021-06-26 07:30:00+00:00</th>\n",
       "      <td>1.080000</td>\n",
       "      <td>0.0000</td>\n",
       "    </tr>\n",
       "    <tr>\n",
       "      <th>2021-06-26 08:00:00+00:00</th>\n",
       "      <td>0.705000</td>\n",
       "      <td>0.0000</td>\n",
       "    </tr>\n",
       "    <tr>\n",
       "      <th>2021-06-26 08:30:00+00:00</th>\n",
       "      <td>1.118333</td>\n",
       "      <td>0.0000</td>\n",
       "    </tr>\n",
       "    <tr>\n",
       "      <th>2021-06-26 09:00:00+00:00</th>\n",
       "      <td>0.373333</td>\n",
       "      <td>0.0000</td>\n",
       "    </tr>\n",
       "    <tr>\n",
       "      <th>2021-06-26 09:30:00+00:00</th>\n",
       "      <td>0.095000</td>\n",
       "      <td>0.0000</td>\n",
       "    </tr>\n",
       "    <tr>\n",
       "      <th>2021-06-26 10:00:00+00:00</th>\n",
       "      <td>0.040000</td>\n",
       "      <td>0.0000</td>\n",
       "    </tr>\n",
       "    <tr>\n",
       "      <th>2021-06-26 10:30:00+00:00</th>\n",
       "      <td>16.476666</td>\n",
       "      <td>3.6576</td>\n",
       "    </tr>\n",
       "    <tr>\n",
       "      <th>2021-06-26 11:00:00+00:00</th>\n",
       "      <td>9.961667</td>\n",
       "      <td>22.6568</td>\n",
       "    </tr>\n",
       "    <tr>\n",
       "      <th>2021-06-26 11:30:00+00:00</th>\n",
       "      <td>6.446667</td>\n",
       "      <td>7.4168</td>\n",
       "    </tr>\n",
       "    <tr>\n",
       "      <th>2021-06-26 12:00:00+00:00</th>\n",
       "      <td>3.308333</td>\n",
       "      <td>4.0640</td>\n",
       "    </tr>\n",
       "    <tr>\n",
       "      <th>2021-06-26 12:30:00+00:00</th>\n",
       "      <td>5.186667</td>\n",
       "      <td>1.8288</td>\n",
       "    </tr>\n",
       "    <tr>\n",
       "      <th>2021-06-26 13:00:00+00:00</th>\n",
       "      <td>0.000000</td>\n",
       "      <td>0.0000</td>\n",
       "    </tr>\n",
       "    <tr>\n",
       "      <th>2021-06-26 13:30:00+00:00</th>\n",
       "      <td>0.000000</td>\n",
       "      <td>0.0000</td>\n",
       "    </tr>\n",
       "    <tr>\n",
       "      <th>2021-06-26 14:00:00+00:00</th>\n",
       "      <td>0.000000</td>\n",
       "      <td>0.0000</td>\n",
       "    </tr>\n",
       "    <tr>\n",
       "      <th>2021-06-26 14:30:00+00:00</th>\n",
       "      <td>0.000000</td>\n",
       "      <td>0.0000</td>\n",
       "    </tr>\n",
       "    <tr>\n",
       "      <th>2021-06-26 15:00:00+00:00</th>\n",
       "      <td>0.000000</td>\n",
       "      <td>0.0000</td>\n",
       "    </tr>\n",
       "    <tr>\n",
       "      <th>2021-06-26 15:30:00+00:00</th>\n",
       "      <td>0.000000</td>\n",
       "      <td>0.0000</td>\n",
       "    </tr>\n",
       "    <tr>\n",
       "      <th>2021-06-26 16:00:00+00:00</th>\n",
       "      <td>0.000000</td>\n",
       "      <td>0.0000</td>\n",
       "    </tr>\n",
       "    <tr>\n",
       "      <th>2021-06-26 16:30:00+00:00</th>\n",
       "      <td>0.393333</td>\n",
       "      <td>0.0000</td>\n",
       "    </tr>\n",
       "    <tr>\n",
       "      <th>2021-06-26 17:00:00+00:00</th>\n",
       "      <td>21.266666</td>\n",
       "      <td>19.1008</td>\n",
       "    </tr>\n",
       "    <tr>\n",
       "      <th>2021-06-26 17:30:00+00:00</th>\n",
       "      <td>11.060000</td>\n",
       "      <td>17.1704</td>\n",
       "    </tr>\n",
       "    <tr>\n",
       "      <th>2021-06-26 18:00:00+00:00</th>\n",
       "      <td>3.380000</td>\n",
       "      <td>10.9728</td>\n",
       "    </tr>\n",
       "    <tr>\n",
       "      <th>2021-06-26 18:30:00+00:00</th>\n",
       "      <td>0.273333</td>\n",
       "      <td>0.0000</td>\n",
       "    </tr>\n",
       "    <tr>\n",
       "      <th>2021-06-26 19:00:00+00:00</th>\n",
       "      <td>1.420000</td>\n",
       "      <td>0.0000</td>\n",
       "    </tr>\n",
       "    <tr>\n",
       "      <th>2021-06-26 19:30:00+00:00</th>\n",
       "      <td>7.986667</td>\n",
       "      <td>6.4008</td>\n",
       "    </tr>\n",
       "    <tr>\n",
       "      <th>2021-06-26 20:00:00+00:00</th>\n",
       "      <td>0.871667</td>\n",
       "      <td>2.2352</td>\n",
       "    </tr>\n",
       "    <tr>\n",
       "      <th>2021-06-26 20:30:00+00:00</th>\n",
       "      <td>3.925000</td>\n",
       "      <td>1.1176</td>\n",
       "    </tr>\n",
       "    <tr>\n",
       "      <th>2021-06-26 21:00:00+00:00</th>\n",
       "      <td>4.901667</td>\n",
       "      <td>5.1816</td>\n",
       "    </tr>\n",
       "    <tr>\n",
       "      <th>2021-06-26 21:30:00+00:00</th>\n",
       "      <td>3.395000</td>\n",
       "      <td>1.7272</td>\n",
       "    </tr>\n",
       "    <tr>\n",
       "      <th>2021-06-26 22:00:00+00:00</th>\n",
       "      <td>12.521667</td>\n",
       "      <td>8.6360</td>\n",
       "    </tr>\n",
       "    <tr>\n",
       "      <th>2021-06-26 22:30:00+00:00</th>\n",
       "      <td>7.848333</td>\n",
       "      <td>3.8608</td>\n",
       "    </tr>\n",
       "    <tr>\n",
       "      <th>2021-06-26 23:00:00+00:00</th>\n",
       "      <td>5.045000</td>\n",
       "      <td>1.8288</td>\n",
       "    </tr>\n",
       "    <tr>\n",
       "      <th>2021-06-26 23:30:00+00:00</th>\n",
       "      <td>0.298276</td>\n",
       "      <td>0.0000</td>\n",
       "    </tr>\n",
       "    <tr>\n",
       "      <th>2021-06-27 00:00:00+00:00</th>\n",
       "      <td>NaN</td>\n",
       "      <td>0.0000</td>\n",
       "    </tr>\n",
       "  </tbody>\n",
       "</table>\n",
       "</div>"
      ],
      "text/plain": [
       "                               value    00045\n",
       "2021-06-26 00:00:00+00:00   0.000000   0.0000\n",
       "2021-06-26 00:30:00+00:00   0.000000   0.0000\n",
       "2021-06-26 01:00:00+00:00   0.000000   0.0000\n",
       "2021-06-26 01:30:00+00:00   0.000000   0.0000\n",
       "2021-06-26 02:00:00+00:00   0.000000   0.0000\n",
       "2021-06-26 02:30:00+00:00   0.000000   0.0000\n",
       "2021-06-26 03:00:00+00:00   0.000000   0.0000\n",
       "2021-06-26 03:30:00+00:00   0.000000   0.0000\n",
       "2021-06-26 04:00:00+00:00   0.000000   0.0000\n",
       "2021-06-26 04:30:00+00:00   0.516667   0.0000\n",
       "2021-06-26 05:00:00+00:00   1.681667   0.0000\n",
       "2021-06-26 05:30:00+00:00   5.881667   9.6520\n",
       "2021-06-26 06:00:00+00:00   0.760000   0.7112\n",
       "2021-06-26 06:30:00+00:00   0.188333   0.3048\n",
       "2021-06-26 07:00:00+00:00   0.833333   0.0000\n",
       "2021-06-26 07:30:00+00:00   1.080000   0.0000\n",
       "2021-06-26 08:00:00+00:00   0.705000   0.0000\n",
       "2021-06-26 08:30:00+00:00   1.118333   0.0000\n",
       "2021-06-26 09:00:00+00:00   0.373333   0.0000\n",
       "2021-06-26 09:30:00+00:00   0.095000   0.0000\n",
       "2021-06-26 10:00:00+00:00   0.040000   0.0000\n",
       "2021-06-26 10:30:00+00:00  16.476666   3.6576\n",
       "2021-06-26 11:00:00+00:00   9.961667  22.6568\n",
       "2021-06-26 11:30:00+00:00   6.446667   7.4168\n",
       "2021-06-26 12:00:00+00:00   3.308333   4.0640\n",
       "2021-06-26 12:30:00+00:00   5.186667   1.8288\n",
       "2021-06-26 13:00:00+00:00   0.000000   0.0000\n",
       "2021-06-26 13:30:00+00:00   0.000000   0.0000\n",
       "2021-06-26 14:00:00+00:00   0.000000   0.0000\n",
       "2021-06-26 14:30:00+00:00   0.000000   0.0000\n",
       "2021-06-26 15:00:00+00:00   0.000000   0.0000\n",
       "2021-06-26 15:30:00+00:00   0.000000   0.0000\n",
       "2021-06-26 16:00:00+00:00   0.000000   0.0000\n",
       "2021-06-26 16:30:00+00:00   0.393333   0.0000\n",
       "2021-06-26 17:00:00+00:00  21.266666  19.1008\n",
       "2021-06-26 17:30:00+00:00  11.060000  17.1704\n",
       "2021-06-26 18:00:00+00:00   3.380000  10.9728\n",
       "2021-06-26 18:30:00+00:00   0.273333   0.0000\n",
       "2021-06-26 19:00:00+00:00   1.420000   0.0000\n",
       "2021-06-26 19:30:00+00:00   7.986667   6.4008\n",
       "2021-06-26 20:00:00+00:00   0.871667   2.2352\n",
       "2021-06-26 20:30:00+00:00   3.925000   1.1176\n",
       "2021-06-26 21:00:00+00:00   4.901667   5.1816\n",
       "2021-06-26 21:30:00+00:00   3.395000   1.7272\n",
       "2021-06-26 22:00:00+00:00  12.521667   8.6360\n",
       "2021-06-26 22:30:00+00:00   7.848333   3.8608\n",
       "2021-06-26 23:00:00+00:00   5.045000   1.8288\n",
       "2021-06-26 23:30:00+00:00   0.298276   0.0000\n",
       "2021-06-27 00:00:00+00:00        NaN   0.0000"
      ]
     },
     "metadata": {},
     "output_type": "display_data"
    },
    {
     "data": {
      "image/png": "[encoded data removed]",
      "text/plain": [
       "<Figure size 640x480 with 1 Axes>"
      ]
     },
     "metadata": {},
     "output_type": "display_data"
    },
    {
     "data": {
      "application/vnd.microsoft.datawrangler.viewer.v0+json": {
       "columns": [
        {
         "name": "index",
         "rawType": "datetime64[ns, UTC]",
         "type": "unknown"
        },
        {
         "name": "value",
         "rawType": "float64",
         "type": "float"
        },
        {
         "name": "00045",
         "rawType": "float64",
         "type": "float"
        }
       ],
       "conversionMethod": "pd.DataFrame",
       "ref": "329447c2-c658-498f-9afe-b34cd5ecb887",
       "rows": [
        [
         "2021-06-26 00:00:00+00:00",
         "0.0",
         "0.0"
        ],
        [
         "2021-06-26 00:30:00+00:00",
         "0.0",
         "0.0"
        ],
        [
         "2021-06-26 01:00:00+00:00",
         "0.0",
         "0.0"
        ],
        [
         "2021-06-26 01:30:00+00:00",
         "0.0",
         "0.0"
        ],
        [
         "2021-06-26 02:00:00+00:00",
         "0.0",
         "0.0"
        ],
        [
         "2021-06-26 02:30:00+00:00",
         "0.0",
         "0.0"
        ],
        [
         "2021-06-26 03:00:00+00:00",
         "0.0",
         "0.0"
        ],
        [
         "2021-06-26 03:30:00+00:00",
         "0.0",
         "0.0"
        ],
        [
         "2021-06-26 04:00:00+00:00",
         "0.0",
         "0.0"
        ],
        [
         "2021-06-26 04:30:00+00:00",
         "0.0",
         "0.0"
        ],
        [
         "2021-06-26 05:00:00+00:00",
         "0.10666666825612386",
         "0.0"
        ],
        [
         "2021-06-26 05:30:00+00:00",
         "4.015000049273173",
         "3.3528000000000002"
        ],
        [
         "2021-06-26 06:00:00+00:00",
         "1.173333324988683",
         "2.2352"
        ],
        [
         "2021-06-26 06:30:00+00:00",
         "0.4633333255847295",
         "0.0"
        ],
        [
         "2021-06-26 07:00:00+00:00",
         "0.34666667381922406",
         "0.0"
        ],
        [
         "2021-06-26 07:30:00+00:00",
         "1.0349999785423278",
         "0.0"
        ],
        [
         "2021-06-26 08:00:00+00:00",
         "0.46000000337759656",
         "0.0"
        ],
        [
         "2021-06-26 08:30:00+00:00",
         "0.14000000357627868",
         "0.0"
        ],
        [
         "2021-06-26 09:00:00+00:00",
         "0.15333333810170488",
         "0.0"
        ],
        [
         "2021-06-26 09:30:00+00:00",
         "0.0",
         "0.0"
        ],
        [
         "2021-06-26 10:00:00+00:00",
         "0.0",
         "0.0"
        ],
        [
         "2021-06-26 10:30:00+00:00",
         "0.3383333255847295",
         "0.0"
        ],
        [
         "2021-06-26 11:00:00+00:00",
         "2.595000071326892",
         "3.556"
        ],
        [
         "2021-06-26 11:30:00+00:00",
         "38.939999707539876",
         "24.384000000000004"
        ],
        [
         "2021-06-26 12:00:00+00:00",
         "8.805000003178915",
         "7.7216"
        ],
        [
         "2021-06-26 12:30:00+00:00",
         "3.471666580438614",
         "2.4384"
        ],
        [
         "2021-06-26 13:00:00+00:00",
         "0.2700000067551931",
         "0.0"
        ],
        [
         "2021-06-26 13:30:00+00:00",
         "0.0",
         "0.0"
        ],
        [
         "2021-06-26 14:00:00+00:00",
         "0.0",
         "0.0"
        ],
        [
         "2021-06-26 14:30:00+00:00",
         "0.0",
         "0.0"
        ],
        [
         "2021-06-26 15:00:00+00:00",
         "0.0",
         "0.0"
        ],
        [
         "2021-06-26 15:30:00+00:00",
         "0.0",
         "0.0"
        ],
        [
         "2021-06-26 16:00:00+00:00",
         "0.0",
         "0.0"
        ],
        [
         "2021-06-26 16:30:00+00:00",
         "0.040000001589457185",
         "0.0"
        ],
        [
         "2021-06-26 17:00:00+00:00",
         "1.9850000222524007",
         "0.0"
        ],
        [
         "2021-06-26 17:30:00+00:00",
         "13.963333352406819",
         "11.175999999999998"
        ],
        [
         "2021-06-26 18:00:00+00:00",
         "5.273333368698756",
         "22.86"
        ],
        [
         "2021-06-26 18:30:00+00:00",
         "0.3383333305517832",
         "0.0"
        ],
        [
         "2021-06-26 19:00:00+00:00",
         "0.17333333492279052",
         "0.0"
        ],
        [
         "2021-06-26 19:30:00+00:00",
         "2.371666685740153",
         "0.4064"
        ],
        [
         "2021-06-26 20:00:00+00:00",
         "0.3883333444595337",
         "1.6256"
        ],
        [
         "2021-06-26 20:30:00+00:00",
         "0.34500001271565756",
         "0.0"
        ],
        [
         "2021-06-26 21:00:00+00:00",
         "21.6683334449927",
         "17.9832"
        ],
        [
         "2021-06-26 21:30:00+00:00",
         "3.590000017484029",
         "2.8448"
        ],
        [
         "2021-06-26 22:00:00+00:00",
         "6.378333350022634",
         "3.6576"
        ],
        [
         "2021-06-26 22:30:00+00:00",
         "9.111666607856751",
         "4.6735999999999995"
        ],
        [
         "2021-06-26 23:00:00+00:00",
         "4.410000003377596",
         "2.3367999999999998"
        ],
        [
         "2021-06-26 23:30:00+00:00",
         "0.15862069150497174",
         "0.0"
        ],
        [
         "2021-06-27 00:00:00+00:00",
         null,
         "0.0"
        ]
       ],
       "shape": {
        "columns": 2,
        "rows": 49
       }
      },
      "text/html": [
       "<div>\n",
       "<style scoped>\n",
       "    .dataframe tbody tr th:only-of-type {\n",
       "        vertical-align: middle;\n",
       "    }\n",
       "\n",
       "    .dataframe tbody tr th {\n",
       "        vertical-align: top;\n",
       "    }\n",
       "\n",
       "    .dataframe thead th {\n",
       "        text-align: right;\n",
       "    }\n",
       "</style>\n",
       "<table border=\"1\" class=\"dataframe\">\n",
       "  <thead>\n",
       "    <tr style=\"text-align: right;\">\n",
       "      <th></th>\n",
       "      <th>value</th>\n",
       "      <th>00045</th>\n",
       "    </tr>\n",
       "  </thead>\n",
       "  <tbody>\n",
       "    <tr>\n",
       "      <th>2021-06-26 00:00:00+00:00</th>\n",
       "      <td>0.000000</td>\n",
       "      <td>0.0000</td>\n",
       "    </tr>\n",
       "    <tr>\n",
       "      <th>2021-06-26 00:30:00+00:00</th>\n",
       "      <td>0.000000</td>\n",
       "      <td>0.0000</td>\n",
       "    </tr>\n",
       "    <tr>\n",
       "      <th>2021-06-26 01:00:00+00:00</th>\n",
       "      <td>0.000000</td>\n",
       "      <td>0.0000</td>\n",
       "    </tr>\n",
       "    <tr>\n",
       "      <th>2021-06-26 01:30:00+00:00</th>\n",
       "      <td>0.000000</td>\n",
       "      <td>0.0000</td>\n",
       "    </tr>\n",
       "    <tr>\n",
       "      <th>2021-06-26 02:00:00+00:00</th>\n",
       "      <td>0.000000</td>\n",
       "      <td>0.0000</td>\n",
       "    </tr>\n",
       "    <tr>\n",
       "      <th>2021-06-26 02:30:00+00:00</th>\n",
       "      <td>0.000000</td>\n",
       "      <td>0.0000</td>\n",
       "    </tr>\n",
       "    <tr>\n",
       "      <th>2021-06-26 03:00:00+00:00</th>\n",
       "      <td>0.000000</td>\n",
       "      <td>0.0000</td>\n",
       "    </tr>\n",
       "    <tr>\n",
       "      <th>2021-06-26 03:30:00+00:00</th>\n",
       "      <td>0.000000</td>\n",
       "      <td>0.0000</td>\n",
       "    </tr>\n",
       "    <tr>\n",
       "      <th>2021-06-26 04:00:00+00:00</th>\n",
       "      <td>0.000000</td>\n",
       "      <td>0.0000</td>\n",
       "    </tr>\n",
       "    <tr>\n",
       "      <th>2021-06-26 04:30:00+00:00</th>\n",
       "      <td>0.000000</td>\n",
       "      <td>0.0000</td>\n",
       "    </tr>\n",
       "    <tr>\n",
       "      <th>2021-06-26 05:00:00+00:00</th>\n",
       "      <td>0.106667</td>\n",
       "      <td>0.0000</td>\n",
       "    </tr>\n",
       "    <tr>\n",
       "      <th>2021-06-26 05:30:00+00:00</th>\n",
       "      <td>4.015000</td>\n",
       "      <td>3.3528</td>\n",
       "    </tr>\n",
       "    <tr>\n",
       "      <th>2021-06-26 06:00:00+00:00</th>\n",
       "      <td>1.173333</td>\n",
       "      <td>2.2352</td>\n",
       "    </tr>\n",
       "    <tr>\n",
       "      <th>2021-06-26 06:30:00+00:00</th>\n",
       "      <td>0.463333</td>\n",
       "      <td>0.0000</td>\n",
       "    </tr>\n",
       "    <tr>\n",
       "      <th>2021-06-26 07:00:00+00:00</th>\n",
       "      <td>0.346667</td>\n",
       "      <td>0.0000</td>\n",
       "    </tr>\n",
       "    <tr>\n",
       "      <th>2021-06-26 07:30:00+00:00</th>\n",
       "      <td>1.035000</td>\n",
       "      <td>0.0000</td>\n",
       "    </tr>\n",
       "    <tr>\n",
       "      <th>2021-06-26 08:00:00+00:00</th>\n",
       "      <td>0.460000</td>\n",
       "      <td>0.0000</td>\n",
       "    </tr>\n",
       "    <tr>\n",
       "      <th>2021-06-26 08:30:00+00:00</th>\n",
       "      <td>0.140000</td>\n",
       "      <td>0.0000</td>\n",
       "    </tr>\n",
       "    <tr>\n",
       "      <th>2021-06-26 09:00:00+00:00</th>\n",
       "      <td>0.153333</td>\n",
       "      <td>0.0000</td>\n",
       "    </tr>\n",
       "    <tr>\n",
       "      <th>2021-06-26 09:30:00+00:00</th>\n",
       "      <td>0.000000</td>\n",
       "      <td>0.0000</td>\n",
       "    </tr>\n",
       "    <tr>\n",
       "      <th>2021-06-26 10:00:00+00:00</th>\n",
       "      <td>0.000000</td>\n",
       "      <td>0.0000</td>\n",
       "    </tr>\n",
       "    <tr>\n",
       "      <th>2021-06-26 10:30:00+00:00</th>\n",
       "      <td>0.338333</td>\n",
       "      <td>0.0000</td>\n",
       "    </tr>\n",
       "    <tr>\n",
       "      <th>2021-06-26 11:00:00+00:00</th>\n",
       "      <td>2.595000</td>\n",
       "      <td>3.5560</td>\n",
       "    </tr>\n",
       "    <tr>\n",
       "      <th>2021-06-26 11:30:00+00:00</th>\n",
       "      <td>38.940000</td>\n",
       "      <td>24.3840</td>\n",
       "    </tr>\n",
       "    <tr>\n",
       "      <th>2021-06-26 12:00:00+00:00</th>\n",
       "      <td>8.805000</td>\n",
       "      <td>7.7216</td>\n",
       "    </tr>\n",
       "    <tr>\n",
       "      <th>2021-06-26 12:30:00+00:00</th>\n",
       "      <td>3.471667</td>\n",
       "      <td>2.4384</td>\n",
       "    </tr>\n",
       "    <tr>\n",
       "      <th>2021-06-26 13:00:00+00:00</th>\n",
       "      <td>0.270000</td>\n",
       "      <td>0.0000</td>\n",
       "    </tr>\n",
       "    <tr>\n",
       "      <th>2021-06-26 13:30:00+00:00</th>\n",
       "      <td>0.000000</td>\n",
       "      <td>0.0000</td>\n",
       "    </tr>\n",
       "    <tr>\n",
       "      <th>2021-06-26 14:00:00+00:00</th>\n",
       "      <td>0.000000</td>\n",
       "      <td>0.0000</td>\n",
       "    </tr>\n",
       "    <tr>\n",
       "      <th>2021-06-26 14:30:00+00:00</th>\n",
       "      <td>0.000000</td>\n",
       "      <td>0.0000</td>\n",
       "    </tr>\n",
       "    <tr>\n",
       "      <th>2021-06-26 15:00:00+00:00</th>\n",
       "      <td>0.000000</td>\n",
       "      <td>0.0000</td>\n",
       "    </tr>\n",
       "    <tr>\n",
       "      <th>2021-06-26 15:30:00+00:00</th>\n",
       "      <td>0.000000</td>\n",
       "      <td>0.0000</td>\n",
       "    </tr>\n",
       "    <tr>\n",
       "      <th>2021-06-26 16:00:00+00:00</th>\n",
       "      <td>0.000000</td>\n",
       "      <td>0.0000</td>\n",
       "    </tr>\n",
       "    <tr>\n",
       "      <th>2021-06-26 16:30:00+00:00</th>\n",
       "      <td>0.040000</td>\n",
       "      <td>0.0000</td>\n",
       "    </tr>\n",
       "    <tr>\n",
       "      <th>2021-06-26 17:00:00+00:00</th>\n",
       "      <td>1.985000</td>\n",
       "      <td>0.0000</td>\n",
       "    </tr>\n",
       "    <tr>\n",
       "      <th>2021-06-26 17:30:00+00:00</th>\n",
       "      <td>13.963333</td>\n",
       "      <td>11.1760</td>\n",
       "    </tr>\n",
       "    <tr>\n",
       "      <th>2021-06-26 18:00:00+00:00</th>\n",
       "      <td>5.273333</td>\n",
       "      <td>22.8600</td>\n",
       "    </tr>\n",
       "    <tr>\n",
       "      <th>2021-06-26 18:30:00+00:00</th>\n",
       "      <td>0.338333</td>\n",
       "      <td>0.0000</td>\n",
       "    </tr>\n",
       "    <tr>\n",
       "      <th>2021-06-26 19:00:00+00:00</th>\n",
       "      <td>0.173333</td>\n",
       "      <td>0.0000</td>\n",
       "    </tr>\n",
       "    <tr>\n",
       "      <th>2021-06-26 19:30:00+00:00</th>\n",
       "      <td>2.371667</td>\n",
       "      <td>0.4064</td>\n",
       "    </tr>\n",
       "    <tr>\n",
       "      <th>2021-06-26 20:00:00+00:00</th>\n",
       "      <td>0.388333</td>\n",
       "      <td>1.6256</td>\n",
       "    </tr>\n",
       "    <tr>\n",
       "      <th>2021-06-26 20:30:00+00:00</th>\n",
       "      <td>0.345000</td>\n",
       "      <td>0.0000</td>\n",
       "    </tr>\n",
       "    <tr>\n",
       "      <th>2021-06-26 21:00:00+00:00</th>\n",
       "      <td>21.668333</td>\n",
       "      <td>17.9832</td>\n",
       "    </tr>\n",
       "    <tr>\n",
       "      <th>2021-06-26 21:30:00+00:00</th>\n",
       "      <td>3.590000</td>\n",
       "      <td>2.8448</td>\n",
       "    </tr>\n",
       "    <tr>\n",
       "      <th>2021-06-26 22:00:00+00:00</th>\n",
       "      <td>6.378333</td>\n",
       "      <td>3.6576</td>\n",
       "    </tr>\n",
       "    <tr>\n",
       "      <th>2021-06-26 22:30:00+00:00</th>\n",
       "      <td>9.111667</td>\n",
       "      <td>4.6736</td>\n",
       "    </tr>\n",
       "    <tr>\n",
       "      <th>2021-06-26 23:00:00+00:00</th>\n",
       "      <td>4.410000</td>\n",
       "      <td>2.3368</td>\n",
       "    </tr>\n",
       "    <tr>\n",
       "      <th>2021-06-26 23:30:00+00:00</th>\n",
       "      <td>0.158621</td>\n",
       "      <td>0.0000</td>\n",
       "    </tr>\n",
       "    <tr>\n",
       "      <th>2021-06-27 00:00:00+00:00</th>\n",
       "      <td>NaN</td>\n",
       "      <td>0.0000</td>\n",
       "    </tr>\n",
       "  </tbody>\n",
       "</table>\n",
       "</div>"
      ],
      "text/plain": [
       "                               value    00045\n",
       "2021-06-26 00:00:00+00:00   0.000000   0.0000\n",
       "2021-06-26 00:30:00+00:00   0.000000   0.0000\n",
       "2021-06-26 01:00:00+00:00   0.000000   0.0000\n",
       "2021-06-26 01:30:00+00:00   0.000000   0.0000\n",
       "2021-06-26 02:00:00+00:00   0.000000   0.0000\n",
       "2021-06-26 02:30:00+00:00   0.000000   0.0000\n",
       "2021-06-26 03:00:00+00:00   0.000000   0.0000\n",
       "2021-06-26 03:30:00+00:00   0.000000   0.0000\n",
       "2021-06-26 04:00:00+00:00   0.000000   0.0000\n",
       "2021-06-26 04:30:00+00:00   0.000000   0.0000\n",
       "2021-06-26 05:00:00+00:00   0.106667   0.0000\n",
       "2021-06-26 05:30:00+00:00   4.015000   3.3528\n",
       "2021-06-26 06:00:00+00:00   1.173333   2.2352\n",
       "2021-06-26 06:30:00+00:00   0.463333   0.0000\n",
       "2021-06-26 07:00:00+00:00   0.346667   0.0000\n",
       "2021-06-26 07:30:00+00:00   1.035000   0.0000\n",
       "2021-06-26 08:00:00+00:00   0.460000   0.0000\n",
       "2021-06-26 08:30:00+00:00   0.140000   0.0000\n",
       "2021-06-26 09:00:00+00:00   0.153333   0.0000\n",
       "2021-06-26 09:30:00+00:00   0.000000   0.0000\n",
       "2021-06-26 10:00:00+00:00   0.000000   0.0000\n",
       "2021-06-26 10:30:00+00:00   0.338333   0.0000\n",
       "2021-06-26 11:00:00+00:00   2.595000   3.5560\n",
       "2021-06-26 11:30:00+00:00  38.940000  24.3840\n",
       "2021-06-26 12:00:00+00:00   8.805000   7.7216\n",
       "2021-06-26 12:30:00+00:00   3.471667   2.4384\n",
       "2021-06-26 13:00:00+00:00   0.270000   0.0000\n",
       "2021-06-26 13:30:00+00:00   0.000000   0.0000\n",
       "2021-06-26 14:00:00+00:00   0.000000   0.0000\n",
       "2021-06-26 14:30:00+00:00   0.000000   0.0000\n",
       "2021-06-26 15:00:00+00:00   0.000000   0.0000\n",
       "2021-06-26 15:30:00+00:00   0.000000   0.0000\n",
       "2021-06-26 16:00:00+00:00   0.000000   0.0000\n",
       "2021-06-26 16:30:00+00:00   0.040000   0.0000\n",
       "2021-06-26 17:00:00+00:00   1.985000   0.0000\n",
       "2021-06-26 17:30:00+00:00  13.963333  11.1760\n",
       "2021-06-26 18:00:00+00:00   5.273333  22.8600\n",
       "2021-06-26 18:30:00+00:00   0.338333   0.0000\n",
       "2021-06-26 19:00:00+00:00   0.173333   0.0000\n",
       "2021-06-26 19:30:00+00:00   2.371667   0.4064\n",
       "2021-06-26 20:00:00+00:00   0.388333   1.6256\n",
       "2021-06-26 20:30:00+00:00   0.345000   0.0000\n",
       "2021-06-26 21:00:00+00:00  21.668333  17.9832\n",
       "2021-06-26 21:30:00+00:00   3.590000   2.8448\n",
       "2021-06-26 22:00:00+00:00   6.378333   3.6576\n",
       "2021-06-26 22:30:00+00:00   9.111667   4.6736\n",
       "2021-06-26 23:00:00+00:00   4.410000   2.3368\n",
       "2021-06-26 23:30:00+00:00   0.158621   0.0000\n",
       "2021-06-27 00:00:00+00:00        NaN   0.0000"
      ]
     },
     "metadata": {},
     "output_type": "display_data"
    },
    {
     "data": {
      "image/png": "[encoded data removed]",
      "text/plain": [
       "<Figure size 640x480 with 1 Axes>"
      ]
     },
     "metadata": {},
     "output_type": "display_data"
    }
   ],
   "source": [
    "for radar_pfile in radar_pfiles:\n",
    "    station_name = radar_pfile.stem\n",
    "    station_id = site_info.set_index(\"station_nm\").loc[station_name][\"site_no\"]\n",
    "\n",
    "    usgs_rain = df.xs(station_id).loc[start:end, \"00045\"]\n",
    "    tdelta_usgs = np.diff(usgs_rain.index)[0]\n",
    "    usgs_rain_mmhr = usgs_rain * 25.4 / (tdelta_usgs / pd.Timedelta(\"1h\"))  # from in to mm/hr\n",
    "    usgs_downsample = usgs_rain_mmhr.resample(\"1min\").interpolate(\"linear\")\n",
    "    usgs_resample = usgs_downsample.resample(pd.Timedelta(\"30min\")).mean()\n",
    "\n",
    "    radar_rain = pd.read_csv(radar_pfile, index_col=0)\n",
    "    radar_rain.index = pd.to_datetime(radar_rain.index, utc=True)\n",
    "    radar_downsample = radar_rain.resample(\"1min\").interpolate(\"linear\")\n",
    "    radar_resample = radar_downsample.resample(pd.Timedelta(\"30min\")).mean()\n",
    "\n",
    "    merged = pd.concat([radar_resample, usgs_resample], axis=1)\n",
    "    display(merged)\n",
    "\n",
    "    fig, ax = plt.subplots()\n",
    "    ax.set_title(f\"{station_name}\", fontsize=8, va=\"top\", y=0.9)\n",
    "    ax.set_aspect(\"equal\")\n",
    "    ax.scatter(merged[\"value\"], merged[\"00045\"], marker=\".\", s=50)\n",
    "    ax.set_xlabel(\"USGS 30-min resampled\")\n",
    "    ax.set_ylabel(\"MRMS 30-min resampled\")\n",
    "    ax.axline((0, 0), slope=1, ls=\"dotted\", c=\"k\")\n",
    "\n",
    "    maxv = merged.max().max() + 0.2\n",
    "    ax.set_xlim(-0.2, maxv)\n",
    "    ax.set_ylim(-0.2, maxv)\n",
    "    fig.tight_layout()\n",
    "    plt.show()\n"
   ]
  },
  {
   "cell_type": "code",
   "execution_count": 24,
   "metadata": {},
   "outputs": [
    {
     "data": {
      "image/png": "[encoded data removed]",
      "text/plain": [
       "<Figure size 640x480 with 1 Axes>"
      ]
     },
     "metadata": {},
     "output_type": "display_data"
    }
   ],
   "source": [
    "from textwrap import wrap\n",
    "\n",
    "fig, ax = plt.subplots()\n",
    "\n",
    "for radar_pfile in radar_pfiles:\n",
    "    station_name = radar_pfile.stem\n",
    "    station_id = site_info.set_index(\"station_nm\").loc[station_name][\"site_no\"]\n",
    "\n",
    "    usgs_rain = df.xs(station_id).loc[start:end, \"00045\"]\n",
    "    tdelta_usgs = np.diff(usgs_rain.index)[0]\n",
    "    usgs_rain_mmhr = usgs_rain * 25.4 / (tdelta_usgs / pd.Timedelta(\"1h\"))  # from in to mm/hr\n",
    "    usgs_downsample = usgs_rain_mmhr.resample(\"1min\").interpolate(\"linear\")\n",
    "    usgs_resample = usgs_downsample.resample(pd.Timedelta(\"30min\")).mean()\n",
    "\n",
    "    radar_rain = pd.read_csv(radar_pfile, index_col=0)\n",
    "    radar_rain.index = pd.to_datetime(radar_rain.index, utc=True)\n",
    "    radar_downsample = radar_rain.resample(\"1min\").interpolate(\"linear\")\n",
    "    radar_resample = radar_downsample.resample(pd.Timedelta(\"30min\")).mean()\n",
    "\n",
    "    merged = pd.concat([radar_resample, usgs_resample], axis=1)\n",
    "    ax.scatter(\n",
    "        merged[\"value\"], merged[\"00045\"], marker=\".\", s=100, label=\"\\n\".join(wrap(station_name, 20))\n",
    "    )\n",
    "\n",
    "ax.set_xlabel(\"USGS 30-min resampled\")\n",
    "ax.set_ylabel(\"MRMS 30-min resampled\")\n",
    "ax.axline((0, 0), slope=1, ls=\"dotted\", c=\"k\")\n",
    "ax.set_aspect(\"equal\")\n",
    "ax.set_xlim(-0.2, 40)\n",
    "ax.set_ylim(-0.2, 40)\n",
    "ax.legend(loc=\"center left\", bbox_to_anchor=(1.0, 0.5), prop={\"size\": 8})\n",
    "fig.tight_layout()\n",
    "plt.show()\n"
   ]
  },
  {
   "cell_type": "code",
   "execution_count": null,
   "metadata": {},
   "outputs": [],
   "source": []
  }
 ],
 "metadata": {
  "kernelspec": {
   "display_name": "zenv",
   "language": "python",
   "name": "python3"
  },
  "language_info": {
   "codemirror_mode": {
    "name": "ipython",
    "version": 3
   },
   "file_extension": ".py",
   "mimetype": "text/x-python",
   "name": "python",
   "nbconvert_exporter": "python",
   "pygments_lexer": "ipython3",
   "version": "3.12.9"
  }
 },
 "nbformat": 4,
 "nbformat_minor": 2
}
